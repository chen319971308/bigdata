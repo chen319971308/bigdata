{
  "nbformat": 4,
  "nbformat_minor": 0,
  "metadata": {
    "colab": {
      "name": "「Assessment1.ipynb」的副本",
      "provenance": [],
      "collapsed_sections": [],
      "include_colab_link": true
    },
    "kernelspec": {
      "name": "ir",
      "display_name": "R"
    }
  },
  "cells": [
    {
      "cell_type": "markdown",
      "metadata": {
        "id": "view-in-github",
        "colab_type": "text"
      },
      "source": [
        "<a href=\"https://colab.research.google.com/github/chen319971308/bigdata/blob/master/%E3%80%8CAssessment1_ipynb%E3%80%8D%E7%9A%84%E5%89%AF%E6%9C%AC.ipynb\" target=\"_parent\"><img src=\"https://colab.research.google.com/assets/colab-badge.svg\" alt=\"Open In Colab\"/></a>"
      ]
    },
    {
      "cell_type": "code",
      "metadata": {
        "id": "NtP_VuT2Wnc6",
        "colab_type": "code",
        "colab": {
          "base_uri": "https://localhost:8080/",
          "height": 34
        },
        "outputId": "b496c0e9-4c95-4dd2-8edc-94d27ca98e35"
      },
      "source": [
        "class(19)"
      ],
      "execution_count": null,
      "outputs": [
        {
          "output_type": "display_data",
          "data": {
            "text/plain": [
              "[1] \"numeric\""
            ],
            "text/latex": "'numeric'",
            "text/markdown": "'numeric'",
            "text/html": [
              "'numeric'"
            ]
          },
          "metadata": {
            "tags": []
          }
        }
      ]
    },
    {
      "cell_type": "code",
      "metadata": {
        "id": "BHoFi4blXMX3",
        "colab_type": "code",
        "colab": {
          "base_uri": "https://localhost:8080/",
          "height": 34
        },
        "outputId": "3aca1a4a-c995-4ce2-fe9c-f5be7836508b"
      },
      "source": [
        "class(\"Hello\")"
      ],
      "execution_count": null,
      "outputs": [
        {
          "output_type": "display_data",
          "data": {
            "text/plain": [
              "[1] \"character\""
            ],
            "text/latex": "'character'",
            "text/markdown": "'character'",
            "text/html": [
              "'character'"
            ]
          },
          "metadata": {
            "tags": []
          }
        }
      ]
    },
    {
      "cell_type": "code",
      "metadata": {
        "id": "NBwkCS0uXZ25",
        "colab_type": "code",
        "colab": {
          "base_uri": "https://localhost:8080/",
          "height": 34
        },
        "outputId": "681a631e-5766-4786-fe29-a51cd483b8dc"
      },
      "source": [
        "9 < 19"
      ],
      "execution_count": null,
      "outputs": [
        {
          "output_type": "display_data",
          "data": {
            "text/plain": [
              "[1] TRUE"
            ],
            "text/latex": "TRUE",
            "text/markdown": "TRUE",
            "text/html": [
              "TRUE"
            ]
          },
          "metadata": {
            "tags": []
          }
        }
      ]
    },
    {
      "cell_type": "code",
      "metadata": {
        "id": "XXIQn5dOXj0Z",
        "colab_type": "code",
        "colab": {
          "base_uri": "https://localhost:8080/",
          "height": 34
        },
        "outputId": "80bfbc3f-1339-4749-a05d-e5f7f8baf0fa"
      },
      "source": [
        "9 + 19"
      ],
      "execution_count": null,
      "outputs": [
        {
          "output_type": "display_data",
          "data": {
            "text/plain": [
              "[1] 28"
            ],
            "text/latex": "28",
            "text/markdown": "28",
            "text/html": [
              "28"
            ]
          },
          "metadata": {
            "tags": []
          }
        }
      ]
    },
    {
      "cell_type": "code",
      "metadata": {
        "id": "LCO132LHXmTC",
        "colab_type": "code",
        "colab": {
          "base_uri": "https://localhost:8080/",
          "height": 34
        },
        "outputId": "7a296289-7c6d-4f25-8bd6-a61688b4942e"
      },
      "source": [
        "9 - 19"
      ],
      "execution_count": null,
      "outputs": [
        {
          "output_type": "display_data",
          "data": {
            "text/plain": [
              "[1] -10"
            ],
            "text/latex": "-10",
            "text/markdown": "-10",
            "text/html": [
              "-10"
            ]
          },
          "metadata": {
            "tags": []
          }
        }
      ]
    },
    {
      "cell_type": "code",
      "metadata": {
        "id": "jUjuRgAfYKY6",
        "colab_type": "code",
        "colab": {}
      },
      "source": [
        "my_H <- 173"
      ],
      "execution_count": null,
      "outputs": []
    },
    {
      "cell_type": "code",
      "metadata": {
        "id": "HW7sStyZYowU",
        "colab_type": "code",
        "colab": {}
      },
      "source": [
        "my_W <- 52"
      ],
      "execution_count": null,
      "outputs": []
    },
    {
      "cell_type": "code",
      "metadata": {
        "id": "a3SFKOdLYuxy",
        "colab_type": "code",
        "colab": {
          "base_uri": "https://localhost:8080/",
          "height": 34
        },
        "outputId": "97bf4359-e823-4118-b269-6b0f2b3f630b"
      },
      "source": [
        "my_W/(my_H/100)^2"
      ],
      "execution_count": null,
      "outputs": [
        {
          "output_type": "display_data",
          "data": {
            "text/plain": [
              "[1] 17.37445"
            ],
            "text/latex": "17.3744528717966",
            "text/markdown": "17.3744528717966",
            "text/html": [
              "17.3744528717966"
            ]
          },
          "metadata": {
            "tags": []
          }
        }
      ]
    },
    {
      "cell_type": "code",
      "metadata": {
        "id": "6bl0v6YjZCRg",
        "colab_type": "code",
        "colab": {}
      },
      "source": [
        "first_name <- \"MaiYi\""
      ],
      "execution_count": null,
      "outputs": []
    },
    {
      "cell_type": "code",
      "metadata": {
        "id": "_Ccv3omBZK23",
        "colab_type": "code",
        "colab": {
          "base_uri": "https://localhost:8080/",
          "height": 34
        },
        "outputId": "e4d42ddf-bc14-4b77-83b9-d6e1174f48ef"
      },
      "source": [
        "first_name"
      ],
      "execution_count": null,
      "outputs": [
        {
          "output_type": "display_data",
          "data": {
            "text/plain": [
              "[1] \"MaiYi\""
            ],
            "text/latex": "'MaiYi'",
            "text/markdown": "'MaiYi'",
            "text/html": [
              "'MaiYi'"
            ]
          },
          "metadata": {
            "tags": []
          }
        }
      ]
    },
    {
      "cell_type": "code",
      "metadata": {
        "id": "3RDNrcGZcoJq",
        "colab_type": "code",
        "colab": {}
      },
      "source": [
        "BMI <- my_W/(my_H/100)^2"
      ],
      "execution_count": null,
      "outputs": []
    },
    {
      "cell_type": "code",
      "metadata": {
        "id": "_vgehI-3boCa",
        "colab_type": "code",
        "colab": {
          "base_uri": "https://localhost:8080/",
          "height": 34
        },
        "outputId": "c764ad0f-e36a-4d99-abc7-eb4b2546b52c"
      },
      "source": [
        "paste0(\"我的名字\",first_name,\"我的身高\",my_H,\"我的體重\",my_W,\"我的BMI\",BMI)"
      ],
      "execution_count": null,
      "outputs": [
        {
          "output_type": "display_data",
          "data": {
            "text/plain": [
              "[1] \"我的名字MaiYi我的身高173我的體重52我的BMI17.3744528717966\""
            ],
            "text/latex": "'我的名字MaiYi我的身高173我的體重52我的BMI17.3744528717966'",
            "text/markdown": "'我的名字MaiYi我的身高173我的體重52我的BMI17.3744528717966'",
            "text/html": [
              "'我的名字MaiYi我的身高173我的體重52我的BMI17.3744528717966'"
            ]
          },
          "metadata": {
            "tags": []
          }
        }
      ]
    }
  ]
}