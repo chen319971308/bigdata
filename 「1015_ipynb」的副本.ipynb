{
  "nbformat": 4,
  "nbformat_minor": 0,
  "metadata": {
    "colab": {
      "name": "「1015.ipynb」的副本",
      "provenance": [],
      "collapsed_sections": [],
      "include_colab_link": true
    },
    "kernelspec": {
      "name": "ir",
      "display_name": "R"
    }
  },
  "cells": [
    {
      "cell_type": "markdown",
      "metadata": {
        "id": "view-in-github",
        "colab_type": "text"
      },
      "source": [
        "<a href=\"https://colab.research.google.com/github/chen319971308/bigdata/blob/master/%E3%80%8C1015_ipynb%E3%80%8D%E7%9A%84%E5%89%AF%E6%9C%AC.ipynb\" target=\"_parent\"><img src=\"https://colab.research.google.com/assets/colab-badge.svg\" alt=\"Open In Colab\"/></a>"
      ]
    },
    {
      "cell_type": "code",
      "metadata": {
        "id": "7i_fLIgKVoer",
        "outputId": "ea0fc5af-d940-4026-a809-f0289c4feda9",
        "colab": {
          "base_uri": "https://localhost:8080/",
          "height": 68
        }
      },
      "source": [
        "a <- 10\n",
        "b <- -24\n",
        "c <- 0.25\n",
        "\n",
        "\n",
        "str(a)\n",
        "str(b)\n",
        "str(c)"
      ],
      "execution_count": 2,
      "outputs": [
        {
          "output_type": "stream",
          "text": [
            " num 10\n",
            " num -24\n",
            " num 0.25\n"
          ],
          "name": "stdout"
        }
      ]
    },
    {
      "cell_type": "code",
      "metadata": {
        "id": "QUhdFRKWWF50",
        "outputId": "3d41e9d8-3159-4be6-e4a4-d6eb0a5e75f1",
        "colab": {
          "base_uri": "https://localhost:8080/",
          "height": 85
        }
      },
      "source": [
        "is.numeric(a)\n",
        "is.numeric(b)\n",
        "is.integer(a)\n",
        "is.integer(b)"
      ],
      "execution_count": 3,
      "outputs": [
        {
          "output_type": "display_data",
          "data": {
            "text/plain": [
              "[1] TRUE"
            ],
            "text/latex": "TRUE",
            "text/markdown": "TRUE",
            "text/html": [
              "TRUE"
            ]
          },
          "metadata": {
            "tags": []
          }
        },
        {
          "output_type": "display_data",
          "data": {
            "text/plain": [
              "[1] TRUE"
            ],
            "text/latex": "TRUE",
            "text/markdown": "TRUE",
            "text/html": [
              "TRUE"
            ]
          },
          "metadata": {
            "tags": []
          }
        },
        {
          "output_type": "display_data",
          "data": {
            "text/plain": [
              "[1] FALSE"
            ],
            "text/latex": "FALSE",
            "text/markdown": "FALSE",
            "text/html": [
              "FALSE"
            ]
          },
          "metadata": {
            "tags": []
          }
        },
        {
          "output_type": "display_data",
          "data": {
            "text/plain": [
              "[1] FALSE"
            ],
            "text/latex": "FALSE",
            "text/markdown": "FALSE",
            "text/html": [
              "FALSE"
            ]
          },
          "metadata": {
            "tags": []
          }
        }
      ]
    },
    {
      "cell_type": "code",
      "metadata": {
        "id": "nCKyKrtxWQ4F",
        "outputId": "b914bd03-6444-4856-a9cd-e621785685e3",
        "colab": {
          "base_uri": "https://localhost:8080/",
          "height": 51
        }
      },
      "source": [
        "d <- \"おはよう\"\n",
        "e <- \"お休み\"\n",
        " \n",
        " \n",
        " str(d)\n",
        " str(e)"
      ],
      "execution_count": 4,
      "outputs": [
        {
          "output_type": "stream",
          "text": [
            " chr \"おはよう\"\n",
            " chr \"お休み\"\n"
          ],
          "name": "stdout"
        }
      ]
    },
    {
      "cell_type": "code",
      "metadata": {
        "id": "KPgTNehaYVdp",
        "outputId": "6dc9255d-fd66-41a8-e11b-d260dcce7af5",
        "colab": {
          "base_uri": "https://localhost:8080/",
          "height": 68
        }
      },
      "source": [
        "f <- c(5,4,3,2,1,0)\n",
        "g <- c(\"星星\",\"月亮\",\"太陽\")\n",
        "\n",
        "f[4]\n",
        "g[2]\n",
        "g[c(1,3)]"
      ],
      "execution_count": 5,
      "outputs": [
        {
          "output_type": "display_data",
          "data": {
            "text/plain": [
              "[1] 2"
            ],
            "text/latex": "2",
            "text/markdown": "2",
            "text/html": [
              "2"
            ]
          },
          "metadata": {
            "tags": []
          }
        },
        {
          "output_type": "display_data",
          "data": {
            "text/plain": [
              "[1] \"月亮\""
            ],
            "text/latex": "'月亮'",
            "text/markdown": "'月亮'",
            "text/html": [
              "'月亮'"
            ]
          },
          "metadata": {
            "tags": []
          }
        },
        {
          "output_type": "display_data",
          "data": {
            "text/plain": [
              "[1] \"星星\" \"太陽\""
            ],
            "text/latex": "\\begin{enumerate*}\n\\item '星星'\n\\item '太陽'\n\\end{enumerate*}\n",
            "text/markdown": "1. '星星'\n2. '太陽'\n\n\n",
            "text/html": [
              "<style>\n",
              ".list-inline {list-style: none; margin:0; padding: 0}\n",
              ".list-inline>li {display: inline-block}\n",
              ".list-inline>li:not(:last-child)::after {content: \"\\00b7\"; padding: 0 .5ex}\n",
              "</style>\n",
              "<ol class=list-inline><li>'星星'</li><li>'太陽'</li></ol>\n"
            ]
          },
          "metadata": {
            "tags": []
          }
        }
      ]
    },
    {
      "cell_type": "code",
      "metadata": {
        "id": "_0514FyOY5h8",
        "outputId": "a3f862e9-6e80-4801-fd10-f998dd9360b1",
        "colab": {
          "base_uri": "https://localhost:8080/",
          "height": 68
        }
      },
      "source": [
        "h <- c(1,2,3,4,5,6)\n",
        "i <- c(10,11,12,13,14,15)\n",
        "\n",
        "h * i\n",
        "h^10\n",
        "i > 12.5"
      ],
      "execution_count": 18,
      "outputs": [
        {
          "output_type": "display_data",
          "data": {
            "text/plain": [
              "[1] 10 22 36 52 70 90"
            ],
            "text/latex": "\\begin{enumerate*}\n\\item 10\n\\item 22\n\\item 36\n\\item 52\n\\item 70\n\\item 90\n\\end{enumerate*}\n",
            "text/markdown": "1. 10\n2. 22\n3. 36\n4. 52\n5. 70\n6. 90\n\n\n",
            "text/html": [
              "<style>\n",
              ".list-inline {list-style: none; margin:0; padding: 0}\n",
              ".list-inline>li {display: inline-block}\n",
              ".list-inline>li:not(:last-child)::after {content: \"\\00b7\"; padding: 0 .5ex}\n",
              "</style>\n",
              "<ol class=list-inline><li>10</li><li>22</li><li>36</li><li>52</li><li>70</li><li>90</li></ol>\n"
            ]
          },
          "metadata": {
            "tags": []
          }
        },
        {
          "output_type": "display_data",
          "data": {
            "text/plain": [
              "[1]        1     1024    59049  1048576  9765625 60466176"
            ],
            "text/latex": "\\begin{enumerate*}\n\\item 1\n\\item 1024\n\\item 59049\n\\item 1048576\n\\item 9765625\n\\item 60466176\n\\end{enumerate*}\n",
            "text/markdown": "1. 1\n2. 1024\n3. 59049\n4. 1048576\n5. 9765625\n6. 60466176\n\n\n",
            "text/html": [
              "<style>\n",
              ".list-inline {list-style: none; margin:0; padding: 0}\n",
              ".list-inline>li {display: inline-block}\n",
              ".list-inline>li:not(:last-child)::after {content: \"\\00b7\"; padding: 0 .5ex}\n",
              "</style>\n",
              "<ol class=list-inline><li>1</li><li>1024</li><li>59049</li><li>1048576</li><li>9765625</li><li>60466176</li></ol>\n"
            ]
          },
          "metadata": {
            "tags": []
          }
        },
        {
          "output_type": "display_data",
          "data": {
            "text/plain": [
              "[1] FALSE FALSE FALSE  TRUE  TRUE  TRUE"
            ],
            "text/latex": "\\begin{enumerate*}\n\\item FALSE\n\\item FALSE\n\\item FALSE\n\\item TRUE\n\\item TRUE\n\\item TRUE\n\\end{enumerate*}\n",
            "text/markdown": "1. FALSE\n2. FALSE\n3. FALSE\n4. TRUE\n5. TRUE\n6. TRUE\n\n\n",
            "text/html": [
              "<style>\n",
              ".list-inline {list-style: none; margin:0; padding: 0}\n",
              ".list-inline>li {display: inline-block}\n",
              ".list-inline>li:not(:last-child)::after {content: \"\\00b7\"; padding: 0 .5ex}\n",
              "</style>\n",
              "<ol class=list-inline><li>FALSE</li><li>FALSE</li><li>FALSE</li><li>TRUE</li><li>TRUE</li><li>TRUE</li></ol>\n"
            ]
          },
          "metadata": {
            "tags": []
          }
        }
      ]
    },
    {
      "cell_type": "code",
      "metadata": {
        "id": "3zoraJYsaJFh",
        "outputId": "02792979-8f78-432a-ab3b-6cdc056c83eb",
        "colab": {
          "base_uri": "https://localhost:8080/",
          "height": 85
        }
      },
      "source": [
        "gender <- c(\"男\",\"女\",\"女\",\"男\")\n",
        "gender <- factor(gender)\n",
        "gender\n",
        "levels(gender)"
      ],
      "execution_count": 15,
      "outputs": [
        {
          "output_type": "display_data",
          "data": {
            "text/plain": [
              "[1] 男 女 女 男\n",
              "Levels: 女 男"
            ],
            "text/latex": "\\begin{enumerate*}\n\\item 男\n\\item 女\n\\item 女\n\\item 男\n\\end{enumerate*}\n\n\\emph{Levels}: \\begin{enumerate*}\n\\item '女'\n\\item '男'\n\\end{enumerate*}\n",
            "text/markdown": "1. 男\n2. 女\n3. 女\n4. 男\n\n\n\n**Levels**: 1. '女'\n2. '男'\n\n\n",
            "text/html": [
              "<style>\n",
              ".list-inline {list-style: none; margin:0; padding: 0}\n",
              ".list-inline>li {display: inline-block}\n",
              ".list-inline>li:not(:last-child)::after {content: \"\\00b7\"; padding: 0 .5ex}\n",
              "</style>\n",
              "<ol class=list-inline><li>男</li><li>女</li><li>女</li><li>男</li></ol>\n",
              "\n",
              "<details>\n",
              "\t<summary style=display:list-item;cursor:pointer>\n",
              "\t\t<strong>Levels</strong>:\n",
              "\t</summary>\n",
              "\t<style>\n",
              "\t.list-inline {list-style: none; margin:0; padding: 0}\n",
              "\t.list-inline>li {display: inline-block}\n",
              "\t.list-inline>li:not(:last-child)::after {content: \"\\00b7\"; padding: 0 .5ex}\n",
              "\t</style>\n",
              "\t<ol class=list-inline><li>'女'</li><li>'男'</li></ol>\n",
              "</details>"
            ]
          },
          "metadata": {
            "tags": []
          }
        },
        {
          "output_type": "display_data",
          "data": {
            "text/plain": [
              "[1] \"女\" \"男\""
            ],
            "text/latex": "\\begin{enumerate*}\n\\item '女'\n\\item '男'\n\\end{enumerate*}\n",
            "text/markdown": "1. '女'\n2. '男'\n\n\n",
            "text/html": [
              "<style>\n",
              ".list-inline {list-style: none; margin:0; padding: 0}\n",
              ".list-inline>li {display: inline-block}\n",
              ".list-inline>li:not(:last-child)::after {content: \"\\00b7\"; padding: 0 .5ex}\n",
              "</style>\n",
              "<ol class=list-inline><li>'女'</li><li>'男'</li></ol>\n"
            ]
          },
          "metadata": {
            "tags": []
          }
        }
      ]
    },
    {
      "cell_type": "code",
      "metadata": {
        "id": "qVfm6GGfcnFb",
        "outputId": "50065403-463f-47e5-9fa4-0e81c2fc1ab0",
        "colab": {
          "base_uri": "https://localhost:8080/",
          "height": 279
        }
      },
      "source": [
        "j <- matrix(c(11:19),nrow = 3 ,ncol = 3 ) \n",
        "k <- matrix(c(1:6),nrow = 2 ,ncol = 3 )\n",
        "\n",
        "j\n",
        "k"
      ],
      "execution_count": 21,
      "outputs": [
        {
          "output_type": "display_data",
          "data": {
            "text/plain": [
              "     [,1] [,2] [,3]\n",
              "[1,] 11   14   17  \n",
              "[2,] 12   15   18  \n",
              "[3,] 13   16   19  "
            ],
            "text/latex": "A matrix: 3 × 3 of type int\n\\begin{tabular}{lll}\n\t 11 & 14 & 17\\\\\n\t 12 & 15 & 18\\\\\n\t 13 & 16 & 19\\\\\n\\end{tabular}\n",
            "text/markdown": "\nA matrix: 3 × 3 of type int\n\n| 11 | 14 | 17 |\n| 12 | 15 | 18 |\n| 13 | 16 | 19 |\n\n",
            "text/html": [
              "<table>\n",
              "<caption>A matrix: 3 × 3 of type int</caption>\n",
              "<tbody>\n",
              "\t<tr><td>11</td><td>14</td><td>17</td></tr>\n",
              "\t<tr><td>12</td><td>15</td><td>18</td></tr>\n",
              "\t<tr><td>13</td><td>16</td><td>19</td></tr>\n",
              "</tbody>\n",
              "</table>\n"
            ]
          },
          "metadata": {
            "tags": []
          }
        },
        {
          "output_type": "display_data",
          "data": {
            "text/plain": [
              "     [,1] [,2] [,3]\n",
              "[1,] 1    3    5   \n",
              "[2,] 2    4    6   "
            ],
            "text/latex": "A matrix: 2 × 3 of type int\n\\begin{tabular}{lll}\n\t 1 & 3 & 5\\\\\n\t 2 & 4 & 6\\\\\n\\end{tabular}\n",
            "text/markdown": "\nA matrix: 2 × 3 of type int\n\n| 1 | 3 | 5 |\n| 2 | 4 | 6 |\n\n",
            "text/html": [
              "<table>\n",
              "<caption>A matrix: 2 × 3 of type int</caption>\n",
              "<tbody>\n",
              "\t<tr><td>1</td><td>3</td><td>5</td></tr>\n",
              "\t<tr><td>2</td><td>4</td><td>6</td></tr>\n",
              "</tbody>\n",
              "</table>\n"
            ]
          },
          "metadata": {
            "tags": []
          }
        }
      ]
    },
    {
      "cell_type": "code",
      "metadata": {
        "id": "hZaBAHokdir3",
        "outputId": "2343e57a-fdd2-4e3d-c010-1bb6ed311396",
        "colab": {
          "base_uri": "https://localhost:8080/",
          "height": 68
        }
      },
      "source": [
        "j[3,3]\n",
        "j[1,]\n",
        "j[,2]"
      ],
      "execution_count": 25,
      "outputs": [
        {
          "output_type": "display_data",
          "data": {
            "text/plain": [
              "[1] 19"
            ],
            "text/latex": "19",
            "text/markdown": "19",
            "text/html": [
              "19"
            ]
          },
          "metadata": {
            "tags": []
          }
        },
        {
          "output_type": "display_data",
          "data": {
            "text/plain": [
              "[1] 11 14 17"
            ],
            "text/latex": "\\begin{enumerate*}\n\\item 11\n\\item 14\n\\item 17\n\\end{enumerate*}\n",
            "text/markdown": "1. 11\n2. 14\n3. 17\n\n\n",
            "text/html": [
              "<style>\n",
              ".list-inline {list-style: none; margin:0; padding: 0}\n",
              ".list-inline>li {display: inline-block}\n",
              ".list-inline>li:not(:last-child)::after {content: \"\\00b7\"; padding: 0 .5ex}\n",
              "</style>\n",
              "<ol class=list-inline><li>11</li><li>14</li><li>17</li></ol>\n"
            ]
          },
          "metadata": {
            "tags": []
          }
        },
        {
          "output_type": "display_data",
          "data": {
            "text/plain": [
              "[1] 14 15 16"
            ],
            "text/latex": "\\begin{enumerate*}\n\\item 14\n\\item 15\n\\item 16\n\\end{enumerate*}\n",
            "text/markdown": "1. 14\n2. 15\n3. 16\n\n\n",
            "text/html": [
              "<style>\n",
              ".list-inline {list-style: none; margin:0; padding: 0}\n",
              ".list-inline>li {display: inline-block}\n",
              ".list-inline>li:not(:last-child)::after {content: \"\\00b7\"; padding: 0 .5ex}\n",
              "</style>\n",
              "<ol class=list-inline><li>14</li><li>15</li><li>16</li></ol>\n"
            ]
          },
          "metadata": {
            "tags": []
          }
        }
      ]
    },
    {
      "cell_type": "code",
      "metadata": {
        "id": "92VlN-ihgUbV",
        "outputId": "1355b80a-fd2e-4b43-f3fe-334390cfa583",
        "colab": {
          "base_uri": "https://localhost:8080/",
          "height": 68
        }
      },
      "source": [
        "k[1,2]\n",
        "k[2,]\n",
        "k[,1]"
      ],
      "execution_count": 26,
      "outputs": [
        {
          "output_type": "display_data",
          "data": {
            "text/plain": [
              "[1] 3"
            ],
            "text/latex": "3",
            "text/markdown": "3",
            "text/html": [
              "3"
            ]
          },
          "metadata": {
            "tags": []
          }
        },
        {
          "output_type": "display_data",
          "data": {
            "text/plain": [
              "[1] 2 4 6"
            ],
            "text/latex": "\\begin{enumerate*}\n\\item 2\n\\item 4\n\\item 6\n\\end{enumerate*}\n",
            "text/markdown": "1. 2\n2. 4\n3. 6\n\n\n",
            "text/html": [
              "<style>\n",
              ".list-inline {list-style: none; margin:0; padding: 0}\n",
              ".list-inline>li {display: inline-block}\n",
              ".list-inline>li:not(:last-child)::after {content: \"\\00b7\"; padding: 0 .5ex}\n",
              "</style>\n",
              "<ol class=list-inline><li>2</li><li>4</li><li>6</li></ol>\n"
            ]
          },
          "metadata": {
            "tags": []
          }
        },
        {
          "output_type": "display_data",
          "data": {
            "text/plain": [
              "[1] 1 2"
            ],
            "text/latex": "\\begin{enumerate*}\n\\item 1\n\\item 2\n\\end{enumerate*}\n",
            "text/markdown": "1. 1\n2. 2\n\n\n",
            "text/html": [
              "<style>\n",
              ".list-inline {list-style: none; margin:0; padding: 0}\n",
              ".list-inline>li {display: inline-block}\n",
              ".list-inline>li:not(:last-child)::after {content: \"\\00b7\"; padding: 0 .5ex}\n",
              "</style>\n",
              "<ol class=list-inline><li>1</li><li>2</li></ol>\n"
            ]
          },
          "metadata": {
            "tags": []
          }
        }
      ]
    },
    {
      "cell_type": "code",
      "metadata": {
        "id": "kL_9jmeggmAZ",
        "outputId": "e2c36136-47e4-4e77-abc9-c9bb3a67b113",
        "colab": {
          "base_uri": "https://localhost:8080/",
          "height": 183
        }
      },
      "source": [
        "tmp <- data.frame(Student_ID=c(1,2,3,4,5),Name=c(\"ALLEN\",\"BEN\",\"JOB\",\"KEVIN\",\"STEVEN\"),score=c(84.7,86.4,90.8,79.6,77.7))\n",
        "tmp"
      ],
      "execution_count": 29,
      "outputs": [
        {
          "output_type": "display_data",
          "data": {
            "text/plain": [
              "  Student_ID Name   score\n",
              "1 1          ALLEN  84.7 \n",
              "2 2          BEN    86.4 \n",
              "3 3          JOB    90.8 \n",
              "4 4          KEVIN  79.6 \n",
              "5 5          STEVEN 77.7 "
            ],
            "text/latex": "A data.frame: 5 × 3\n\\begin{tabular}{lll}\n Student\\_ID & Name & score\\\\\n <dbl> & <chr> & <dbl>\\\\\n\\hline\n\t 1 & ALLEN  & 84.7\\\\\n\t 2 & BEN    & 86.4\\\\\n\t 3 & JOB    & 90.8\\\\\n\t 4 & KEVIN  & 79.6\\\\\n\t 5 & STEVEN & 77.7\\\\\n\\end{tabular}\n",
            "text/markdown": "\nA data.frame: 5 × 3\n\n| Student_ID &lt;dbl&gt; | Name &lt;chr&gt; | score &lt;dbl&gt; |\n|---|---|---|\n| 1 | ALLEN  | 84.7 |\n| 2 | BEN    | 86.4 |\n| 3 | JOB    | 90.8 |\n| 4 | KEVIN  | 79.6 |\n| 5 | STEVEN | 77.7 |\n\n",
            "text/html": [
              "<table>\n",
              "<caption>A data.frame: 5 × 3</caption>\n",
              "<thead>\n",
              "\t<tr><th scope=col>Student_ID</th><th scope=col>Name</th><th scope=col>score</th></tr>\n",
              "\t<tr><th scope=col>&lt;dbl&gt;</th><th scope=col>&lt;chr&gt;</th><th scope=col>&lt;dbl&gt;</th></tr>\n",
              "</thead>\n",
              "<tbody>\n",
              "\t<tr><td>1</td><td>ALLEN </td><td>84.7</td></tr>\n",
              "\t<tr><td>2</td><td>BEN   </td><td>86.4</td></tr>\n",
              "\t<tr><td>3</td><td>JOB   </td><td>90.8</td></tr>\n",
              "\t<tr><td>4</td><td>KEVIN </td><td>79.6</td></tr>\n",
              "\t<tr><td>5</td><td>STEVEN</td><td>77.7</td></tr>\n",
              "</tbody>\n",
              "</table>\n"
            ]
          },
          "metadata": {
            "tags": []
          }
        }
      ]
    },
    {
      "cell_type": "code",
      "metadata": {
        "id": "ZRWfY8PNhYx0",
        "outputId": "952177ac-2067-4a4d-9e14-3b560f1e58bb",
        "colab": {
          "base_uri": "https://localhost:8080/",
          "height": 232
        }
      },
      "source": [
        "tmp[2,3]\n",
        "tmp[,1]\n",
        "tmp$Name == \"JOB\"\n",
        "tmp[tmp$Name == \"STEVEN\",]\n",
        "tmp[tmp$Name == \"ALLEN\",]"
      ],
      "execution_count": 33,
      "outputs": [
        {
          "output_type": "display_data",
          "data": {
            "text/plain": [
              "[1] 86.4"
            ],
            "text/latex": "86.4",
            "text/markdown": "86.4",
            "text/html": [
              "86.4"
            ]
          },
          "metadata": {
            "tags": []
          }
        },
        {
          "output_type": "display_data",
          "data": {
            "text/plain": [
              "[1] 1 2 3 4 5"
            ],
            "text/latex": "\\begin{enumerate*}\n\\item 1\n\\item 2\n\\item 3\n\\item 4\n\\item 5\n\\end{enumerate*}\n",
            "text/markdown": "1. 1\n2. 2\n3. 3\n4. 4\n5. 5\n\n\n",
            "text/html": [
              "<style>\n",
              ".list-inline {list-style: none; margin:0; padding: 0}\n",
              ".list-inline>li {display: inline-block}\n",
              ".list-inline>li:not(:last-child)::after {content: \"\\00b7\"; padding: 0 .5ex}\n",
              "</style>\n",
              "<ol class=list-inline><li>1</li><li>2</li><li>3</li><li>4</li><li>5</li></ol>\n"
            ]
          },
          "metadata": {
            "tags": []
          }
        },
        {
          "output_type": "display_data",
          "data": {
            "text/plain": [
              "[1] FALSE FALSE  TRUE FALSE FALSE"
            ],
            "text/latex": "\\begin{enumerate*}\n\\item FALSE\n\\item FALSE\n\\item TRUE\n\\item FALSE\n\\item FALSE\n\\end{enumerate*}\n",
            "text/markdown": "1. FALSE\n2. FALSE\n3. TRUE\n4. FALSE\n5. FALSE\n\n\n",
            "text/html": [
              "<style>\n",
              ".list-inline {list-style: none; margin:0; padding: 0}\n",
              ".list-inline>li {display: inline-block}\n",
              ".list-inline>li:not(:last-child)::after {content: \"\\00b7\"; padding: 0 .5ex}\n",
              "</style>\n",
              "<ol class=list-inline><li>FALSE</li><li>FALSE</li><li>TRUE</li><li>FALSE</li><li>FALSE</li></ol>\n"
            ]
          },
          "metadata": {
            "tags": []
          }
        },
        {
          "output_type": "display_data",
          "data": {
            "text/plain": [
              "  Student_ID Name   score\n",
              "5 5          STEVEN 77.7 "
            ],
            "text/latex": "A data.frame: 1 × 3\n\\begin{tabular}{r|lll}\n  & Student\\_ID & Name & score\\\\\n  & <dbl> & <chr> & <dbl>\\\\\n\\hline\n\t5 & 5 & STEVEN & 77.7\\\\\n\\end{tabular}\n",
            "text/markdown": "\nA data.frame: 1 × 3\n\n| <!--/--> | Student_ID &lt;dbl&gt; | Name &lt;chr&gt; | score &lt;dbl&gt; |\n|---|---|---|---|\n| 5 | 5 | STEVEN | 77.7 |\n\n",
            "text/html": [
              "<table>\n",
              "<caption>A data.frame: 1 × 3</caption>\n",
              "<thead>\n",
              "\t<tr><th></th><th scope=col>Student_ID</th><th scope=col>Name</th><th scope=col>score</th></tr>\n",
              "\t<tr><th></th><th scope=col>&lt;dbl&gt;</th><th scope=col>&lt;chr&gt;</th><th scope=col>&lt;dbl&gt;</th></tr>\n",
              "</thead>\n",
              "<tbody>\n",
              "\t<tr><th scope=row>5</th><td>5</td><td>STEVEN</td><td>77.7</td></tr>\n",
              "</tbody>\n",
              "</table>\n"
            ]
          },
          "metadata": {
            "tags": []
          }
        },
        {
          "output_type": "display_data",
          "data": {
            "text/plain": [
              "  Student_ID Name  score\n",
              "1 1          ALLEN 84.7 "
            ],
            "text/latex": "A data.frame: 1 × 3\n\\begin{tabular}{r|lll}\n  & Student\\_ID & Name & score\\\\\n  & <dbl> & <chr> & <dbl>\\\\\n\\hline\n\t1 & 1 & ALLEN & 84.7\\\\\n\\end{tabular}\n",
            "text/markdown": "\nA data.frame: 1 × 3\n\n| <!--/--> | Student_ID &lt;dbl&gt; | Name &lt;chr&gt; | score &lt;dbl&gt; |\n|---|---|---|---|\n| 1 | 1 | ALLEN | 84.7 |\n\n",
            "text/html": [
              "<table>\n",
              "<caption>A data.frame: 1 × 3</caption>\n",
              "<thead>\n",
              "\t<tr><th></th><th scope=col>Student_ID</th><th scope=col>Name</th><th scope=col>score</th></tr>\n",
              "\t<tr><th></th><th scope=col>&lt;dbl&gt;</th><th scope=col>&lt;chr&gt;</th><th scope=col>&lt;dbl&gt;</th></tr>\n",
              "</thead>\n",
              "<tbody>\n",
              "\t<tr><th scope=row>1</th><td>1</td><td>ALLEN</td><td>84.7</td></tr>\n",
              "</tbody>\n",
              "</table>\n"
            ]
          },
          "metadata": {
            "tags": []
          }
        }
      ]
    },
    {
      "cell_type": "code",
      "metadata": {
        "id": "ZJzbnRgciGo9",
        "outputId": "00e221a2-b8da-4ce8-c557-155f5a7744c6",
        "colab": {
          "base_uri": "https://localhost:8080/",
          "height": 68
        }
      },
      "source": [
        "install.packages(\"SportsAnalytics\")\n",
        "\n",
        "library(SportsAnalytics)\n",
        "NBA1516 <- fetch_NBAPlayerStatistics(\"15-16\")"
      ],
      "execution_count": 34,
      "outputs": [
        {
          "output_type": "stream",
          "text": [
            "Installing package into ‘/usr/local/lib/R/site-library’\n",
            "(as ‘lib’ is unspecified)\n",
            "\n"
          ],
          "name": "stderr"
        }
      ]
    },
    {
      "cell_type": "code",
      "metadata": {
        "id": "m7QH505Cjcxo",
        "outputId": "97905075-9d95-40f5-ccaa-28b511c3ad9b",
        "colab": {
          "base_uri": "https://localhost:8080/",
          "height": 459
        }
      },
      "source": [
        "str(NBA1516)"
      ],
      "execution_count": 35,
      "outputs": [
        {
          "output_type": "stream",
          "text": [
            "'data.frame':\t476 obs. of  25 variables:\n",
            " $ League             : Factor w/ 1 level \"NBA\": 1 1 1 1 1 1 1 1 1 1 ...\n",
            " $ Name               : chr  \"Quincy Acy\" \"Jordan Adams\" \"Steven Adams\" \"Arron Afflalo\" ...\n",
            " $ Team               : Factor w/ 31 levels \"ATL\",\"BOS\",\"BRO\",..: 27 15 22 20 19 13 28 26 12 15 ...\n",
            " $ Position           : Factor w/ 5 levels \"C\",\"PF\",\"PG\",..: 4 5 1 5 1 1 2 2 2 5 ...\n",
            " $ GamesPlayed        : int  59 2 80 71 59 60 74 9 79 64 ...\n",
            " $ TotalMinutesPlayed : int  877 15 2019 2359 863 802 2260 37 1601 1622 ...\n",
            " $ FieldGoalsMade     : int  119 2 261 354 150 134 536 5 191 215 ...\n",
            " $ FieldGoalsAttempted: int  214 6 426 799 314 225 1045 10 370 469 ...\n",
            " $ ThreesMade         : int  19 0 0 91 0 0 0 0 0 15 ...\n",
            " $ ThreesAttempted    : int  49 1 0 238 1 0 16 0 0 42 ...\n",
            " $ FreeThrowsMade     : int  50 3 114 110 52 60 259 0 46 90 ...\n",
            " $ FreeThrowsAttempted: int  68 5 196 131 62 84 302 0 73 138 ...\n",
            " $ OffensiveRebounds  : int  65 0 218 23 75 86 175 2 162 104 ...\n",
            " $ TotalRebounds      : int  188 2 531 266 269 288 631 6 424 297 ...\n",
            " $ Assists            : int  27 3 61 145 32 50 110 0 76 70 ...\n",
            " $ Steals             : int  29 3 42 25 19 47 38 1 26 109 ...\n",
            " $ Turnovers          : int  27 2 84 82 54 64 99 1 69 78 ...\n",
            " $ Blocks             : int  24 0 89 10 36 68 81 2 42 18 ...\n",
            " $ PersonalFouls      : int  103 2 223 142 134 139 151 1 147 175 ...\n",
            " $ Disqualifications  : int  0 0 2 1 0 1 0 0 1 1 ...\n",
            " $ TotalPoints        : int  307 7 636 909 352 328 1331 10 428 535 ...\n",
            " $ Technicals         : int  3 0 2 1 2 0 0 0 0 1 ...\n",
            " $ Ejections          : int  0 0 0 0 0 0 0 0 0 0 ...\n",
            " $ FlagrantFouls      : int  0 0 0 0 0 0 0 0 0 0 ...\n",
            " $ GamesStarted       : int  29 0 80 57 17 5 74 0 28 56 ...\n"
          ],
          "name": "stdout"
        }
      ]
    },
    {
      "cell_type": "code",
      "metadata": {
        "id": "EnjwrQpNjiky",
        "outputId": "ec059eca-bf87-49c9-e522-a7a91c92e1b0",
        "colab": {
          "base_uri": "https://localhost:8080/",
          "height": 204
        }
      },
      "source": [
        "head(NBA1516)"
      ],
      "execution_count": 36,
      "outputs": [
        {
          "output_type": "display_data",
          "data": {
            "text/plain": [
              "  League Name          Team Position GamesPlayed TotalMinutesPlayed\n",
              "1 NBA    Quincy Acy    SAC  SF       59           877              \n",
              "2 NBA    Jordan Adams  MEM  SG        2            15              \n",
              "3 NBA    Steven Adams  OKL  C        80          2019              \n",
              "4 NBA    Arron Afflalo NYK  SG       71          2359              \n",
              "5 NBA    Alexis Ajinca NOR  C        59           863              \n",
              "6 NBA    Cole Aldrich  LAC  C        60           802              \n",
              "  FieldGoalsMade FieldGoalsAttempted ThreesMade ThreesAttempted ⋯ Steals\n",
              "1 119            214                 19          49             ⋯ 29    \n",
              "2   2              6                  0           1             ⋯  3    \n",
              "3 261            426                  0           0             ⋯ 42    \n",
              "4 354            799                 91         238             ⋯ 25    \n",
              "5 150            314                  0           1             ⋯ 19    \n",
              "6 134            225                  0           0             ⋯ 47    \n",
              "  Turnovers Blocks PersonalFouls Disqualifications TotalPoints Technicals\n",
              "1 27        24     103           0                 307         3         \n",
              "2  2         0       2           0                   7         0         \n",
              "3 84        89     223           2                 636         2         \n",
              "4 82        10     142           1                 909         1         \n",
              "5 54        36     134           0                 352         2         \n",
              "6 64        68     139           1                 328         0         \n",
              "  Ejections FlagrantFouls GamesStarted\n",
              "1 0         0             29          \n",
              "2 0         0              0          \n",
              "3 0         0             80          \n",
              "4 0         0             57          \n",
              "5 0         0             17          \n",
              "6 0         0              5          "
            ],
            "text/latex": "A data.frame: 6 × 25\n\\begin{tabular}{r|lllllllllllllllllllll}\n  & League & Name & Team & Position & GamesPlayed & TotalMinutesPlayed & FieldGoalsMade & FieldGoalsAttempted & ThreesMade & ThreesAttempted & ⋯ & Steals & Turnovers & Blocks & PersonalFouls & Disqualifications & TotalPoints & Technicals & Ejections & FlagrantFouls & GamesStarted\\\\\n  & <fct> & <chr> & <fct> & <fct> & <int> & <int> & <int> & <int> & <int> & <int> & ⋯ & <int> & <int> & <int> & <int> & <int> & <int> & <int> & <int> & <int> & <int>\\\\\n\\hline\n\t1 & NBA & Quincy Acy    & SAC & SF & 59 &  877 & 119 & 214 & 19 &  49 & ⋯ & 29 & 27 & 24 & 103 & 0 & 307 & 3 & 0 & 0 & 29\\\\\n\t2 & NBA & Jordan Adams  & MEM & SG &  2 &   15 &   2 &   6 &  0 &   1 & ⋯ &  3 &  2 &  0 &   2 & 0 &   7 & 0 & 0 & 0 &  0\\\\\n\t3 & NBA & Steven Adams  & OKL & C  & 80 & 2019 & 261 & 426 &  0 &   0 & ⋯ & 42 & 84 & 89 & 223 & 2 & 636 & 2 & 0 & 0 & 80\\\\\n\t4 & NBA & Arron Afflalo & NYK & SG & 71 & 2359 & 354 & 799 & 91 & 238 & ⋯ & 25 & 82 & 10 & 142 & 1 & 909 & 1 & 0 & 0 & 57\\\\\n\t5 & NBA & Alexis Ajinca & NOR & C  & 59 &  863 & 150 & 314 &  0 &   1 & ⋯ & 19 & 54 & 36 & 134 & 0 & 352 & 2 & 0 & 0 & 17\\\\\n\t6 & NBA & Cole Aldrich  & LAC & C  & 60 &  802 & 134 & 225 &  0 &   0 & ⋯ & 47 & 64 & 68 & 139 & 1 & 328 & 0 & 0 & 0 &  5\\\\\n\\end{tabular}\n",
            "text/markdown": "\nA data.frame: 6 × 25\n\n| <!--/--> | League &lt;fct&gt; | Name &lt;chr&gt; | Team &lt;fct&gt; | Position &lt;fct&gt; | GamesPlayed &lt;int&gt; | TotalMinutesPlayed &lt;int&gt; | FieldGoalsMade &lt;int&gt; | FieldGoalsAttempted &lt;int&gt; | ThreesMade &lt;int&gt; | ThreesAttempted &lt;int&gt; | ⋯ ⋯ | Steals &lt;int&gt; | Turnovers &lt;int&gt; | Blocks &lt;int&gt; | PersonalFouls &lt;int&gt; | Disqualifications &lt;int&gt; | TotalPoints &lt;int&gt; | Technicals &lt;int&gt; | Ejections &lt;int&gt; | FlagrantFouls &lt;int&gt; | GamesStarted &lt;int&gt; |\n|---|---|---|---|---|---|---|---|---|---|---|---|---|---|---|---|---|---|---|---|---|---|\n| 1 | NBA | Quincy Acy    | SAC | SF | 59 |  877 | 119 | 214 | 19 |  49 | ⋯ | 29 | 27 | 24 | 103 | 0 | 307 | 3 | 0 | 0 | 29 |\n| 2 | NBA | Jordan Adams  | MEM | SG |  2 |   15 |   2 |   6 |  0 |   1 | ⋯ |  3 |  2 |  0 |   2 | 0 |   7 | 0 | 0 | 0 |  0 |\n| 3 | NBA | Steven Adams  | OKL | C  | 80 | 2019 | 261 | 426 |  0 |   0 | ⋯ | 42 | 84 | 89 | 223 | 2 | 636 | 2 | 0 | 0 | 80 |\n| 4 | NBA | Arron Afflalo | NYK | SG | 71 | 2359 | 354 | 799 | 91 | 238 | ⋯ | 25 | 82 | 10 | 142 | 1 | 909 | 1 | 0 | 0 | 57 |\n| 5 | NBA | Alexis Ajinca | NOR | C  | 59 |  863 | 150 | 314 |  0 |   1 | ⋯ | 19 | 54 | 36 | 134 | 0 | 352 | 2 | 0 | 0 | 17 |\n| 6 | NBA | Cole Aldrich  | LAC | C  | 60 |  802 | 134 | 225 |  0 |   0 | ⋯ | 47 | 64 | 68 | 139 | 1 | 328 | 0 | 0 | 0 |  5 |\n\n",
            "text/html": [
              "<table>\n",
              "<caption>A data.frame: 6 × 25</caption>\n",
              "<thead>\n",
              "\t<tr><th></th><th scope=col>League</th><th scope=col>Name</th><th scope=col>Team</th><th scope=col>Position</th><th scope=col>GamesPlayed</th><th scope=col>TotalMinutesPlayed</th><th scope=col>FieldGoalsMade</th><th scope=col>FieldGoalsAttempted</th><th scope=col>ThreesMade</th><th scope=col>ThreesAttempted</th><th scope=col>⋯</th><th scope=col>Steals</th><th scope=col>Turnovers</th><th scope=col>Blocks</th><th scope=col>PersonalFouls</th><th scope=col>Disqualifications</th><th scope=col>TotalPoints</th><th scope=col>Technicals</th><th scope=col>Ejections</th><th scope=col>FlagrantFouls</th><th scope=col>GamesStarted</th></tr>\n",
              "\t<tr><th></th><th scope=col>&lt;fct&gt;</th><th scope=col>&lt;chr&gt;</th><th scope=col>&lt;fct&gt;</th><th scope=col>&lt;fct&gt;</th><th scope=col>&lt;int&gt;</th><th scope=col>&lt;int&gt;</th><th scope=col>&lt;int&gt;</th><th scope=col>&lt;int&gt;</th><th scope=col>&lt;int&gt;</th><th scope=col>&lt;int&gt;</th><th scope=col>⋯</th><th scope=col>&lt;int&gt;</th><th scope=col>&lt;int&gt;</th><th scope=col>&lt;int&gt;</th><th scope=col>&lt;int&gt;</th><th scope=col>&lt;int&gt;</th><th scope=col>&lt;int&gt;</th><th scope=col>&lt;int&gt;</th><th scope=col>&lt;int&gt;</th><th scope=col>&lt;int&gt;</th><th scope=col>&lt;int&gt;</th></tr>\n",
              "</thead>\n",
              "<tbody>\n",
              "\t<tr><th scope=row>1</th><td>NBA</td><td>Quincy Acy   </td><td>SAC</td><td>SF</td><td>59</td><td> 877</td><td>119</td><td>214</td><td>19</td><td> 49</td><td>⋯</td><td>29</td><td>27</td><td>24</td><td>103</td><td>0</td><td>307</td><td>3</td><td>0</td><td>0</td><td>29</td></tr>\n",
              "\t<tr><th scope=row>2</th><td>NBA</td><td>Jordan Adams </td><td>MEM</td><td>SG</td><td> 2</td><td>  15</td><td>  2</td><td>  6</td><td> 0</td><td>  1</td><td>⋯</td><td> 3</td><td> 2</td><td> 0</td><td>  2</td><td>0</td><td>  7</td><td>0</td><td>0</td><td>0</td><td> 0</td></tr>\n",
              "\t<tr><th scope=row>3</th><td>NBA</td><td>Steven Adams </td><td>OKL</td><td>C </td><td>80</td><td>2019</td><td>261</td><td>426</td><td> 0</td><td>  0</td><td>⋯</td><td>42</td><td>84</td><td>89</td><td>223</td><td>2</td><td>636</td><td>2</td><td>0</td><td>0</td><td>80</td></tr>\n",
              "\t<tr><th scope=row>4</th><td>NBA</td><td>Arron Afflalo</td><td>NYK</td><td>SG</td><td>71</td><td>2359</td><td>354</td><td>799</td><td>91</td><td>238</td><td>⋯</td><td>25</td><td>82</td><td>10</td><td>142</td><td>1</td><td>909</td><td>1</td><td>0</td><td>0</td><td>57</td></tr>\n",
              "\t<tr><th scope=row>5</th><td>NBA</td><td>Alexis Ajinca</td><td>NOR</td><td>C </td><td>59</td><td> 863</td><td>150</td><td>314</td><td> 0</td><td>  1</td><td>⋯</td><td>19</td><td>54</td><td>36</td><td>134</td><td>0</td><td>352</td><td>2</td><td>0</td><td>0</td><td>17</td></tr>\n",
              "\t<tr><th scope=row>6</th><td>NBA</td><td>Cole Aldrich </td><td>LAC</td><td>C </td><td>60</td><td> 802</td><td>134</td><td>225</td><td> 0</td><td>  0</td><td>⋯</td><td>47</td><td>64</td><td>68</td><td>139</td><td>1</td><td>328</td><td>0</td><td>0</td><td>0</td><td> 5</td></tr>\n",
              "</tbody>\n",
              "</table>\n"
            ]
          },
          "metadata": {
            "tags": []
          }
        }
      ]
    },
    {
      "cell_type": "code",
      "metadata": {
        "id": "gJcm67RYkHnN",
        "outputId": "25c05c76-0cfc-4503-b863-0579b27b319c",
        "colab": {
          "base_uri": "https://localhost:8080/",
          "height": 51
        }
      },
      "source": [
        "head(NBA1516$Name,n=20)"
      ],
      "execution_count": 39,
      "outputs": [
        {
          "output_type": "display_data",
          "data": {
            "text/plain": [
              " [1] \"Quincy Acy\"       \"Jordan Adams\"     \"Steven Adams\"     \"Arron Afflalo\"   \n",
              " [5] \"Alexis Ajinca\"    \"Cole Aldrich\"     \"Lamarcu Aldridge\" \"Cliff Alexander\" \n",
              " [9] \"Lavoy Allen\"      \"Tony Allen\"       \"Al-farouq Aminu\"  \"Lou Amundson\"    \n",
              "[13] \"Chris Andersen\"   \"Alan Anderson\"    \"James Anderson\"   \"Justin Anderson\" \n",
              "[17] \"Kyle Anderson\"    \"Ryan Anderson\"    \"Gi Antetokounmpo\" \"Th Antetokounmpo\""
            ],
            "text/latex": "\\begin{enumerate*}\n\\item 'Quincy Acy'\n\\item 'Jordan Adams'\n\\item 'Steven Adams'\n\\item 'Arron Afflalo'\n\\item 'Alexis Ajinca'\n\\item 'Cole Aldrich'\n\\item 'Lamarcu Aldridge'\n\\item 'Cliff Alexander'\n\\item 'Lavoy Allen'\n\\item 'Tony Allen'\n\\item 'Al-farouq Aminu'\n\\item 'Lou Amundson'\n\\item 'Chris Andersen'\n\\item 'Alan Anderson'\n\\item 'James Anderson'\n\\item 'Justin Anderson'\n\\item 'Kyle Anderson'\n\\item 'Ryan Anderson'\n\\item 'Gi Antetokounmpo'\n\\item 'Th Antetokounmpo'\n\\end{enumerate*}\n",
            "text/markdown": "1. 'Quincy Acy'\n2. 'Jordan Adams'\n3. 'Steven Adams'\n4. 'Arron Afflalo'\n5. 'Alexis Ajinca'\n6. 'Cole Aldrich'\n7. 'Lamarcu Aldridge'\n8. 'Cliff Alexander'\n9. 'Lavoy Allen'\n10. 'Tony Allen'\n11. 'Al-farouq Aminu'\n12. 'Lou Amundson'\n13. 'Chris Andersen'\n14. 'Alan Anderson'\n15. 'James Anderson'\n16. 'Justin Anderson'\n17. 'Kyle Anderson'\n18. 'Ryan Anderson'\n19. 'Gi Antetokounmpo'\n20. 'Th Antetokounmpo'\n\n\n",
            "text/html": [
              "<style>\n",
              ".list-inline {list-style: none; margin:0; padding: 0}\n",
              ".list-inline>li {display: inline-block}\n",
              ".list-inline>li:not(:last-child)::after {content: \"\\00b7\"; padding: 0 .5ex}\n",
              "</style>\n",
              "<ol class=list-inline><li>'Quincy Acy'</li><li>'Jordan Adams'</li><li>'Steven Adams'</li><li>'Arron Afflalo'</li><li>'Alexis Ajinca'</li><li>'Cole Aldrich'</li><li>'Lamarcu Aldridge'</li><li>'Cliff Alexander'</li><li>'Lavoy Allen'</li><li>'Tony Allen'</li><li>'Al-farouq Aminu'</li><li>'Lou Amundson'</li><li>'Chris Andersen'</li><li>'Alan Anderson'</li><li>'James Anderson'</li><li>'Justin Anderson'</li><li>'Kyle Anderson'</li><li>'Ryan Anderson'</li><li>'Gi Antetokounmpo'</li><li>'Th Antetokounmpo'</li></ol>\n"
            ]
          },
          "metadata": {
            "tags": []
          }
        }
      ]
    },
    {
      "cell_type": "code",
      "metadata": {
        "id": "SjgAx43BkSCb",
        "outputId": "27489bf1-8251-4263-b0c6-710744fd04f9",
        "colab": {
          "base_uri": "https://localhost:8080/",
          "height": 51
        }
      },
      "source": [
        "tail(NBA1516$Name,n=20)"
      ],
      "execution_count": 40,
      "outputs": [
        {
          "output_type": "display_data",
          "data": {
            "text/plain": [
              " [1] \"C.j. Wilcox\"      \"Alan Williams\"    \"Deron Williams\"   \"Derrick Williams\"\n",
              " [5] \"Elliot Williams\"  \"Louis Williams\"   \"Marvin Williams\"  \"Mo Williams\"     \n",
              " [9] \"Justise Winslow\"  \"Jeff Withey\"      \"Christian Wood\"   \"Brandan Wright\"  \n",
              "[13] \"Delon Wright\"     \"Tony Wroten\"      \"James Young\"      \"Joseph Young\"    \n",
              "[17] \"Nick Young\"       \"Thaddeus Young\"   \"Cody Zeller\"      \"Tyler Zeller\"    "
            ],
            "text/latex": "\\begin{enumerate*}\n\\item 'C.j. Wilcox'\n\\item 'Alan Williams'\n\\item 'Deron Williams'\n\\item 'Derrick Williams'\n\\item 'Elliot Williams'\n\\item 'Louis Williams'\n\\item 'Marvin Williams'\n\\item 'Mo Williams'\n\\item 'Justise Winslow'\n\\item 'Jeff Withey'\n\\item 'Christian Wood'\n\\item 'Brandan Wright'\n\\item 'Delon Wright'\n\\item 'Tony Wroten'\n\\item 'James Young'\n\\item 'Joseph Young'\n\\item 'Nick Young'\n\\item 'Thaddeus Young'\n\\item 'Cody Zeller'\n\\item 'Tyler Zeller'\n\\end{enumerate*}\n",
            "text/markdown": "1. 'C.j. Wilcox'\n2. 'Alan Williams'\n3. 'Deron Williams'\n4. 'Derrick Williams'\n5. 'Elliot Williams'\n6. 'Louis Williams'\n7. 'Marvin Williams'\n8. 'Mo Williams'\n9. 'Justise Winslow'\n10. 'Jeff Withey'\n11. 'Christian Wood'\n12. 'Brandan Wright'\n13. 'Delon Wright'\n14. 'Tony Wroten'\n15. 'James Young'\n16. 'Joseph Young'\n17. 'Nick Young'\n18. 'Thaddeus Young'\n19. 'Cody Zeller'\n20. 'Tyler Zeller'\n\n\n",
            "text/html": [
              "<style>\n",
              ".list-inline {list-style: none; margin:0; padding: 0}\n",
              ".list-inline>li {display: inline-block}\n",
              ".list-inline>li:not(:last-child)::after {content: \"\\00b7\"; padding: 0 .5ex}\n",
              "</style>\n",
              "<ol class=list-inline><li>'C.j. Wilcox'</li><li>'Alan Williams'</li><li>'Deron Williams'</li><li>'Derrick Williams'</li><li>'Elliot Williams'</li><li>'Louis Williams'</li><li>'Marvin Williams'</li><li>'Mo Williams'</li><li>'Justise Winslow'</li><li>'Jeff Withey'</li><li>'Christian Wood'</li><li>'Brandan Wright'</li><li>'Delon Wright'</li><li>'Tony Wroten'</li><li>'James Young'</li><li>'Joseph Young'</li><li>'Nick Young'</li><li>'Thaddeus Young'</li><li>'Cody Zeller'</li><li>'Tyler Zeller'</li></ol>\n"
            ]
          },
          "metadata": {
            "tags": []
          }
        }
      ]
    },
    {
      "cell_type": "code",
      "metadata": {
        "id": "8DYn-8D4jpOC",
        "outputId": "7d6c87d0-d482-49ee-8d8f-edcc563ef5d6",
        "colab": {
          "base_uri": "https://localhost:8080/",
          "height": 634
        }
      },
      "source": [
        "NBA1516Order <- NBA1516[order(NBA1516$GamesPlayed,decreasing = T),]\n",
        "NBA1516Order[1:20,]"
      ],
      "execution_count": 44,
      "outputs": [
        {
          "output_type": "display_data",
          "data": {
            "text/plain": [
              "    League Name             Team Position GamesPlayed TotalMinutesPlayed\n",
              "11  NBA    Al-farouq Aminu  POR  SF       82          2342              \n",
              "37  NBA    Will Barton      DEN  SG       82          2355              \n",
              "48  NBA    Bismack Biyombo  TOR  PF       82          1810              \n",
              "62  NBA    Corey Brewer     HOU  SG       82          1670              \n",
              "118 NBA    Gorgui Dieng     MIN  C        82          2222              \n",
              "148 NBA    Langsto Galloway NYK  PG       82          2032              \n",
              "178 NBA    James Harden     HOU  SG       82          3121              \n",
              "208 NBA    Al Horford       ATL  PF       82          2638              \n",
              "246 NBA    Enes Kanter      OKL  C        82          1721              \n",
              "259 NBA    Zach Lavine      MIN  PG       82          2295              \n",
              "272 NBA    Robin Lopez      NYK  C        82          2213              \n",
              "320 NBA    Shabazz Muhammad MIN  SF       82          1678              \n",
              "357 NBA    Mason Plumlee    POR  PF       82          2087              \n",
              "394 NBA    Ramon Sessions   WAS  PG       82          1667              \n",
              "422 NBA    Isaiah Thomas    BOS  PG       82          2647              \n",
              "427 NBA    Tristan Thompson CLE  C        82          2269              \n",
              "431 NBA    Karl-antho Towns MIN  C        82          2621              \n",
              "432 NBA    P.j. Tucker      PHO  SF       82          2540              \n",
              "24  NBA    Trevor Ariza     HOU  SF       81          2860              \n",
              "41  NBA    Aron Baynes      DET  PF       81          1241              \n",
              "    FieldGoalsMade FieldGoalsAttempted ThreesMade ThreesAttempted ⋯ Steals\n",
              "11  299             719                126        349             ⋯  72   \n",
              "37  426             984                112        324             ⋯  71   \n",
              "48  156             288                  0          1             ⋯  19   \n",
              "62  212             552                 61        225             ⋯  84   \n",
              "118 308             578                  6         20             ⋯  94   \n",
              "148 231             588                 77        224             ⋯  77   \n",
              "178 710            1617                236        656             ⋯ 138   \n",
              "208 529            1049                 88        257             ⋯  67   \n",
              "246 415             720                 10         21             ⋯  26   \n",
              "259 433             960                123        316             ⋯  69   \n",
              "272 357             662                  0          1             ⋯  16   \n",
              "320 317             681                 44        152             ⋯  24   \n",
              "357 267             517                  0          4             ⋯  68   \n",
              "394 280             592                 36        111             ⋯  47   \n",
              "422 591            1382                167        465             ⋯  91   \n",
              "427 247             420                  0          0             ⋯  38   \n",
              "431 625            1152                 30         88             ⋯  58   \n",
              "432 239             582                 68        206             ⋯ 106   \n",
              "24  357             858                185        497             ⋯ 161   \n",
              "41  194             384                  0          2             ⋯  21   \n",
              "    Turnovers Blocks PersonalFouls Disqualifications TotalPoints Technicals\n",
              "11  120        53    171           0                  839        3         \n",
              "37  139        39    147           0                 1180        2         \n",
              "48   71       133    225           2                  454        3         \n",
              "62   78        19    168           1                  590        0         \n",
              "118 140        96    219           0                  827        1         \n",
              "148  61        22    177           2                  625        0         \n",
              "178 374        51    229           1                 2376        2         \n",
              "208 107       122    163           0                 1249        1         \n",
              "246 115        33    166           1                 1040        2         \n",
              "259 155        17    193           1                 1150        0         \n",
              "272 133       129    182           2                  842        3         \n",
              "320  70         7     94           0                  863        0         \n",
              "357 154        82    253           4                  749        1         \n",
              "394 115         5    102           0                  810        0         \n",
              "422 220         9    167           1                 1823        9         \n",
              "427  61        51    202           0                  643        1         \n",
              "431 183       138    245           1                 1503        2         \n",
              "432 111        20    202           3                  652        4         \n",
              "24  113        26    177           0                 1025        2         \n",
              "41   67        52    151           0                  514        0         \n",
              "    Ejections FlagrantFouls GamesStarted\n",
              "11  0         0             82          \n",
              "37  0         0              1          \n",
              "48  0         0             22          \n",
              "62  0         0             12          \n",
              "118 0         0             39          \n",
              "148 0         0              7          \n",
              "178 0         0             82          \n",
              "208 0         0             82          \n",
              "246 0         0              1          \n",
              "259 0         0             33          \n",
              "272 0         0             82          \n",
              "320 0         0              0          \n",
              "357 0         0             82          \n",
              "394 0         0              5          \n",
              "422 0         0             79          \n",
              "427 0         0             34          \n",
              "431 0         0             82          \n",
              "432 0         0             80          \n",
              "24  0         0             81          \n",
              "41  0         0              1          "
            ],
            "text/latex": "A data.frame: 20 × 25\n\\begin{tabular}{r|lllllllllllllllllllll}\n  & League & Name & Team & Position & GamesPlayed & TotalMinutesPlayed & FieldGoalsMade & FieldGoalsAttempted & ThreesMade & ThreesAttempted & ⋯ & Steals & Turnovers & Blocks & PersonalFouls & Disqualifications & TotalPoints & Technicals & Ejections & FlagrantFouls & GamesStarted\\\\\n  & <fct> & <chr> & <fct> & <fct> & <int> & <int> & <int> & <int> & <int> & <int> & ⋯ & <int> & <int> & <int> & <int> & <int> & <int> & <int> & <int> & <int> & <int>\\\\\n\\hline\n\t11 & NBA & Al-farouq Aminu  & POR & SF & 82 & 2342 & 299 &  719 & 126 & 349 & ⋯ &  72 & 120 &  53 & 171 & 0 &  839 & 3 & 0 & 0 & 82\\\\\n\t37 & NBA & Will Barton      & DEN & SG & 82 & 2355 & 426 &  984 & 112 & 324 & ⋯ &  71 & 139 &  39 & 147 & 0 & 1180 & 2 & 0 & 0 &  1\\\\\n\t48 & NBA & Bismack Biyombo  & TOR & PF & 82 & 1810 & 156 &  288 &   0 &   1 & ⋯ &  19 &  71 & 133 & 225 & 2 &  454 & 3 & 0 & 0 & 22\\\\\n\t62 & NBA & Corey Brewer     & HOU & SG & 82 & 1670 & 212 &  552 &  61 & 225 & ⋯ &  84 &  78 &  19 & 168 & 1 &  590 & 0 & 0 & 0 & 12\\\\\n\t118 & NBA & Gorgui Dieng     & MIN & C  & 82 & 2222 & 308 &  578 &   6 &  20 & ⋯ &  94 & 140 &  96 & 219 & 0 &  827 & 1 & 0 & 0 & 39\\\\\n\t148 & NBA & Langsto Galloway & NYK & PG & 82 & 2032 & 231 &  588 &  77 & 224 & ⋯ &  77 &  61 &  22 & 177 & 2 &  625 & 0 & 0 & 0 &  7\\\\\n\t178 & NBA & James Harden     & HOU & SG & 82 & 3121 & 710 & 1617 & 236 & 656 & ⋯ & 138 & 374 &  51 & 229 & 1 & 2376 & 2 & 0 & 0 & 82\\\\\n\t208 & NBA & Al Horford       & ATL & PF & 82 & 2638 & 529 & 1049 &  88 & 257 & ⋯ &  67 & 107 & 122 & 163 & 0 & 1249 & 1 & 0 & 0 & 82\\\\\n\t246 & NBA & Enes Kanter      & OKL & C  & 82 & 1721 & 415 &  720 &  10 &  21 & ⋯ &  26 & 115 &  33 & 166 & 1 & 1040 & 2 & 0 & 0 &  1\\\\\n\t259 & NBA & Zach Lavine      & MIN & PG & 82 & 2295 & 433 &  960 & 123 & 316 & ⋯ &  69 & 155 &  17 & 193 & 1 & 1150 & 0 & 0 & 0 & 33\\\\\n\t272 & NBA & Robin Lopez      & NYK & C  & 82 & 2213 & 357 &  662 &   0 &   1 & ⋯ &  16 & 133 & 129 & 182 & 2 &  842 & 3 & 0 & 0 & 82\\\\\n\t320 & NBA & Shabazz Muhammad & MIN & SF & 82 & 1678 & 317 &  681 &  44 & 152 & ⋯ &  24 &  70 &   7 &  94 & 0 &  863 & 0 & 0 & 0 &  0\\\\\n\t357 & NBA & Mason Plumlee    & POR & PF & 82 & 2087 & 267 &  517 &   0 &   4 & ⋯ &  68 & 154 &  82 & 253 & 4 &  749 & 1 & 0 & 0 & 82\\\\\n\t394 & NBA & Ramon Sessions   & WAS & PG & 82 & 1667 & 280 &  592 &  36 & 111 & ⋯ &  47 & 115 &   5 & 102 & 0 &  810 & 0 & 0 & 0 &  5\\\\\n\t422 & NBA & Isaiah Thomas    & BOS & PG & 82 & 2647 & 591 & 1382 & 167 & 465 & ⋯ &  91 & 220 &   9 & 167 & 1 & 1823 & 9 & 0 & 0 & 79\\\\\n\t427 & NBA & Tristan Thompson & CLE & C  & 82 & 2269 & 247 &  420 &   0 &   0 & ⋯ &  38 &  61 &  51 & 202 & 0 &  643 & 1 & 0 & 0 & 34\\\\\n\t431 & NBA & Karl-antho Towns & MIN & C  & 82 & 2621 & 625 & 1152 &  30 &  88 & ⋯ &  58 & 183 & 138 & 245 & 1 & 1503 & 2 & 0 & 0 & 82\\\\\n\t432 & NBA & P.j. Tucker      & PHO & SF & 82 & 2540 & 239 &  582 &  68 & 206 & ⋯ & 106 & 111 &  20 & 202 & 3 &  652 & 4 & 0 & 0 & 80\\\\\n\t24 & NBA & Trevor Ariza     & HOU & SF & 81 & 2860 & 357 &  858 & 185 & 497 & ⋯ & 161 & 113 &  26 & 177 & 0 & 1025 & 2 & 0 & 0 & 81\\\\\n\t41 & NBA & Aron Baynes      & DET & PF & 81 & 1241 & 194 &  384 &   0 &   2 & ⋯ &  21 &  67 &  52 & 151 & 0 &  514 & 0 & 0 & 0 &  1\\\\\n\\end{tabular}\n",
            "text/markdown": "\nA data.frame: 20 × 25\n\n| <!--/--> | League &lt;fct&gt; | Name &lt;chr&gt; | Team &lt;fct&gt; | Position &lt;fct&gt; | GamesPlayed &lt;int&gt; | TotalMinutesPlayed &lt;int&gt; | FieldGoalsMade &lt;int&gt; | FieldGoalsAttempted &lt;int&gt; | ThreesMade &lt;int&gt; | ThreesAttempted &lt;int&gt; | ⋯ ⋯ | Steals &lt;int&gt; | Turnovers &lt;int&gt; | Blocks &lt;int&gt; | PersonalFouls &lt;int&gt; | Disqualifications &lt;int&gt; | TotalPoints &lt;int&gt; | Technicals &lt;int&gt; | Ejections &lt;int&gt; | FlagrantFouls &lt;int&gt; | GamesStarted &lt;int&gt; |\n|---|---|---|---|---|---|---|---|---|---|---|---|---|---|---|---|---|---|---|---|---|---|\n| 11 | NBA | Al-farouq Aminu  | POR | SF | 82 | 2342 | 299 |  719 | 126 | 349 | ⋯ |  72 | 120 |  53 | 171 | 0 |  839 | 3 | 0 | 0 | 82 |\n| 37 | NBA | Will Barton      | DEN | SG | 82 | 2355 | 426 |  984 | 112 | 324 | ⋯ |  71 | 139 |  39 | 147 | 0 | 1180 | 2 | 0 | 0 |  1 |\n| 48 | NBA | Bismack Biyombo  | TOR | PF | 82 | 1810 | 156 |  288 |   0 |   1 | ⋯ |  19 |  71 | 133 | 225 | 2 |  454 | 3 | 0 | 0 | 22 |\n| 62 | NBA | Corey Brewer     | HOU | SG | 82 | 1670 | 212 |  552 |  61 | 225 | ⋯ |  84 |  78 |  19 | 168 | 1 |  590 | 0 | 0 | 0 | 12 |\n| 118 | NBA | Gorgui Dieng     | MIN | C  | 82 | 2222 | 308 |  578 |   6 |  20 | ⋯ |  94 | 140 |  96 | 219 | 0 |  827 | 1 | 0 | 0 | 39 |\n| 148 | NBA | Langsto Galloway | NYK | PG | 82 | 2032 | 231 |  588 |  77 | 224 | ⋯ |  77 |  61 |  22 | 177 | 2 |  625 | 0 | 0 | 0 |  7 |\n| 178 | NBA | James Harden     | HOU | SG | 82 | 3121 | 710 | 1617 | 236 | 656 | ⋯ | 138 | 374 |  51 | 229 | 1 | 2376 | 2 | 0 | 0 | 82 |\n| 208 | NBA | Al Horford       | ATL | PF | 82 | 2638 | 529 | 1049 |  88 | 257 | ⋯ |  67 | 107 | 122 | 163 | 0 | 1249 | 1 | 0 | 0 | 82 |\n| 246 | NBA | Enes Kanter      | OKL | C  | 82 | 1721 | 415 |  720 |  10 |  21 | ⋯ |  26 | 115 |  33 | 166 | 1 | 1040 | 2 | 0 | 0 |  1 |\n| 259 | NBA | Zach Lavine      | MIN | PG | 82 | 2295 | 433 |  960 | 123 | 316 | ⋯ |  69 | 155 |  17 | 193 | 1 | 1150 | 0 | 0 | 0 | 33 |\n| 272 | NBA | Robin Lopez      | NYK | C  | 82 | 2213 | 357 |  662 |   0 |   1 | ⋯ |  16 | 133 | 129 | 182 | 2 |  842 | 3 | 0 | 0 | 82 |\n| 320 | NBA | Shabazz Muhammad | MIN | SF | 82 | 1678 | 317 |  681 |  44 | 152 | ⋯ |  24 |  70 |   7 |  94 | 0 |  863 | 0 | 0 | 0 |  0 |\n| 357 | NBA | Mason Plumlee    | POR | PF | 82 | 2087 | 267 |  517 |   0 |   4 | ⋯ |  68 | 154 |  82 | 253 | 4 |  749 | 1 | 0 | 0 | 82 |\n| 394 | NBA | Ramon Sessions   | WAS | PG | 82 | 1667 | 280 |  592 |  36 | 111 | ⋯ |  47 | 115 |   5 | 102 | 0 |  810 | 0 | 0 | 0 |  5 |\n| 422 | NBA | Isaiah Thomas    | BOS | PG | 82 | 2647 | 591 | 1382 | 167 | 465 | ⋯ |  91 | 220 |   9 | 167 | 1 | 1823 | 9 | 0 | 0 | 79 |\n| 427 | NBA | Tristan Thompson | CLE | C  | 82 | 2269 | 247 |  420 |   0 |   0 | ⋯ |  38 |  61 |  51 | 202 | 0 |  643 | 1 | 0 | 0 | 34 |\n| 431 | NBA | Karl-antho Towns | MIN | C  | 82 | 2621 | 625 | 1152 |  30 |  88 | ⋯ |  58 | 183 | 138 | 245 | 1 | 1503 | 2 | 0 | 0 | 82 |\n| 432 | NBA | P.j. Tucker      | PHO | SF | 82 | 2540 | 239 |  582 |  68 | 206 | ⋯ | 106 | 111 |  20 | 202 | 3 |  652 | 4 | 0 | 0 | 80 |\n| 24 | NBA | Trevor Ariza     | HOU | SF | 81 | 2860 | 357 |  858 | 185 | 497 | ⋯ | 161 | 113 |  26 | 177 | 0 | 1025 | 2 | 0 | 0 | 81 |\n| 41 | NBA | Aron Baynes      | DET | PF | 81 | 1241 | 194 |  384 |   0 |   2 | ⋯ |  21 |  67 |  52 | 151 | 0 |  514 | 0 | 0 | 0 |  1 |\n\n",
            "text/html": [
              "<table>\n",
              "<caption>A data.frame: 20 × 25</caption>\n",
              "<thead>\n",
              "\t<tr><th></th><th scope=col>League</th><th scope=col>Name</th><th scope=col>Team</th><th scope=col>Position</th><th scope=col>GamesPlayed</th><th scope=col>TotalMinutesPlayed</th><th scope=col>FieldGoalsMade</th><th scope=col>FieldGoalsAttempted</th><th scope=col>ThreesMade</th><th scope=col>ThreesAttempted</th><th scope=col>⋯</th><th scope=col>Steals</th><th scope=col>Turnovers</th><th scope=col>Blocks</th><th scope=col>PersonalFouls</th><th scope=col>Disqualifications</th><th scope=col>TotalPoints</th><th scope=col>Technicals</th><th scope=col>Ejections</th><th scope=col>FlagrantFouls</th><th scope=col>GamesStarted</th></tr>\n",
              "\t<tr><th></th><th scope=col>&lt;fct&gt;</th><th scope=col>&lt;chr&gt;</th><th scope=col>&lt;fct&gt;</th><th scope=col>&lt;fct&gt;</th><th scope=col>&lt;int&gt;</th><th scope=col>&lt;int&gt;</th><th scope=col>&lt;int&gt;</th><th scope=col>&lt;int&gt;</th><th scope=col>&lt;int&gt;</th><th scope=col>&lt;int&gt;</th><th scope=col>⋯</th><th scope=col>&lt;int&gt;</th><th scope=col>&lt;int&gt;</th><th scope=col>&lt;int&gt;</th><th scope=col>&lt;int&gt;</th><th scope=col>&lt;int&gt;</th><th scope=col>&lt;int&gt;</th><th scope=col>&lt;int&gt;</th><th scope=col>&lt;int&gt;</th><th scope=col>&lt;int&gt;</th><th scope=col>&lt;int&gt;</th></tr>\n",
              "</thead>\n",
              "<tbody>\n",
              "\t<tr><th scope=row>11</th><td>NBA</td><td>Al-farouq Aminu </td><td>POR</td><td>SF</td><td>82</td><td>2342</td><td>299</td><td> 719</td><td>126</td><td>349</td><td>⋯</td><td> 72</td><td>120</td><td> 53</td><td>171</td><td>0</td><td> 839</td><td>3</td><td>0</td><td>0</td><td>82</td></tr>\n",
              "\t<tr><th scope=row>37</th><td>NBA</td><td>Will Barton     </td><td>DEN</td><td>SG</td><td>82</td><td>2355</td><td>426</td><td> 984</td><td>112</td><td>324</td><td>⋯</td><td> 71</td><td>139</td><td> 39</td><td>147</td><td>0</td><td>1180</td><td>2</td><td>0</td><td>0</td><td> 1</td></tr>\n",
              "\t<tr><th scope=row>48</th><td>NBA</td><td>Bismack Biyombo </td><td>TOR</td><td>PF</td><td>82</td><td>1810</td><td>156</td><td> 288</td><td>  0</td><td>  1</td><td>⋯</td><td> 19</td><td> 71</td><td>133</td><td>225</td><td>2</td><td> 454</td><td>3</td><td>0</td><td>0</td><td>22</td></tr>\n",
              "\t<tr><th scope=row>62</th><td>NBA</td><td>Corey Brewer    </td><td>HOU</td><td>SG</td><td>82</td><td>1670</td><td>212</td><td> 552</td><td> 61</td><td>225</td><td>⋯</td><td> 84</td><td> 78</td><td> 19</td><td>168</td><td>1</td><td> 590</td><td>0</td><td>0</td><td>0</td><td>12</td></tr>\n",
              "\t<tr><th scope=row>118</th><td>NBA</td><td>Gorgui Dieng    </td><td>MIN</td><td>C </td><td>82</td><td>2222</td><td>308</td><td> 578</td><td>  6</td><td> 20</td><td>⋯</td><td> 94</td><td>140</td><td> 96</td><td>219</td><td>0</td><td> 827</td><td>1</td><td>0</td><td>0</td><td>39</td></tr>\n",
              "\t<tr><th scope=row>148</th><td>NBA</td><td>Langsto Galloway</td><td>NYK</td><td>PG</td><td>82</td><td>2032</td><td>231</td><td> 588</td><td> 77</td><td>224</td><td>⋯</td><td> 77</td><td> 61</td><td> 22</td><td>177</td><td>2</td><td> 625</td><td>0</td><td>0</td><td>0</td><td> 7</td></tr>\n",
              "\t<tr><th scope=row>178</th><td>NBA</td><td>James Harden    </td><td>HOU</td><td>SG</td><td>82</td><td>3121</td><td>710</td><td>1617</td><td>236</td><td>656</td><td>⋯</td><td>138</td><td>374</td><td> 51</td><td>229</td><td>1</td><td>2376</td><td>2</td><td>0</td><td>0</td><td>82</td></tr>\n",
              "\t<tr><th scope=row>208</th><td>NBA</td><td>Al Horford      </td><td>ATL</td><td>PF</td><td>82</td><td>2638</td><td>529</td><td>1049</td><td> 88</td><td>257</td><td>⋯</td><td> 67</td><td>107</td><td>122</td><td>163</td><td>0</td><td>1249</td><td>1</td><td>0</td><td>0</td><td>82</td></tr>\n",
              "\t<tr><th scope=row>246</th><td>NBA</td><td>Enes Kanter     </td><td>OKL</td><td>C </td><td>82</td><td>1721</td><td>415</td><td> 720</td><td> 10</td><td> 21</td><td>⋯</td><td> 26</td><td>115</td><td> 33</td><td>166</td><td>1</td><td>1040</td><td>2</td><td>0</td><td>0</td><td> 1</td></tr>\n",
              "\t<tr><th scope=row>259</th><td>NBA</td><td>Zach Lavine     </td><td>MIN</td><td>PG</td><td>82</td><td>2295</td><td>433</td><td> 960</td><td>123</td><td>316</td><td>⋯</td><td> 69</td><td>155</td><td> 17</td><td>193</td><td>1</td><td>1150</td><td>0</td><td>0</td><td>0</td><td>33</td></tr>\n",
              "\t<tr><th scope=row>272</th><td>NBA</td><td>Robin Lopez     </td><td>NYK</td><td>C </td><td>82</td><td>2213</td><td>357</td><td> 662</td><td>  0</td><td>  1</td><td>⋯</td><td> 16</td><td>133</td><td>129</td><td>182</td><td>2</td><td> 842</td><td>3</td><td>0</td><td>0</td><td>82</td></tr>\n",
              "\t<tr><th scope=row>320</th><td>NBA</td><td>Shabazz Muhammad</td><td>MIN</td><td>SF</td><td>82</td><td>1678</td><td>317</td><td> 681</td><td> 44</td><td>152</td><td>⋯</td><td> 24</td><td> 70</td><td>  7</td><td> 94</td><td>0</td><td> 863</td><td>0</td><td>0</td><td>0</td><td> 0</td></tr>\n",
              "\t<tr><th scope=row>357</th><td>NBA</td><td>Mason Plumlee   </td><td>POR</td><td>PF</td><td>82</td><td>2087</td><td>267</td><td> 517</td><td>  0</td><td>  4</td><td>⋯</td><td> 68</td><td>154</td><td> 82</td><td>253</td><td>4</td><td> 749</td><td>1</td><td>0</td><td>0</td><td>82</td></tr>\n",
              "\t<tr><th scope=row>394</th><td>NBA</td><td>Ramon Sessions  </td><td>WAS</td><td>PG</td><td>82</td><td>1667</td><td>280</td><td> 592</td><td> 36</td><td>111</td><td>⋯</td><td> 47</td><td>115</td><td>  5</td><td>102</td><td>0</td><td> 810</td><td>0</td><td>0</td><td>0</td><td> 5</td></tr>\n",
              "\t<tr><th scope=row>422</th><td>NBA</td><td>Isaiah Thomas   </td><td>BOS</td><td>PG</td><td>82</td><td>2647</td><td>591</td><td>1382</td><td>167</td><td>465</td><td>⋯</td><td> 91</td><td>220</td><td>  9</td><td>167</td><td>1</td><td>1823</td><td>9</td><td>0</td><td>0</td><td>79</td></tr>\n",
              "\t<tr><th scope=row>427</th><td>NBA</td><td>Tristan Thompson</td><td>CLE</td><td>C </td><td>82</td><td>2269</td><td>247</td><td> 420</td><td>  0</td><td>  0</td><td>⋯</td><td> 38</td><td> 61</td><td> 51</td><td>202</td><td>0</td><td> 643</td><td>1</td><td>0</td><td>0</td><td>34</td></tr>\n",
              "\t<tr><th scope=row>431</th><td>NBA</td><td>Karl-antho Towns</td><td>MIN</td><td>C </td><td>82</td><td>2621</td><td>625</td><td>1152</td><td> 30</td><td> 88</td><td>⋯</td><td> 58</td><td>183</td><td>138</td><td>245</td><td>1</td><td>1503</td><td>2</td><td>0</td><td>0</td><td>82</td></tr>\n",
              "\t<tr><th scope=row>432</th><td>NBA</td><td>P.j. Tucker     </td><td>PHO</td><td>SF</td><td>82</td><td>2540</td><td>239</td><td> 582</td><td> 68</td><td>206</td><td>⋯</td><td>106</td><td>111</td><td> 20</td><td>202</td><td>3</td><td> 652</td><td>4</td><td>0</td><td>0</td><td>80</td></tr>\n",
              "\t<tr><th scope=row>24</th><td>NBA</td><td>Trevor Ariza    </td><td>HOU</td><td>SF</td><td>81</td><td>2860</td><td>357</td><td> 858</td><td>185</td><td>497</td><td>⋯</td><td>161</td><td>113</td><td> 26</td><td>177</td><td>0</td><td>1025</td><td>2</td><td>0</td><td>0</td><td>81</td></tr>\n",
              "\t<tr><th scope=row>41</th><td>NBA</td><td>Aron Baynes     </td><td>DET</td><td>PF</td><td>81</td><td>1241</td><td>194</td><td> 384</td><td>  0</td><td>  2</td><td>⋯</td><td> 21</td><td> 67</td><td> 52</td><td>151</td><td>0</td><td> 514</td><td>0</td><td>0</td><td>0</td><td> 1</td></tr>\n",
              "</tbody>\n",
              "</table>\n"
            ]
          },
          "metadata": {
            "tags": []
          }
        }
      ]
    },
    {
      "cell_type": "code",
      "metadata": {
        "id": "BH7OMYERlLYA",
        "outputId": "dc00d57d-5a60-4e7d-a9e1-eda59c0a09e5",
        "colab": {
          "base_uri": "https://localhost:8080/",
          "height": 878
        }
      },
      "source": [
        "NBA1516Order <- NBA1516[order(NBA1516$GamesPlayed,decreasing = T),]\n",
        "NBA1516Order[1:30,]"
      ],
      "execution_count": 46,
      "outputs": [
        {
          "output_type": "display_data",
          "data": {
            "text/plain": [
              "    League Name             Team Position GamesPlayed TotalMinutesPlayed\n",
              "11  NBA    Al-farouq Aminu  POR  SF       82          2342              \n",
              "37  NBA    Will Barton      DEN  SG       82          2355              \n",
              "48  NBA    Bismack Biyombo  TOR  PF       82          1810              \n",
              "62  NBA    Corey Brewer     HOU  SG       82          1670              \n",
              "118 NBA    Gorgui Dieng     MIN  C        82          2222              \n",
              "148 NBA    Langsto Galloway NYK  PG       82          2032              \n",
              "178 NBA    James Harden     HOU  SG       82          3121              \n",
              "208 NBA    Al Horford       ATL  PF       82          2638              \n",
              "246 NBA    Enes Kanter      OKL  C        82          1721              \n",
              "259 NBA    Zach Lavine      MIN  PG       82          2295              \n",
              "272 NBA    Robin Lopez      NYK  C        82          2213              \n",
              "320 NBA    Shabazz Muhammad MIN  SF       82          1678              \n",
              "357 NBA    Mason Plumlee    POR  PF       82          2087              \n",
              "394 NBA    Ramon Sessions   WAS  PG       82          1667              \n",
              "422 NBA    Isaiah Thomas    BOS  PG       82          2647              \n",
              "427 NBA    Tristan Thompson CLE  C        82          2269              \n",
              "431 NBA    Karl-antho Towns MIN  C        82          2621              \n",
              "432 NBA    P.j. Tucker      PHO  SF       82          2540              \n",
              "24  NBA    Trevor Ariza     HOU  SF       81          2860              \n",
              "41  NBA    Aron Baynes      DET  PF       81          1241              \n",
              "100 NBA    Allen Crabbe     POR  SF       81          2111              \n",
              "109 NBA    Ed Davis         POR  PF       81          1684              \n",
              "122 NBA    Andre Drummond   DET  C        81          2664              \n",
              "123 NBA    Jared Dudley     WAS  SG       81          2098              \n",
              "131 NBA    Monta Ellis      IND  PG       81          2733              \n",
              "143 NBA    Randy Foye       OKC  SG       81          1640              \n",
              "154 NBA    Paul George      IND  SF       81          2828              \n",
              "167 NBA    Draymond Green   GSW  SF       81          2807              \n",
              "194 NBA    Roy Hibbert      LAL  C        81          1881              \n",
              "217 NBA    Joe Ingles       UTA  SF       81          1241              \n",
              "    FieldGoalsMade FieldGoalsAttempted ThreesMade ThreesAttempted ⋯ Steals\n",
              "11  299             719                126        349             ⋯  72   \n",
              "37  426             984                112        324             ⋯  71   \n",
              "48  156             288                  0          1             ⋯  19   \n",
              "62  212             552                 61        225             ⋯  84   \n",
              "118 308             578                  6         20             ⋯  94   \n",
              "148 231             588                 77        224             ⋯  77   \n",
              "178 710            1617                236        656             ⋯ 138   \n",
              "208 529            1049                 88        257             ⋯  67   \n",
              "246 415             720                 10         21             ⋯  26   \n",
              "259 433             960                123        316             ⋯  69   \n",
              "272 357             662                  0          1             ⋯  16   \n",
              "320 317             681                 44        152             ⋯  24   \n",
              "357 267             517                  0          4             ⋯  68   \n",
              "394 280             592                 36        111             ⋯  47   \n",
              "422 591            1382                167        465             ⋯  91   \n",
              "427 247             420                  0          0             ⋯  38   \n",
              "431 625            1152                 30         88             ⋯  58   \n",
              "432 239             582                 68        206             ⋯ 106   \n",
              "24  357             858                185        497             ⋯ 161   \n",
              "41  194             384                  0          2             ⋯  21   \n",
              "100 312             678                112        284             ⋯  63   \n",
              "109 206             337                  0          0             ⋯  57   \n",
              "122 552            1061                  2          6             ⋯ 119   \n",
              "123 233             487                100        239             ⋯  75   \n",
              "131 436            1021                 87        281             ⋯ 149   \n",
              "143 168             481                 75        250             ⋯  39   \n",
              "154 605            1448                210        565             ⋯ 152   \n",
              "167 401             819                100        258             ⋯ 118   \n",
              "194 182             411                  0          2             ⋯  32   \n",
              "217 124             291                 81        210             ⋯  55   \n",
              "    Turnovers Blocks PersonalFouls Disqualifications TotalPoints Technicals\n",
              "11  120        53    171           0                  839         3        \n",
              "37  139        39    147           0                 1180         2        \n",
              "48   71       133    225           2                  454         3        \n",
              "62   78        19    168           1                  590         0        \n",
              "118 140        96    219           0                  827         1        \n",
              "148  61        22    177           2                  625         0        \n",
              "178 374        51    229           1                 2376         2        \n",
              "208 107       122    163           0                 1249         1        \n",
              "246 115        33    166           1                 1040         2        \n",
              "259 155        17    193           1                 1150         0        \n",
              "272 133       129    182           2                  842         3        \n",
              "320  70         7     94           0                  863         0        \n",
              "357 154        82    253           4                  749         1        \n",
              "394 115         5    102           0                  810         0        \n",
              "422 220         9    167           1                 1823         9        \n",
              "427  61        51    202           0                  643         1        \n",
              "431 183       138    245           1                 1503         2        \n",
              "432 111        20    202           3                  652         4        \n",
              "24  113        26    177           0                 1025         2        \n",
              "41   67        52    151           0                  514         0        \n",
              "100  64        16    192           2                  834         0        \n",
              "109  64        72    202           2                  526         2        \n",
              "122 154       112    245           2                 1314         7        \n",
              "123  80        18    190           1                  638         1        \n",
              "131 203        38    174           0                 1121         1        \n",
              "143  86        29    131           0                  472         0        \n",
              "154 265        29    230           1                 1874         6        \n",
              "167 259       111    240           2                 1131        11        \n",
              "194  76       110    252           3                  481         2        \n",
              "217  65         4     98           0                  342         1        \n",
              "    Ejections FlagrantFouls GamesStarted\n",
              "11  0         0             82          \n",
              "37  0         0              1          \n",
              "48  0         0             22          \n",
              "62  0         0             12          \n",
              "118 0         0             39          \n",
              "148 0         0              7          \n",
              "178 0         0             82          \n",
              "208 0         0             82          \n",
              "246 0         0              1          \n",
              "259 0         0             33          \n",
              "272 0         0             82          \n",
              "320 0         0              0          \n",
              "357 0         0             82          \n",
              "394 0         0              5          \n",
              "422 0         0             79          \n",
              "427 0         0             34          \n",
              "431 0         0             82          \n",
              "432 0         0             80          \n",
              "24  0         0             81          \n",
              "41  0         0              1          \n",
              "100 0         0              8          \n",
              "109 0         0              0          \n",
              "122 0         0             81          \n",
              "123 0         0             41          \n",
              "131 0         0             81          \n",
              "143 0         0              8          \n",
              "154 0         0             81          \n",
              "167 0         0             81          \n",
              "194 0         0             81          \n",
              "217 0         0              2          "
            ],
            "text/latex": "A data.frame: 30 × 25\n\\begin{tabular}{r|lllllllllllllllllllll}\n  & League & Name & Team & Position & GamesPlayed & TotalMinutesPlayed & FieldGoalsMade & FieldGoalsAttempted & ThreesMade & ThreesAttempted & ⋯ & Steals & Turnovers & Blocks & PersonalFouls & Disqualifications & TotalPoints & Technicals & Ejections & FlagrantFouls & GamesStarted\\\\\n  & <fct> & <chr> & <fct> & <fct> & <int> & <int> & <int> & <int> & <int> & <int> & ⋯ & <int> & <int> & <int> & <int> & <int> & <int> & <int> & <int> & <int> & <int>\\\\\n\\hline\n\t11 & NBA & Al-farouq Aminu  & POR & SF & 82 & 2342 & 299 &  719 & 126 & 349 & ⋯ &  72 & 120 &  53 & 171 & 0 &  839 &  3 & 0 & 0 & 82\\\\\n\t37 & NBA & Will Barton      & DEN & SG & 82 & 2355 & 426 &  984 & 112 & 324 & ⋯ &  71 & 139 &  39 & 147 & 0 & 1180 &  2 & 0 & 0 &  1\\\\\n\t48 & NBA & Bismack Biyombo  & TOR & PF & 82 & 1810 & 156 &  288 &   0 &   1 & ⋯ &  19 &  71 & 133 & 225 & 2 &  454 &  3 & 0 & 0 & 22\\\\\n\t62 & NBA & Corey Brewer     & HOU & SG & 82 & 1670 & 212 &  552 &  61 & 225 & ⋯ &  84 &  78 &  19 & 168 & 1 &  590 &  0 & 0 & 0 & 12\\\\\n\t118 & NBA & Gorgui Dieng     & MIN & C  & 82 & 2222 & 308 &  578 &   6 &  20 & ⋯ &  94 & 140 &  96 & 219 & 0 &  827 &  1 & 0 & 0 & 39\\\\\n\t148 & NBA & Langsto Galloway & NYK & PG & 82 & 2032 & 231 &  588 &  77 & 224 & ⋯ &  77 &  61 &  22 & 177 & 2 &  625 &  0 & 0 & 0 &  7\\\\\n\t178 & NBA & James Harden     & HOU & SG & 82 & 3121 & 710 & 1617 & 236 & 656 & ⋯ & 138 & 374 &  51 & 229 & 1 & 2376 &  2 & 0 & 0 & 82\\\\\n\t208 & NBA & Al Horford       & ATL & PF & 82 & 2638 & 529 & 1049 &  88 & 257 & ⋯ &  67 & 107 & 122 & 163 & 0 & 1249 &  1 & 0 & 0 & 82\\\\\n\t246 & NBA & Enes Kanter      & OKL & C  & 82 & 1721 & 415 &  720 &  10 &  21 & ⋯ &  26 & 115 &  33 & 166 & 1 & 1040 &  2 & 0 & 0 &  1\\\\\n\t259 & NBA & Zach Lavine      & MIN & PG & 82 & 2295 & 433 &  960 & 123 & 316 & ⋯ &  69 & 155 &  17 & 193 & 1 & 1150 &  0 & 0 & 0 & 33\\\\\n\t272 & NBA & Robin Lopez      & NYK & C  & 82 & 2213 & 357 &  662 &   0 &   1 & ⋯ &  16 & 133 & 129 & 182 & 2 &  842 &  3 & 0 & 0 & 82\\\\\n\t320 & NBA & Shabazz Muhammad & MIN & SF & 82 & 1678 & 317 &  681 &  44 & 152 & ⋯ &  24 &  70 &   7 &  94 & 0 &  863 &  0 & 0 & 0 &  0\\\\\n\t357 & NBA & Mason Plumlee    & POR & PF & 82 & 2087 & 267 &  517 &   0 &   4 & ⋯ &  68 & 154 &  82 & 253 & 4 &  749 &  1 & 0 & 0 & 82\\\\\n\t394 & NBA & Ramon Sessions   & WAS & PG & 82 & 1667 & 280 &  592 &  36 & 111 & ⋯ &  47 & 115 &   5 & 102 & 0 &  810 &  0 & 0 & 0 &  5\\\\\n\t422 & NBA & Isaiah Thomas    & BOS & PG & 82 & 2647 & 591 & 1382 & 167 & 465 & ⋯ &  91 & 220 &   9 & 167 & 1 & 1823 &  9 & 0 & 0 & 79\\\\\n\t427 & NBA & Tristan Thompson & CLE & C  & 82 & 2269 & 247 &  420 &   0 &   0 & ⋯ &  38 &  61 &  51 & 202 & 0 &  643 &  1 & 0 & 0 & 34\\\\\n\t431 & NBA & Karl-antho Towns & MIN & C  & 82 & 2621 & 625 & 1152 &  30 &  88 & ⋯ &  58 & 183 & 138 & 245 & 1 & 1503 &  2 & 0 & 0 & 82\\\\\n\t432 & NBA & P.j. Tucker      & PHO & SF & 82 & 2540 & 239 &  582 &  68 & 206 & ⋯ & 106 & 111 &  20 & 202 & 3 &  652 &  4 & 0 & 0 & 80\\\\\n\t24 & NBA & Trevor Ariza     & HOU & SF & 81 & 2860 & 357 &  858 & 185 & 497 & ⋯ & 161 & 113 &  26 & 177 & 0 & 1025 &  2 & 0 & 0 & 81\\\\\n\t41 & NBA & Aron Baynes      & DET & PF & 81 & 1241 & 194 &  384 &   0 &   2 & ⋯ &  21 &  67 &  52 & 151 & 0 &  514 &  0 & 0 & 0 &  1\\\\\n\t100 & NBA & Allen Crabbe     & POR & SF & 81 & 2111 & 312 &  678 & 112 & 284 & ⋯ &  63 &  64 &  16 & 192 & 2 &  834 &  0 & 0 & 0 &  8\\\\\n\t109 & NBA & Ed Davis         & POR & PF & 81 & 1684 & 206 &  337 &   0 &   0 & ⋯ &  57 &  64 &  72 & 202 & 2 &  526 &  2 & 0 & 0 &  0\\\\\n\t122 & NBA & Andre Drummond   & DET & C  & 81 & 2664 & 552 & 1061 &   2 &   6 & ⋯ & 119 & 154 & 112 & 245 & 2 & 1314 &  7 & 0 & 0 & 81\\\\\n\t123 & NBA & Jared Dudley     & WAS & SG & 81 & 2098 & 233 &  487 & 100 & 239 & ⋯ &  75 &  80 &  18 & 190 & 1 &  638 &  1 & 0 & 0 & 41\\\\\n\t131 & NBA & Monta Ellis      & IND & PG & 81 & 2733 & 436 & 1021 &  87 & 281 & ⋯ & 149 & 203 &  38 & 174 & 0 & 1121 &  1 & 0 & 0 & 81\\\\\n\t143 & NBA & Randy Foye       & OKC & SG & 81 & 1640 & 168 &  481 &  75 & 250 & ⋯ &  39 &  86 &  29 & 131 & 0 &  472 &  0 & 0 & 0 &  8\\\\\n\t154 & NBA & Paul George      & IND & SF & 81 & 2828 & 605 & 1448 & 210 & 565 & ⋯ & 152 & 265 &  29 & 230 & 1 & 1874 &  6 & 0 & 0 & 81\\\\\n\t167 & NBA & Draymond Green   & GSW & SF & 81 & 2807 & 401 &  819 & 100 & 258 & ⋯ & 118 & 259 & 111 & 240 & 2 & 1131 & 11 & 0 & 0 & 81\\\\\n\t194 & NBA & Roy Hibbert      & LAL & C  & 81 & 1881 & 182 &  411 &   0 &   2 & ⋯ &  32 &  76 & 110 & 252 & 3 &  481 &  2 & 0 & 0 & 81\\\\\n\t217 & NBA & Joe Ingles       & UTA & SF & 81 & 1241 & 124 &  291 &  81 & 210 & ⋯ &  55 &  65 &   4 &  98 & 0 &  342 &  1 & 0 & 0 &  2\\\\\n\\end{tabular}\n",
            "text/markdown": "\nA data.frame: 30 × 25\n\n| <!--/--> | League &lt;fct&gt; | Name &lt;chr&gt; | Team &lt;fct&gt; | Position &lt;fct&gt; | GamesPlayed &lt;int&gt; | TotalMinutesPlayed &lt;int&gt; | FieldGoalsMade &lt;int&gt; | FieldGoalsAttempted &lt;int&gt; | ThreesMade &lt;int&gt; | ThreesAttempted &lt;int&gt; | ⋯ ⋯ | Steals &lt;int&gt; | Turnovers &lt;int&gt; | Blocks &lt;int&gt; | PersonalFouls &lt;int&gt; | Disqualifications &lt;int&gt; | TotalPoints &lt;int&gt; | Technicals &lt;int&gt; | Ejections &lt;int&gt; | FlagrantFouls &lt;int&gt; | GamesStarted &lt;int&gt; |\n|---|---|---|---|---|---|---|---|---|---|---|---|---|---|---|---|---|---|---|---|---|---|\n| 11 | NBA | Al-farouq Aminu  | POR | SF | 82 | 2342 | 299 |  719 | 126 | 349 | ⋯ |  72 | 120 |  53 | 171 | 0 |  839 |  3 | 0 | 0 | 82 |\n| 37 | NBA | Will Barton      | DEN | SG | 82 | 2355 | 426 |  984 | 112 | 324 | ⋯ |  71 | 139 |  39 | 147 | 0 | 1180 |  2 | 0 | 0 |  1 |\n| 48 | NBA | Bismack Biyombo  | TOR | PF | 82 | 1810 | 156 |  288 |   0 |   1 | ⋯ |  19 |  71 | 133 | 225 | 2 |  454 |  3 | 0 | 0 | 22 |\n| 62 | NBA | Corey Brewer     | HOU | SG | 82 | 1670 | 212 |  552 |  61 | 225 | ⋯ |  84 |  78 |  19 | 168 | 1 |  590 |  0 | 0 | 0 | 12 |\n| 118 | NBA | Gorgui Dieng     | MIN | C  | 82 | 2222 | 308 |  578 |   6 |  20 | ⋯ |  94 | 140 |  96 | 219 | 0 |  827 |  1 | 0 | 0 | 39 |\n| 148 | NBA | Langsto Galloway | NYK | PG | 82 | 2032 | 231 |  588 |  77 | 224 | ⋯ |  77 |  61 |  22 | 177 | 2 |  625 |  0 | 0 | 0 |  7 |\n| 178 | NBA | James Harden     | HOU | SG | 82 | 3121 | 710 | 1617 | 236 | 656 | ⋯ | 138 | 374 |  51 | 229 | 1 | 2376 |  2 | 0 | 0 | 82 |\n| 208 | NBA | Al Horford       | ATL | PF | 82 | 2638 | 529 | 1049 |  88 | 257 | ⋯ |  67 | 107 | 122 | 163 | 0 | 1249 |  1 | 0 | 0 | 82 |\n| 246 | NBA | Enes Kanter      | OKL | C  | 82 | 1721 | 415 |  720 |  10 |  21 | ⋯ |  26 | 115 |  33 | 166 | 1 | 1040 |  2 | 0 | 0 |  1 |\n| 259 | NBA | Zach Lavine      | MIN | PG | 82 | 2295 | 433 |  960 | 123 | 316 | ⋯ |  69 | 155 |  17 | 193 | 1 | 1150 |  0 | 0 | 0 | 33 |\n| 272 | NBA | Robin Lopez      | NYK | C  | 82 | 2213 | 357 |  662 |   0 |   1 | ⋯ |  16 | 133 | 129 | 182 | 2 |  842 |  3 | 0 | 0 | 82 |\n| 320 | NBA | Shabazz Muhammad | MIN | SF | 82 | 1678 | 317 |  681 |  44 | 152 | ⋯ |  24 |  70 |   7 |  94 | 0 |  863 |  0 | 0 | 0 |  0 |\n| 357 | NBA | Mason Plumlee    | POR | PF | 82 | 2087 | 267 |  517 |   0 |   4 | ⋯ |  68 | 154 |  82 | 253 | 4 |  749 |  1 | 0 | 0 | 82 |\n| 394 | NBA | Ramon Sessions   | WAS | PG | 82 | 1667 | 280 |  592 |  36 | 111 | ⋯ |  47 | 115 |   5 | 102 | 0 |  810 |  0 | 0 | 0 |  5 |\n| 422 | NBA | Isaiah Thomas    | BOS | PG | 82 | 2647 | 591 | 1382 | 167 | 465 | ⋯ |  91 | 220 |   9 | 167 | 1 | 1823 |  9 | 0 | 0 | 79 |\n| 427 | NBA | Tristan Thompson | CLE | C  | 82 | 2269 | 247 |  420 |   0 |   0 | ⋯ |  38 |  61 |  51 | 202 | 0 |  643 |  1 | 0 | 0 | 34 |\n| 431 | NBA | Karl-antho Towns | MIN | C  | 82 | 2621 | 625 | 1152 |  30 |  88 | ⋯ |  58 | 183 | 138 | 245 | 1 | 1503 |  2 | 0 | 0 | 82 |\n| 432 | NBA | P.j. Tucker      | PHO | SF | 82 | 2540 | 239 |  582 |  68 | 206 | ⋯ | 106 | 111 |  20 | 202 | 3 |  652 |  4 | 0 | 0 | 80 |\n| 24 | NBA | Trevor Ariza     | HOU | SF | 81 | 2860 | 357 |  858 | 185 | 497 | ⋯ | 161 | 113 |  26 | 177 | 0 | 1025 |  2 | 0 | 0 | 81 |\n| 41 | NBA | Aron Baynes      | DET | PF | 81 | 1241 | 194 |  384 |   0 |   2 | ⋯ |  21 |  67 |  52 | 151 | 0 |  514 |  0 | 0 | 0 |  1 |\n| 100 | NBA | Allen Crabbe     | POR | SF | 81 | 2111 | 312 |  678 | 112 | 284 | ⋯ |  63 |  64 |  16 | 192 | 2 |  834 |  0 | 0 | 0 |  8 |\n| 109 | NBA | Ed Davis         | POR | PF | 81 | 1684 | 206 |  337 |   0 |   0 | ⋯ |  57 |  64 |  72 | 202 | 2 |  526 |  2 | 0 | 0 |  0 |\n| 122 | NBA | Andre Drummond   | DET | C  | 81 | 2664 | 552 | 1061 |   2 |   6 | ⋯ | 119 | 154 | 112 | 245 | 2 | 1314 |  7 | 0 | 0 | 81 |\n| 123 | NBA | Jared Dudley     | WAS | SG | 81 | 2098 | 233 |  487 | 100 | 239 | ⋯ |  75 |  80 |  18 | 190 | 1 |  638 |  1 | 0 | 0 | 41 |\n| 131 | NBA | Monta Ellis      | IND | PG | 81 | 2733 | 436 | 1021 |  87 | 281 | ⋯ | 149 | 203 |  38 | 174 | 0 | 1121 |  1 | 0 | 0 | 81 |\n| 143 | NBA | Randy Foye       | OKC | SG | 81 | 1640 | 168 |  481 |  75 | 250 | ⋯ |  39 |  86 |  29 | 131 | 0 |  472 |  0 | 0 | 0 |  8 |\n| 154 | NBA | Paul George      | IND | SF | 81 | 2828 | 605 | 1448 | 210 | 565 | ⋯ | 152 | 265 |  29 | 230 | 1 | 1874 |  6 | 0 | 0 | 81 |\n| 167 | NBA | Draymond Green   | GSW | SF | 81 | 2807 | 401 |  819 | 100 | 258 | ⋯ | 118 | 259 | 111 | 240 | 2 | 1131 | 11 | 0 | 0 | 81 |\n| 194 | NBA | Roy Hibbert      | LAL | C  | 81 | 1881 | 182 |  411 |   0 |   2 | ⋯ |  32 |  76 | 110 | 252 | 3 |  481 |  2 | 0 | 0 | 81 |\n| 217 | NBA | Joe Ingles       | UTA | SF | 81 | 1241 | 124 |  291 |  81 | 210 | ⋯ |  55 |  65 |   4 |  98 | 0 |  342 |  1 | 0 | 0 |  2 |\n\n",
            "text/html": [
              "<table>\n",
              "<caption>A data.frame: 30 × 25</caption>\n",
              "<thead>\n",
              "\t<tr><th></th><th scope=col>League</th><th scope=col>Name</th><th scope=col>Team</th><th scope=col>Position</th><th scope=col>GamesPlayed</th><th scope=col>TotalMinutesPlayed</th><th scope=col>FieldGoalsMade</th><th scope=col>FieldGoalsAttempted</th><th scope=col>ThreesMade</th><th scope=col>ThreesAttempted</th><th scope=col>⋯</th><th scope=col>Steals</th><th scope=col>Turnovers</th><th scope=col>Blocks</th><th scope=col>PersonalFouls</th><th scope=col>Disqualifications</th><th scope=col>TotalPoints</th><th scope=col>Technicals</th><th scope=col>Ejections</th><th scope=col>FlagrantFouls</th><th scope=col>GamesStarted</th></tr>\n",
              "\t<tr><th></th><th scope=col>&lt;fct&gt;</th><th scope=col>&lt;chr&gt;</th><th scope=col>&lt;fct&gt;</th><th scope=col>&lt;fct&gt;</th><th scope=col>&lt;int&gt;</th><th scope=col>&lt;int&gt;</th><th scope=col>&lt;int&gt;</th><th scope=col>&lt;int&gt;</th><th scope=col>&lt;int&gt;</th><th scope=col>&lt;int&gt;</th><th scope=col>⋯</th><th scope=col>&lt;int&gt;</th><th scope=col>&lt;int&gt;</th><th scope=col>&lt;int&gt;</th><th scope=col>&lt;int&gt;</th><th scope=col>&lt;int&gt;</th><th scope=col>&lt;int&gt;</th><th scope=col>&lt;int&gt;</th><th scope=col>&lt;int&gt;</th><th scope=col>&lt;int&gt;</th><th scope=col>&lt;int&gt;</th></tr>\n",
              "</thead>\n",
              "<tbody>\n",
              "\t<tr><th scope=row>11</th><td>NBA</td><td>Al-farouq Aminu </td><td>POR</td><td>SF</td><td>82</td><td>2342</td><td>299</td><td> 719</td><td>126</td><td>349</td><td>⋯</td><td> 72</td><td>120</td><td> 53</td><td>171</td><td>0</td><td> 839</td><td> 3</td><td>0</td><td>0</td><td>82</td></tr>\n",
              "\t<tr><th scope=row>37</th><td>NBA</td><td>Will Barton     </td><td>DEN</td><td>SG</td><td>82</td><td>2355</td><td>426</td><td> 984</td><td>112</td><td>324</td><td>⋯</td><td> 71</td><td>139</td><td> 39</td><td>147</td><td>0</td><td>1180</td><td> 2</td><td>0</td><td>0</td><td> 1</td></tr>\n",
              "\t<tr><th scope=row>48</th><td>NBA</td><td>Bismack Biyombo </td><td>TOR</td><td>PF</td><td>82</td><td>1810</td><td>156</td><td> 288</td><td>  0</td><td>  1</td><td>⋯</td><td> 19</td><td> 71</td><td>133</td><td>225</td><td>2</td><td> 454</td><td> 3</td><td>0</td><td>0</td><td>22</td></tr>\n",
              "\t<tr><th scope=row>62</th><td>NBA</td><td>Corey Brewer    </td><td>HOU</td><td>SG</td><td>82</td><td>1670</td><td>212</td><td> 552</td><td> 61</td><td>225</td><td>⋯</td><td> 84</td><td> 78</td><td> 19</td><td>168</td><td>1</td><td> 590</td><td> 0</td><td>0</td><td>0</td><td>12</td></tr>\n",
              "\t<tr><th scope=row>118</th><td>NBA</td><td>Gorgui Dieng    </td><td>MIN</td><td>C </td><td>82</td><td>2222</td><td>308</td><td> 578</td><td>  6</td><td> 20</td><td>⋯</td><td> 94</td><td>140</td><td> 96</td><td>219</td><td>0</td><td> 827</td><td> 1</td><td>0</td><td>0</td><td>39</td></tr>\n",
              "\t<tr><th scope=row>148</th><td>NBA</td><td>Langsto Galloway</td><td>NYK</td><td>PG</td><td>82</td><td>2032</td><td>231</td><td> 588</td><td> 77</td><td>224</td><td>⋯</td><td> 77</td><td> 61</td><td> 22</td><td>177</td><td>2</td><td> 625</td><td> 0</td><td>0</td><td>0</td><td> 7</td></tr>\n",
              "\t<tr><th scope=row>178</th><td>NBA</td><td>James Harden    </td><td>HOU</td><td>SG</td><td>82</td><td>3121</td><td>710</td><td>1617</td><td>236</td><td>656</td><td>⋯</td><td>138</td><td>374</td><td> 51</td><td>229</td><td>1</td><td>2376</td><td> 2</td><td>0</td><td>0</td><td>82</td></tr>\n",
              "\t<tr><th scope=row>208</th><td>NBA</td><td>Al Horford      </td><td>ATL</td><td>PF</td><td>82</td><td>2638</td><td>529</td><td>1049</td><td> 88</td><td>257</td><td>⋯</td><td> 67</td><td>107</td><td>122</td><td>163</td><td>0</td><td>1249</td><td> 1</td><td>0</td><td>0</td><td>82</td></tr>\n",
              "\t<tr><th scope=row>246</th><td>NBA</td><td>Enes Kanter     </td><td>OKL</td><td>C </td><td>82</td><td>1721</td><td>415</td><td> 720</td><td> 10</td><td> 21</td><td>⋯</td><td> 26</td><td>115</td><td> 33</td><td>166</td><td>1</td><td>1040</td><td> 2</td><td>0</td><td>0</td><td> 1</td></tr>\n",
              "\t<tr><th scope=row>259</th><td>NBA</td><td>Zach Lavine     </td><td>MIN</td><td>PG</td><td>82</td><td>2295</td><td>433</td><td> 960</td><td>123</td><td>316</td><td>⋯</td><td> 69</td><td>155</td><td> 17</td><td>193</td><td>1</td><td>1150</td><td> 0</td><td>0</td><td>0</td><td>33</td></tr>\n",
              "\t<tr><th scope=row>272</th><td>NBA</td><td>Robin Lopez     </td><td>NYK</td><td>C </td><td>82</td><td>2213</td><td>357</td><td> 662</td><td>  0</td><td>  1</td><td>⋯</td><td> 16</td><td>133</td><td>129</td><td>182</td><td>2</td><td> 842</td><td> 3</td><td>0</td><td>0</td><td>82</td></tr>\n",
              "\t<tr><th scope=row>320</th><td>NBA</td><td>Shabazz Muhammad</td><td>MIN</td><td>SF</td><td>82</td><td>1678</td><td>317</td><td> 681</td><td> 44</td><td>152</td><td>⋯</td><td> 24</td><td> 70</td><td>  7</td><td> 94</td><td>0</td><td> 863</td><td> 0</td><td>0</td><td>0</td><td> 0</td></tr>\n",
              "\t<tr><th scope=row>357</th><td>NBA</td><td>Mason Plumlee   </td><td>POR</td><td>PF</td><td>82</td><td>2087</td><td>267</td><td> 517</td><td>  0</td><td>  4</td><td>⋯</td><td> 68</td><td>154</td><td> 82</td><td>253</td><td>4</td><td> 749</td><td> 1</td><td>0</td><td>0</td><td>82</td></tr>\n",
              "\t<tr><th scope=row>394</th><td>NBA</td><td>Ramon Sessions  </td><td>WAS</td><td>PG</td><td>82</td><td>1667</td><td>280</td><td> 592</td><td> 36</td><td>111</td><td>⋯</td><td> 47</td><td>115</td><td>  5</td><td>102</td><td>0</td><td> 810</td><td> 0</td><td>0</td><td>0</td><td> 5</td></tr>\n",
              "\t<tr><th scope=row>422</th><td>NBA</td><td>Isaiah Thomas   </td><td>BOS</td><td>PG</td><td>82</td><td>2647</td><td>591</td><td>1382</td><td>167</td><td>465</td><td>⋯</td><td> 91</td><td>220</td><td>  9</td><td>167</td><td>1</td><td>1823</td><td> 9</td><td>0</td><td>0</td><td>79</td></tr>\n",
              "\t<tr><th scope=row>427</th><td>NBA</td><td>Tristan Thompson</td><td>CLE</td><td>C </td><td>82</td><td>2269</td><td>247</td><td> 420</td><td>  0</td><td>  0</td><td>⋯</td><td> 38</td><td> 61</td><td> 51</td><td>202</td><td>0</td><td> 643</td><td> 1</td><td>0</td><td>0</td><td>34</td></tr>\n",
              "\t<tr><th scope=row>431</th><td>NBA</td><td>Karl-antho Towns</td><td>MIN</td><td>C </td><td>82</td><td>2621</td><td>625</td><td>1152</td><td> 30</td><td> 88</td><td>⋯</td><td> 58</td><td>183</td><td>138</td><td>245</td><td>1</td><td>1503</td><td> 2</td><td>0</td><td>0</td><td>82</td></tr>\n",
              "\t<tr><th scope=row>432</th><td>NBA</td><td>P.j. Tucker     </td><td>PHO</td><td>SF</td><td>82</td><td>2540</td><td>239</td><td> 582</td><td> 68</td><td>206</td><td>⋯</td><td>106</td><td>111</td><td> 20</td><td>202</td><td>3</td><td> 652</td><td> 4</td><td>0</td><td>0</td><td>80</td></tr>\n",
              "\t<tr><th scope=row>24</th><td>NBA</td><td>Trevor Ariza    </td><td>HOU</td><td>SF</td><td>81</td><td>2860</td><td>357</td><td> 858</td><td>185</td><td>497</td><td>⋯</td><td>161</td><td>113</td><td> 26</td><td>177</td><td>0</td><td>1025</td><td> 2</td><td>0</td><td>0</td><td>81</td></tr>\n",
              "\t<tr><th scope=row>41</th><td>NBA</td><td>Aron Baynes     </td><td>DET</td><td>PF</td><td>81</td><td>1241</td><td>194</td><td> 384</td><td>  0</td><td>  2</td><td>⋯</td><td> 21</td><td> 67</td><td> 52</td><td>151</td><td>0</td><td> 514</td><td> 0</td><td>0</td><td>0</td><td> 1</td></tr>\n",
              "\t<tr><th scope=row>100</th><td>NBA</td><td>Allen Crabbe    </td><td>POR</td><td>SF</td><td>81</td><td>2111</td><td>312</td><td> 678</td><td>112</td><td>284</td><td>⋯</td><td> 63</td><td> 64</td><td> 16</td><td>192</td><td>2</td><td> 834</td><td> 0</td><td>0</td><td>0</td><td> 8</td></tr>\n",
              "\t<tr><th scope=row>109</th><td>NBA</td><td>Ed Davis        </td><td>POR</td><td>PF</td><td>81</td><td>1684</td><td>206</td><td> 337</td><td>  0</td><td>  0</td><td>⋯</td><td> 57</td><td> 64</td><td> 72</td><td>202</td><td>2</td><td> 526</td><td> 2</td><td>0</td><td>0</td><td> 0</td></tr>\n",
              "\t<tr><th scope=row>122</th><td>NBA</td><td>Andre Drummond  </td><td>DET</td><td>C </td><td>81</td><td>2664</td><td>552</td><td>1061</td><td>  2</td><td>  6</td><td>⋯</td><td>119</td><td>154</td><td>112</td><td>245</td><td>2</td><td>1314</td><td> 7</td><td>0</td><td>0</td><td>81</td></tr>\n",
              "\t<tr><th scope=row>123</th><td>NBA</td><td>Jared Dudley    </td><td>WAS</td><td>SG</td><td>81</td><td>2098</td><td>233</td><td> 487</td><td>100</td><td>239</td><td>⋯</td><td> 75</td><td> 80</td><td> 18</td><td>190</td><td>1</td><td> 638</td><td> 1</td><td>0</td><td>0</td><td>41</td></tr>\n",
              "\t<tr><th scope=row>131</th><td>NBA</td><td>Monta Ellis     </td><td>IND</td><td>PG</td><td>81</td><td>2733</td><td>436</td><td>1021</td><td> 87</td><td>281</td><td>⋯</td><td>149</td><td>203</td><td> 38</td><td>174</td><td>0</td><td>1121</td><td> 1</td><td>0</td><td>0</td><td>81</td></tr>\n",
              "\t<tr><th scope=row>143</th><td>NBA</td><td>Randy Foye      </td><td>OKC</td><td>SG</td><td>81</td><td>1640</td><td>168</td><td> 481</td><td> 75</td><td>250</td><td>⋯</td><td> 39</td><td> 86</td><td> 29</td><td>131</td><td>0</td><td> 472</td><td> 0</td><td>0</td><td>0</td><td> 8</td></tr>\n",
              "\t<tr><th scope=row>154</th><td>NBA</td><td>Paul George     </td><td>IND</td><td>SF</td><td>81</td><td>2828</td><td>605</td><td>1448</td><td>210</td><td>565</td><td>⋯</td><td>152</td><td>265</td><td> 29</td><td>230</td><td>1</td><td>1874</td><td> 6</td><td>0</td><td>0</td><td>81</td></tr>\n",
              "\t<tr><th scope=row>167</th><td>NBA</td><td>Draymond Green  </td><td>GSW</td><td>SF</td><td>81</td><td>2807</td><td>401</td><td> 819</td><td>100</td><td>258</td><td>⋯</td><td>118</td><td>259</td><td>111</td><td>240</td><td>2</td><td>1131</td><td>11</td><td>0</td><td>0</td><td>81</td></tr>\n",
              "\t<tr><th scope=row>194</th><td>NBA</td><td>Roy Hibbert     </td><td>LAL</td><td>C </td><td>81</td><td>1881</td><td>182</td><td> 411</td><td>  0</td><td>  2</td><td>⋯</td><td> 32</td><td> 76</td><td>110</td><td>252</td><td>3</td><td> 481</td><td> 2</td><td>0</td><td>0</td><td>81</td></tr>\n",
              "\t<tr><th scope=row>217</th><td>NBA</td><td>Joe Ingles      </td><td>UTA</td><td>SF</td><td>81</td><td>1241</td><td>124</td><td> 291</td><td> 81</td><td>210</td><td>⋯</td><td> 55</td><td> 65</td><td>  4</td><td> 98</td><td>0</td><td> 342</td><td> 1</td><td>0</td><td>0</td><td> 2</td></tr>\n",
              "</tbody>\n",
              "</table>\n"
            ]
          },
          "metadata": {
            "tags": []
          }
        }
      ]
    },
    {
      "cell_type": "code",
      "metadata": {
        "id": "dHnLt4ELk4Lk",
        "outputId": "bcd78ca7-278c-451d-faa3-9b9f1774dd9f",
        "colab": {
          "base_uri": "https://localhost:8080/",
          "height": 620
        }
      },
      "source": [
        "NBA1516Order <- NBA1516[order(NBA1516$TotalMinutesPlayed,decreasing = T),]\n",
        "NBA1516Order[1:20,]"
      ],
      "execution_count": 45,
      "outputs": [
        {
          "output_type": "display_data",
          "data": {
            "text/plain": [
              "    League Name             Team Position GamesPlayed TotalMinutesPlayed\n",
              "178 NBA    James Harden     HOU  SG       82          3121              \n",
              "190 NBA    Gordon Hayward   UTA  SG       80          2889              \n",
              "446 NBA    Kemba Walker     CHA  PG       81          2885              \n",
              "24  NBA    Trevor Ariza     HOU  SF       81          2860              \n",
              "301 NBA    Khris Middleton  MIL  SF       79          2855              \n",
              "274 NBA    Kyle Lowry       TOR  PG       77          2853              \n",
              "314 NBA    Marcus Morris    DET  SF       80          2852              \n",
              "456 NBA    Andrew Wiggins   MIN  SF       81          2844              \n",
              "154 NBA    Paul George      IND  SF       81          2828              \n",
              "19  NBA    Gi Antetokounmpo MIL  SF       80          2825              \n",
              "167 NBA    Draymond Green   GSW  SF       81          2807              \n",
              "116 NBA    Demar Derozan    TOR  SG       78          2804              \n",
              "77  NBA    Ke Caldwell-pope DET  SG       76          2789              \n",
              "447 NBA    John Wall        WAS  PG       77          2783              \n",
              "288 NBA    C.j. Mccollum    POR  SG       80          2776              \n",
              "453 NBA    Russel Westbrook OKL  PG       80          2749              \n",
              "131 NBA    Monta Ellis      IND  PG       81          2733              \n",
              "222 NBA    Lebron James     CLE  SF       76          2710              \n",
              "106 NBA    Stephen Curry    GSW  PG       79          2705              \n",
              "232 NBA    Joe Johnson      MIA  SF       81          2703              \n",
              "    FieldGoalsMade FieldGoalsAttempted ThreesMade ThreesAttempted ⋯ Steals\n",
              "178 710            1617                236        656             ⋯ 138   \n",
              "190 521            1202                143        410             ⋯  95   \n",
              "446 568            1332                182        490             ⋯ 127   \n",
              "24  357             858                185        497             ⋯ 161   \n",
              "301 507            1144                143        362             ⋯ 131   \n",
              "274 512            1198                212        546             ⋯ 158   \n",
              "314 410             945                108        297             ⋯  67   \n",
              "456 594            1294                 57        190             ⋯  78   \n",
              "154 605            1448                210        565             ⋯ 152   \n",
              "19  513            1012                 28        110             ⋯  94   \n",
              "167 401             819                100        258             ⋯ 118   \n",
              "116 614            1377                 47        139             ⋯  82   \n",
              "77  403             960                114        368             ⋯ 110   \n",
              "447 572            1349                115        327             ⋯ 145   \n",
              "288 641            1432                197        473             ⋯  97   \n",
              "453 656            1444                101        341             ⋯ 163   \n",
              "131 436            1021                 87        281             ⋯ 149   \n",
              "222 737            1416                 87        282             ⋯ 104   \n",
              "106 805            1597                402        887             ⋯ 169   \n",
              "232 377             859                120        313             ⋯  61   \n",
              "    Turnovers Blocks PersonalFouls Disqualifications TotalPoints Technicals\n",
              "178 374        51    229           1                 2376         2        \n",
              "190 202        27    183           0                 1578         0        \n",
              "446 171        39    111           0                 1689         5        \n",
              "24  113        26    177           0                 1025         2        \n",
              "301 180        19    204           1                 1434         5        \n",
              "274 225        34    211           1                 1634         9        \n",
              "314 140        23    170           1                 1131        11        \n",
              "456 182        46    165           1                 1675         1        \n",
              "154 265        29    230           1                 1874         6        \n",
              "19  208       113    258           7                 1350         1        \n",
              "167 259       111    240           2                 1131        11        \n",
              "116 174        21    167           0                 1830         2        \n",
              "77  105        17    167           0                 1105         3        \n",
              "447 318        59    159           0                 1531         7        \n",
              "288 196        24    187           0                 1666         0        \n",
              "453 342        20    200           2                 1878         6        \n",
              "131 203        38    174           0                 1121         1        \n",
              "222 249        49    143           0                 1920         3        \n",
              "106 261        16    161           0                 2375         1        \n",
              "232 160         4    146           0                  992         1        \n",
              "    Ejections FlagrantFouls GamesStarted\n",
              "178 0         0             82          \n",
              "190 0         0             80          \n",
              "446 0         0             81          \n",
              "24  0         0             81          \n",
              "301 0         0             79          \n",
              "274 0         0             77          \n",
              "314 0         0             80          \n",
              "456 0         0             81          \n",
              "154 0         0             81          \n",
              "19  0         0             79          \n",
              "167 0         0             81          \n",
              "116 0         0             78          \n",
              "77  0         0             76          \n",
              "447 0         0             77          \n",
              "288 0         0             80          \n",
              "453 0         0             80          \n",
              "131 0         0             81          \n",
              "222 0         0             76          \n",
              "106 0         0             79          \n",
              "232 0         0             81          "
            ],
            "text/latex": "A data.frame: 20 × 25\n\\begin{tabular}{r|lllllllllllllllllllll}\n  & League & Name & Team & Position & GamesPlayed & TotalMinutesPlayed & FieldGoalsMade & FieldGoalsAttempted & ThreesMade & ThreesAttempted & ⋯ & Steals & Turnovers & Blocks & PersonalFouls & Disqualifications & TotalPoints & Technicals & Ejections & FlagrantFouls & GamesStarted\\\\\n  & <fct> & <chr> & <fct> & <fct> & <int> & <int> & <int> & <int> & <int> & <int> & ⋯ & <int> & <int> & <int> & <int> & <int> & <int> & <int> & <int> & <int> & <int>\\\\\n\\hline\n\t178 & NBA & James Harden     & HOU & SG & 82 & 3121 & 710 & 1617 & 236 & 656 & ⋯ & 138 & 374 &  51 & 229 & 1 & 2376 &  2 & 0 & 0 & 82\\\\\n\t190 & NBA & Gordon Hayward   & UTA & SG & 80 & 2889 & 521 & 1202 & 143 & 410 & ⋯ &  95 & 202 &  27 & 183 & 0 & 1578 &  0 & 0 & 0 & 80\\\\\n\t446 & NBA & Kemba Walker     & CHA & PG & 81 & 2885 & 568 & 1332 & 182 & 490 & ⋯ & 127 & 171 &  39 & 111 & 0 & 1689 &  5 & 0 & 0 & 81\\\\\n\t24 & NBA & Trevor Ariza     & HOU & SF & 81 & 2860 & 357 &  858 & 185 & 497 & ⋯ & 161 & 113 &  26 & 177 & 0 & 1025 &  2 & 0 & 0 & 81\\\\\n\t301 & NBA & Khris Middleton  & MIL & SF & 79 & 2855 & 507 & 1144 & 143 & 362 & ⋯ & 131 & 180 &  19 & 204 & 1 & 1434 &  5 & 0 & 0 & 79\\\\\n\t274 & NBA & Kyle Lowry       & TOR & PG & 77 & 2853 & 512 & 1198 & 212 & 546 & ⋯ & 158 & 225 &  34 & 211 & 1 & 1634 &  9 & 0 & 0 & 77\\\\\n\t314 & NBA & Marcus Morris    & DET & SF & 80 & 2852 & 410 &  945 & 108 & 297 & ⋯ &  67 & 140 &  23 & 170 & 1 & 1131 & 11 & 0 & 0 & 80\\\\\n\t456 & NBA & Andrew Wiggins   & MIN & SF & 81 & 2844 & 594 & 1294 &  57 & 190 & ⋯ &  78 & 182 &  46 & 165 & 1 & 1675 &  1 & 0 & 0 & 81\\\\\n\t154 & NBA & Paul George      & IND & SF & 81 & 2828 & 605 & 1448 & 210 & 565 & ⋯ & 152 & 265 &  29 & 230 & 1 & 1874 &  6 & 0 & 0 & 81\\\\\n\t19 & NBA & Gi Antetokounmpo & MIL & SF & 80 & 2825 & 513 & 1012 &  28 & 110 & ⋯ &  94 & 208 & 113 & 258 & 7 & 1350 &  1 & 0 & 0 & 79\\\\\n\t167 & NBA & Draymond Green   & GSW & SF & 81 & 2807 & 401 &  819 & 100 & 258 & ⋯ & 118 & 259 & 111 & 240 & 2 & 1131 & 11 & 0 & 0 & 81\\\\\n\t116 & NBA & Demar Derozan    & TOR & SG & 78 & 2804 & 614 & 1377 &  47 & 139 & ⋯ &  82 & 174 &  21 & 167 & 0 & 1830 &  2 & 0 & 0 & 78\\\\\n\t77 & NBA & Ke Caldwell-pope & DET & SG & 76 & 2789 & 403 &  960 & 114 & 368 & ⋯ & 110 & 105 &  17 & 167 & 0 & 1105 &  3 & 0 & 0 & 76\\\\\n\t447 & NBA & John Wall        & WAS & PG & 77 & 2783 & 572 & 1349 & 115 & 327 & ⋯ & 145 & 318 &  59 & 159 & 0 & 1531 &  7 & 0 & 0 & 77\\\\\n\t288 & NBA & C.j. Mccollum    & POR & SG & 80 & 2776 & 641 & 1432 & 197 & 473 & ⋯ &  97 & 196 &  24 & 187 & 0 & 1666 &  0 & 0 & 0 & 80\\\\\n\t453 & NBA & Russel Westbrook & OKL & PG & 80 & 2749 & 656 & 1444 & 101 & 341 & ⋯ & 163 & 342 &  20 & 200 & 2 & 1878 &  6 & 0 & 0 & 80\\\\\n\t131 & NBA & Monta Ellis      & IND & PG & 81 & 2733 & 436 & 1021 &  87 & 281 & ⋯ & 149 & 203 &  38 & 174 & 0 & 1121 &  1 & 0 & 0 & 81\\\\\n\t222 & NBA & Lebron James     & CLE & SF & 76 & 2710 & 737 & 1416 &  87 & 282 & ⋯ & 104 & 249 &  49 & 143 & 0 & 1920 &  3 & 0 & 0 & 76\\\\\n\t106 & NBA & Stephen Curry    & GSW & PG & 79 & 2705 & 805 & 1597 & 402 & 887 & ⋯ & 169 & 261 &  16 & 161 & 0 & 2375 &  1 & 0 & 0 & 79\\\\\n\t232 & NBA & Joe Johnson      & MIA & SF & 81 & 2703 & 377 &  859 & 120 & 313 & ⋯ &  61 & 160 &   4 & 146 & 0 &  992 &  1 & 0 & 0 & 81\\\\\n\\end{tabular}\n",
            "text/markdown": "\nA data.frame: 20 × 25\n\n| <!--/--> | League &lt;fct&gt; | Name &lt;chr&gt; | Team &lt;fct&gt; | Position &lt;fct&gt; | GamesPlayed &lt;int&gt; | TotalMinutesPlayed &lt;int&gt; | FieldGoalsMade &lt;int&gt; | FieldGoalsAttempted &lt;int&gt; | ThreesMade &lt;int&gt; | ThreesAttempted &lt;int&gt; | ⋯ ⋯ | Steals &lt;int&gt; | Turnovers &lt;int&gt; | Blocks &lt;int&gt; | PersonalFouls &lt;int&gt; | Disqualifications &lt;int&gt; | TotalPoints &lt;int&gt; | Technicals &lt;int&gt; | Ejections &lt;int&gt; | FlagrantFouls &lt;int&gt; | GamesStarted &lt;int&gt; |\n|---|---|---|---|---|---|---|---|---|---|---|---|---|---|---|---|---|---|---|---|---|---|\n| 178 | NBA | James Harden     | HOU | SG | 82 | 3121 | 710 | 1617 | 236 | 656 | ⋯ | 138 | 374 |  51 | 229 | 1 | 2376 |  2 | 0 | 0 | 82 |\n| 190 | NBA | Gordon Hayward   | UTA | SG | 80 | 2889 | 521 | 1202 | 143 | 410 | ⋯ |  95 | 202 |  27 | 183 | 0 | 1578 |  0 | 0 | 0 | 80 |\n| 446 | NBA | Kemba Walker     | CHA | PG | 81 | 2885 | 568 | 1332 | 182 | 490 | ⋯ | 127 | 171 |  39 | 111 | 0 | 1689 |  5 | 0 | 0 | 81 |\n| 24 | NBA | Trevor Ariza     | HOU | SF | 81 | 2860 | 357 |  858 | 185 | 497 | ⋯ | 161 | 113 |  26 | 177 | 0 | 1025 |  2 | 0 | 0 | 81 |\n| 301 | NBA | Khris Middleton  | MIL | SF | 79 | 2855 | 507 | 1144 | 143 | 362 | ⋯ | 131 | 180 |  19 | 204 | 1 | 1434 |  5 | 0 | 0 | 79 |\n| 274 | NBA | Kyle Lowry       | TOR | PG | 77 | 2853 | 512 | 1198 | 212 | 546 | ⋯ | 158 | 225 |  34 | 211 | 1 | 1634 |  9 | 0 | 0 | 77 |\n| 314 | NBA | Marcus Morris    | DET | SF | 80 | 2852 | 410 |  945 | 108 | 297 | ⋯ |  67 | 140 |  23 | 170 | 1 | 1131 | 11 | 0 | 0 | 80 |\n| 456 | NBA | Andrew Wiggins   | MIN | SF | 81 | 2844 | 594 | 1294 |  57 | 190 | ⋯ |  78 | 182 |  46 | 165 | 1 | 1675 |  1 | 0 | 0 | 81 |\n| 154 | NBA | Paul George      | IND | SF | 81 | 2828 | 605 | 1448 | 210 | 565 | ⋯ | 152 | 265 |  29 | 230 | 1 | 1874 |  6 | 0 | 0 | 81 |\n| 19 | NBA | Gi Antetokounmpo | MIL | SF | 80 | 2825 | 513 | 1012 |  28 | 110 | ⋯ |  94 | 208 | 113 | 258 | 7 | 1350 |  1 | 0 | 0 | 79 |\n| 167 | NBA | Draymond Green   | GSW | SF | 81 | 2807 | 401 |  819 | 100 | 258 | ⋯ | 118 | 259 | 111 | 240 | 2 | 1131 | 11 | 0 | 0 | 81 |\n| 116 | NBA | Demar Derozan    | TOR | SG | 78 | 2804 | 614 | 1377 |  47 | 139 | ⋯ |  82 | 174 |  21 | 167 | 0 | 1830 |  2 | 0 | 0 | 78 |\n| 77 | NBA | Ke Caldwell-pope | DET | SG | 76 | 2789 | 403 |  960 | 114 | 368 | ⋯ | 110 | 105 |  17 | 167 | 0 | 1105 |  3 | 0 | 0 | 76 |\n| 447 | NBA | John Wall        | WAS | PG | 77 | 2783 | 572 | 1349 | 115 | 327 | ⋯ | 145 | 318 |  59 | 159 | 0 | 1531 |  7 | 0 | 0 | 77 |\n| 288 | NBA | C.j. Mccollum    | POR | SG | 80 | 2776 | 641 | 1432 | 197 | 473 | ⋯ |  97 | 196 |  24 | 187 | 0 | 1666 |  0 | 0 | 0 | 80 |\n| 453 | NBA | Russel Westbrook | OKL | PG | 80 | 2749 | 656 | 1444 | 101 | 341 | ⋯ | 163 | 342 |  20 | 200 | 2 | 1878 |  6 | 0 | 0 | 80 |\n| 131 | NBA | Monta Ellis      | IND | PG | 81 | 2733 | 436 | 1021 |  87 | 281 | ⋯ | 149 | 203 |  38 | 174 | 0 | 1121 |  1 | 0 | 0 | 81 |\n| 222 | NBA | Lebron James     | CLE | SF | 76 | 2710 | 737 | 1416 |  87 | 282 | ⋯ | 104 | 249 |  49 | 143 | 0 | 1920 |  3 | 0 | 0 | 76 |\n| 106 | NBA | Stephen Curry    | GSW | PG | 79 | 2705 | 805 | 1597 | 402 | 887 | ⋯ | 169 | 261 |  16 | 161 | 0 | 2375 |  1 | 0 | 0 | 79 |\n| 232 | NBA | Joe Johnson      | MIA | SF | 81 | 2703 | 377 |  859 | 120 | 313 | ⋯ |  61 | 160 |   4 | 146 | 0 |  992 |  1 | 0 | 0 | 81 |\n\n",
            "text/html": [
              "<table>\n",
              "<caption>A data.frame: 20 × 25</caption>\n",
              "<thead>\n",
              "\t<tr><th></th><th scope=col>League</th><th scope=col>Name</th><th scope=col>Team</th><th scope=col>Position</th><th scope=col>GamesPlayed</th><th scope=col>TotalMinutesPlayed</th><th scope=col>FieldGoalsMade</th><th scope=col>FieldGoalsAttempted</th><th scope=col>ThreesMade</th><th scope=col>ThreesAttempted</th><th scope=col>⋯</th><th scope=col>Steals</th><th scope=col>Turnovers</th><th scope=col>Blocks</th><th scope=col>PersonalFouls</th><th scope=col>Disqualifications</th><th scope=col>TotalPoints</th><th scope=col>Technicals</th><th scope=col>Ejections</th><th scope=col>FlagrantFouls</th><th scope=col>GamesStarted</th></tr>\n",
              "\t<tr><th></th><th scope=col>&lt;fct&gt;</th><th scope=col>&lt;chr&gt;</th><th scope=col>&lt;fct&gt;</th><th scope=col>&lt;fct&gt;</th><th scope=col>&lt;int&gt;</th><th scope=col>&lt;int&gt;</th><th scope=col>&lt;int&gt;</th><th scope=col>&lt;int&gt;</th><th scope=col>&lt;int&gt;</th><th scope=col>&lt;int&gt;</th><th scope=col>⋯</th><th scope=col>&lt;int&gt;</th><th scope=col>&lt;int&gt;</th><th scope=col>&lt;int&gt;</th><th scope=col>&lt;int&gt;</th><th scope=col>&lt;int&gt;</th><th scope=col>&lt;int&gt;</th><th scope=col>&lt;int&gt;</th><th scope=col>&lt;int&gt;</th><th scope=col>&lt;int&gt;</th><th scope=col>&lt;int&gt;</th></tr>\n",
              "</thead>\n",
              "<tbody>\n",
              "\t<tr><th scope=row>178</th><td>NBA</td><td>James Harden    </td><td>HOU</td><td>SG</td><td>82</td><td>3121</td><td>710</td><td>1617</td><td>236</td><td>656</td><td>⋯</td><td>138</td><td>374</td><td> 51</td><td>229</td><td>1</td><td>2376</td><td> 2</td><td>0</td><td>0</td><td>82</td></tr>\n",
              "\t<tr><th scope=row>190</th><td>NBA</td><td>Gordon Hayward  </td><td>UTA</td><td>SG</td><td>80</td><td>2889</td><td>521</td><td>1202</td><td>143</td><td>410</td><td>⋯</td><td> 95</td><td>202</td><td> 27</td><td>183</td><td>0</td><td>1578</td><td> 0</td><td>0</td><td>0</td><td>80</td></tr>\n",
              "\t<tr><th scope=row>446</th><td>NBA</td><td>Kemba Walker    </td><td>CHA</td><td>PG</td><td>81</td><td>2885</td><td>568</td><td>1332</td><td>182</td><td>490</td><td>⋯</td><td>127</td><td>171</td><td> 39</td><td>111</td><td>0</td><td>1689</td><td> 5</td><td>0</td><td>0</td><td>81</td></tr>\n",
              "\t<tr><th scope=row>24</th><td>NBA</td><td>Trevor Ariza    </td><td>HOU</td><td>SF</td><td>81</td><td>2860</td><td>357</td><td> 858</td><td>185</td><td>497</td><td>⋯</td><td>161</td><td>113</td><td> 26</td><td>177</td><td>0</td><td>1025</td><td> 2</td><td>0</td><td>0</td><td>81</td></tr>\n",
              "\t<tr><th scope=row>301</th><td>NBA</td><td>Khris Middleton </td><td>MIL</td><td>SF</td><td>79</td><td>2855</td><td>507</td><td>1144</td><td>143</td><td>362</td><td>⋯</td><td>131</td><td>180</td><td> 19</td><td>204</td><td>1</td><td>1434</td><td> 5</td><td>0</td><td>0</td><td>79</td></tr>\n",
              "\t<tr><th scope=row>274</th><td>NBA</td><td>Kyle Lowry      </td><td>TOR</td><td>PG</td><td>77</td><td>2853</td><td>512</td><td>1198</td><td>212</td><td>546</td><td>⋯</td><td>158</td><td>225</td><td> 34</td><td>211</td><td>1</td><td>1634</td><td> 9</td><td>0</td><td>0</td><td>77</td></tr>\n",
              "\t<tr><th scope=row>314</th><td>NBA</td><td>Marcus Morris   </td><td>DET</td><td>SF</td><td>80</td><td>2852</td><td>410</td><td> 945</td><td>108</td><td>297</td><td>⋯</td><td> 67</td><td>140</td><td> 23</td><td>170</td><td>1</td><td>1131</td><td>11</td><td>0</td><td>0</td><td>80</td></tr>\n",
              "\t<tr><th scope=row>456</th><td>NBA</td><td>Andrew Wiggins  </td><td>MIN</td><td>SF</td><td>81</td><td>2844</td><td>594</td><td>1294</td><td> 57</td><td>190</td><td>⋯</td><td> 78</td><td>182</td><td> 46</td><td>165</td><td>1</td><td>1675</td><td> 1</td><td>0</td><td>0</td><td>81</td></tr>\n",
              "\t<tr><th scope=row>154</th><td>NBA</td><td>Paul George     </td><td>IND</td><td>SF</td><td>81</td><td>2828</td><td>605</td><td>1448</td><td>210</td><td>565</td><td>⋯</td><td>152</td><td>265</td><td> 29</td><td>230</td><td>1</td><td>1874</td><td> 6</td><td>0</td><td>0</td><td>81</td></tr>\n",
              "\t<tr><th scope=row>19</th><td>NBA</td><td>Gi Antetokounmpo</td><td>MIL</td><td>SF</td><td>80</td><td>2825</td><td>513</td><td>1012</td><td> 28</td><td>110</td><td>⋯</td><td> 94</td><td>208</td><td>113</td><td>258</td><td>7</td><td>1350</td><td> 1</td><td>0</td><td>0</td><td>79</td></tr>\n",
              "\t<tr><th scope=row>167</th><td>NBA</td><td>Draymond Green  </td><td>GSW</td><td>SF</td><td>81</td><td>2807</td><td>401</td><td> 819</td><td>100</td><td>258</td><td>⋯</td><td>118</td><td>259</td><td>111</td><td>240</td><td>2</td><td>1131</td><td>11</td><td>0</td><td>0</td><td>81</td></tr>\n",
              "\t<tr><th scope=row>116</th><td>NBA</td><td>Demar Derozan   </td><td>TOR</td><td>SG</td><td>78</td><td>2804</td><td>614</td><td>1377</td><td> 47</td><td>139</td><td>⋯</td><td> 82</td><td>174</td><td> 21</td><td>167</td><td>0</td><td>1830</td><td> 2</td><td>0</td><td>0</td><td>78</td></tr>\n",
              "\t<tr><th scope=row>77</th><td>NBA</td><td>Ke Caldwell-pope</td><td>DET</td><td>SG</td><td>76</td><td>2789</td><td>403</td><td> 960</td><td>114</td><td>368</td><td>⋯</td><td>110</td><td>105</td><td> 17</td><td>167</td><td>0</td><td>1105</td><td> 3</td><td>0</td><td>0</td><td>76</td></tr>\n",
              "\t<tr><th scope=row>447</th><td>NBA</td><td>John Wall       </td><td>WAS</td><td>PG</td><td>77</td><td>2783</td><td>572</td><td>1349</td><td>115</td><td>327</td><td>⋯</td><td>145</td><td>318</td><td> 59</td><td>159</td><td>0</td><td>1531</td><td> 7</td><td>0</td><td>0</td><td>77</td></tr>\n",
              "\t<tr><th scope=row>288</th><td>NBA</td><td>C.j. Mccollum   </td><td>POR</td><td>SG</td><td>80</td><td>2776</td><td>641</td><td>1432</td><td>197</td><td>473</td><td>⋯</td><td> 97</td><td>196</td><td> 24</td><td>187</td><td>0</td><td>1666</td><td> 0</td><td>0</td><td>0</td><td>80</td></tr>\n",
              "\t<tr><th scope=row>453</th><td>NBA</td><td>Russel Westbrook</td><td>OKL</td><td>PG</td><td>80</td><td>2749</td><td>656</td><td>1444</td><td>101</td><td>341</td><td>⋯</td><td>163</td><td>342</td><td> 20</td><td>200</td><td>2</td><td>1878</td><td> 6</td><td>0</td><td>0</td><td>80</td></tr>\n",
              "\t<tr><th scope=row>131</th><td>NBA</td><td>Monta Ellis     </td><td>IND</td><td>PG</td><td>81</td><td>2733</td><td>436</td><td>1021</td><td> 87</td><td>281</td><td>⋯</td><td>149</td><td>203</td><td> 38</td><td>174</td><td>0</td><td>1121</td><td> 1</td><td>0</td><td>0</td><td>81</td></tr>\n",
              "\t<tr><th scope=row>222</th><td>NBA</td><td>Lebron James    </td><td>CLE</td><td>SF</td><td>76</td><td>2710</td><td>737</td><td>1416</td><td> 87</td><td>282</td><td>⋯</td><td>104</td><td>249</td><td> 49</td><td>143</td><td>0</td><td>1920</td><td> 3</td><td>0</td><td>0</td><td>76</td></tr>\n",
              "\t<tr><th scope=row>106</th><td>NBA</td><td>Stephen Curry   </td><td>GSW</td><td>PG</td><td>79</td><td>2705</td><td>805</td><td>1597</td><td>402</td><td>887</td><td>⋯</td><td>169</td><td>261</td><td> 16</td><td>161</td><td>0</td><td>2375</td><td> 1</td><td>0</td><td>0</td><td>79</td></tr>\n",
              "\t<tr><th scope=row>232</th><td>NBA</td><td>Joe Johnson     </td><td>MIA</td><td>SF</td><td>81</td><td>2703</td><td>377</td><td> 859</td><td>120</td><td>313</td><td>⋯</td><td> 61</td><td>160</td><td>  4</td><td>146</td><td>0</td><td> 992</td><td> 1</td><td>0</td><td>0</td><td>81</td></tr>\n",
              "</tbody>\n",
              "</table>\n"
            ]
          },
          "metadata": {
            "tags": []
          }
        }
      ]
    },
    {
      "cell_type": "code",
      "metadata": {
        "id": "3NpzsEhnlUg4",
        "outputId": "40cbfb52-e145-4f03-9b45-96ce1f2cd425",
        "colab": {
          "base_uri": "https://localhost:8080/",
          "height": 898
        }
      },
      "source": [
        "NBA1516Order <- NBA1516[order(NBA1516$TotalMinutesPlayed,decreasing = T),]\n",
        "NBA1516Order[1:30,]"
      ],
      "execution_count": 47,
      "outputs": [
        {
          "output_type": "display_data",
          "data": {
            "text/plain": [
              "    League Name             Team Position GamesPlayed TotalMinutesPlayed\n",
              "178 NBA    James Harden     HOU  SG       82          3121              \n",
              "190 NBA    Gordon Hayward   UTA  SG       80          2889              \n",
              "446 NBA    Kemba Walker     CHA  PG       81          2885              \n",
              "24  NBA    Trevor Ariza     HOU  SF       81          2860              \n",
              "301 NBA    Khris Middleton  MIL  SF       79          2855              \n",
              "274 NBA    Kyle Lowry       TOR  PG       77          2853              \n",
              "314 NBA    Marcus Morris    DET  SF       80          2852              \n",
              "456 NBA    Andrew Wiggins   MIN  SF       81          2844              \n",
              "154 NBA    Paul George      IND  SF       81          2828              \n",
              "19  NBA    Gi Antetokounmpo MIL  SF       80          2825              \n",
              "167 NBA    Draymond Green   GSW  SF       81          2807              \n",
              "116 NBA    Demar Derozan    TOR  SG       78          2804              \n",
              "77  NBA    Ke Caldwell-pope DET  SG       76          2789              \n",
              "447 NBA    John Wall        WAS  PG       77          2783              \n",
              "288 NBA    C.j. Mccollum    POR  SG       80          2776              \n",
              "453 NBA    Russel Westbrook OKL  PG       80          2749              \n",
              "131 NBA    Monta Ellis      IND  PG       81          2733              \n",
              "222 NBA    Lebron James     CLE  SF       76          2710              \n",
              "106 NBA    Stephen Curry    GSW  PG       79          2705              \n",
              "232 NBA    Joe Johnson      MIA  SF       81          2703              \n",
              "267 NBA    Damian Lillard   POR  PG       75          2673              \n",
              "122 NBA    Andre Drummond   DET  C        81          2664              \n",
              "426 NBA    Klay Thompson    GSW  SG       80          2661              \n",
              "422 NBA    Isaiah Thomas    BOS  PG       82          2647              \n",
              "283 NBA    Wesley Matthews  DAL  SG       78          2642              \n",
              "307 NBA    Paul Millsap     ATL  PF       81          2640              \n",
              "208 NBA    Al Horford       ATL  PF       82          2638              \n",
              "431 NBA    Karl-antho Towns MIN  C        82          2621              \n",
              "242 NBA    Deandre Jordan   LAC  C        77          2600              \n",
              "127 NBA    Kevin Durant     OKL  SF       72          2577              \n",
              "    FieldGoalsMade FieldGoalsAttempted ThreesMade ThreesAttempted ⋯ Steals\n",
              "178 710            1617                236        656             ⋯ 138   \n",
              "190 521            1202                143        410             ⋯  95   \n",
              "446 568            1332                182        490             ⋯ 127   \n",
              "24  357             858                185        497             ⋯ 161   \n",
              "301 507            1144                143        362             ⋯ 131   \n",
              "274 512            1198                212        546             ⋯ 158   \n",
              "314 410             945                108        297             ⋯  67   \n",
              "456 594            1294                 57        190             ⋯  78   \n",
              "154 605            1448                210        565             ⋯ 152   \n",
              "19  513            1012                 28        110             ⋯  94   \n",
              "167 401             819                100        258             ⋯ 118   \n",
              "116 614            1377                 47        139             ⋯  82   \n",
              "77  403             960                114        368             ⋯ 110   \n",
              "447 572            1349                115        327             ⋯ 145   \n",
              "288 641            1432                197        473             ⋯  97   \n",
              "453 656            1444                101        341             ⋯ 163   \n",
              "131 436            1021                 87        281             ⋯ 149   \n",
              "222 737            1416                 87        282             ⋯ 104   \n",
              "106 805            1597                402        887             ⋯ 169   \n",
              "232 377             859                120        313             ⋯  61   \n",
              "267 618            1474                229        610             ⋯  65   \n",
              "122 552            1061                  2          6             ⋯ 119   \n",
              "426 651            1386                276        648             ⋯  60   \n",
              "422 591            1382                167        465             ⋯  91   \n",
              "283 331             854                189        525             ⋯  78   \n",
              "307 501            1067                 74        232             ⋯ 148   \n",
              "208 529            1049                 88        257             ⋯  67   \n",
              "431 625            1152                 30         88             ⋯  58   \n",
              "242 357             507                  0          1             ⋯  52   \n",
              "127 698            1381                186        480             ⋯  68   \n",
              "    Turnovers Blocks PersonalFouls Disqualifications TotalPoints Technicals\n",
              "178 374        51    229           1                 2376         2        \n",
              "190 202        27    183           0                 1578         0        \n",
              "446 171        39    111           0                 1689         5        \n",
              "24  113        26    177           0                 1025         2        \n",
              "301 180        19    204           1                 1434         5        \n",
              "274 225        34    211           1                 1634         9        \n",
              "314 140        23    170           1                 1131        11        \n",
              "456 182        46    165           1                 1675         1        \n",
              "154 265        29    230           1                 1874         6        \n",
              "19  208       113    258           7                 1350         1        \n",
              "167 259       111    240           2                 1131        11        \n",
              "116 174        21    167           0                 1830         2        \n",
              "77  105        17    167           0                 1105         3        \n",
              "447 318        59    159           0                 1531         7        \n",
              "288 196        24    187           0                 1666         0        \n",
              "453 342        20    200           2                 1878         6        \n",
              "131 203        38    174           0                 1121         1        \n",
              "222 249        49    143           0                 1920         3        \n",
              "106 261        16    161           0                 2375         1        \n",
              "232 160         4    146           0                  992         1        \n",
              "267 242        28    165           0                 1879         1        \n",
              "122 154       112    245           2                 1314         7        \n",
              "426 138        50    152           0                 1771         0        \n",
              "422 220         9    167           1                 1823         9        \n",
              "283  78        17    179           1                  977         2        \n",
              "307 191       140    237           2                 1385         4        \n",
              "208 107       122    163           0                 1249         1        \n",
              "431 183       138    245           1                 1503         2        \n",
              "242 107       176    207           1                  980        10        \n",
              "127 250        85    137           1                 2029         6        \n",
              "    Ejections FlagrantFouls GamesStarted\n",
              "178 0         0             82          \n",
              "190 0         0             80          \n",
              "446 0         0             81          \n",
              "24  0         0             81          \n",
              "301 0         0             79          \n",
              "274 0         0             77          \n",
              "314 0         0             80          \n",
              "456 0         0             81          \n",
              "154 0         0             81          \n",
              "19  0         0             79          \n",
              "167 0         0             81          \n",
              "116 0         0             78          \n",
              "77  0         0             76          \n",
              "447 0         0             77          \n",
              "288 0         0             80          \n",
              "453 0         0             80          \n",
              "131 0         0             81          \n",
              "222 0         0             76          \n",
              "106 0         0             79          \n",
              "232 0         0             81          \n",
              "267 0         0             75          \n",
              "122 0         0             81          \n",
              "426 0         0             80          \n",
              "422 0         0             79          \n",
              "283 0         0             78          \n",
              "307 0         0             81          \n",
              "208 0         0             82          \n",
              "431 0         0             82          \n",
              "242 0         0             77          \n",
              "127 0         0             72          "
            ],
            "text/latex": "A data.frame: 30 × 25\n\\begin{tabular}{r|lllllllllllllllllllll}\n  & League & Name & Team & Position & GamesPlayed & TotalMinutesPlayed & FieldGoalsMade & FieldGoalsAttempted & ThreesMade & ThreesAttempted & ⋯ & Steals & Turnovers & Blocks & PersonalFouls & Disqualifications & TotalPoints & Technicals & Ejections & FlagrantFouls & GamesStarted\\\\\n  & <fct> & <chr> & <fct> & <fct> & <int> & <int> & <int> & <int> & <int> & <int> & ⋯ & <int> & <int> & <int> & <int> & <int> & <int> & <int> & <int> & <int> & <int>\\\\\n\\hline\n\t178 & NBA & James Harden     & HOU & SG & 82 & 3121 & 710 & 1617 & 236 & 656 & ⋯ & 138 & 374 &  51 & 229 & 1 & 2376 &  2 & 0 & 0 & 82\\\\\n\t190 & NBA & Gordon Hayward   & UTA & SG & 80 & 2889 & 521 & 1202 & 143 & 410 & ⋯ &  95 & 202 &  27 & 183 & 0 & 1578 &  0 & 0 & 0 & 80\\\\\n\t446 & NBA & Kemba Walker     & CHA & PG & 81 & 2885 & 568 & 1332 & 182 & 490 & ⋯ & 127 & 171 &  39 & 111 & 0 & 1689 &  5 & 0 & 0 & 81\\\\\n\t24 & NBA & Trevor Ariza     & HOU & SF & 81 & 2860 & 357 &  858 & 185 & 497 & ⋯ & 161 & 113 &  26 & 177 & 0 & 1025 &  2 & 0 & 0 & 81\\\\\n\t301 & NBA & Khris Middleton  & MIL & SF & 79 & 2855 & 507 & 1144 & 143 & 362 & ⋯ & 131 & 180 &  19 & 204 & 1 & 1434 &  5 & 0 & 0 & 79\\\\\n\t274 & NBA & Kyle Lowry       & TOR & PG & 77 & 2853 & 512 & 1198 & 212 & 546 & ⋯ & 158 & 225 &  34 & 211 & 1 & 1634 &  9 & 0 & 0 & 77\\\\\n\t314 & NBA & Marcus Morris    & DET & SF & 80 & 2852 & 410 &  945 & 108 & 297 & ⋯ &  67 & 140 &  23 & 170 & 1 & 1131 & 11 & 0 & 0 & 80\\\\\n\t456 & NBA & Andrew Wiggins   & MIN & SF & 81 & 2844 & 594 & 1294 &  57 & 190 & ⋯ &  78 & 182 &  46 & 165 & 1 & 1675 &  1 & 0 & 0 & 81\\\\\n\t154 & NBA & Paul George      & IND & SF & 81 & 2828 & 605 & 1448 & 210 & 565 & ⋯ & 152 & 265 &  29 & 230 & 1 & 1874 &  6 & 0 & 0 & 81\\\\\n\t19 & NBA & Gi Antetokounmpo & MIL & SF & 80 & 2825 & 513 & 1012 &  28 & 110 & ⋯ &  94 & 208 & 113 & 258 & 7 & 1350 &  1 & 0 & 0 & 79\\\\\n\t167 & NBA & Draymond Green   & GSW & SF & 81 & 2807 & 401 &  819 & 100 & 258 & ⋯ & 118 & 259 & 111 & 240 & 2 & 1131 & 11 & 0 & 0 & 81\\\\\n\t116 & NBA & Demar Derozan    & TOR & SG & 78 & 2804 & 614 & 1377 &  47 & 139 & ⋯ &  82 & 174 &  21 & 167 & 0 & 1830 &  2 & 0 & 0 & 78\\\\\n\t77 & NBA & Ke Caldwell-pope & DET & SG & 76 & 2789 & 403 &  960 & 114 & 368 & ⋯ & 110 & 105 &  17 & 167 & 0 & 1105 &  3 & 0 & 0 & 76\\\\\n\t447 & NBA & John Wall        & WAS & PG & 77 & 2783 & 572 & 1349 & 115 & 327 & ⋯ & 145 & 318 &  59 & 159 & 0 & 1531 &  7 & 0 & 0 & 77\\\\\n\t288 & NBA & C.j. Mccollum    & POR & SG & 80 & 2776 & 641 & 1432 & 197 & 473 & ⋯ &  97 & 196 &  24 & 187 & 0 & 1666 &  0 & 0 & 0 & 80\\\\\n\t453 & NBA & Russel Westbrook & OKL & PG & 80 & 2749 & 656 & 1444 & 101 & 341 & ⋯ & 163 & 342 &  20 & 200 & 2 & 1878 &  6 & 0 & 0 & 80\\\\\n\t131 & NBA & Monta Ellis      & IND & PG & 81 & 2733 & 436 & 1021 &  87 & 281 & ⋯ & 149 & 203 &  38 & 174 & 0 & 1121 &  1 & 0 & 0 & 81\\\\\n\t222 & NBA & Lebron James     & CLE & SF & 76 & 2710 & 737 & 1416 &  87 & 282 & ⋯ & 104 & 249 &  49 & 143 & 0 & 1920 &  3 & 0 & 0 & 76\\\\\n\t106 & NBA & Stephen Curry    & GSW & PG & 79 & 2705 & 805 & 1597 & 402 & 887 & ⋯ & 169 & 261 &  16 & 161 & 0 & 2375 &  1 & 0 & 0 & 79\\\\\n\t232 & NBA & Joe Johnson      & MIA & SF & 81 & 2703 & 377 &  859 & 120 & 313 & ⋯ &  61 & 160 &   4 & 146 & 0 &  992 &  1 & 0 & 0 & 81\\\\\n\t267 & NBA & Damian Lillard   & POR & PG & 75 & 2673 & 618 & 1474 & 229 & 610 & ⋯ &  65 & 242 &  28 & 165 & 0 & 1879 &  1 & 0 & 0 & 75\\\\\n\t122 & NBA & Andre Drummond   & DET & C  & 81 & 2664 & 552 & 1061 &   2 &   6 & ⋯ & 119 & 154 & 112 & 245 & 2 & 1314 &  7 & 0 & 0 & 81\\\\\n\t426 & NBA & Klay Thompson    & GSW & SG & 80 & 2661 & 651 & 1386 & 276 & 648 & ⋯ &  60 & 138 &  50 & 152 & 0 & 1771 &  0 & 0 & 0 & 80\\\\\n\t422 & NBA & Isaiah Thomas    & BOS & PG & 82 & 2647 & 591 & 1382 & 167 & 465 & ⋯ &  91 & 220 &   9 & 167 & 1 & 1823 &  9 & 0 & 0 & 79\\\\\n\t283 & NBA & Wesley Matthews  & DAL & SG & 78 & 2642 & 331 &  854 & 189 & 525 & ⋯ &  78 &  78 &  17 & 179 & 1 &  977 &  2 & 0 & 0 & 78\\\\\n\t307 & NBA & Paul Millsap     & ATL & PF & 81 & 2640 & 501 & 1067 &  74 & 232 & ⋯ & 148 & 191 & 140 & 237 & 2 & 1385 &  4 & 0 & 0 & 81\\\\\n\t208 & NBA & Al Horford       & ATL & PF & 82 & 2638 & 529 & 1049 &  88 & 257 & ⋯ &  67 & 107 & 122 & 163 & 0 & 1249 &  1 & 0 & 0 & 82\\\\\n\t431 & NBA & Karl-antho Towns & MIN & C  & 82 & 2621 & 625 & 1152 &  30 &  88 & ⋯ &  58 & 183 & 138 & 245 & 1 & 1503 &  2 & 0 & 0 & 82\\\\\n\t242 & NBA & Deandre Jordan   & LAC & C  & 77 & 2600 & 357 &  507 &   0 &   1 & ⋯ &  52 & 107 & 176 & 207 & 1 &  980 & 10 & 0 & 0 & 77\\\\\n\t127 & NBA & Kevin Durant     & OKL & SF & 72 & 2577 & 698 & 1381 & 186 & 480 & ⋯ &  68 & 250 &  85 & 137 & 1 & 2029 &  6 & 0 & 0 & 72\\\\\n\\end{tabular}\n",
            "text/markdown": "\nA data.frame: 30 × 25\n\n| <!--/--> | League &lt;fct&gt; | Name &lt;chr&gt; | Team &lt;fct&gt; | Position &lt;fct&gt; | GamesPlayed &lt;int&gt; | TotalMinutesPlayed &lt;int&gt; | FieldGoalsMade &lt;int&gt; | FieldGoalsAttempted &lt;int&gt; | ThreesMade &lt;int&gt; | ThreesAttempted &lt;int&gt; | ⋯ ⋯ | Steals &lt;int&gt; | Turnovers &lt;int&gt; | Blocks &lt;int&gt; | PersonalFouls &lt;int&gt; | Disqualifications &lt;int&gt; | TotalPoints &lt;int&gt; | Technicals &lt;int&gt; | Ejections &lt;int&gt; | FlagrantFouls &lt;int&gt; | GamesStarted &lt;int&gt; |\n|---|---|---|---|---|---|---|---|---|---|---|---|---|---|---|---|---|---|---|---|---|---|\n| 178 | NBA | James Harden     | HOU | SG | 82 | 3121 | 710 | 1617 | 236 | 656 | ⋯ | 138 | 374 |  51 | 229 | 1 | 2376 |  2 | 0 | 0 | 82 |\n| 190 | NBA | Gordon Hayward   | UTA | SG | 80 | 2889 | 521 | 1202 | 143 | 410 | ⋯ |  95 | 202 |  27 | 183 | 0 | 1578 |  0 | 0 | 0 | 80 |\n| 446 | NBA | Kemba Walker     | CHA | PG | 81 | 2885 | 568 | 1332 | 182 | 490 | ⋯ | 127 | 171 |  39 | 111 | 0 | 1689 |  5 | 0 | 0 | 81 |\n| 24 | NBA | Trevor Ariza     | HOU | SF | 81 | 2860 | 357 |  858 | 185 | 497 | ⋯ | 161 | 113 |  26 | 177 | 0 | 1025 |  2 | 0 | 0 | 81 |\n| 301 | NBA | Khris Middleton  | MIL | SF | 79 | 2855 | 507 | 1144 | 143 | 362 | ⋯ | 131 | 180 |  19 | 204 | 1 | 1434 |  5 | 0 | 0 | 79 |\n| 274 | NBA | Kyle Lowry       | TOR | PG | 77 | 2853 | 512 | 1198 | 212 | 546 | ⋯ | 158 | 225 |  34 | 211 | 1 | 1634 |  9 | 0 | 0 | 77 |\n| 314 | NBA | Marcus Morris    | DET | SF | 80 | 2852 | 410 |  945 | 108 | 297 | ⋯ |  67 | 140 |  23 | 170 | 1 | 1131 | 11 | 0 | 0 | 80 |\n| 456 | NBA | Andrew Wiggins   | MIN | SF | 81 | 2844 | 594 | 1294 |  57 | 190 | ⋯ |  78 | 182 |  46 | 165 | 1 | 1675 |  1 | 0 | 0 | 81 |\n| 154 | NBA | Paul George      | IND | SF | 81 | 2828 | 605 | 1448 | 210 | 565 | ⋯ | 152 | 265 |  29 | 230 | 1 | 1874 |  6 | 0 | 0 | 81 |\n| 19 | NBA | Gi Antetokounmpo | MIL | SF | 80 | 2825 | 513 | 1012 |  28 | 110 | ⋯ |  94 | 208 | 113 | 258 | 7 | 1350 |  1 | 0 | 0 | 79 |\n| 167 | NBA | Draymond Green   | GSW | SF | 81 | 2807 | 401 |  819 | 100 | 258 | ⋯ | 118 | 259 | 111 | 240 | 2 | 1131 | 11 | 0 | 0 | 81 |\n| 116 | NBA | Demar Derozan    | TOR | SG | 78 | 2804 | 614 | 1377 |  47 | 139 | ⋯ |  82 | 174 |  21 | 167 | 0 | 1830 |  2 | 0 | 0 | 78 |\n| 77 | NBA | Ke Caldwell-pope | DET | SG | 76 | 2789 | 403 |  960 | 114 | 368 | ⋯ | 110 | 105 |  17 | 167 | 0 | 1105 |  3 | 0 | 0 | 76 |\n| 447 | NBA | John Wall        | WAS | PG | 77 | 2783 | 572 | 1349 | 115 | 327 | ⋯ | 145 | 318 |  59 | 159 | 0 | 1531 |  7 | 0 | 0 | 77 |\n| 288 | NBA | C.j. Mccollum    | POR | SG | 80 | 2776 | 641 | 1432 | 197 | 473 | ⋯ |  97 | 196 |  24 | 187 | 0 | 1666 |  0 | 0 | 0 | 80 |\n| 453 | NBA | Russel Westbrook | OKL | PG | 80 | 2749 | 656 | 1444 | 101 | 341 | ⋯ | 163 | 342 |  20 | 200 | 2 | 1878 |  6 | 0 | 0 | 80 |\n| 131 | NBA | Monta Ellis      | IND | PG | 81 | 2733 | 436 | 1021 |  87 | 281 | ⋯ | 149 | 203 |  38 | 174 | 0 | 1121 |  1 | 0 | 0 | 81 |\n| 222 | NBA | Lebron James     | CLE | SF | 76 | 2710 | 737 | 1416 |  87 | 282 | ⋯ | 104 | 249 |  49 | 143 | 0 | 1920 |  3 | 0 | 0 | 76 |\n| 106 | NBA | Stephen Curry    | GSW | PG | 79 | 2705 | 805 | 1597 | 402 | 887 | ⋯ | 169 | 261 |  16 | 161 | 0 | 2375 |  1 | 0 | 0 | 79 |\n| 232 | NBA | Joe Johnson      | MIA | SF | 81 | 2703 | 377 |  859 | 120 | 313 | ⋯ |  61 | 160 |   4 | 146 | 0 |  992 |  1 | 0 | 0 | 81 |\n| 267 | NBA | Damian Lillard   | POR | PG | 75 | 2673 | 618 | 1474 | 229 | 610 | ⋯ |  65 | 242 |  28 | 165 | 0 | 1879 |  1 | 0 | 0 | 75 |\n| 122 | NBA | Andre Drummond   | DET | C  | 81 | 2664 | 552 | 1061 |   2 |   6 | ⋯ | 119 | 154 | 112 | 245 | 2 | 1314 |  7 | 0 | 0 | 81 |\n| 426 | NBA | Klay Thompson    | GSW | SG | 80 | 2661 | 651 | 1386 | 276 | 648 | ⋯ |  60 | 138 |  50 | 152 | 0 | 1771 |  0 | 0 | 0 | 80 |\n| 422 | NBA | Isaiah Thomas    | BOS | PG | 82 | 2647 | 591 | 1382 | 167 | 465 | ⋯ |  91 | 220 |   9 | 167 | 1 | 1823 |  9 | 0 | 0 | 79 |\n| 283 | NBA | Wesley Matthews  | DAL | SG | 78 | 2642 | 331 |  854 | 189 | 525 | ⋯ |  78 |  78 |  17 | 179 | 1 |  977 |  2 | 0 | 0 | 78 |\n| 307 | NBA | Paul Millsap     | ATL | PF | 81 | 2640 | 501 | 1067 |  74 | 232 | ⋯ | 148 | 191 | 140 | 237 | 2 | 1385 |  4 | 0 | 0 | 81 |\n| 208 | NBA | Al Horford       | ATL | PF | 82 | 2638 | 529 | 1049 |  88 | 257 | ⋯ |  67 | 107 | 122 | 163 | 0 | 1249 |  1 | 0 | 0 | 82 |\n| 431 | NBA | Karl-antho Towns | MIN | C  | 82 | 2621 | 625 | 1152 |  30 |  88 | ⋯ |  58 | 183 | 138 | 245 | 1 | 1503 |  2 | 0 | 0 | 82 |\n| 242 | NBA | Deandre Jordan   | LAC | C  | 77 | 2600 | 357 |  507 |   0 |   1 | ⋯ |  52 | 107 | 176 | 207 | 1 |  980 | 10 | 0 | 0 | 77 |\n| 127 | NBA | Kevin Durant     | OKL | SF | 72 | 2577 | 698 | 1381 | 186 | 480 | ⋯ |  68 | 250 |  85 | 137 | 1 | 2029 |  6 | 0 | 0 | 72 |\n\n",
            "text/html": [
              "<table>\n",
              "<caption>A data.frame: 30 × 25</caption>\n",
              "<thead>\n",
              "\t<tr><th></th><th scope=col>League</th><th scope=col>Name</th><th scope=col>Team</th><th scope=col>Position</th><th scope=col>GamesPlayed</th><th scope=col>TotalMinutesPlayed</th><th scope=col>FieldGoalsMade</th><th scope=col>FieldGoalsAttempted</th><th scope=col>ThreesMade</th><th scope=col>ThreesAttempted</th><th scope=col>⋯</th><th scope=col>Steals</th><th scope=col>Turnovers</th><th scope=col>Blocks</th><th scope=col>PersonalFouls</th><th scope=col>Disqualifications</th><th scope=col>TotalPoints</th><th scope=col>Technicals</th><th scope=col>Ejections</th><th scope=col>FlagrantFouls</th><th scope=col>GamesStarted</th></tr>\n",
              "\t<tr><th></th><th scope=col>&lt;fct&gt;</th><th scope=col>&lt;chr&gt;</th><th scope=col>&lt;fct&gt;</th><th scope=col>&lt;fct&gt;</th><th scope=col>&lt;int&gt;</th><th scope=col>&lt;int&gt;</th><th scope=col>&lt;int&gt;</th><th scope=col>&lt;int&gt;</th><th scope=col>&lt;int&gt;</th><th scope=col>&lt;int&gt;</th><th scope=col>⋯</th><th scope=col>&lt;int&gt;</th><th scope=col>&lt;int&gt;</th><th scope=col>&lt;int&gt;</th><th scope=col>&lt;int&gt;</th><th scope=col>&lt;int&gt;</th><th scope=col>&lt;int&gt;</th><th scope=col>&lt;int&gt;</th><th scope=col>&lt;int&gt;</th><th scope=col>&lt;int&gt;</th><th scope=col>&lt;int&gt;</th></tr>\n",
              "</thead>\n",
              "<tbody>\n",
              "\t<tr><th scope=row>178</th><td>NBA</td><td>James Harden    </td><td>HOU</td><td>SG</td><td>82</td><td>3121</td><td>710</td><td>1617</td><td>236</td><td>656</td><td>⋯</td><td>138</td><td>374</td><td> 51</td><td>229</td><td>1</td><td>2376</td><td> 2</td><td>0</td><td>0</td><td>82</td></tr>\n",
              "\t<tr><th scope=row>190</th><td>NBA</td><td>Gordon Hayward  </td><td>UTA</td><td>SG</td><td>80</td><td>2889</td><td>521</td><td>1202</td><td>143</td><td>410</td><td>⋯</td><td> 95</td><td>202</td><td> 27</td><td>183</td><td>0</td><td>1578</td><td> 0</td><td>0</td><td>0</td><td>80</td></tr>\n",
              "\t<tr><th scope=row>446</th><td>NBA</td><td>Kemba Walker    </td><td>CHA</td><td>PG</td><td>81</td><td>2885</td><td>568</td><td>1332</td><td>182</td><td>490</td><td>⋯</td><td>127</td><td>171</td><td> 39</td><td>111</td><td>0</td><td>1689</td><td> 5</td><td>0</td><td>0</td><td>81</td></tr>\n",
              "\t<tr><th scope=row>24</th><td>NBA</td><td>Trevor Ariza    </td><td>HOU</td><td>SF</td><td>81</td><td>2860</td><td>357</td><td> 858</td><td>185</td><td>497</td><td>⋯</td><td>161</td><td>113</td><td> 26</td><td>177</td><td>0</td><td>1025</td><td> 2</td><td>0</td><td>0</td><td>81</td></tr>\n",
              "\t<tr><th scope=row>301</th><td>NBA</td><td>Khris Middleton </td><td>MIL</td><td>SF</td><td>79</td><td>2855</td><td>507</td><td>1144</td><td>143</td><td>362</td><td>⋯</td><td>131</td><td>180</td><td> 19</td><td>204</td><td>1</td><td>1434</td><td> 5</td><td>0</td><td>0</td><td>79</td></tr>\n",
              "\t<tr><th scope=row>274</th><td>NBA</td><td>Kyle Lowry      </td><td>TOR</td><td>PG</td><td>77</td><td>2853</td><td>512</td><td>1198</td><td>212</td><td>546</td><td>⋯</td><td>158</td><td>225</td><td> 34</td><td>211</td><td>1</td><td>1634</td><td> 9</td><td>0</td><td>0</td><td>77</td></tr>\n",
              "\t<tr><th scope=row>314</th><td>NBA</td><td>Marcus Morris   </td><td>DET</td><td>SF</td><td>80</td><td>2852</td><td>410</td><td> 945</td><td>108</td><td>297</td><td>⋯</td><td> 67</td><td>140</td><td> 23</td><td>170</td><td>1</td><td>1131</td><td>11</td><td>0</td><td>0</td><td>80</td></tr>\n",
              "\t<tr><th scope=row>456</th><td>NBA</td><td>Andrew Wiggins  </td><td>MIN</td><td>SF</td><td>81</td><td>2844</td><td>594</td><td>1294</td><td> 57</td><td>190</td><td>⋯</td><td> 78</td><td>182</td><td> 46</td><td>165</td><td>1</td><td>1675</td><td> 1</td><td>0</td><td>0</td><td>81</td></tr>\n",
              "\t<tr><th scope=row>154</th><td>NBA</td><td>Paul George     </td><td>IND</td><td>SF</td><td>81</td><td>2828</td><td>605</td><td>1448</td><td>210</td><td>565</td><td>⋯</td><td>152</td><td>265</td><td> 29</td><td>230</td><td>1</td><td>1874</td><td> 6</td><td>0</td><td>0</td><td>81</td></tr>\n",
              "\t<tr><th scope=row>19</th><td>NBA</td><td>Gi Antetokounmpo</td><td>MIL</td><td>SF</td><td>80</td><td>2825</td><td>513</td><td>1012</td><td> 28</td><td>110</td><td>⋯</td><td> 94</td><td>208</td><td>113</td><td>258</td><td>7</td><td>1350</td><td> 1</td><td>0</td><td>0</td><td>79</td></tr>\n",
              "\t<tr><th scope=row>167</th><td>NBA</td><td>Draymond Green  </td><td>GSW</td><td>SF</td><td>81</td><td>2807</td><td>401</td><td> 819</td><td>100</td><td>258</td><td>⋯</td><td>118</td><td>259</td><td>111</td><td>240</td><td>2</td><td>1131</td><td>11</td><td>0</td><td>0</td><td>81</td></tr>\n",
              "\t<tr><th scope=row>116</th><td>NBA</td><td>Demar Derozan   </td><td>TOR</td><td>SG</td><td>78</td><td>2804</td><td>614</td><td>1377</td><td> 47</td><td>139</td><td>⋯</td><td> 82</td><td>174</td><td> 21</td><td>167</td><td>0</td><td>1830</td><td> 2</td><td>0</td><td>0</td><td>78</td></tr>\n",
              "\t<tr><th scope=row>77</th><td>NBA</td><td>Ke Caldwell-pope</td><td>DET</td><td>SG</td><td>76</td><td>2789</td><td>403</td><td> 960</td><td>114</td><td>368</td><td>⋯</td><td>110</td><td>105</td><td> 17</td><td>167</td><td>0</td><td>1105</td><td> 3</td><td>0</td><td>0</td><td>76</td></tr>\n",
              "\t<tr><th scope=row>447</th><td>NBA</td><td>John Wall       </td><td>WAS</td><td>PG</td><td>77</td><td>2783</td><td>572</td><td>1349</td><td>115</td><td>327</td><td>⋯</td><td>145</td><td>318</td><td> 59</td><td>159</td><td>0</td><td>1531</td><td> 7</td><td>0</td><td>0</td><td>77</td></tr>\n",
              "\t<tr><th scope=row>288</th><td>NBA</td><td>C.j. Mccollum   </td><td>POR</td><td>SG</td><td>80</td><td>2776</td><td>641</td><td>1432</td><td>197</td><td>473</td><td>⋯</td><td> 97</td><td>196</td><td> 24</td><td>187</td><td>0</td><td>1666</td><td> 0</td><td>0</td><td>0</td><td>80</td></tr>\n",
              "\t<tr><th scope=row>453</th><td>NBA</td><td>Russel Westbrook</td><td>OKL</td><td>PG</td><td>80</td><td>2749</td><td>656</td><td>1444</td><td>101</td><td>341</td><td>⋯</td><td>163</td><td>342</td><td> 20</td><td>200</td><td>2</td><td>1878</td><td> 6</td><td>0</td><td>0</td><td>80</td></tr>\n",
              "\t<tr><th scope=row>131</th><td>NBA</td><td>Monta Ellis     </td><td>IND</td><td>PG</td><td>81</td><td>2733</td><td>436</td><td>1021</td><td> 87</td><td>281</td><td>⋯</td><td>149</td><td>203</td><td> 38</td><td>174</td><td>0</td><td>1121</td><td> 1</td><td>0</td><td>0</td><td>81</td></tr>\n",
              "\t<tr><th scope=row>222</th><td>NBA</td><td>Lebron James    </td><td>CLE</td><td>SF</td><td>76</td><td>2710</td><td>737</td><td>1416</td><td> 87</td><td>282</td><td>⋯</td><td>104</td><td>249</td><td> 49</td><td>143</td><td>0</td><td>1920</td><td> 3</td><td>0</td><td>0</td><td>76</td></tr>\n",
              "\t<tr><th scope=row>106</th><td>NBA</td><td>Stephen Curry   </td><td>GSW</td><td>PG</td><td>79</td><td>2705</td><td>805</td><td>1597</td><td>402</td><td>887</td><td>⋯</td><td>169</td><td>261</td><td> 16</td><td>161</td><td>0</td><td>2375</td><td> 1</td><td>0</td><td>0</td><td>79</td></tr>\n",
              "\t<tr><th scope=row>232</th><td>NBA</td><td>Joe Johnson     </td><td>MIA</td><td>SF</td><td>81</td><td>2703</td><td>377</td><td> 859</td><td>120</td><td>313</td><td>⋯</td><td> 61</td><td>160</td><td>  4</td><td>146</td><td>0</td><td> 992</td><td> 1</td><td>0</td><td>0</td><td>81</td></tr>\n",
              "\t<tr><th scope=row>267</th><td>NBA</td><td>Damian Lillard  </td><td>POR</td><td>PG</td><td>75</td><td>2673</td><td>618</td><td>1474</td><td>229</td><td>610</td><td>⋯</td><td> 65</td><td>242</td><td> 28</td><td>165</td><td>0</td><td>1879</td><td> 1</td><td>0</td><td>0</td><td>75</td></tr>\n",
              "\t<tr><th scope=row>122</th><td>NBA</td><td>Andre Drummond  </td><td>DET</td><td>C </td><td>81</td><td>2664</td><td>552</td><td>1061</td><td>  2</td><td>  6</td><td>⋯</td><td>119</td><td>154</td><td>112</td><td>245</td><td>2</td><td>1314</td><td> 7</td><td>0</td><td>0</td><td>81</td></tr>\n",
              "\t<tr><th scope=row>426</th><td>NBA</td><td>Klay Thompson   </td><td>GSW</td><td>SG</td><td>80</td><td>2661</td><td>651</td><td>1386</td><td>276</td><td>648</td><td>⋯</td><td> 60</td><td>138</td><td> 50</td><td>152</td><td>0</td><td>1771</td><td> 0</td><td>0</td><td>0</td><td>80</td></tr>\n",
              "\t<tr><th scope=row>422</th><td>NBA</td><td>Isaiah Thomas   </td><td>BOS</td><td>PG</td><td>82</td><td>2647</td><td>591</td><td>1382</td><td>167</td><td>465</td><td>⋯</td><td> 91</td><td>220</td><td>  9</td><td>167</td><td>1</td><td>1823</td><td> 9</td><td>0</td><td>0</td><td>79</td></tr>\n",
              "\t<tr><th scope=row>283</th><td>NBA</td><td>Wesley Matthews </td><td>DAL</td><td>SG</td><td>78</td><td>2642</td><td>331</td><td> 854</td><td>189</td><td>525</td><td>⋯</td><td> 78</td><td> 78</td><td> 17</td><td>179</td><td>1</td><td> 977</td><td> 2</td><td>0</td><td>0</td><td>78</td></tr>\n",
              "\t<tr><th scope=row>307</th><td>NBA</td><td>Paul Millsap    </td><td>ATL</td><td>PF</td><td>81</td><td>2640</td><td>501</td><td>1067</td><td> 74</td><td>232</td><td>⋯</td><td>148</td><td>191</td><td>140</td><td>237</td><td>2</td><td>1385</td><td> 4</td><td>0</td><td>0</td><td>81</td></tr>\n",
              "\t<tr><th scope=row>208</th><td>NBA</td><td>Al Horford      </td><td>ATL</td><td>PF</td><td>82</td><td>2638</td><td>529</td><td>1049</td><td> 88</td><td>257</td><td>⋯</td><td> 67</td><td>107</td><td>122</td><td>163</td><td>0</td><td>1249</td><td> 1</td><td>0</td><td>0</td><td>82</td></tr>\n",
              "\t<tr><th scope=row>431</th><td>NBA</td><td>Karl-antho Towns</td><td>MIN</td><td>C </td><td>82</td><td>2621</td><td>625</td><td>1152</td><td> 30</td><td> 88</td><td>⋯</td><td> 58</td><td>183</td><td>138</td><td>245</td><td>1</td><td>1503</td><td> 2</td><td>0</td><td>0</td><td>82</td></tr>\n",
              "\t<tr><th scope=row>242</th><td>NBA</td><td>Deandre Jordan  </td><td>LAC</td><td>C </td><td>77</td><td>2600</td><td>357</td><td> 507</td><td>  0</td><td>  1</td><td>⋯</td><td> 52</td><td>107</td><td>176</td><td>207</td><td>1</td><td> 980</td><td>10</td><td>0</td><td>0</td><td>77</td></tr>\n",
              "\t<tr><th scope=row>127</th><td>NBA</td><td>Kevin Durant    </td><td>OKL</td><td>SF</td><td>72</td><td>2577</td><td>698</td><td>1381</td><td>186</td><td>480</td><td>⋯</td><td> 68</td><td>250</td><td> 85</td><td>137</td><td>1</td><td>2029</td><td> 6</td><td>0</td><td>0</td><td>72</td></tr>\n",
              "</tbody>\n",
              "</table>\n"
            ]
          },
          "metadata": {
            "tags": []
          }
        }
      ]
    },
    {
      "cell_type": "code",
      "metadata": {
        "id": "uNW7nWBnlWhi",
        "outputId": "b3b73828-268f-4e38-d15d-324b29dd24ac",
        "colab": {
          "base_uri": "https://localhost:8080/",
          "height": 546
        }
      },
      "source": [
        "subset(NBA1516,Team == \"GSW\")"
      ],
      "execution_count": 48,
      "outputs": [
        {
          "output_type": "display_data",
          "data": {
            "text/plain": [
              "    League Name             Team Position GamesPlayed TotalMinutesPlayed\n",
              "32  NBA    Leandro Barbosa  GSW  SG       68          1079              \n",
              "35  NBA    Harrison Barnes  GSW  SF       66          2043              \n",
              "55  NBA    Andrew Bogut     GSW  C        70          1452              \n",
              "88  NBA    Ian Clark        GSW  SG       66           579              \n",
              "106 NBA    Stephen Curry    GSW  PG       79          2705              \n",
              "136 NBA    Festus Ezeli     GSW  C        46           769              \n",
              "167 NBA    Draymond Green   GSW  SF       81          2807              \n",
              "215 NBA    Andre Iguodala   GSW  SG       65          1736              \n",
              "269 NBA    Shaun Livingston GSW  PG       78          1512              \n",
              "270 NBA    Kevon Looney     GSW  SF        5            21              \n",
              "286 NBA    James Mcadoo     GSW  SG       41           265              \n",
              "385 NBA    Brandon Rush     GSW  SG       72          1050              \n",
              "408 NBA    Marrees Speights GSW  C        72           836              \n",
              "426 NBA    Klay Thompson    GSW  SG       80          2661              \n",
              "437 NBA    Anderson Varejao GSW  C        53           494              \n",
              "    FieldGoalsMade FieldGoalsAttempted ThreesMade ThreesAttempted ⋯ Steals\n",
              "32  171             370                 39        111             ⋯  44   \n",
              "35  295             633                 82        214             ⋯  41   \n",
              "55  175             279                  1          1             ⋯  32   \n",
              "88   89             202                 30         84             ⋯  17   \n",
              "106 805            1597                402        887             ⋯ 169   \n",
              "136 125             228                  0          0             ⋯  18   \n",
              "167 401             819                100        258             ⋯ 118   \n",
              "215 176             368                 54        154             ⋯  73   \n",
              "269 203             379                  2         12             ⋯  57   \n",
              "270   4               7                  1          2             ⋯   0   \n",
              "286  45              84                  1          2             ⋯  10   \n",
              "385 111             260                 65        157             ⋯  21   \n",
              "408 197             456                 24         62             ⋯  19   \n",
              "426 651            1386                276        648             ⋯  60   \n",
              "437  53             124                  0          1             ⋯  16   \n",
              "    Turnovers Blocks PersonalFouls Disqualifications TotalPoints Technicals\n",
              "32   53        10    107           0                  433         1        \n",
              "35   58        10    136           1                  774         0        \n",
              "55   83       113    221           4                  375         0        \n",
              "88   43        13     58           0                  236         1        \n",
              "106 261        16    161           0                 2375         1        \n",
              "136  38        50     94           1                  320         0        \n",
              "167 259       111    240           2                 1131        11        \n",
              "215  79        19    102           0                  457         1        \n",
              "269  78        27    140           0                  488         2        \n",
              "270   1         0      2           0                    9         0        \n",
              "286  16         8     39           0                  117         0        \n",
              "385  33        23     57           1                  305         0        \n",
              "408  66        34    117           0                  512         2        \n",
              "426 138        50    152           0                 1771         0        \n",
              "437  22        10     70           0                  138         1        \n",
              "    Ejections FlagrantFouls GamesStarted\n",
              "32  0         0              0          \n",
              "35  0         0             59          \n",
              "55  0         0             66          \n",
              "88  0         0              1          \n",
              "106 0         0             79          \n",
              "136 0         0             13          \n",
              "167 0         0             81          \n",
              "215 0         0              1          \n",
              "269 0         0              3          \n",
              "270 0         0              0          \n",
              "286 0         0              1          \n",
              "385 0         0             25          \n",
              "408 0         0              0          \n",
              "426 0         0             80          \n",
              "437 0         0              0          "
            ],
            "text/latex": "A data.frame: 15 × 25\n\\begin{tabular}{r|lllllllllllllllllllll}\n  & League & Name & Team & Position & GamesPlayed & TotalMinutesPlayed & FieldGoalsMade & FieldGoalsAttempted & ThreesMade & ThreesAttempted & ⋯ & Steals & Turnovers & Blocks & PersonalFouls & Disqualifications & TotalPoints & Technicals & Ejections & FlagrantFouls & GamesStarted\\\\\n  & <fct> & <chr> & <fct> & <fct> & <int> & <int> & <int> & <int> & <int> & <int> & ⋯ & <int> & <int> & <int> & <int> & <int> & <int> & <int> & <int> & <int> & <int>\\\\\n\\hline\n\t32 & NBA & Leandro Barbosa  & GSW & SG & 68 & 1079 & 171 &  370 &  39 & 111 & ⋯ &  44 &  53 &  10 & 107 & 0 &  433 &  1 & 0 & 0 &  0\\\\\n\t35 & NBA & Harrison Barnes  & GSW & SF & 66 & 2043 & 295 &  633 &  82 & 214 & ⋯ &  41 &  58 &  10 & 136 & 1 &  774 &  0 & 0 & 0 & 59\\\\\n\t55 & NBA & Andrew Bogut     & GSW & C  & 70 & 1452 & 175 &  279 &   1 &   1 & ⋯ &  32 &  83 & 113 & 221 & 4 &  375 &  0 & 0 & 0 & 66\\\\\n\t88 & NBA & Ian Clark        & GSW & SG & 66 &  579 &  89 &  202 &  30 &  84 & ⋯ &  17 &  43 &  13 &  58 & 0 &  236 &  1 & 0 & 0 &  1\\\\\n\t106 & NBA & Stephen Curry    & GSW & PG & 79 & 2705 & 805 & 1597 & 402 & 887 & ⋯ & 169 & 261 &  16 & 161 & 0 & 2375 &  1 & 0 & 0 & 79\\\\\n\t136 & NBA & Festus Ezeli     & GSW & C  & 46 &  769 & 125 &  228 &   0 &   0 & ⋯ &  18 &  38 &  50 &  94 & 1 &  320 &  0 & 0 & 0 & 13\\\\\n\t167 & NBA & Draymond Green   & GSW & SF & 81 & 2807 & 401 &  819 & 100 & 258 & ⋯ & 118 & 259 & 111 & 240 & 2 & 1131 & 11 & 0 & 0 & 81\\\\\n\t215 & NBA & Andre Iguodala   & GSW & SG & 65 & 1736 & 176 &  368 &  54 & 154 & ⋯ &  73 &  79 &  19 & 102 & 0 &  457 &  1 & 0 & 0 &  1\\\\\n\t269 & NBA & Shaun Livingston & GSW & PG & 78 & 1512 & 203 &  379 &   2 &  12 & ⋯ &  57 &  78 &  27 & 140 & 0 &  488 &  2 & 0 & 0 &  3\\\\\n\t270 & NBA & Kevon Looney     & GSW & SF &  5 &   21 &   4 &    7 &   1 &   2 & ⋯ &   0 &   1 &   0 &   2 & 0 &    9 &  0 & 0 & 0 &  0\\\\\n\t286 & NBA & James Mcadoo     & GSW & SG & 41 &  265 &  45 &   84 &   1 &   2 & ⋯ &  10 &  16 &   8 &  39 & 0 &  117 &  0 & 0 & 0 &  1\\\\\n\t385 & NBA & Brandon Rush     & GSW & SG & 72 & 1050 & 111 &  260 &  65 & 157 & ⋯ &  21 &  33 &  23 &  57 & 1 &  305 &  0 & 0 & 0 & 25\\\\\n\t408 & NBA & Marrees Speights & GSW & C  & 72 &  836 & 197 &  456 &  24 &  62 & ⋯ &  19 &  66 &  34 & 117 & 0 &  512 &  2 & 0 & 0 &  0\\\\\n\t426 & NBA & Klay Thompson    & GSW & SG & 80 & 2661 & 651 & 1386 & 276 & 648 & ⋯ &  60 & 138 &  50 & 152 & 0 & 1771 &  0 & 0 & 0 & 80\\\\\n\t437 & NBA & Anderson Varejao & GSW & C  & 53 &  494 &  53 &  124 &   0 &   1 & ⋯ &  16 &  22 &  10 &  70 & 0 &  138 &  1 & 0 & 0 &  0\\\\\n\\end{tabular}\n",
            "text/markdown": "\nA data.frame: 15 × 25\n\n| <!--/--> | League &lt;fct&gt; | Name &lt;chr&gt; | Team &lt;fct&gt; | Position &lt;fct&gt; | GamesPlayed &lt;int&gt; | TotalMinutesPlayed &lt;int&gt; | FieldGoalsMade &lt;int&gt; | FieldGoalsAttempted &lt;int&gt; | ThreesMade &lt;int&gt; | ThreesAttempted &lt;int&gt; | ⋯ ⋯ | Steals &lt;int&gt; | Turnovers &lt;int&gt; | Blocks &lt;int&gt; | PersonalFouls &lt;int&gt; | Disqualifications &lt;int&gt; | TotalPoints &lt;int&gt; | Technicals &lt;int&gt; | Ejections &lt;int&gt; | FlagrantFouls &lt;int&gt; | GamesStarted &lt;int&gt; |\n|---|---|---|---|---|---|---|---|---|---|---|---|---|---|---|---|---|---|---|---|---|---|\n| 32 | NBA | Leandro Barbosa  | GSW | SG | 68 | 1079 | 171 |  370 |  39 | 111 | ⋯ |  44 |  53 |  10 | 107 | 0 |  433 |  1 | 0 | 0 |  0 |\n| 35 | NBA | Harrison Barnes  | GSW | SF | 66 | 2043 | 295 |  633 |  82 | 214 | ⋯ |  41 |  58 |  10 | 136 | 1 |  774 |  0 | 0 | 0 | 59 |\n| 55 | NBA | Andrew Bogut     | GSW | C  | 70 | 1452 | 175 |  279 |   1 |   1 | ⋯ |  32 |  83 | 113 | 221 | 4 |  375 |  0 | 0 | 0 | 66 |\n| 88 | NBA | Ian Clark        | GSW | SG | 66 |  579 |  89 |  202 |  30 |  84 | ⋯ |  17 |  43 |  13 |  58 | 0 |  236 |  1 | 0 | 0 |  1 |\n| 106 | NBA | Stephen Curry    | GSW | PG | 79 | 2705 | 805 | 1597 | 402 | 887 | ⋯ | 169 | 261 |  16 | 161 | 0 | 2375 |  1 | 0 | 0 | 79 |\n| 136 | NBA | Festus Ezeli     | GSW | C  | 46 |  769 | 125 |  228 |   0 |   0 | ⋯ |  18 |  38 |  50 |  94 | 1 |  320 |  0 | 0 | 0 | 13 |\n| 167 | NBA | Draymond Green   | GSW | SF | 81 | 2807 | 401 |  819 | 100 | 258 | ⋯ | 118 | 259 | 111 | 240 | 2 | 1131 | 11 | 0 | 0 | 81 |\n| 215 | NBA | Andre Iguodala   | GSW | SG | 65 | 1736 | 176 |  368 |  54 | 154 | ⋯ |  73 |  79 |  19 | 102 | 0 |  457 |  1 | 0 | 0 |  1 |\n| 269 | NBA | Shaun Livingston | GSW | PG | 78 | 1512 | 203 |  379 |   2 |  12 | ⋯ |  57 |  78 |  27 | 140 | 0 |  488 |  2 | 0 | 0 |  3 |\n| 270 | NBA | Kevon Looney     | GSW | SF |  5 |   21 |   4 |    7 |   1 |   2 | ⋯ |   0 |   1 |   0 |   2 | 0 |    9 |  0 | 0 | 0 |  0 |\n| 286 | NBA | James Mcadoo     | GSW | SG | 41 |  265 |  45 |   84 |   1 |   2 | ⋯ |  10 |  16 |   8 |  39 | 0 |  117 |  0 | 0 | 0 |  1 |\n| 385 | NBA | Brandon Rush     | GSW | SG | 72 | 1050 | 111 |  260 |  65 | 157 | ⋯ |  21 |  33 |  23 |  57 | 1 |  305 |  0 | 0 | 0 | 25 |\n| 408 | NBA | Marrees Speights | GSW | C  | 72 |  836 | 197 |  456 |  24 |  62 | ⋯ |  19 |  66 |  34 | 117 | 0 |  512 |  2 | 0 | 0 |  0 |\n| 426 | NBA | Klay Thompson    | GSW | SG | 80 | 2661 | 651 | 1386 | 276 | 648 | ⋯ |  60 | 138 |  50 | 152 | 0 | 1771 |  0 | 0 | 0 | 80 |\n| 437 | NBA | Anderson Varejao | GSW | C  | 53 |  494 |  53 |  124 |   0 |   1 | ⋯ |  16 |  22 |  10 |  70 | 0 |  138 |  1 | 0 | 0 |  0 |\n\n",
            "text/html": [
              "<table>\n",
              "<caption>A data.frame: 15 × 25</caption>\n",
              "<thead>\n",
              "\t<tr><th></th><th scope=col>League</th><th scope=col>Name</th><th scope=col>Team</th><th scope=col>Position</th><th scope=col>GamesPlayed</th><th scope=col>TotalMinutesPlayed</th><th scope=col>FieldGoalsMade</th><th scope=col>FieldGoalsAttempted</th><th scope=col>ThreesMade</th><th scope=col>ThreesAttempted</th><th scope=col>⋯</th><th scope=col>Steals</th><th scope=col>Turnovers</th><th scope=col>Blocks</th><th scope=col>PersonalFouls</th><th scope=col>Disqualifications</th><th scope=col>TotalPoints</th><th scope=col>Technicals</th><th scope=col>Ejections</th><th scope=col>FlagrantFouls</th><th scope=col>GamesStarted</th></tr>\n",
              "\t<tr><th></th><th scope=col>&lt;fct&gt;</th><th scope=col>&lt;chr&gt;</th><th scope=col>&lt;fct&gt;</th><th scope=col>&lt;fct&gt;</th><th scope=col>&lt;int&gt;</th><th scope=col>&lt;int&gt;</th><th scope=col>&lt;int&gt;</th><th scope=col>&lt;int&gt;</th><th scope=col>&lt;int&gt;</th><th scope=col>&lt;int&gt;</th><th scope=col>⋯</th><th scope=col>&lt;int&gt;</th><th scope=col>&lt;int&gt;</th><th scope=col>&lt;int&gt;</th><th scope=col>&lt;int&gt;</th><th scope=col>&lt;int&gt;</th><th scope=col>&lt;int&gt;</th><th scope=col>&lt;int&gt;</th><th scope=col>&lt;int&gt;</th><th scope=col>&lt;int&gt;</th><th scope=col>&lt;int&gt;</th></tr>\n",
              "</thead>\n",
              "<tbody>\n",
              "\t<tr><th scope=row>32</th><td>NBA</td><td>Leandro Barbosa </td><td>GSW</td><td>SG</td><td>68</td><td>1079</td><td>171</td><td> 370</td><td> 39</td><td>111</td><td>⋯</td><td> 44</td><td> 53</td><td> 10</td><td>107</td><td>0</td><td> 433</td><td> 1</td><td>0</td><td>0</td><td> 0</td></tr>\n",
              "\t<tr><th scope=row>35</th><td>NBA</td><td>Harrison Barnes </td><td>GSW</td><td>SF</td><td>66</td><td>2043</td><td>295</td><td> 633</td><td> 82</td><td>214</td><td>⋯</td><td> 41</td><td> 58</td><td> 10</td><td>136</td><td>1</td><td> 774</td><td> 0</td><td>0</td><td>0</td><td>59</td></tr>\n",
              "\t<tr><th scope=row>55</th><td>NBA</td><td>Andrew Bogut    </td><td>GSW</td><td>C </td><td>70</td><td>1452</td><td>175</td><td> 279</td><td>  1</td><td>  1</td><td>⋯</td><td> 32</td><td> 83</td><td>113</td><td>221</td><td>4</td><td> 375</td><td> 0</td><td>0</td><td>0</td><td>66</td></tr>\n",
              "\t<tr><th scope=row>88</th><td>NBA</td><td>Ian Clark       </td><td>GSW</td><td>SG</td><td>66</td><td> 579</td><td> 89</td><td> 202</td><td> 30</td><td> 84</td><td>⋯</td><td> 17</td><td> 43</td><td> 13</td><td> 58</td><td>0</td><td> 236</td><td> 1</td><td>0</td><td>0</td><td> 1</td></tr>\n",
              "\t<tr><th scope=row>106</th><td>NBA</td><td>Stephen Curry   </td><td>GSW</td><td>PG</td><td>79</td><td>2705</td><td>805</td><td>1597</td><td>402</td><td>887</td><td>⋯</td><td>169</td><td>261</td><td> 16</td><td>161</td><td>0</td><td>2375</td><td> 1</td><td>0</td><td>0</td><td>79</td></tr>\n",
              "\t<tr><th scope=row>136</th><td>NBA</td><td>Festus Ezeli    </td><td>GSW</td><td>C </td><td>46</td><td> 769</td><td>125</td><td> 228</td><td>  0</td><td>  0</td><td>⋯</td><td> 18</td><td> 38</td><td> 50</td><td> 94</td><td>1</td><td> 320</td><td> 0</td><td>0</td><td>0</td><td>13</td></tr>\n",
              "\t<tr><th scope=row>167</th><td>NBA</td><td>Draymond Green  </td><td>GSW</td><td>SF</td><td>81</td><td>2807</td><td>401</td><td> 819</td><td>100</td><td>258</td><td>⋯</td><td>118</td><td>259</td><td>111</td><td>240</td><td>2</td><td>1131</td><td>11</td><td>0</td><td>0</td><td>81</td></tr>\n",
              "\t<tr><th scope=row>215</th><td>NBA</td><td>Andre Iguodala  </td><td>GSW</td><td>SG</td><td>65</td><td>1736</td><td>176</td><td> 368</td><td> 54</td><td>154</td><td>⋯</td><td> 73</td><td> 79</td><td> 19</td><td>102</td><td>0</td><td> 457</td><td> 1</td><td>0</td><td>0</td><td> 1</td></tr>\n",
              "\t<tr><th scope=row>269</th><td>NBA</td><td>Shaun Livingston</td><td>GSW</td><td>PG</td><td>78</td><td>1512</td><td>203</td><td> 379</td><td>  2</td><td> 12</td><td>⋯</td><td> 57</td><td> 78</td><td> 27</td><td>140</td><td>0</td><td> 488</td><td> 2</td><td>0</td><td>0</td><td> 3</td></tr>\n",
              "\t<tr><th scope=row>270</th><td>NBA</td><td>Kevon Looney    </td><td>GSW</td><td>SF</td><td> 5</td><td>  21</td><td>  4</td><td>   7</td><td>  1</td><td>  2</td><td>⋯</td><td>  0</td><td>  1</td><td>  0</td><td>  2</td><td>0</td><td>   9</td><td> 0</td><td>0</td><td>0</td><td> 0</td></tr>\n",
              "\t<tr><th scope=row>286</th><td>NBA</td><td>James Mcadoo    </td><td>GSW</td><td>SG</td><td>41</td><td> 265</td><td> 45</td><td>  84</td><td>  1</td><td>  2</td><td>⋯</td><td> 10</td><td> 16</td><td>  8</td><td> 39</td><td>0</td><td> 117</td><td> 0</td><td>0</td><td>0</td><td> 1</td></tr>\n",
              "\t<tr><th scope=row>385</th><td>NBA</td><td>Brandon Rush    </td><td>GSW</td><td>SG</td><td>72</td><td>1050</td><td>111</td><td> 260</td><td> 65</td><td>157</td><td>⋯</td><td> 21</td><td> 33</td><td> 23</td><td> 57</td><td>1</td><td> 305</td><td> 0</td><td>0</td><td>0</td><td>25</td></tr>\n",
              "\t<tr><th scope=row>408</th><td>NBA</td><td>Marrees Speights</td><td>GSW</td><td>C </td><td>72</td><td> 836</td><td>197</td><td> 456</td><td> 24</td><td> 62</td><td>⋯</td><td> 19</td><td> 66</td><td> 34</td><td>117</td><td>0</td><td> 512</td><td> 2</td><td>0</td><td>0</td><td> 0</td></tr>\n",
              "\t<tr><th scope=row>426</th><td>NBA</td><td>Klay Thompson   </td><td>GSW</td><td>SG</td><td>80</td><td>2661</td><td>651</td><td>1386</td><td>276</td><td>648</td><td>⋯</td><td> 60</td><td>138</td><td> 50</td><td>152</td><td>0</td><td>1771</td><td> 0</td><td>0</td><td>0</td><td>80</td></tr>\n",
              "\t<tr><th scope=row>437</th><td>NBA</td><td>Anderson Varejao</td><td>GSW</td><td>C </td><td>53</td><td> 494</td><td> 53</td><td> 124</td><td>  0</td><td>  1</td><td>⋯</td><td> 16</td><td> 22</td><td> 10</td><td> 70</td><td>0</td><td> 138</td><td> 1</td><td>0</td><td>0</td><td> 0</td></tr>\n",
              "</tbody>\n",
              "</table>\n"
            ]
          },
          "metadata": {
            "tags": []
          }
        }
      ]
    },
    {
      "cell_type": "code",
      "metadata": {
        "id": "cb_6hUWNlnum",
        "outputId": "28cf6d5a-d251-4577-d546-ca6fb1eb59c8",
        "colab": {
          "base_uri": "https://localhost:8080/",
          "height": 498
        }
      },
      "source": [
        "subset(NBA1516,Team == \"LAC\")"
      ],
      "execution_count": 49,
      "outputs": [
        {
          "output_type": "display_data",
          "data": {
            "text/plain": [
              "    League Name             Team Position GamesPlayed TotalMinutesPlayed\n",
              "6   NBA    Cole Aldrich     LAC  C        60           802              \n",
              "29  NBA    Jeff Ayres       LAC  PF       16            95              \n",
              "101 NBA    Jamal Crawford   LAC  SG       79          2126              \n",
              "110 NBA    Branden Dawson   LAC  SF        6            28              \n",
              "171 NBA    Jeff Green       LAC  SF       80          2258              \n",
              "172 NBA    Blake Griffin    LAC  PF       35          1171              \n",
              "236 NBA    Wesley Johnson   LAC  SG       80          1664              \n",
              "242 NBA    Deandre Jordan   LAC  C        77          2600              \n",
              "285 NBA    Luc Mbah_a_moute LAC  SF       75          1278              \n",
              "349 NBA    Chris Paul       LAC  PG       74          2425              \n",
              "355 NBA    Paul Pierce      LAC  SF       68          1235              \n",
              "366 NBA    Pablo Prigioni   LAC  PG       59           816              \n",
              "370 NBA    J.j. Redick      LAC  SG       75          2098              \n",
              "373 NBA    Austin Rivers    LAC  SG       67          1466              \n",
              "457 NBA    C.j. Wilcox      LAC  SG       23           168              \n",
              "    FieldGoalsMade FieldGoalsAttempted ThreesMade ThreesAttempted ⋯ Steals\n",
              "6   134             225                  0          0             ⋯  47   \n",
              "29   10              21                  0          1             ⋯   0   \n",
              "101 379             940                117        345             ⋯  52   \n",
              "110   2               5                  0          0             ⋯   0   \n",
              "171 354             824                 67        213             ⋯  58   \n",
              "172 301             604                  6         18             ⋯  28   \n",
              "236 208             515                103        309             ⋯  89   \n",
              "242 357             507                  0          1             ⋯  52   \n",
              "285  94             207                 13         40             ⋯  44   \n",
              "349 515            1114                122        329             ⋯ 151   \n",
              "355 144             397                 75        242             ⋯  33   \n",
              "366  55             147                 28         95             ⋯  53   \n",
              "370 422             880                200        420             ⋯  42   \n",
              "373 226             516                 62        185             ⋯  48   \n",
              "457  26              66                  9         23             ⋯  10   \n",
              "    Turnovers Blocks PersonalFouls Disqualifications TotalPoints Technicals\n",
              "6    64        68    139           1                  328         0        \n",
              "29    5         0     16           0                   24         0        \n",
              "101 113        12    122           0                 1120         3        \n",
              "110   0         1      2           0                    5         0        \n",
              "171  93        40    164           0                  939         0        \n",
              "172  83        17     95           0                  749         7        \n",
              "236  54        56    173           1                  549         0        \n",
              "242 107       176    207           1                  980        10        \n",
              "285  34        19    100           0                  231         0        \n",
              "349 193        13    185           0                 1446         7        \n",
              "355  58        17    129           0                  417         1        \n",
              "366  49         1     82           0                  145         0        \n",
              "370  79         5    135           0                 1226         1        \n",
              "373  61        10    137           1                  593         2        \n",
              "457   2         2     15           0                   70         0        \n",
              "    Ejections FlagrantFouls GamesStarted\n",
              "6   0         0              5          \n",
              "29  0         0              0          \n",
              "101 0         0              5          \n",
              "110 0         0              0          \n",
              "171 0         0             41          \n",
              "172 0         0             35          \n",
              "236 0         0              9          \n",
              "242 0         0             77          \n",
              "285 0         0             61          \n",
              "349 0         0             74          \n",
              "355 0         0             38          \n",
              "366 0         0              3          \n",
              "370 0         0             75          \n",
              "373 0         0              7          \n",
              "457 0         0              0          "
            ],
            "text/latex": "A data.frame: 15 × 25\n\\begin{tabular}{r|lllllllllllllllllllll}\n  & League & Name & Team & Position & GamesPlayed & TotalMinutesPlayed & FieldGoalsMade & FieldGoalsAttempted & ThreesMade & ThreesAttempted & ⋯ & Steals & Turnovers & Blocks & PersonalFouls & Disqualifications & TotalPoints & Technicals & Ejections & FlagrantFouls & GamesStarted\\\\\n  & <fct> & <chr> & <fct> & <fct> & <int> & <int> & <int> & <int> & <int> & <int> & ⋯ & <int> & <int> & <int> & <int> & <int> & <int> & <int> & <int> & <int> & <int>\\\\\n\\hline\n\t6 & NBA & Cole Aldrich     & LAC & C  & 60 &  802 & 134 &  225 &   0 &   0 & ⋯ &  47 &  64 &  68 & 139 & 1 &  328 &  0 & 0 & 0 &  5\\\\\n\t29 & NBA & Jeff Ayres       & LAC & PF & 16 &   95 &  10 &   21 &   0 &   1 & ⋯ &   0 &   5 &   0 &  16 & 0 &   24 &  0 & 0 & 0 &  0\\\\\n\t101 & NBA & Jamal Crawford   & LAC & SG & 79 & 2126 & 379 &  940 & 117 & 345 & ⋯ &  52 & 113 &  12 & 122 & 0 & 1120 &  3 & 0 & 0 &  5\\\\\n\t110 & NBA & Branden Dawson   & LAC & SF &  6 &   28 &   2 &    5 &   0 &   0 & ⋯ &   0 &   0 &   1 &   2 & 0 &    5 &  0 & 0 & 0 &  0\\\\\n\t171 & NBA & Jeff Green       & LAC & SF & 80 & 2258 & 354 &  824 &  67 & 213 & ⋯ &  58 &  93 &  40 & 164 & 0 &  939 &  0 & 0 & 0 & 41\\\\\n\t172 & NBA & Blake Griffin    & LAC & PF & 35 & 1171 & 301 &  604 &   6 &  18 & ⋯ &  28 &  83 &  17 &  95 & 0 &  749 &  7 & 0 & 0 & 35\\\\\n\t236 & NBA & Wesley Johnson   & LAC & SG & 80 & 1664 & 208 &  515 & 103 & 309 & ⋯ &  89 &  54 &  56 & 173 & 1 &  549 &  0 & 0 & 0 &  9\\\\\n\t242 & NBA & Deandre Jordan   & LAC & C  & 77 & 2600 & 357 &  507 &   0 &   1 & ⋯ &  52 & 107 & 176 & 207 & 1 &  980 & 10 & 0 & 0 & 77\\\\\n\t285 & NBA & Luc Mbah\\_a\\_moute & LAC & SF & 75 & 1278 &  94 &  207 &  13 &  40 & ⋯ &  44 &  34 &  19 & 100 & 0 &  231 &  0 & 0 & 0 & 61\\\\\n\t349 & NBA & Chris Paul       & LAC & PG & 74 & 2425 & 515 & 1114 & 122 & 329 & ⋯ & 151 & 193 &  13 & 185 & 0 & 1446 &  7 & 0 & 0 & 74\\\\\n\t355 & NBA & Paul Pierce      & LAC & SF & 68 & 1235 & 144 &  397 &  75 & 242 & ⋯ &  33 &  58 &  17 & 129 & 0 &  417 &  1 & 0 & 0 & 38\\\\\n\t366 & NBA & Pablo Prigioni   & LAC & PG & 59 &  816 &  55 &  147 &  28 &  95 & ⋯ &  53 &  49 &   1 &  82 & 0 &  145 &  0 & 0 & 0 &  3\\\\\n\t370 & NBA & J.j. Redick      & LAC & SG & 75 & 2098 & 422 &  880 & 200 & 420 & ⋯ &  42 &  79 &   5 & 135 & 0 & 1226 &  1 & 0 & 0 & 75\\\\\n\t373 & NBA & Austin Rivers    & LAC & SG & 67 & 1466 & 226 &  516 &  62 & 185 & ⋯ &  48 &  61 &  10 & 137 & 1 &  593 &  2 & 0 & 0 &  7\\\\\n\t457 & NBA & C.j. Wilcox      & LAC & SG & 23 &  168 &  26 &   66 &   9 &  23 & ⋯ &  10 &   2 &   2 &  15 & 0 &   70 &  0 & 0 & 0 &  0\\\\\n\\end{tabular}\n",
            "text/markdown": "\nA data.frame: 15 × 25\n\n| <!--/--> | League &lt;fct&gt; | Name &lt;chr&gt; | Team &lt;fct&gt; | Position &lt;fct&gt; | GamesPlayed &lt;int&gt; | TotalMinutesPlayed &lt;int&gt; | FieldGoalsMade &lt;int&gt; | FieldGoalsAttempted &lt;int&gt; | ThreesMade &lt;int&gt; | ThreesAttempted &lt;int&gt; | ⋯ ⋯ | Steals &lt;int&gt; | Turnovers &lt;int&gt; | Blocks &lt;int&gt; | PersonalFouls &lt;int&gt; | Disqualifications &lt;int&gt; | TotalPoints &lt;int&gt; | Technicals &lt;int&gt; | Ejections &lt;int&gt; | FlagrantFouls &lt;int&gt; | GamesStarted &lt;int&gt; |\n|---|---|---|---|---|---|---|---|---|---|---|---|---|---|---|---|---|---|---|---|---|---|\n| 6 | NBA | Cole Aldrich     | LAC | C  | 60 |  802 | 134 |  225 |   0 |   0 | ⋯ |  47 |  64 |  68 | 139 | 1 |  328 |  0 | 0 | 0 |  5 |\n| 29 | NBA | Jeff Ayres       | LAC | PF | 16 |   95 |  10 |   21 |   0 |   1 | ⋯ |   0 |   5 |   0 |  16 | 0 |   24 |  0 | 0 | 0 |  0 |\n| 101 | NBA | Jamal Crawford   | LAC | SG | 79 | 2126 | 379 |  940 | 117 | 345 | ⋯ |  52 | 113 |  12 | 122 | 0 | 1120 |  3 | 0 | 0 |  5 |\n| 110 | NBA | Branden Dawson   | LAC | SF |  6 |   28 |   2 |    5 |   0 |   0 | ⋯ |   0 |   0 |   1 |   2 | 0 |    5 |  0 | 0 | 0 |  0 |\n| 171 | NBA | Jeff Green       | LAC | SF | 80 | 2258 | 354 |  824 |  67 | 213 | ⋯ |  58 |  93 |  40 | 164 | 0 |  939 |  0 | 0 | 0 | 41 |\n| 172 | NBA | Blake Griffin    | LAC | PF | 35 | 1171 | 301 |  604 |   6 |  18 | ⋯ |  28 |  83 |  17 |  95 | 0 |  749 |  7 | 0 | 0 | 35 |\n| 236 | NBA | Wesley Johnson   | LAC | SG | 80 | 1664 | 208 |  515 | 103 | 309 | ⋯ |  89 |  54 |  56 | 173 | 1 |  549 |  0 | 0 | 0 |  9 |\n| 242 | NBA | Deandre Jordan   | LAC | C  | 77 | 2600 | 357 |  507 |   0 |   1 | ⋯ |  52 | 107 | 176 | 207 | 1 |  980 | 10 | 0 | 0 | 77 |\n| 285 | NBA | Luc Mbah_a_moute | LAC | SF | 75 | 1278 |  94 |  207 |  13 |  40 | ⋯ |  44 |  34 |  19 | 100 | 0 |  231 |  0 | 0 | 0 | 61 |\n| 349 | NBA | Chris Paul       | LAC | PG | 74 | 2425 | 515 | 1114 | 122 | 329 | ⋯ | 151 | 193 |  13 | 185 | 0 | 1446 |  7 | 0 | 0 | 74 |\n| 355 | NBA | Paul Pierce      | LAC | SF | 68 | 1235 | 144 |  397 |  75 | 242 | ⋯ |  33 |  58 |  17 | 129 | 0 |  417 |  1 | 0 | 0 | 38 |\n| 366 | NBA | Pablo Prigioni   | LAC | PG | 59 |  816 |  55 |  147 |  28 |  95 | ⋯ |  53 |  49 |   1 |  82 | 0 |  145 |  0 | 0 | 0 |  3 |\n| 370 | NBA | J.j. Redick      | LAC | SG | 75 | 2098 | 422 |  880 | 200 | 420 | ⋯ |  42 |  79 |   5 | 135 | 0 | 1226 |  1 | 0 | 0 | 75 |\n| 373 | NBA | Austin Rivers    | LAC | SG | 67 | 1466 | 226 |  516 |  62 | 185 | ⋯ |  48 |  61 |  10 | 137 | 1 |  593 |  2 | 0 | 0 |  7 |\n| 457 | NBA | C.j. Wilcox      | LAC | SG | 23 |  168 |  26 |   66 |   9 |  23 | ⋯ |  10 |   2 |   2 |  15 | 0 |   70 |  0 | 0 | 0 |  0 |\n\n",
            "text/html": [
              "<table>\n",
              "<caption>A data.frame: 15 × 25</caption>\n",
              "<thead>\n",
              "\t<tr><th></th><th scope=col>League</th><th scope=col>Name</th><th scope=col>Team</th><th scope=col>Position</th><th scope=col>GamesPlayed</th><th scope=col>TotalMinutesPlayed</th><th scope=col>FieldGoalsMade</th><th scope=col>FieldGoalsAttempted</th><th scope=col>ThreesMade</th><th scope=col>ThreesAttempted</th><th scope=col>⋯</th><th scope=col>Steals</th><th scope=col>Turnovers</th><th scope=col>Blocks</th><th scope=col>PersonalFouls</th><th scope=col>Disqualifications</th><th scope=col>TotalPoints</th><th scope=col>Technicals</th><th scope=col>Ejections</th><th scope=col>FlagrantFouls</th><th scope=col>GamesStarted</th></tr>\n",
              "\t<tr><th></th><th scope=col>&lt;fct&gt;</th><th scope=col>&lt;chr&gt;</th><th scope=col>&lt;fct&gt;</th><th scope=col>&lt;fct&gt;</th><th scope=col>&lt;int&gt;</th><th scope=col>&lt;int&gt;</th><th scope=col>&lt;int&gt;</th><th scope=col>&lt;int&gt;</th><th scope=col>&lt;int&gt;</th><th scope=col>&lt;int&gt;</th><th scope=col>⋯</th><th scope=col>&lt;int&gt;</th><th scope=col>&lt;int&gt;</th><th scope=col>&lt;int&gt;</th><th scope=col>&lt;int&gt;</th><th scope=col>&lt;int&gt;</th><th scope=col>&lt;int&gt;</th><th scope=col>&lt;int&gt;</th><th scope=col>&lt;int&gt;</th><th scope=col>&lt;int&gt;</th><th scope=col>&lt;int&gt;</th></tr>\n",
              "</thead>\n",
              "<tbody>\n",
              "\t<tr><th scope=row>6</th><td>NBA</td><td>Cole Aldrich    </td><td>LAC</td><td>C </td><td>60</td><td> 802</td><td>134</td><td> 225</td><td>  0</td><td>  0</td><td>⋯</td><td> 47</td><td> 64</td><td> 68</td><td>139</td><td>1</td><td> 328</td><td> 0</td><td>0</td><td>0</td><td> 5</td></tr>\n",
              "\t<tr><th scope=row>29</th><td>NBA</td><td>Jeff Ayres      </td><td>LAC</td><td>PF</td><td>16</td><td>  95</td><td> 10</td><td>  21</td><td>  0</td><td>  1</td><td>⋯</td><td>  0</td><td>  5</td><td>  0</td><td> 16</td><td>0</td><td>  24</td><td> 0</td><td>0</td><td>0</td><td> 0</td></tr>\n",
              "\t<tr><th scope=row>101</th><td>NBA</td><td>Jamal Crawford  </td><td>LAC</td><td>SG</td><td>79</td><td>2126</td><td>379</td><td> 940</td><td>117</td><td>345</td><td>⋯</td><td> 52</td><td>113</td><td> 12</td><td>122</td><td>0</td><td>1120</td><td> 3</td><td>0</td><td>0</td><td> 5</td></tr>\n",
              "\t<tr><th scope=row>110</th><td>NBA</td><td>Branden Dawson  </td><td>LAC</td><td>SF</td><td> 6</td><td>  28</td><td>  2</td><td>   5</td><td>  0</td><td>  0</td><td>⋯</td><td>  0</td><td>  0</td><td>  1</td><td>  2</td><td>0</td><td>   5</td><td> 0</td><td>0</td><td>0</td><td> 0</td></tr>\n",
              "\t<tr><th scope=row>171</th><td>NBA</td><td>Jeff Green      </td><td>LAC</td><td>SF</td><td>80</td><td>2258</td><td>354</td><td> 824</td><td> 67</td><td>213</td><td>⋯</td><td> 58</td><td> 93</td><td> 40</td><td>164</td><td>0</td><td> 939</td><td> 0</td><td>0</td><td>0</td><td>41</td></tr>\n",
              "\t<tr><th scope=row>172</th><td>NBA</td><td>Blake Griffin   </td><td>LAC</td><td>PF</td><td>35</td><td>1171</td><td>301</td><td> 604</td><td>  6</td><td> 18</td><td>⋯</td><td> 28</td><td> 83</td><td> 17</td><td> 95</td><td>0</td><td> 749</td><td> 7</td><td>0</td><td>0</td><td>35</td></tr>\n",
              "\t<tr><th scope=row>236</th><td>NBA</td><td>Wesley Johnson  </td><td>LAC</td><td>SG</td><td>80</td><td>1664</td><td>208</td><td> 515</td><td>103</td><td>309</td><td>⋯</td><td> 89</td><td> 54</td><td> 56</td><td>173</td><td>1</td><td> 549</td><td> 0</td><td>0</td><td>0</td><td> 9</td></tr>\n",
              "\t<tr><th scope=row>242</th><td>NBA</td><td>Deandre Jordan  </td><td>LAC</td><td>C </td><td>77</td><td>2600</td><td>357</td><td> 507</td><td>  0</td><td>  1</td><td>⋯</td><td> 52</td><td>107</td><td>176</td><td>207</td><td>1</td><td> 980</td><td>10</td><td>0</td><td>0</td><td>77</td></tr>\n",
              "\t<tr><th scope=row>285</th><td>NBA</td><td>Luc Mbah_a_moute</td><td>LAC</td><td>SF</td><td>75</td><td>1278</td><td> 94</td><td> 207</td><td> 13</td><td> 40</td><td>⋯</td><td> 44</td><td> 34</td><td> 19</td><td>100</td><td>0</td><td> 231</td><td> 0</td><td>0</td><td>0</td><td>61</td></tr>\n",
              "\t<tr><th scope=row>349</th><td>NBA</td><td>Chris Paul      </td><td>LAC</td><td>PG</td><td>74</td><td>2425</td><td>515</td><td>1114</td><td>122</td><td>329</td><td>⋯</td><td>151</td><td>193</td><td> 13</td><td>185</td><td>0</td><td>1446</td><td> 7</td><td>0</td><td>0</td><td>74</td></tr>\n",
              "\t<tr><th scope=row>355</th><td>NBA</td><td>Paul Pierce     </td><td>LAC</td><td>SF</td><td>68</td><td>1235</td><td>144</td><td> 397</td><td> 75</td><td>242</td><td>⋯</td><td> 33</td><td> 58</td><td> 17</td><td>129</td><td>0</td><td> 417</td><td> 1</td><td>0</td><td>0</td><td>38</td></tr>\n",
              "\t<tr><th scope=row>366</th><td>NBA</td><td>Pablo Prigioni  </td><td>LAC</td><td>PG</td><td>59</td><td> 816</td><td> 55</td><td> 147</td><td> 28</td><td> 95</td><td>⋯</td><td> 53</td><td> 49</td><td>  1</td><td> 82</td><td>0</td><td> 145</td><td> 0</td><td>0</td><td>0</td><td> 3</td></tr>\n",
              "\t<tr><th scope=row>370</th><td>NBA</td><td>J.j. Redick     </td><td>LAC</td><td>SG</td><td>75</td><td>2098</td><td>422</td><td> 880</td><td>200</td><td>420</td><td>⋯</td><td> 42</td><td> 79</td><td>  5</td><td>135</td><td>0</td><td>1226</td><td> 1</td><td>0</td><td>0</td><td>75</td></tr>\n",
              "\t<tr><th scope=row>373</th><td>NBA</td><td>Austin Rivers   </td><td>LAC</td><td>SG</td><td>67</td><td>1466</td><td>226</td><td> 516</td><td> 62</td><td>185</td><td>⋯</td><td> 48</td><td> 61</td><td> 10</td><td>137</td><td>1</td><td> 593</td><td> 2</td><td>0</td><td>0</td><td> 7</td></tr>\n",
              "\t<tr><th scope=row>457</th><td>NBA</td><td>C.j. Wilcox     </td><td>LAC</td><td>SG</td><td>23</td><td> 168</td><td> 26</td><td>  66</td><td>  9</td><td> 23</td><td>⋯</td><td> 10</td><td>  2</td><td>  2</td><td> 15</td><td>0</td><td>  70</td><td> 0</td><td>0</td><td>0</td><td> 0</td></tr>\n",
              "</tbody>\n",
              "</table>\n"
            ]
          },
          "metadata": {
            "tags": []
          }
        }
      ]
    },
    {
      "cell_type": "code",
      "metadata": {
        "id": "3sZrajF6lqmp",
        "outputId": "e5abcfc8-50de-4507-96d8-f848f15f7aac",
        "colab": {
          "base_uri": "https://localhost:8080/",
          "height": 120
        }
      },
      "source": [
        "NBA1516[grepl(\"Curry\",NBA1516$Name),]"
      ],
      "execution_count": 51,
      "outputs": [
        {
          "output_type": "display_data",
          "data": {
            "text/plain": [
              "    League Name          Team Position GamesPlayed TotalMinutesPlayed\n",
              "105 NBA    Seth Curry    SAC  SG       44           694              \n",
              "106 NBA    Stephen Curry GSW  PG       79          2705              \n",
              "    FieldGoalsMade FieldGoalsAttempted ThreesMade ThreesAttempted ⋯ Steals\n",
              "105 102             224                 50        111             ⋯  22   \n",
              "106 805            1597                402        887             ⋯ 169   \n",
              "    Turnovers Blocks PersonalFouls Disqualifications TotalPoints Technicals\n",
              "105  36        3      41           0                  299        0         \n",
              "106 261       16     161           0                 2375        1         \n",
              "    Ejections FlagrantFouls GamesStarted\n",
              "105 0         0              9          \n",
              "106 0         0             79          "
            ],
            "text/latex": "A data.frame: 2 × 25\n\\begin{tabular}{r|lllllllllllllllllllll}\n  & League & Name & Team & Position & GamesPlayed & TotalMinutesPlayed & FieldGoalsMade & FieldGoalsAttempted & ThreesMade & ThreesAttempted & ⋯ & Steals & Turnovers & Blocks & PersonalFouls & Disqualifications & TotalPoints & Technicals & Ejections & FlagrantFouls & GamesStarted\\\\\n  & <fct> & <chr> & <fct> & <fct> & <int> & <int> & <int> & <int> & <int> & <int> & ⋯ & <int> & <int> & <int> & <int> & <int> & <int> & <int> & <int> & <int> & <int>\\\\\n\\hline\n\t105 & NBA & Seth Curry    & SAC & SG & 44 &  694 & 102 &  224 &  50 & 111 & ⋯ &  22 &  36 &  3 &  41 & 0 &  299 & 0 & 0 & 0 &  9\\\\\n\t106 & NBA & Stephen Curry & GSW & PG & 79 & 2705 & 805 & 1597 & 402 & 887 & ⋯ & 169 & 261 & 16 & 161 & 0 & 2375 & 1 & 0 & 0 & 79\\\\\n\\end{tabular}\n",
            "text/markdown": "\nA data.frame: 2 × 25\n\n| <!--/--> | League &lt;fct&gt; | Name &lt;chr&gt; | Team &lt;fct&gt; | Position &lt;fct&gt; | GamesPlayed &lt;int&gt; | TotalMinutesPlayed &lt;int&gt; | FieldGoalsMade &lt;int&gt; | FieldGoalsAttempted &lt;int&gt; | ThreesMade &lt;int&gt; | ThreesAttempted &lt;int&gt; | ⋯ ⋯ | Steals &lt;int&gt; | Turnovers &lt;int&gt; | Blocks &lt;int&gt; | PersonalFouls &lt;int&gt; | Disqualifications &lt;int&gt; | TotalPoints &lt;int&gt; | Technicals &lt;int&gt; | Ejections &lt;int&gt; | FlagrantFouls &lt;int&gt; | GamesStarted &lt;int&gt; |\n|---|---|---|---|---|---|---|---|---|---|---|---|---|---|---|---|---|---|---|---|---|---|\n| 105 | NBA | Seth Curry    | SAC | SG | 44 |  694 | 102 |  224 |  50 | 111 | ⋯ |  22 |  36 |  3 |  41 | 0 |  299 | 0 | 0 | 0 |  9 |\n| 106 | NBA | Stephen Curry | GSW | PG | 79 | 2705 | 805 | 1597 | 402 | 887 | ⋯ | 169 | 261 | 16 | 161 | 0 | 2375 | 1 | 0 | 0 | 79 |\n\n",
            "text/html": [
              "<table>\n",
              "<caption>A data.frame: 2 × 25</caption>\n",
              "<thead>\n",
              "\t<tr><th></th><th scope=col>League</th><th scope=col>Name</th><th scope=col>Team</th><th scope=col>Position</th><th scope=col>GamesPlayed</th><th scope=col>TotalMinutesPlayed</th><th scope=col>FieldGoalsMade</th><th scope=col>FieldGoalsAttempted</th><th scope=col>ThreesMade</th><th scope=col>ThreesAttempted</th><th scope=col>⋯</th><th scope=col>Steals</th><th scope=col>Turnovers</th><th scope=col>Blocks</th><th scope=col>PersonalFouls</th><th scope=col>Disqualifications</th><th scope=col>TotalPoints</th><th scope=col>Technicals</th><th scope=col>Ejections</th><th scope=col>FlagrantFouls</th><th scope=col>GamesStarted</th></tr>\n",
              "\t<tr><th></th><th scope=col>&lt;fct&gt;</th><th scope=col>&lt;chr&gt;</th><th scope=col>&lt;fct&gt;</th><th scope=col>&lt;fct&gt;</th><th scope=col>&lt;int&gt;</th><th scope=col>&lt;int&gt;</th><th scope=col>&lt;int&gt;</th><th scope=col>&lt;int&gt;</th><th scope=col>&lt;int&gt;</th><th scope=col>&lt;int&gt;</th><th scope=col>⋯</th><th scope=col>&lt;int&gt;</th><th scope=col>&lt;int&gt;</th><th scope=col>&lt;int&gt;</th><th scope=col>&lt;int&gt;</th><th scope=col>&lt;int&gt;</th><th scope=col>&lt;int&gt;</th><th scope=col>&lt;int&gt;</th><th scope=col>&lt;int&gt;</th><th scope=col>&lt;int&gt;</th><th scope=col>&lt;int&gt;</th></tr>\n",
              "</thead>\n",
              "<tbody>\n",
              "\t<tr><th scope=row>105</th><td>NBA</td><td>Seth Curry   </td><td>SAC</td><td>SG</td><td>44</td><td> 694</td><td>102</td><td> 224</td><td> 50</td><td>111</td><td>⋯</td><td> 22</td><td> 36</td><td> 3</td><td> 41</td><td>0</td><td> 299</td><td>0</td><td>0</td><td>0</td><td> 9</td></tr>\n",
              "\t<tr><th scope=row>106</th><td>NBA</td><td>Stephen Curry</td><td>GSW</td><td>PG</td><td>79</td><td>2705</td><td>805</td><td>1597</td><td>402</td><td>887</td><td>⋯</td><td>169</td><td>261</td><td>16</td><td>161</td><td>0</td><td>2375</td><td>1</td><td>0</td><td>0</td><td>79</td></tr>\n",
              "</tbody>\n",
              "</table>\n"
            ]
          },
          "metadata": {
            "tags": []
          }
        }
      ]
    },
    {
      "cell_type": "code",
      "metadata": {
        "id": "QZXKYC5gl8F5",
        "outputId": "330846c7-60a3-466c-e0d7-bb0a2d29bbb6",
        "colab": {
          "base_uri": "https://localhost:8080/",
          "height": 200
        }
      },
      "source": [
        "NBA1516[grepl(\"Kevin\",NBA1516$Name),]"
      ],
      "execution_count": 52,
      "outputs": [
        {
          "output_type": "display_data",
          "data": {
            "text/plain": [
              "    League Name           Team Position GamesPlayed TotalMinutesPlayed\n",
              "127 NBA    Kevin Durant   OKL  SF       72          2577              \n",
              "149 NBA    Kevin Garnett  MIN  PF       39           559              \n",
              "273 NBA    Kevin Love     CLE  PF       77          2424              \n",
              "282 NBA    Kevin Martin   SAN  SG       55          1093              \n",
              "393 NBA    Kevin Seraphin NYK  PF       48           530              \n",
              "    FieldGoalsMade FieldGoalsAttempted ThreesMade ThreesAttempted ⋯ Steals\n",
              "127 698            1381                186        480             ⋯ 68    \n",
              "149  54             115                  0          1             ⋯ 28    \n",
              "273 409             978                158        439             ⋯ 58    \n",
              "282 156             419                 49        135             ⋯ 26    \n",
              "393  84             205                  0          2             ⋯  8    \n",
              "    Turnovers Blocks PersonalFouls Disqualifications TotalPoints Technicals\n",
              "127 250       85     137           1                 2029        6         \n",
              "149  16       10      70           0                  122        6         \n",
              "273 142       41     159           0                 1234        0         \n",
              "282  54        3      83           0                  514        0         \n",
              "393  43       36      67           0                  187        0         \n",
              "    Ejections FlagrantFouls GamesStarted\n",
              "127 0         0             72          \n",
              "149 0         0             38          \n",
              "273 0         0             77          \n",
              "282 0         0             13          \n",
              "393 0         0              0          "
            ],
            "text/latex": "A data.frame: 5 × 25\n\\begin{tabular}{r|lllllllllllllllllllll}\n  & League & Name & Team & Position & GamesPlayed & TotalMinutesPlayed & FieldGoalsMade & FieldGoalsAttempted & ThreesMade & ThreesAttempted & ⋯ & Steals & Turnovers & Blocks & PersonalFouls & Disqualifications & TotalPoints & Technicals & Ejections & FlagrantFouls & GamesStarted\\\\\n  & <fct> & <chr> & <fct> & <fct> & <int> & <int> & <int> & <int> & <int> & <int> & ⋯ & <int> & <int> & <int> & <int> & <int> & <int> & <int> & <int> & <int> & <int>\\\\\n\\hline\n\t127 & NBA & Kevin Durant   & OKL & SF & 72 & 2577 & 698 & 1381 & 186 & 480 & ⋯ & 68 & 250 & 85 & 137 & 1 & 2029 & 6 & 0 & 0 & 72\\\\\n\t149 & NBA & Kevin Garnett  & MIN & PF & 39 &  559 &  54 &  115 &   0 &   1 & ⋯ & 28 &  16 & 10 &  70 & 0 &  122 & 6 & 0 & 0 & 38\\\\\n\t273 & NBA & Kevin Love     & CLE & PF & 77 & 2424 & 409 &  978 & 158 & 439 & ⋯ & 58 & 142 & 41 & 159 & 0 & 1234 & 0 & 0 & 0 & 77\\\\\n\t282 & NBA & Kevin Martin   & SAN & SG & 55 & 1093 & 156 &  419 &  49 & 135 & ⋯ & 26 &  54 &  3 &  83 & 0 &  514 & 0 & 0 & 0 & 13\\\\\n\t393 & NBA & Kevin Seraphin & NYK & PF & 48 &  530 &  84 &  205 &   0 &   2 & ⋯ &  8 &  43 & 36 &  67 & 0 &  187 & 0 & 0 & 0 &  0\\\\\n\\end{tabular}\n",
            "text/markdown": "\nA data.frame: 5 × 25\n\n| <!--/--> | League &lt;fct&gt; | Name &lt;chr&gt; | Team &lt;fct&gt; | Position &lt;fct&gt; | GamesPlayed &lt;int&gt; | TotalMinutesPlayed &lt;int&gt; | FieldGoalsMade &lt;int&gt; | FieldGoalsAttempted &lt;int&gt; | ThreesMade &lt;int&gt; | ThreesAttempted &lt;int&gt; | ⋯ ⋯ | Steals &lt;int&gt; | Turnovers &lt;int&gt; | Blocks &lt;int&gt; | PersonalFouls &lt;int&gt; | Disqualifications &lt;int&gt; | TotalPoints &lt;int&gt; | Technicals &lt;int&gt; | Ejections &lt;int&gt; | FlagrantFouls &lt;int&gt; | GamesStarted &lt;int&gt; |\n|---|---|---|---|---|---|---|---|---|---|---|---|---|---|---|---|---|---|---|---|---|---|\n| 127 | NBA | Kevin Durant   | OKL | SF | 72 | 2577 | 698 | 1381 | 186 | 480 | ⋯ | 68 | 250 | 85 | 137 | 1 | 2029 | 6 | 0 | 0 | 72 |\n| 149 | NBA | Kevin Garnett  | MIN | PF | 39 |  559 |  54 |  115 |   0 |   1 | ⋯ | 28 |  16 | 10 |  70 | 0 |  122 | 6 | 0 | 0 | 38 |\n| 273 | NBA | Kevin Love     | CLE | PF | 77 | 2424 | 409 |  978 | 158 | 439 | ⋯ | 58 | 142 | 41 | 159 | 0 | 1234 | 0 | 0 | 0 | 77 |\n| 282 | NBA | Kevin Martin   | SAN | SG | 55 | 1093 | 156 |  419 |  49 | 135 | ⋯ | 26 |  54 |  3 |  83 | 0 |  514 | 0 | 0 | 0 | 13 |\n| 393 | NBA | Kevin Seraphin | NYK | PF | 48 |  530 |  84 |  205 |   0 |   2 | ⋯ |  8 |  43 | 36 |  67 | 0 |  187 | 0 | 0 | 0 |  0 |\n\n",
            "text/html": [
              "<table>\n",
              "<caption>A data.frame: 5 × 25</caption>\n",
              "<thead>\n",
              "\t<tr><th></th><th scope=col>League</th><th scope=col>Name</th><th scope=col>Team</th><th scope=col>Position</th><th scope=col>GamesPlayed</th><th scope=col>TotalMinutesPlayed</th><th scope=col>FieldGoalsMade</th><th scope=col>FieldGoalsAttempted</th><th scope=col>ThreesMade</th><th scope=col>ThreesAttempted</th><th scope=col>⋯</th><th scope=col>Steals</th><th scope=col>Turnovers</th><th scope=col>Blocks</th><th scope=col>PersonalFouls</th><th scope=col>Disqualifications</th><th scope=col>TotalPoints</th><th scope=col>Technicals</th><th scope=col>Ejections</th><th scope=col>FlagrantFouls</th><th scope=col>GamesStarted</th></tr>\n",
              "\t<tr><th></th><th scope=col>&lt;fct&gt;</th><th scope=col>&lt;chr&gt;</th><th scope=col>&lt;fct&gt;</th><th scope=col>&lt;fct&gt;</th><th scope=col>&lt;int&gt;</th><th scope=col>&lt;int&gt;</th><th scope=col>&lt;int&gt;</th><th scope=col>&lt;int&gt;</th><th scope=col>&lt;int&gt;</th><th scope=col>&lt;int&gt;</th><th scope=col>⋯</th><th scope=col>&lt;int&gt;</th><th scope=col>&lt;int&gt;</th><th scope=col>&lt;int&gt;</th><th scope=col>&lt;int&gt;</th><th scope=col>&lt;int&gt;</th><th scope=col>&lt;int&gt;</th><th scope=col>&lt;int&gt;</th><th scope=col>&lt;int&gt;</th><th scope=col>&lt;int&gt;</th><th scope=col>&lt;int&gt;</th></tr>\n",
              "</thead>\n",
              "<tbody>\n",
              "\t<tr><th scope=row>127</th><td>NBA</td><td>Kevin Durant  </td><td>OKL</td><td>SF</td><td>72</td><td>2577</td><td>698</td><td>1381</td><td>186</td><td>480</td><td>⋯</td><td>68</td><td>250</td><td>85</td><td>137</td><td>1</td><td>2029</td><td>6</td><td>0</td><td>0</td><td>72</td></tr>\n",
              "\t<tr><th scope=row>149</th><td>NBA</td><td>Kevin Garnett </td><td>MIN</td><td>PF</td><td>39</td><td> 559</td><td> 54</td><td> 115</td><td>  0</td><td>  1</td><td>⋯</td><td>28</td><td> 16</td><td>10</td><td> 70</td><td>0</td><td> 122</td><td>6</td><td>0</td><td>0</td><td>38</td></tr>\n",
              "\t<tr><th scope=row>273</th><td>NBA</td><td>Kevin Love    </td><td>CLE</td><td>PF</td><td>77</td><td>2424</td><td>409</td><td> 978</td><td>158</td><td>439</td><td>⋯</td><td>58</td><td>142</td><td>41</td><td>159</td><td>0</td><td>1234</td><td>0</td><td>0</td><td>0</td><td>77</td></tr>\n",
              "\t<tr><th scope=row>282</th><td>NBA</td><td>Kevin Martin  </td><td>SAN</td><td>SG</td><td>55</td><td>1093</td><td>156</td><td> 419</td><td> 49</td><td>135</td><td>⋯</td><td>26</td><td> 54</td><td> 3</td><td> 83</td><td>0</td><td> 514</td><td>0</td><td>0</td><td>0</td><td>13</td></tr>\n",
              "\t<tr><th scope=row>393</th><td>NBA</td><td>Kevin Seraphin</td><td>NYK</td><td>PF</td><td>48</td><td> 530</td><td> 84</td><td> 205</td><td>  0</td><td>  2</td><td>⋯</td><td> 8</td><td> 43</td><td>36</td><td> 67</td><td>0</td><td> 187</td><td>0</td><td>0</td><td>0</td><td> 0</td></tr>\n",
              "</tbody>\n",
              "</table>\n"
            ]
          },
          "metadata": {
            "tags": []
          }
        }
      ]
    },
    {
      "cell_type": "code",
      "metadata": {
        "id": "J3cGrFvWmCaL",
        "outputId": "a52edde6-5615-4caa-a278-993334796b36",
        "colab": {
          "base_uri": "https://localhost:8080/",
          "height": 68
        }
      },
      "source": [
        "install.packages(\"data.table\")\n",
        "library(data.table)"
      ],
      "execution_count": 53,
      "outputs": [
        {
          "output_type": "stream",
          "text": [
            "Installing package into ‘/usr/local/lib/R/site-library’\n",
            "(as ‘lib’ is unspecified)\n",
            "\n"
          ],
          "name": "stderr"
        }
      ]
    },
    {
      "cell_type": "code",
      "metadata": {
        "id": "7LuR0I3Jo3I9"
      },
      "source": [
        "NBA1516DT <- data.table(NBA1516)"
      ],
      "execution_count": 62,
      "outputs": []
    },
    {
      "cell_type": "code",
      "metadata": {
        "id": "MLOd3WFWolGd",
        "outputId": "62b24454-d52a-48c9-f190-6f2295245976",
        "colab": {
          "base_uri": "https://localhost:8080/",
          "height": 34
        }
      },
      "source": [
        "class(NBA1516DT)"
      ],
      "execution_count": 63,
      "outputs": [
        {
          "output_type": "display_data",
          "data": {
            "text/plain": [
              "[1] \"data.table\" \"data.frame\""
            ],
            "text/latex": "\\begin{enumerate*}\n\\item 'data.table'\n\\item 'data.frame'\n\\end{enumerate*}\n",
            "text/markdown": "1. 'data.table'\n2. 'data.frame'\n\n\n",
            "text/html": [
              "<style>\n",
              ".list-inline {list-style: none; margin:0; padding: 0}\n",
              ".list-inline>li {display: inline-block}\n",
              ".list-inline>li:not(:last-child)::after {content: \"\\00b7\"; padding: 0 .5ex}\n",
              "</style>\n",
              "<ol class=list-inline><li>'data.table'</li><li>'data.frame'</li></ol>\n"
            ]
          },
          "metadata": {
            "tags": []
          }
        }
      ]
    },
    {
      "cell_type": "code",
      "metadata": {
        "id": "gL8rGCLpmTr0",
        "outputId": "448aef2d-2c0a-432b-c462-2d95e17d15d1",
        "colab": {
          "base_uri": "https://localhost:8080/",
          "height": 1000
        }
      },
      "source": [
        "NBA1516DT[grepl(\"James\",Name)]\n",
        "NBA1516DT[GamesPlayed>80]\n",
        "NBA1516DT[grepl(\"C\",Name)&Position==\"PG\"]"
      ],
      "execution_count": 64,
      "outputs": [
        {
          "output_type": "display_data",
          "data": {
            "text/plain": [
              "  League Name           Team Position GamesPlayed TotalMinutesPlayed\n",
              "1 NBA    James Anderson SAC  SG       51           721              \n",
              "2 NBA    James Ennis    NOR  SF       22           329              \n",
              "3 NBA    James Harden   HOU  SG       82          3121              \n",
              "4 NBA    Lebron James   CLE  SF       76          2710              \n",
              "5 NBA    James Johnson  TOR  PF       57           924              \n",
              "6 NBA    James Jones    CLE  SG       48           466              \n",
              "7 NBA    James Mcadoo   GSW  SG       41           265              \n",
              "8 NBA    James Young    BOS  SG       29           200              \n",
              "  FieldGoalsMade FieldGoalsAttempted ThreesMade ThreesAttempted ⋯ Steals\n",
              "1  67             178                 23         86             ⋯  21   \n",
              "2  54             113                 26         58             ⋯  16   \n",
              "3 710            1617                236        656             ⋯ 138   \n",
              "4 737            1416                 87        282             ⋯ 104   \n",
              "5 114             240                 20         66             ⋯  29   \n",
              "6  59             143                 41        104             ⋯  11   \n",
              "7  45              84                  1          2             ⋯  10   \n",
              "8  11              36                  6         26             ⋯   6   \n",
              "  Turnovers Blocks PersonalFouls Disqualifications TotalPoints Technicals\n",
              "1  42       14      54           0                  179        0         \n",
              "2  19        5      28           1                  159        0         \n",
              "3 374       51     229           1                 2376        2         \n",
              "4 249       49     143           0                 1920        3         \n",
              "5  54       33      84           0                  287        0         \n",
              "6  13       10      50           0                  180        1         \n",
              "7  16        8      39           0                  117        0         \n",
              "8   5        1      17           0                   29        0         \n",
              "  Ejections FlagrantFouls GamesStarted\n",
              "1 0         0             15          \n",
              "2 0         0              5          \n",
              "3 0         0             82          \n",
              "4 0         0             76          \n",
              "5 0         0             32          \n",
              "6 0         0              0          \n",
              "7 0         0              1          \n",
              "8 0         0              0          "
            ],
            "text/latex": "A data.table: 8 × 25\n\\begin{tabular}{lllllllllllllllllllll}\n League & Name & Team & Position & GamesPlayed & TotalMinutesPlayed & FieldGoalsMade & FieldGoalsAttempted & ThreesMade & ThreesAttempted & ⋯ & Steals & Turnovers & Blocks & PersonalFouls & Disqualifications & TotalPoints & Technicals & Ejections & FlagrantFouls & GamesStarted\\\\\n <fct> & <chr> & <fct> & <fct> & <int> & <int> & <int> & <int> & <int> & <int> & ⋯ & <int> & <int> & <int> & <int> & <int> & <int> & <int> & <int> & <int> & <int>\\\\\n\\hline\n\t NBA & James Anderson & SAC & SG & 51 &  721 &  67 &  178 &  23 &  86 & ⋯ &  21 &  42 & 14 &  54 & 0 &  179 & 0 & 0 & 0 & 15\\\\\n\t NBA & James Ennis    & NOR & SF & 22 &  329 &  54 &  113 &  26 &  58 & ⋯ &  16 &  19 &  5 &  28 & 1 &  159 & 0 & 0 & 0 &  5\\\\\n\t NBA & James Harden   & HOU & SG & 82 & 3121 & 710 & 1617 & 236 & 656 & ⋯ & 138 & 374 & 51 & 229 & 1 & 2376 & 2 & 0 & 0 & 82\\\\\n\t NBA & Lebron James   & CLE & SF & 76 & 2710 & 737 & 1416 &  87 & 282 & ⋯ & 104 & 249 & 49 & 143 & 0 & 1920 & 3 & 0 & 0 & 76\\\\\n\t NBA & James Johnson  & TOR & PF & 57 &  924 & 114 &  240 &  20 &  66 & ⋯ &  29 &  54 & 33 &  84 & 0 &  287 & 0 & 0 & 0 & 32\\\\\n\t NBA & James Jones    & CLE & SG & 48 &  466 &  59 &  143 &  41 & 104 & ⋯ &  11 &  13 & 10 &  50 & 0 &  180 & 1 & 0 & 0 &  0\\\\\n\t NBA & James Mcadoo   & GSW & SG & 41 &  265 &  45 &   84 &   1 &   2 & ⋯ &  10 &  16 &  8 &  39 & 0 &  117 & 0 & 0 & 0 &  1\\\\\n\t NBA & James Young    & BOS & SG & 29 &  200 &  11 &   36 &   6 &  26 & ⋯ &   6 &   5 &  1 &  17 & 0 &   29 & 0 & 0 & 0 &  0\\\\\n\\end{tabular}\n",
            "text/markdown": "\nA data.table: 8 × 25\n\n| League &lt;fct&gt; | Name &lt;chr&gt; | Team &lt;fct&gt; | Position &lt;fct&gt; | GamesPlayed &lt;int&gt; | TotalMinutesPlayed &lt;int&gt; | FieldGoalsMade &lt;int&gt; | FieldGoalsAttempted &lt;int&gt; | ThreesMade &lt;int&gt; | ThreesAttempted &lt;int&gt; | ⋯ ⋯ | Steals &lt;int&gt; | Turnovers &lt;int&gt; | Blocks &lt;int&gt; | PersonalFouls &lt;int&gt; | Disqualifications &lt;int&gt; | TotalPoints &lt;int&gt; | Technicals &lt;int&gt; | Ejections &lt;int&gt; | FlagrantFouls &lt;int&gt; | GamesStarted &lt;int&gt; |\n|---|---|---|---|---|---|---|---|---|---|---|---|---|---|---|---|---|---|---|---|---|\n| NBA | James Anderson | SAC | SG | 51 |  721 |  67 |  178 |  23 |  86 | ⋯ |  21 |  42 | 14 |  54 | 0 |  179 | 0 | 0 | 0 | 15 |\n| NBA | James Ennis    | NOR | SF | 22 |  329 |  54 |  113 |  26 |  58 | ⋯ |  16 |  19 |  5 |  28 | 1 |  159 | 0 | 0 | 0 |  5 |\n| NBA | James Harden   | HOU | SG | 82 | 3121 | 710 | 1617 | 236 | 656 | ⋯ | 138 | 374 | 51 | 229 | 1 | 2376 | 2 | 0 | 0 | 82 |\n| NBA | Lebron James   | CLE | SF | 76 | 2710 | 737 | 1416 |  87 | 282 | ⋯ | 104 | 249 | 49 | 143 | 0 | 1920 | 3 | 0 | 0 | 76 |\n| NBA | James Johnson  | TOR | PF | 57 |  924 | 114 |  240 |  20 |  66 | ⋯ |  29 |  54 | 33 |  84 | 0 |  287 | 0 | 0 | 0 | 32 |\n| NBA | James Jones    | CLE | SG | 48 |  466 |  59 |  143 |  41 | 104 | ⋯ |  11 |  13 | 10 |  50 | 0 |  180 | 1 | 0 | 0 |  0 |\n| NBA | James Mcadoo   | GSW | SG | 41 |  265 |  45 |   84 |   1 |   2 | ⋯ |  10 |  16 |  8 |  39 | 0 |  117 | 0 | 0 | 0 |  1 |\n| NBA | James Young    | BOS | SG | 29 |  200 |  11 |   36 |   6 |  26 | ⋯ |   6 |   5 |  1 |  17 | 0 |   29 | 0 | 0 | 0 |  0 |\n\n",
            "text/html": [
              "<table>\n",
              "<caption>A data.table: 8 × 25</caption>\n",
              "<thead>\n",
              "\t<tr><th scope=col>League</th><th scope=col>Name</th><th scope=col>Team</th><th scope=col>Position</th><th scope=col>GamesPlayed</th><th scope=col>TotalMinutesPlayed</th><th scope=col>FieldGoalsMade</th><th scope=col>FieldGoalsAttempted</th><th scope=col>ThreesMade</th><th scope=col>ThreesAttempted</th><th scope=col>⋯</th><th scope=col>Steals</th><th scope=col>Turnovers</th><th scope=col>Blocks</th><th scope=col>PersonalFouls</th><th scope=col>Disqualifications</th><th scope=col>TotalPoints</th><th scope=col>Technicals</th><th scope=col>Ejections</th><th scope=col>FlagrantFouls</th><th scope=col>GamesStarted</th></tr>\n",
              "\t<tr><th scope=col>&lt;fct&gt;</th><th scope=col>&lt;chr&gt;</th><th scope=col>&lt;fct&gt;</th><th scope=col>&lt;fct&gt;</th><th scope=col>&lt;int&gt;</th><th scope=col>&lt;int&gt;</th><th scope=col>&lt;int&gt;</th><th scope=col>&lt;int&gt;</th><th scope=col>&lt;int&gt;</th><th scope=col>&lt;int&gt;</th><th scope=col>⋯</th><th scope=col>&lt;int&gt;</th><th scope=col>&lt;int&gt;</th><th scope=col>&lt;int&gt;</th><th scope=col>&lt;int&gt;</th><th scope=col>&lt;int&gt;</th><th scope=col>&lt;int&gt;</th><th scope=col>&lt;int&gt;</th><th scope=col>&lt;int&gt;</th><th scope=col>&lt;int&gt;</th><th scope=col>&lt;int&gt;</th></tr>\n",
              "</thead>\n",
              "<tbody>\n",
              "\t<tr><td>NBA</td><td>James Anderson</td><td>SAC</td><td>SG</td><td>51</td><td> 721</td><td> 67</td><td> 178</td><td> 23</td><td> 86</td><td>⋯</td><td> 21</td><td> 42</td><td>14</td><td> 54</td><td>0</td><td> 179</td><td>0</td><td>0</td><td>0</td><td>15</td></tr>\n",
              "\t<tr><td>NBA</td><td>James Ennis   </td><td>NOR</td><td>SF</td><td>22</td><td> 329</td><td> 54</td><td> 113</td><td> 26</td><td> 58</td><td>⋯</td><td> 16</td><td> 19</td><td> 5</td><td> 28</td><td>1</td><td> 159</td><td>0</td><td>0</td><td>0</td><td> 5</td></tr>\n",
              "\t<tr><td>NBA</td><td>James Harden  </td><td>HOU</td><td>SG</td><td>82</td><td>3121</td><td>710</td><td>1617</td><td>236</td><td>656</td><td>⋯</td><td>138</td><td>374</td><td>51</td><td>229</td><td>1</td><td>2376</td><td>2</td><td>0</td><td>0</td><td>82</td></tr>\n",
              "\t<tr><td>NBA</td><td>Lebron James  </td><td>CLE</td><td>SF</td><td>76</td><td>2710</td><td>737</td><td>1416</td><td> 87</td><td>282</td><td>⋯</td><td>104</td><td>249</td><td>49</td><td>143</td><td>0</td><td>1920</td><td>3</td><td>0</td><td>0</td><td>76</td></tr>\n",
              "\t<tr><td>NBA</td><td>James Johnson </td><td>TOR</td><td>PF</td><td>57</td><td> 924</td><td>114</td><td> 240</td><td> 20</td><td> 66</td><td>⋯</td><td> 29</td><td> 54</td><td>33</td><td> 84</td><td>0</td><td> 287</td><td>0</td><td>0</td><td>0</td><td>32</td></tr>\n",
              "\t<tr><td>NBA</td><td>James Jones   </td><td>CLE</td><td>SG</td><td>48</td><td> 466</td><td> 59</td><td> 143</td><td> 41</td><td>104</td><td>⋯</td><td> 11</td><td> 13</td><td>10</td><td> 50</td><td>0</td><td> 180</td><td>1</td><td>0</td><td>0</td><td> 0</td></tr>\n",
              "\t<tr><td>NBA</td><td>James Mcadoo  </td><td>GSW</td><td>SG</td><td>41</td><td> 265</td><td> 45</td><td>  84</td><td>  1</td><td>  2</td><td>⋯</td><td> 10</td><td> 16</td><td> 8</td><td> 39</td><td>0</td><td> 117</td><td>0</td><td>0</td><td>0</td><td> 1</td></tr>\n",
              "\t<tr><td>NBA</td><td>James Young   </td><td>BOS</td><td>SG</td><td>29</td><td> 200</td><td> 11</td><td>  36</td><td>  6</td><td> 26</td><td>⋯</td><td>  6</td><td>  5</td><td> 1</td><td> 17</td><td>0</td><td>  29</td><td>0</td><td>0</td><td>0</td><td> 0</td></tr>\n",
              "</tbody>\n",
              "</table>\n"
            ]
          },
          "metadata": {
            "tags": []
          }
        },
        {
          "output_type": "display_data",
          "data": {
            "text/plain": [
              "   League Name             Team Position GamesPlayed TotalMinutesPlayed\n",
              "1  NBA    Al-farouq Aminu  POR  SF       82          2342              \n",
              "2  NBA    Trevor Ariza     HOU  SF       81          2860              \n",
              "3  NBA    Will Barton      DEN  SG       82          2355              \n",
              "4  NBA    Aron Baynes      DET  PF       81          1241              \n",
              "5  NBA    Bismack Biyombo  TOR  PF       82          1810              \n",
              "6  NBA    Corey Brewer     HOU  SG       82          1670              \n",
              "7  NBA    Allen Crabbe     POR  SF       81          2111              \n",
              "8  NBA    Ed Davis         POR  PF       81          1684              \n",
              "9  NBA    Gorgui Dieng     MIN  C        82          2222              \n",
              "10 NBA    Andre Drummond   DET  C        81          2664              \n",
              "11 NBA    Jared Dudley     WAS  SG       81          2098              \n",
              "12 NBA    Monta Ellis      IND  PG       81          2733              \n",
              "13 NBA    Randy Foye       OKC  SG       81          1640              \n",
              "14 NBA    Langsto Galloway NYK  PG       82          2032              \n",
              "15 NBA    Paul George      IND  SF       81          2828              \n",
              "16 NBA    Draymond Green   GSW  SF       81          2807              \n",
              "17 NBA    James Harden     HOU  SG       82          3121              \n",
              "18 NBA    Roy Hibbert      LAL  C        81          1881              \n",
              "19 NBA    Al Horford       ATL  PF       82          2638              \n",
              "20 NBA    Joe Ingles       UTA  SF       81          1241              \n",
              "21 NBA    Joe Johnson      MIA  SF       81          2703              \n",
              "22 NBA    Frank Kaminsky   CHA  PF       81          1713              \n",
              "23 NBA    Enes Kanter      OKL  C        82          1721              \n",
              "24 NBA    Zach Lavine      MIN  PG       82          2295              \n",
              "25 NBA    Robin Lopez      NYK  C        82          2213              \n",
              "26 NBA    T.j. Mcconnell   PHI  PG       81          1609              \n",
              "27 NBA    Doug Mcdermott   CHI  SF       81          1860              \n",
              "28 NBA    Patty Mills      SAN  PG       81          1659              \n",
              "29 NBA    Paul Millsap     ATL  PF       81          2640              \n",
              "30 NBA    Shabazz Muhammad MIN  SF       82          1678              \n",
              "31 NBA    Raul Neto        UTA  PG       81          1501              \n",
              "32 NBA    Mason Plumlee    POR  PF       82          2087              \n",
              "33 NBA    Julius Randle    LAL  PF       81          2287              \n",
              "34 NBA    Ramon Sessions   WAS  PG       82          1667              \n",
              "35 NBA    Jared Sullinger  BOS  PF       81          1917              \n",
              "36 NBA    Isaiah Thomas    BOS  PG       82          2647              \n",
              "37 NBA    Tristan Thompson CLE  C        82          2269              \n",
              "38 NBA    Karl-antho Towns MIN  C        82          2621              \n",
              "39 NBA    P.j. Tucker      PHO  SF       82          2540              \n",
              "40 NBA    Evan Turner      BOS  SG       81          2270              \n",
              "41 NBA    Kemba Walker     CHA  PG       81          2885              \n",
              "42 NBA    Andrew Wiggins   MIN  SF       81          2844              \n",
              "43 NBA    Marvin Williams  CHA  PF       81          2339              \n",
              "   FieldGoalsMade FieldGoalsAttempted ThreesMade ThreesAttempted ⋯ Steals\n",
              "1  299             719                126        349             ⋯  72   \n",
              "2  357             858                185        497             ⋯ 161   \n",
              "3  426             984                112        324             ⋯  71   \n",
              "4  194             384                  0          2             ⋯  21   \n",
              "5  156             288                  0          1             ⋯  19   \n",
              "6  212             552                 61        225             ⋯  84   \n",
              "7  312             678                112        284             ⋯  63   \n",
              "8  206             337                  0          0             ⋯  57   \n",
              "9  308             578                  6         20             ⋯  94   \n",
              "10 552            1061                  2          6             ⋯ 119   \n",
              "11 233             487                100        239             ⋯  75   \n",
              "12 436            1021                 87        281             ⋯ 149   \n",
              "13 168             481                 75        250             ⋯  39   \n",
              "14 231             588                 77        224             ⋯  77   \n",
              "15 605            1448                210        565             ⋯ 152   \n",
              "16 401             819                100        258             ⋯ 118   \n",
              "17 710            1617                236        656             ⋯ 138   \n",
              "18 182             411                  0          2             ⋯  32   \n",
              "19 529            1049                 88        257             ⋯  67   \n",
              "20 124             291                 81        210             ⋯  55   \n",
              "21 377             859                120        313             ⋯  61   \n",
              "22 215             525                 68        202             ⋯  37   \n",
              "23 415             720                 10         21             ⋯  26   \n",
              "24 433             960                123        316             ⋯  69   \n",
              "25 357             662                  0          1             ⋯  16   \n",
              "26 218             464                 31         89             ⋯  95   \n",
              "27 291             644                110        259             ⋯  14   \n",
              "28 260             612                123        320             ⋯  59   \n",
              "29 501            1067                 74        232             ⋯ 148   \n",
              "30 317             681                 44        152             ⋯  24   \n",
              "31 180             418                 64        162             ⋯  62   \n",
              "32 267             517                  0          4             ⋯  68   \n",
              "33 358             835                 10         36             ⋯  53   \n",
              "34 280             592                 36        111             ⋯  47   \n",
              "35 351             807                 29        104             ⋯  75   \n",
              "36 591            1382                167        465             ⋯  91   \n",
              "37 247             420                  0          0             ⋯  38   \n",
              "38 625            1152                 30         88             ⋯  58   \n",
              "39 239             582                 68        206             ⋯ 106   \n",
              "40 343             753                 20         83             ⋯  80   \n",
              "41 568            1332                182        490             ⋯ 127   \n",
              "42 594            1294                 57        190             ⋯  78   \n",
              "43 338             747                152        379             ⋯  58   \n",
              "   Turnovers Blocks PersonalFouls Disqualifications TotalPoints Technicals\n",
              "1  120        53    171           0                  839         3        \n",
              "2  113        26    177           0                 1025         2        \n",
              "3  139        39    147           0                 1180         2        \n",
              "4   67        52    151           0                  514         0        \n",
              "5   71       133    225           2                  454         3        \n",
              "6   78        19    168           1                  590         0        \n",
              "7   64        16    192           2                  834         0        \n",
              "8   64        72    202           2                  526         2        \n",
              "9  140        96    219           0                  827         1        \n",
              "10 154       112    245           2                 1314         7        \n",
              "11  80        18    190           1                  638         1        \n",
              "12 203        38    174           0                 1121         1        \n",
              "13  86        29    131           0                  472         0        \n",
              "14  61        22    177           2                  625         0        \n",
              "15 265        29    230           1                 1874         6        \n",
              "16 259       111    240           2                 1131        11        \n",
              "17 374        51    229           1                 2376         2        \n",
              "18  76       110    252           3                  481         2        \n",
              "19 107       122    163           0                 1249         1        \n",
              "20  65         4     98           0                  342         1        \n",
              "21 160         4    146           0                  992         1        \n",
              "22  58        43    126           0                  606         0        \n",
              "23 115        33    166           1                 1040         2        \n",
              "24 155        17    193           1                 1150         0        \n",
              "25 133       129    182           2                  842         3        \n",
              "26 140        10    114           0                  493         0        \n",
              "27  52         6    127           0                  764         0        \n",
              "28  76         6    102           0                  690         0        \n",
              "29 191       140    237           2                 1385         4        \n",
              "30  70         7     94           0                  863         0        \n",
              "31 109         2    122           1                  476         0        \n",
              "32 154        82    253           4                  749         1        \n",
              "33 149        29    242           2                  919         0        \n",
              "34 115         5    102           0                  810         0        \n",
              "35 102        47    209           2                  834         2        \n",
              "36 220         9    167           1                 1823         9        \n",
              "37  61        51    202           0                  643         1        \n",
              "38 183       138    245           1                 1503         2        \n",
              "39 111        20    202           3                  652         4        \n",
              "40 169        28    139           0                  854         2        \n",
              "41 171        39    111           0                 1689         5        \n",
              "42 182        46    165           1                 1675         1        \n",
              "43  62        77    133           1                  948         0        \n",
              "   Ejections FlagrantFouls GamesStarted\n",
              "1  0         0             82          \n",
              "2  0         0             81          \n",
              "3  0         0              1          \n",
              "4  0         0              1          \n",
              "5  0         0             22          \n",
              "6  0         0             12          \n",
              "7  0         0              8          \n",
              "8  0         0              0          \n",
              "9  0         0             39          \n",
              "10 0         0             81          \n",
              "11 0         0             41          \n",
              "12 0         0             81          \n",
              "13 0         0              8          \n",
              "14 0         0              7          \n",
              "15 0         0             81          \n",
              "16 0         0             81          \n",
              "17 0         0             82          \n",
              "18 0         0             81          \n",
              "19 0         0             82          \n",
              "20 0         0              2          \n",
              "21 0         0             81          \n",
              "22 0         0              3          \n",
              "23 0         0              1          \n",
              "24 0         0             33          \n",
              "25 0         0             82          \n",
              "26 0         0             17          \n",
              "27 0         0              4          \n",
              "28 0         0              3          \n",
              "29 0         0             81          \n",
              "30 0         0              0          \n",
              "31 0         0             53          \n",
              "32 0         0             82          \n",
              "33 0         0             60          \n",
              "34 0         0              5          \n",
              "35 0         0             73          \n",
              "36 0         0             79          \n",
              "37 0         0             34          \n",
              "38 0         0             82          \n",
              "39 0         0             80          \n",
              "40 0         0             12          \n",
              "41 0         0             81          \n",
              "42 0         0             81          \n",
              "43 0         0             81          "
            ],
            "text/latex": "A data.table: 43 × 25\n\\begin{tabular}{lllllllllllllllllllll}\n League & Name & Team & Position & GamesPlayed & TotalMinutesPlayed & FieldGoalsMade & FieldGoalsAttempted & ThreesMade & ThreesAttempted & ⋯ & Steals & Turnovers & Blocks & PersonalFouls & Disqualifications & TotalPoints & Technicals & Ejections & FlagrantFouls & GamesStarted\\\\\n <fct> & <chr> & <fct> & <fct> & <int> & <int> & <int> & <int> & <int> & <int> & ⋯ & <int> & <int> & <int> & <int> & <int> & <int> & <int> & <int> & <int> & <int>\\\\\n\\hline\n\t NBA & Al-farouq Aminu  & POR & SF & 82 & 2342 & 299 &  719 & 126 & 349 & ⋯ &  72 & 120 &  53 & 171 & 0 &  839 &  3 & 0 & 0 & 82\\\\\n\t NBA & Trevor Ariza     & HOU & SF & 81 & 2860 & 357 &  858 & 185 & 497 & ⋯ & 161 & 113 &  26 & 177 & 0 & 1025 &  2 & 0 & 0 & 81\\\\\n\t NBA & Will Barton      & DEN & SG & 82 & 2355 & 426 &  984 & 112 & 324 & ⋯ &  71 & 139 &  39 & 147 & 0 & 1180 &  2 & 0 & 0 &  1\\\\\n\t NBA & Aron Baynes      & DET & PF & 81 & 1241 & 194 &  384 &   0 &   2 & ⋯ &  21 &  67 &  52 & 151 & 0 &  514 &  0 & 0 & 0 &  1\\\\\n\t NBA & Bismack Biyombo  & TOR & PF & 82 & 1810 & 156 &  288 &   0 &   1 & ⋯ &  19 &  71 & 133 & 225 & 2 &  454 &  3 & 0 & 0 & 22\\\\\n\t NBA & Corey Brewer     & HOU & SG & 82 & 1670 & 212 &  552 &  61 & 225 & ⋯ &  84 &  78 &  19 & 168 & 1 &  590 &  0 & 0 & 0 & 12\\\\\n\t NBA & Allen Crabbe     & POR & SF & 81 & 2111 & 312 &  678 & 112 & 284 & ⋯ &  63 &  64 &  16 & 192 & 2 &  834 &  0 & 0 & 0 &  8\\\\\n\t NBA & Ed Davis         & POR & PF & 81 & 1684 & 206 &  337 &   0 &   0 & ⋯ &  57 &  64 &  72 & 202 & 2 &  526 &  2 & 0 & 0 &  0\\\\\n\t NBA & Gorgui Dieng     & MIN & C  & 82 & 2222 & 308 &  578 &   6 &  20 & ⋯ &  94 & 140 &  96 & 219 & 0 &  827 &  1 & 0 & 0 & 39\\\\\n\t NBA & Andre Drummond   & DET & C  & 81 & 2664 & 552 & 1061 &   2 &   6 & ⋯ & 119 & 154 & 112 & 245 & 2 & 1314 &  7 & 0 & 0 & 81\\\\\n\t NBA & Jared Dudley     & WAS & SG & 81 & 2098 & 233 &  487 & 100 & 239 & ⋯ &  75 &  80 &  18 & 190 & 1 &  638 &  1 & 0 & 0 & 41\\\\\n\t NBA & Monta Ellis      & IND & PG & 81 & 2733 & 436 & 1021 &  87 & 281 & ⋯ & 149 & 203 &  38 & 174 & 0 & 1121 &  1 & 0 & 0 & 81\\\\\n\t NBA & Randy Foye       & OKC & SG & 81 & 1640 & 168 &  481 &  75 & 250 & ⋯ &  39 &  86 &  29 & 131 & 0 &  472 &  0 & 0 & 0 &  8\\\\\n\t NBA & Langsto Galloway & NYK & PG & 82 & 2032 & 231 &  588 &  77 & 224 & ⋯ &  77 &  61 &  22 & 177 & 2 &  625 &  0 & 0 & 0 &  7\\\\\n\t NBA & Paul George      & IND & SF & 81 & 2828 & 605 & 1448 & 210 & 565 & ⋯ & 152 & 265 &  29 & 230 & 1 & 1874 &  6 & 0 & 0 & 81\\\\\n\t NBA & Draymond Green   & GSW & SF & 81 & 2807 & 401 &  819 & 100 & 258 & ⋯ & 118 & 259 & 111 & 240 & 2 & 1131 & 11 & 0 & 0 & 81\\\\\n\t NBA & James Harden     & HOU & SG & 82 & 3121 & 710 & 1617 & 236 & 656 & ⋯ & 138 & 374 &  51 & 229 & 1 & 2376 &  2 & 0 & 0 & 82\\\\\n\t NBA & Roy Hibbert      & LAL & C  & 81 & 1881 & 182 &  411 &   0 &   2 & ⋯ &  32 &  76 & 110 & 252 & 3 &  481 &  2 & 0 & 0 & 81\\\\\n\t NBA & Al Horford       & ATL & PF & 82 & 2638 & 529 & 1049 &  88 & 257 & ⋯ &  67 & 107 & 122 & 163 & 0 & 1249 &  1 & 0 & 0 & 82\\\\\n\t NBA & Joe Ingles       & UTA & SF & 81 & 1241 & 124 &  291 &  81 & 210 & ⋯ &  55 &  65 &   4 &  98 & 0 &  342 &  1 & 0 & 0 &  2\\\\\n\t NBA & Joe Johnson      & MIA & SF & 81 & 2703 & 377 &  859 & 120 & 313 & ⋯ &  61 & 160 &   4 & 146 & 0 &  992 &  1 & 0 & 0 & 81\\\\\n\t NBA & Frank Kaminsky   & CHA & PF & 81 & 1713 & 215 &  525 &  68 & 202 & ⋯ &  37 &  58 &  43 & 126 & 0 &  606 &  0 & 0 & 0 &  3\\\\\n\t NBA & Enes Kanter      & OKL & C  & 82 & 1721 & 415 &  720 &  10 &  21 & ⋯ &  26 & 115 &  33 & 166 & 1 & 1040 &  2 & 0 & 0 &  1\\\\\n\t NBA & Zach Lavine      & MIN & PG & 82 & 2295 & 433 &  960 & 123 & 316 & ⋯ &  69 & 155 &  17 & 193 & 1 & 1150 &  0 & 0 & 0 & 33\\\\\n\t NBA & Robin Lopez      & NYK & C  & 82 & 2213 & 357 &  662 &   0 &   1 & ⋯ &  16 & 133 & 129 & 182 & 2 &  842 &  3 & 0 & 0 & 82\\\\\n\t NBA & T.j. Mcconnell   & PHI & PG & 81 & 1609 & 218 &  464 &  31 &  89 & ⋯ &  95 & 140 &  10 & 114 & 0 &  493 &  0 & 0 & 0 & 17\\\\\n\t NBA & Doug Mcdermott   & CHI & SF & 81 & 1860 & 291 &  644 & 110 & 259 & ⋯ &  14 &  52 &   6 & 127 & 0 &  764 &  0 & 0 & 0 &  4\\\\\n\t NBA & Patty Mills      & SAN & PG & 81 & 1659 & 260 &  612 & 123 & 320 & ⋯ &  59 &  76 &   6 & 102 & 0 &  690 &  0 & 0 & 0 &  3\\\\\n\t NBA & Paul Millsap     & ATL & PF & 81 & 2640 & 501 & 1067 &  74 & 232 & ⋯ & 148 & 191 & 140 & 237 & 2 & 1385 &  4 & 0 & 0 & 81\\\\\n\t NBA & Shabazz Muhammad & MIN & SF & 82 & 1678 & 317 &  681 &  44 & 152 & ⋯ &  24 &  70 &   7 &  94 & 0 &  863 &  0 & 0 & 0 &  0\\\\\n\t NBA & Raul Neto        & UTA & PG & 81 & 1501 & 180 &  418 &  64 & 162 & ⋯ &  62 & 109 &   2 & 122 & 1 &  476 &  0 & 0 & 0 & 53\\\\\n\t NBA & Mason Plumlee    & POR & PF & 82 & 2087 & 267 &  517 &   0 &   4 & ⋯ &  68 & 154 &  82 & 253 & 4 &  749 &  1 & 0 & 0 & 82\\\\\n\t NBA & Julius Randle    & LAL & PF & 81 & 2287 & 358 &  835 &  10 &  36 & ⋯ &  53 & 149 &  29 & 242 & 2 &  919 &  0 & 0 & 0 & 60\\\\\n\t NBA & Ramon Sessions   & WAS & PG & 82 & 1667 & 280 &  592 &  36 & 111 & ⋯ &  47 & 115 &   5 & 102 & 0 &  810 &  0 & 0 & 0 &  5\\\\\n\t NBA & Jared Sullinger  & BOS & PF & 81 & 1917 & 351 &  807 &  29 & 104 & ⋯ &  75 & 102 &  47 & 209 & 2 &  834 &  2 & 0 & 0 & 73\\\\\n\t NBA & Isaiah Thomas    & BOS & PG & 82 & 2647 & 591 & 1382 & 167 & 465 & ⋯ &  91 & 220 &   9 & 167 & 1 & 1823 &  9 & 0 & 0 & 79\\\\\n\t NBA & Tristan Thompson & CLE & C  & 82 & 2269 & 247 &  420 &   0 &   0 & ⋯ &  38 &  61 &  51 & 202 & 0 &  643 &  1 & 0 & 0 & 34\\\\\n\t NBA & Karl-antho Towns & MIN & C  & 82 & 2621 & 625 & 1152 &  30 &  88 & ⋯ &  58 & 183 & 138 & 245 & 1 & 1503 &  2 & 0 & 0 & 82\\\\\n\t NBA & P.j. Tucker      & PHO & SF & 82 & 2540 & 239 &  582 &  68 & 206 & ⋯ & 106 & 111 &  20 & 202 & 3 &  652 &  4 & 0 & 0 & 80\\\\\n\t NBA & Evan Turner      & BOS & SG & 81 & 2270 & 343 &  753 &  20 &  83 & ⋯ &  80 & 169 &  28 & 139 & 0 &  854 &  2 & 0 & 0 & 12\\\\\n\t NBA & Kemba Walker     & CHA & PG & 81 & 2885 & 568 & 1332 & 182 & 490 & ⋯ & 127 & 171 &  39 & 111 & 0 & 1689 &  5 & 0 & 0 & 81\\\\\n\t NBA & Andrew Wiggins   & MIN & SF & 81 & 2844 & 594 & 1294 &  57 & 190 & ⋯ &  78 & 182 &  46 & 165 & 1 & 1675 &  1 & 0 & 0 & 81\\\\\n\t NBA & Marvin Williams  & CHA & PF & 81 & 2339 & 338 &  747 & 152 & 379 & ⋯ &  58 &  62 &  77 & 133 & 1 &  948 &  0 & 0 & 0 & 81\\\\\n\\end{tabular}\n",
            "text/markdown": "\nA data.table: 43 × 25\n\n| League &lt;fct&gt; | Name &lt;chr&gt; | Team &lt;fct&gt; | Position &lt;fct&gt; | GamesPlayed &lt;int&gt; | TotalMinutesPlayed &lt;int&gt; | FieldGoalsMade &lt;int&gt; | FieldGoalsAttempted &lt;int&gt; | ThreesMade &lt;int&gt; | ThreesAttempted &lt;int&gt; | ⋯ ⋯ | Steals &lt;int&gt; | Turnovers &lt;int&gt; | Blocks &lt;int&gt; | PersonalFouls &lt;int&gt; | Disqualifications &lt;int&gt; | TotalPoints &lt;int&gt; | Technicals &lt;int&gt; | Ejections &lt;int&gt; | FlagrantFouls &lt;int&gt; | GamesStarted &lt;int&gt; |\n|---|---|---|---|---|---|---|---|---|---|---|---|---|---|---|---|---|---|---|---|---|\n| NBA | Al-farouq Aminu  | POR | SF | 82 | 2342 | 299 |  719 | 126 | 349 | ⋯ |  72 | 120 |  53 | 171 | 0 |  839 |  3 | 0 | 0 | 82 |\n| NBA | Trevor Ariza     | HOU | SF | 81 | 2860 | 357 |  858 | 185 | 497 | ⋯ | 161 | 113 |  26 | 177 | 0 | 1025 |  2 | 0 | 0 | 81 |\n| NBA | Will Barton      | DEN | SG | 82 | 2355 | 426 |  984 | 112 | 324 | ⋯ |  71 | 139 |  39 | 147 | 0 | 1180 |  2 | 0 | 0 |  1 |\n| NBA | Aron Baynes      | DET | PF | 81 | 1241 | 194 |  384 |   0 |   2 | ⋯ |  21 |  67 |  52 | 151 | 0 |  514 |  0 | 0 | 0 |  1 |\n| NBA | Bismack Biyombo  | TOR | PF | 82 | 1810 | 156 |  288 |   0 |   1 | ⋯ |  19 |  71 | 133 | 225 | 2 |  454 |  3 | 0 | 0 | 22 |\n| NBA | Corey Brewer     | HOU | SG | 82 | 1670 | 212 |  552 |  61 | 225 | ⋯ |  84 |  78 |  19 | 168 | 1 |  590 |  0 | 0 | 0 | 12 |\n| NBA | Allen Crabbe     | POR | SF | 81 | 2111 | 312 |  678 | 112 | 284 | ⋯ |  63 |  64 |  16 | 192 | 2 |  834 |  0 | 0 | 0 |  8 |\n| NBA | Ed Davis         | POR | PF | 81 | 1684 | 206 |  337 |   0 |   0 | ⋯ |  57 |  64 |  72 | 202 | 2 |  526 |  2 | 0 | 0 |  0 |\n| NBA | Gorgui Dieng     | MIN | C  | 82 | 2222 | 308 |  578 |   6 |  20 | ⋯ |  94 | 140 |  96 | 219 | 0 |  827 |  1 | 0 | 0 | 39 |\n| NBA | Andre Drummond   | DET | C  | 81 | 2664 | 552 | 1061 |   2 |   6 | ⋯ | 119 | 154 | 112 | 245 | 2 | 1314 |  7 | 0 | 0 | 81 |\n| NBA | Jared Dudley     | WAS | SG | 81 | 2098 | 233 |  487 | 100 | 239 | ⋯ |  75 |  80 |  18 | 190 | 1 |  638 |  1 | 0 | 0 | 41 |\n| NBA | Monta Ellis      | IND | PG | 81 | 2733 | 436 | 1021 |  87 | 281 | ⋯ | 149 | 203 |  38 | 174 | 0 | 1121 |  1 | 0 | 0 | 81 |\n| NBA | Randy Foye       | OKC | SG | 81 | 1640 | 168 |  481 |  75 | 250 | ⋯ |  39 |  86 |  29 | 131 | 0 |  472 |  0 | 0 | 0 |  8 |\n| NBA | Langsto Galloway | NYK | PG | 82 | 2032 | 231 |  588 |  77 | 224 | ⋯ |  77 |  61 |  22 | 177 | 2 |  625 |  0 | 0 | 0 |  7 |\n| NBA | Paul George      | IND | SF | 81 | 2828 | 605 | 1448 | 210 | 565 | ⋯ | 152 | 265 |  29 | 230 | 1 | 1874 |  6 | 0 | 0 | 81 |\n| NBA | Draymond Green   | GSW | SF | 81 | 2807 | 401 |  819 | 100 | 258 | ⋯ | 118 | 259 | 111 | 240 | 2 | 1131 | 11 | 0 | 0 | 81 |\n| NBA | James Harden     | HOU | SG | 82 | 3121 | 710 | 1617 | 236 | 656 | ⋯ | 138 | 374 |  51 | 229 | 1 | 2376 |  2 | 0 | 0 | 82 |\n| NBA | Roy Hibbert      | LAL | C  | 81 | 1881 | 182 |  411 |   0 |   2 | ⋯ |  32 |  76 | 110 | 252 | 3 |  481 |  2 | 0 | 0 | 81 |\n| NBA | Al Horford       | ATL | PF | 82 | 2638 | 529 | 1049 |  88 | 257 | ⋯ |  67 | 107 | 122 | 163 | 0 | 1249 |  1 | 0 | 0 | 82 |\n| NBA | Joe Ingles       | UTA | SF | 81 | 1241 | 124 |  291 |  81 | 210 | ⋯ |  55 |  65 |   4 |  98 | 0 |  342 |  1 | 0 | 0 |  2 |\n| NBA | Joe Johnson      | MIA | SF | 81 | 2703 | 377 |  859 | 120 | 313 | ⋯ |  61 | 160 |   4 | 146 | 0 |  992 |  1 | 0 | 0 | 81 |\n| NBA | Frank Kaminsky   | CHA | PF | 81 | 1713 | 215 |  525 |  68 | 202 | ⋯ |  37 |  58 |  43 | 126 | 0 |  606 |  0 | 0 | 0 |  3 |\n| NBA | Enes Kanter      | OKL | C  | 82 | 1721 | 415 |  720 |  10 |  21 | ⋯ |  26 | 115 |  33 | 166 | 1 | 1040 |  2 | 0 | 0 |  1 |\n| NBA | Zach Lavine      | MIN | PG | 82 | 2295 | 433 |  960 | 123 | 316 | ⋯ |  69 | 155 |  17 | 193 | 1 | 1150 |  0 | 0 | 0 | 33 |\n| NBA | Robin Lopez      | NYK | C  | 82 | 2213 | 357 |  662 |   0 |   1 | ⋯ |  16 | 133 | 129 | 182 | 2 |  842 |  3 | 0 | 0 | 82 |\n| NBA | T.j. Mcconnell   | PHI | PG | 81 | 1609 | 218 |  464 |  31 |  89 | ⋯ |  95 | 140 |  10 | 114 | 0 |  493 |  0 | 0 | 0 | 17 |\n| NBA | Doug Mcdermott   | CHI | SF | 81 | 1860 | 291 |  644 | 110 | 259 | ⋯ |  14 |  52 |   6 | 127 | 0 |  764 |  0 | 0 | 0 |  4 |\n| NBA | Patty Mills      | SAN | PG | 81 | 1659 | 260 |  612 | 123 | 320 | ⋯ |  59 |  76 |   6 | 102 | 0 |  690 |  0 | 0 | 0 |  3 |\n| NBA | Paul Millsap     | ATL | PF | 81 | 2640 | 501 | 1067 |  74 | 232 | ⋯ | 148 | 191 | 140 | 237 | 2 | 1385 |  4 | 0 | 0 | 81 |\n| NBA | Shabazz Muhammad | MIN | SF | 82 | 1678 | 317 |  681 |  44 | 152 | ⋯ |  24 |  70 |   7 |  94 | 0 |  863 |  0 | 0 | 0 |  0 |\n| NBA | Raul Neto        | UTA | PG | 81 | 1501 | 180 |  418 |  64 | 162 | ⋯ |  62 | 109 |   2 | 122 | 1 |  476 |  0 | 0 | 0 | 53 |\n| NBA | Mason Plumlee    | POR | PF | 82 | 2087 | 267 |  517 |   0 |   4 | ⋯ |  68 | 154 |  82 | 253 | 4 |  749 |  1 | 0 | 0 | 82 |\n| NBA | Julius Randle    | LAL | PF | 81 | 2287 | 358 |  835 |  10 |  36 | ⋯ |  53 | 149 |  29 | 242 | 2 |  919 |  0 | 0 | 0 | 60 |\n| NBA | Ramon Sessions   | WAS | PG | 82 | 1667 | 280 |  592 |  36 | 111 | ⋯ |  47 | 115 |   5 | 102 | 0 |  810 |  0 | 0 | 0 |  5 |\n| NBA | Jared Sullinger  | BOS | PF | 81 | 1917 | 351 |  807 |  29 | 104 | ⋯ |  75 | 102 |  47 | 209 | 2 |  834 |  2 | 0 | 0 | 73 |\n| NBA | Isaiah Thomas    | BOS | PG | 82 | 2647 | 591 | 1382 | 167 | 465 | ⋯ |  91 | 220 |   9 | 167 | 1 | 1823 |  9 | 0 | 0 | 79 |\n| NBA | Tristan Thompson | CLE | C  | 82 | 2269 | 247 |  420 |   0 |   0 | ⋯ |  38 |  61 |  51 | 202 | 0 |  643 |  1 | 0 | 0 | 34 |\n| NBA | Karl-antho Towns | MIN | C  | 82 | 2621 | 625 | 1152 |  30 |  88 | ⋯ |  58 | 183 | 138 | 245 | 1 | 1503 |  2 | 0 | 0 | 82 |\n| NBA | P.j. Tucker      | PHO | SF | 82 | 2540 | 239 |  582 |  68 | 206 | ⋯ | 106 | 111 |  20 | 202 | 3 |  652 |  4 | 0 | 0 | 80 |\n| NBA | Evan Turner      | BOS | SG | 81 | 2270 | 343 |  753 |  20 |  83 | ⋯ |  80 | 169 |  28 | 139 | 0 |  854 |  2 | 0 | 0 | 12 |\n| NBA | Kemba Walker     | CHA | PG | 81 | 2885 | 568 | 1332 | 182 | 490 | ⋯ | 127 | 171 |  39 | 111 | 0 | 1689 |  5 | 0 | 0 | 81 |\n| NBA | Andrew Wiggins   | MIN | SF | 81 | 2844 | 594 | 1294 |  57 | 190 | ⋯ |  78 | 182 |  46 | 165 | 1 | 1675 |  1 | 0 | 0 | 81 |\n| NBA | Marvin Williams  | CHA | PF | 81 | 2339 | 338 |  747 | 152 | 379 | ⋯ |  58 |  62 |  77 | 133 | 1 |  948 |  0 | 0 | 0 | 81 |\n\n",
            "text/html": [
              "<table>\n",
              "<caption>A data.table: 43 × 25</caption>\n",
              "<thead>\n",
              "\t<tr><th scope=col>League</th><th scope=col>Name</th><th scope=col>Team</th><th scope=col>Position</th><th scope=col>GamesPlayed</th><th scope=col>TotalMinutesPlayed</th><th scope=col>FieldGoalsMade</th><th scope=col>FieldGoalsAttempted</th><th scope=col>ThreesMade</th><th scope=col>ThreesAttempted</th><th scope=col>⋯</th><th scope=col>Steals</th><th scope=col>Turnovers</th><th scope=col>Blocks</th><th scope=col>PersonalFouls</th><th scope=col>Disqualifications</th><th scope=col>TotalPoints</th><th scope=col>Technicals</th><th scope=col>Ejections</th><th scope=col>FlagrantFouls</th><th scope=col>GamesStarted</th></tr>\n",
              "\t<tr><th scope=col>&lt;fct&gt;</th><th scope=col>&lt;chr&gt;</th><th scope=col>&lt;fct&gt;</th><th scope=col>&lt;fct&gt;</th><th scope=col>&lt;int&gt;</th><th scope=col>&lt;int&gt;</th><th scope=col>&lt;int&gt;</th><th scope=col>&lt;int&gt;</th><th scope=col>&lt;int&gt;</th><th scope=col>&lt;int&gt;</th><th scope=col>⋯</th><th scope=col>&lt;int&gt;</th><th scope=col>&lt;int&gt;</th><th scope=col>&lt;int&gt;</th><th scope=col>&lt;int&gt;</th><th scope=col>&lt;int&gt;</th><th scope=col>&lt;int&gt;</th><th scope=col>&lt;int&gt;</th><th scope=col>&lt;int&gt;</th><th scope=col>&lt;int&gt;</th><th scope=col>&lt;int&gt;</th></tr>\n",
              "</thead>\n",
              "<tbody>\n",
              "\t<tr><td>NBA</td><td>Al-farouq Aminu </td><td>POR</td><td>SF</td><td>82</td><td>2342</td><td>299</td><td> 719</td><td>126</td><td>349</td><td>⋯</td><td> 72</td><td>120</td><td> 53</td><td>171</td><td>0</td><td> 839</td><td> 3</td><td>0</td><td>0</td><td>82</td></tr>\n",
              "\t<tr><td>NBA</td><td>Trevor Ariza    </td><td>HOU</td><td>SF</td><td>81</td><td>2860</td><td>357</td><td> 858</td><td>185</td><td>497</td><td>⋯</td><td>161</td><td>113</td><td> 26</td><td>177</td><td>0</td><td>1025</td><td> 2</td><td>0</td><td>0</td><td>81</td></tr>\n",
              "\t<tr><td>NBA</td><td>Will Barton     </td><td>DEN</td><td>SG</td><td>82</td><td>2355</td><td>426</td><td> 984</td><td>112</td><td>324</td><td>⋯</td><td> 71</td><td>139</td><td> 39</td><td>147</td><td>0</td><td>1180</td><td> 2</td><td>0</td><td>0</td><td> 1</td></tr>\n",
              "\t<tr><td>NBA</td><td>Aron Baynes     </td><td>DET</td><td>PF</td><td>81</td><td>1241</td><td>194</td><td> 384</td><td>  0</td><td>  2</td><td>⋯</td><td> 21</td><td> 67</td><td> 52</td><td>151</td><td>0</td><td> 514</td><td> 0</td><td>0</td><td>0</td><td> 1</td></tr>\n",
              "\t<tr><td>NBA</td><td>Bismack Biyombo </td><td>TOR</td><td>PF</td><td>82</td><td>1810</td><td>156</td><td> 288</td><td>  0</td><td>  1</td><td>⋯</td><td> 19</td><td> 71</td><td>133</td><td>225</td><td>2</td><td> 454</td><td> 3</td><td>0</td><td>0</td><td>22</td></tr>\n",
              "\t<tr><td>NBA</td><td>Corey Brewer    </td><td>HOU</td><td>SG</td><td>82</td><td>1670</td><td>212</td><td> 552</td><td> 61</td><td>225</td><td>⋯</td><td> 84</td><td> 78</td><td> 19</td><td>168</td><td>1</td><td> 590</td><td> 0</td><td>0</td><td>0</td><td>12</td></tr>\n",
              "\t<tr><td>NBA</td><td>Allen Crabbe    </td><td>POR</td><td>SF</td><td>81</td><td>2111</td><td>312</td><td> 678</td><td>112</td><td>284</td><td>⋯</td><td> 63</td><td> 64</td><td> 16</td><td>192</td><td>2</td><td> 834</td><td> 0</td><td>0</td><td>0</td><td> 8</td></tr>\n",
              "\t<tr><td>NBA</td><td>Ed Davis        </td><td>POR</td><td>PF</td><td>81</td><td>1684</td><td>206</td><td> 337</td><td>  0</td><td>  0</td><td>⋯</td><td> 57</td><td> 64</td><td> 72</td><td>202</td><td>2</td><td> 526</td><td> 2</td><td>0</td><td>0</td><td> 0</td></tr>\n",
              "\t<tr><td>NBA</td><td>Gorgui Dieng    </td><td>MIN</td><td>C </td><td>82</td><td>2222</td><td>308</td><td> 578</td><td>  6</td><td> 20</td><td>⋯</td><td> 94</td><td>140</td><td> 96</td><td>219</td><td>0</td><td> 827</td><td> 1</td><td>0</td><td>0</td><td>39</td></tr>\n",
              "\t<tr><td>NBA</td><td>Andre Drummond  </td><td>DET</td><td>C </td><td>81</td><td>2664</td><td>552</td><td>1061</td><td>  2</td><td>  6</td><td>⋯</td><td>119</td><td>154</td><td>112</td><td>245</td><td>2</td><td>1314</td><td> 7</td><td>0</td><td>0</td><td>81</td></tr>\n",
              "\t<tr><td>NBA</td><td>Jared Dudley    </td><td>WAS</td><td>SG</td><td>81</td><td>2098</td><td>233</td><td> 487</td><td>100</td><td>239</td><td>⋯</td><td> 75</td><td> 80</td><td> 18</td><td>190</td><td>1</td><td> 638</td><td> 1</td><td>0</td><td>0</td><td>41</td></tr>\n",
              "\t<tr><td>NBA</td><td>Monta Ellis     </td><td>IND</td><td>PG</td><td>81</td><td>2733</td><td>436</td><td>1021</td><td> 87</td><td>281</td><td>⋯</td><td>149</td><td>203</td><td> 38</td><td>174</td><td>0</td><td>1121</td><td> 1</td><td>0</td><td>0</td><td>81</td></tr>\n",
              "\t<tr><td>NBA</td><td>Randy Foye      </td><td>OKC</td><td>SG</td><td>81</td><td>1640</td><td>168</td><td> 481</td><td> 75</td><td>250</td><td>⋯</td><td> 39</td><td> 86</td><td> 29</td><td>131</td><td>0</td><td> 472</td><td> 0</td><td>0</td><td>0</td><td> 8</td></tr>\n",
              "\t<tr><td>NBA</td><td>Langsto Galloway</td><td>NYK</td><td>PG</td><td>82</td><td>2032</td><td>231</td><td> 588</td><td> 77</td><td>224</td><td>⋯</td><td> 77</td><td> 61</td><td> 22</td><td>177</td><td>2</td><td> 625</td><td> 0</td><td>0</td><td>0</td><td> 7</td></tr>\n",
              "\t<tr><td>NBA</td><td>Paul George     </td><td>IND</td><td>SF</td><td>81</td><td>2828</td><td>605</td><td>1448</td><td>210</td><td>565</td><td>⋯</td><td>152</td><td>265</td><td> 29</td><td>230</td><td>1</td><td>1874</td><td> 6</td><td>0</td><td>0</td><td>81</td></tr>\n",
              "\t<tr><td>NBA</td><td>Draymond Green  </td><td>GSW</td><td>SF</td><td>81</td><td>2807</td><td>401</td><td> 819</td><td>100</td><td>258</td><td>⋯</td><td>118</td><td>259</td><td>111</td><td>240</td><td>2</td><td>1131</td><td>11</td><td>0</td><td>0</td><td>81</td></tr>\n",
              "\t<tr><td>NBA</td><td>James Harden    </td><td>HOU</td><td>SG</td><td>82</td><td>3121</td><td>710</td><td>1617</td><td>236</td><td>656</td><td>⋯</td><td>138</td><td>374</td><td> 51</td><td>229</td><td>1</td><td>2376</td><td> 2</td><td>0</td><td>0</td><td>82</td></tr>\n",
              "\t<tr><td>NBA</td><td>Roy Hibbert     </td><td>LAL</td><td>C </td><td>81</td><td>1881</td><td>182</td><td> 411</td><td>  0</td><td>  2</td><td>⋯</td><td> 32</td><td> 76</td><td>110</td><td>252</td><td>3</td><td> 481</td><td> 2</td><td>0</td><td>0</td><td>81</td></tr>\n",
              "\t<tr><td>NBA</td><td>Al Horford      </td><td>ATL</td><td>PF</td><td>82</td><td>2638</td><td>529</td><td>1049</td><td> 88</td><td>257</td><td>⋯</td><td> 67</td><td>107</td><td>122</td><td>163</td><td>0</td><td>1249</td><td> 1</td><td>0</td><td>0</td><td>82</td></tr>\n",
              "\t<tr><td>NBA</td><td>Joe Ingles      </td><td>UTA</td><td>SF</td><td>81</td><td>1241</td><td>124</td><td> 291</td><td> 81</td><td>210</td><td>⋯</td><td> 55</td><td> 65</td><td>  4</td><td> 98</td><td>0</td><td> 342</td><td> 1</td><td>0</td><td>0</td><td> 2</td></tr>\n",
              "\t<tr><td>NBA</td><td>Joe Johnson     </td><td>MIA</td><td>SF</td><td>81</td><td>2703</td><td>377</td><td> 859</td><td>120</td><td>313</td><td>⋯</td><td> 61</td><td>160</td><td>  4</td><td>146</td><td>0</td><td> 992</td><td> 1</td><td>0</td><td>0</td><td>81</td></tr>\n",
              "\t<tr><td>NBA</td><td>Frank Kaminsky  </td><td>CHA</td><td>PF</td><td>81</td><td>1713</td><td>215</td><td> 525</td><td> 68</td><td>202</td><td>⋯</td><td> 37</td><td> 58</td><td> 43</td><td>126</td><td>0</td><td> 606</td><td> 0</td><td>0</td><td>0</td><td> 3</td></tr>\n",
              "\t<tr><td>NBA</td><td>Enes Kanter     </td><td>OKL</td><td>C </td><td>82</td><td>1721</td><td>415</td><td> 720</td><td> 10</td><td> 21</td><td>⋯</td><td> 26</td><td>115</td><td> 33</td><td>166</td><td>1</td><td>1040</td><td> 2</td><td>0</td><td>0</td><td> 1</td></tr>\n",
              "\t<tr><td>NBA</td><td>Zach Lavine     </td><td>MIN</td><td>PG</td><td>82</td><td>2295</td><td>433</td><td> 960</td><td>123</td><td>316</td><td>⋯</td><td> 69</td><td>155</td><td> 17</td><td>193</td><td>1</td><td>1150</td><td> 0</td><td>0</td><td>0</td><td>33</td></tr>\n",
              "\t<tr><td>NBA</td><td>Robin Lopez     </td><td>NYK</td><td>C </td><td>82</td><td>2213</td><td>357</td><td> 662</td><td>  0</td><td>  1</td><td>⋯</td><td> 16</td><td>133</td><td>129</td><td>182</td><td>2</td><td> 842</td><td> 3</td><td>0</td><td>0</td><td>82</td></tr>\n",
              "\t<tr><td>NBA</td><td>T.j. Mcconnell  </td><td>PHI</td><td>PG</td><td>81</td><td>1609</td><td>218</td><td> 464</td><td> 31</td><td> 89</td><td>⋯</td><td> 95</td><td>140</td><td> 10</td><td>114</td><td>0</td><td> 493</td><td> 0</td><td>0</td><td>0</td><td>17</td></tr>\n",
              "\t<tr><td>NBA</td><td>Doug Mcdermott  </td><td>CHI</td><td>SF</td><td>81</td><td>1860</td><td>291</td><td> 644</td><td>110</td><td>259</td><td>⋯</td><td> 14</td><td> 52</td><td>  6</td><td>127</td><td>0</td><td> 764</td><td> 0</td><td>0</td><td>0</td><td> 4</td></tr>\n",
              "\t<tr><td>NBA</td><td>Patty Mills     </td><td>SAN</td><td>PG</td><td>81</td><td>1659</td><td>260</td><td> 612</td><td>123</td><td>320</td><td>⋯</td><td> 59</td><td> 76</td><td>  6</td><td>102</td><td>0</td><td> 690</td><td> 0</td><td>0</td><td>0</td><td> 3</td></tr>\n",
              "\t<tr><td>NBA</td><td>Paul Millsap    </td><td>ATL</td><td>PF</td><td>81</td><td>2640</td><td>501</td><td>1067</td><td> 74</td><td>232</td><td>⋯</td><td>148</td><td>191</td><td>140</td><td>237</td><td>2</td><td>1385</td><td> 4</td><td>0</td><td>0</td><td>81</td></tr>\n",
              "\t<tr><td>NBA</td><td>Shabazz Muhammad</td><td>MIN</td><td>SF</td><td>82</td><td>1678</td><td>317</td><td> 681</td><td> 44</td><td>152</td><td>⋯</td><td> 24</td><td> 70</td><td>  7</td><td> 94</td><td>0</td><td> 863</td><td> 0</td><td>0</td><td>0</td><td> 0</td></tr>\n",
              "\t<tr><td>NBA</td><td>Raul Neto       </td><td>UTA</td><td>PG</td><td>81</td><td>1501</td><td>180</td><td> 418</td><td> 64</td><td>162</td><td>⋯</td><td> 62</td><td>109</td><td>  2</td><td>122</td><td>1</td><td> 476</td><td> 0</td><td>0</td><td>0</td><td>53</td></tr>\n",
              "\t<tr><td>NBA</td><td>Mason Plumlee   </td><td>POR</td><td>PF</td><td>82</td><td>2087</td><td>267</td><td> 517</td><td>  0</td><td>  4</td><td>⋯</td><td> 68</td><td>154</td><td> 82</td><td>253</td><td>4</td><td> 749</td><td> 1</td><td>0</td><td>0</td><td>82</td></tr>\n",
              "\t<tr><td>NBA</td><td>Julius Randle   </td><td>LAL</td><td>PF</td><td>81</td><td>2287</td><td>358</td><td> 835</td><td> 10</td><td> 36</td><td>⋯</td><td> 53</td><td>149</td><td> 29</td><td>242</td><td>2</td><td> 919</td><td> 0</td><td>0</td><td>0</td><td>60</td></tr>\n",
              "\t<tr><td>NBA</td><td>Ramon Sessions  </td><td>WAS</td><td>PG</td><td>82</td><td>1667</td><td>280</td><td> 592</td><td> 36</td><td>111</td><td>⋯</td><td> 47</td><td>115</td><td>  5</td><td>102</td><td>0</td><td> 810</td><td> 0</td><td>0</td><td>0</td><td> 5</td></tr>\n",
              "\t<tr><td>NBA</td><td>Jared Sullinger </td><td>BOS</td><td>PF</td><td>81</td><td>1917</td><td>351</td><td> 807</td><td> 29</td><td>104</td><td>⋯</td><td> 75</td><td>102</td><td> 47</td><td>209</td><td>2</td><td> 834</td><td> 2</td><td>0</td><td>0</td><td>73</td></tr>\n",
              "\t<tr><td>NBA</td><td>Isaiah Thomas   </td><td>BOS</td><td>PG</td><td>82</td><td>2647</td><td>591</td><td>1382</td><td>167</td><td>465</td><td>⋯</td><td> 91</td><td>220</td><td>  9</td><td>167</td><td>1</td><td>1823</td><td> 9</td><td>0</td><td>0</td><td>79</td></tr>\n",
              "\t<tr><td>NBA</td><td>Tristan Thompson</td><td>CLE</td><td>C </td><td>82</td><td>2269</td><td>247</td><td> 420</td><td>  0</td><td>  0</td><td>⋯</td><td> 38</td><td> 61</td><td> 51</td><td>202</td><td>0</td><td> 643</td><td> 1</td><td>0</td><td>0</td><td>34</td></tr>\n",
              "\t<tr><td>NBA</td><td>Karl-antho Towns</td><td>MIN</td><td>C </td><td>82</td><td>2621</td><td>625</td><td>1152</td><td> 30</td><td> 88</td><td>⋯</td><td> 58</td><td>183</td><td>138</td><td>245</td><td>1</td><td>1503</td><td> 2</td><td>0</td><td>0</td><td>82</td></tr>\n",
              "\t<tr><td>NBA</td><td>P.j. Tucker     </td><td>PHO</td><td>SF</td><td>82</td><td>2540</td><td>239</td><td> 582</td><td> 68</td><td>206</td><td>⋯</td><td>106</td><td>111</td><td> 20</td><td>202</td><td>3</td><td> 652</td><td> 4</td><td>0</td><td>0</td><td>80</td></tr>\n",
              "\t<tr><td>NBA</td><td>Evan Turner     </td><td>BOS</td><td>SG</td><td>81</td><td>2270</td><td>343</td><td> 753</td><td> 20</td><td> 83</td><td>⋯</td><td> 80</td><td>169</td><td> 28</td><td>139</td><td>0</td><td> 854</td><td> 2</td><td>0</td><td>0</td><td>12</td></tr>\n",
              "\t<tr><td>NBA</td><td>Kemba Walker    </td><td>CHA</td><td>PG</td><td>81</td><td>2885</td><td>568</td><td>1332</td><td>182</td><td>490</td><td>⋯</td><td>127</td><td>171</td><td> 39</td><td>111</td><td>0</td><td>1689</td><td> 5</td><td>0</td><td>0</td><td>81</td></tr>\n",
              "\t<tr><td>NBA</td><td>Andrew Wiggins  </td><td>MIN</td><td>SF</td><td>81</td><td>2844</td><td>594</td><td>1294</td><td> 57</td><td>190</td><td>⋯</td><td> 78</td><td>182</td><td> 46</td><td>165</td><td>1</td><td>1675</td><td> 1</td><td>0</td><td>0</td><td>81</td></tr>\n",
              "\t<tr><td>NBA</td><td>Marvin Williams </td><td>CHA</td><td>PF</td><td>81</td><td>2339</td><td>338</td><td> 747</td><td>152</td><td>379</td><td>⋯</td><td> 58</td><td> 62</td><td> 77</td><td>133</td><td>1</td><td> 948</td><td> 0</td><td>0</td><td>0</td><td>81</td></tr>\n",
              "</tbody>\n",
              "</table>\n"
            ]
          },
          "metadata": {
            "tags": []
          }
        },
        {
          "output_type": "display_data",
          "data": {
            "text/plain": [
              "   League Name            Team Position GamesPlayed TotalMinutesPlayed\n",
              "1  NBA    Jose Calderon   NYK  PG       72          2021              \n",
              "2  NBA    Isaiah Canaan   PHI  PG       77          1968              \n",
              "3  NBA    Carter-williams MIL  PG       54          1649              \n",
              "4  NBA    Mario Chalmers  MEM  PG       61          1378              \n",
              "5  NBA    Jordan Clarkson LAL  PG       79          2556              \n",
              "6  NBA    Norris Cole     NOR  PG       45          1199              \n",
              "7  NBA    Darren Collison SAC  PG       74          2216              \n",
              "8  NBA    Mike Conley     MEM  PG       56          1754              \n",
              "9  NBA    Bryce Cotton    MEM  PG        8            41              \n",
              "10 NBA    Stephen Curry   GSW  PG       79          2705              \n",
              "11 NBA    Cory Joseph     TOR  PG       80          2053              \n",
              "12 NBA    Chris Paul      LAC  PG       74          2425              \n",
              "13 NBA    Cameron Payne   OKL  PG       57           703              \n",
              "14 NBA    C.j. Watson     ORL  PG       33           655              \n",
              "   FieldGoalsMade FieldGoalsAttempted ThreesMade ThreesAttempted ⋯ Steals\n",
              "1  209             455                 84        203             ⋯  63   \n",
              "2  260             722                176        484             ⋯  56   \n",
              "3  251             555                 15         55             ⋯  80   \n",
              "4  182             444                 46        149             ⋯  88   \n",
              "5  475            1099                111        318             ⋯  88   \n",
              "6  196             485                 33        103             ⋯  37   \n",
              "7  377             776                 87        217             ⋯  76   \n",
              "8  294             696                 78        215             ⋯  67   \n",
              "9    4              10                  0          3             ⋯   3   \n",
              "10 805            1597                402        887             ⋯ 169   \n",
              "11 257             585                 30        110             ⋯  63   \n",
              "12 515            1114                122        329             ⋯ 151   \n",
              "13 114             278                 36        111             ⋯  36   \n",
              "14  47             137                 14         48             ⋯  19   \n",
              "   Turnovers Blocks PersonalFouls Disqualifications TotalPoints Technicals\n",
              "1   87        7     135           1                  544        2         \n",
              "2   91       12     133           0                  846        1         \n",
              "3  153       41     162           0                  623        3         \n",
              "4  111       13     181           0                  628        5         \n",
              "5  135        7     168           1                 1225        0         \n",
              "6   75        5     102           0                  477        0         \n",
              "7  129        4     142           0                 1035        1         \n",
              "8   84       16     100           0                  857        0         \n",
              "9    5        0       2           0                    8        0         \n",
              "10 261       16     161           0                 2375        1         \n",
              "11 102       20     131           0                  677        1         \n",
              "12 193       13     185           0                 1446        7         \n",
              "13  44        6      80           0                  283        0         \n",
              "14  25        5      49           0                  142        0         \n",
              "   Ejections FlagrantFouls GamesStarted\n",
              "1  0         0             72          \n",
              "2  0         0             39          \n",
              "3  0         0             37          \n",
              "4  0         0              7          \n",
              "5  0         0             79          \n",
              "6  0         0             23          \n",
              "7  0         0             15          \n",
              "8  0         0             56          \n",
              "9  0         0              0          \n",
              "10 0         0             79          \n",
              "11 0         0              4          \n",
              "12 0         0             74          \n",
              "13 0         0              1          \n",
              "14 0         0              2          "
            ],
            "text/latex": "A data.table: 14 × 25\n\\begin{tabular}{lllllllllllllllllllll}\n League & Name & Team & Position & GamesPlayed & TotalMinutesPlayed & FieldGoalsMade & FieldGoalsAttempted & ThreesMade & ThreesAttempted & ⋯ & Steals & Turnovers & Blocks & PersonalFouls & Disqualifications & TotalPoints & Technicals & Ejections & FlagrantFouls & GamesStarted\\\\\n <fct> & <chr> & <fct> & <fct> & <int> & <int> & <int> & <int> & <int> & <int> & ⋯ & <int> & <int> & <int> & <int> & <int> & <int> & <int> & <int> & <int> & <int>\\\\\n\\hline\n\t NBA & Jose Calderon   & NYK & PG & 72 & 2021 & 209 &  455 &  84 & 203 & ⋯ &  63 &  87 &  7 & 135 & 1 &  544 & 2 & 0 & 0 & 72\\\\\n\t NBA & Isaiah Canaan   & PHI & PG & 77 & 1968 & 260 &  722 & 176 & 484 & ⋯ &  56 &  91 & 12 & 133 & 0 &  846 & 1 & 0 & 0 & 39\\\\\n\t NBA & Carter-williams & MIL & PG & 54 & 1649 & 251 &  555 &  15 &  55 & ⋯ &  80 & 153 & 41 & 162 & 0 &  623 & 3 & 0 & 0 & 37\\\\\n\t NBA & Mario Chalmers  & MEM & PG & 61 & 1378 & 182 &  444 &  46 & 149 & ⋯ &  88 & 111 & 13 & 181 & 0 &  628 & 5 & 0 & 0 &  7\\\\\n\t NBA & Jordan Clarkson & LAL & PG & 79 & 2556 & 475 & 1099 & 111 & 318 & ⋯ &  88 & 135 &  7 & 168 & 1 & 1225 & 0 & 0 & 0 & 79\\\\\n\t NBA & Norris Cole     & NOR & PG & 45 & 1199 & 196 &  485 &  33 & 103 & ⋯ &  37 &  75 &  5 & 102 & 0 &  477 & 0 & 0 & 0 & 23\\\\\n\t NBA & Darren Collison & SAC & PG & 74 & 2216 & 377 &  776 &  87 & 217 & ⋯ &  76 & 129 &  4 & 142 & 0 & 1035 & 1 & 0 & 0 & 15\\\\\n\t NBA & Mike Conley     & MEM & PG & 56 & 1754 & 294 &  696 &  78 & 215 & ⋯ &  67 &  84 & 16 & 100 & 0 &  857 & 0 & 0 & 0 & 56\\\\\n\t NBA & Bryce Cotton    & MEM & PG &  8 &   41 &   4 &   10 &   0 &   3 & ⋯ &   3 &   5 &  0 &   2 & 0 &    8 & 0 & 0 & 0 &  0\\\\\n\t NBA & Stephen Curry   & GSW & PG & 79 & 2705 & 805 & 1597 & 402 & 887 & ⋯ & 169 & 261 & 16 & 161 & 0 & 2375 & 1 & 0 & 0 & 79\\\\\n\t NBA & Cory Joseph     & TOR & PG & 80 & 2053 & 257 &  585 &  30 & 110 & ⋯ &  63 & 102 & 20 & 131 & 0 &  677 & 1 & 0 & 0 &  4\\\\\n\t NBA & Chris Paul      & LAC & PG & 74 & 2425 & 515 & 1114 & 122 & 329 & ⋯ & 151 & 193 & 13 & 185 & 0 & 1446 & 7 & 0 & 0 & 74\\\\\n\t NBA & Cameron Payne   & OKL & PG & 57 &  703 & 114 &  278 &  36 & 111 & ⋯ &  36 &  44 &  6 &  80 & 0 &  283 & 0 & 0 & 0 &  1\\\\\n\t NBA & C.j. Watson     & ORL & PG & 33 &  655 &  47 &  137 &  14 &  48 & ⋯ &  19 &  25 &  5 &  49 & 0 &  142 & 0 & 0 & 0 &  2\\\\\n\\end{tabular}\n",
            "text/markdown": "\nA data.table: 14 × 25\n\n| League &lt;fct&gt; | Name &lt;chr&gt; | Team &lt;fct&gt; | Position &lt;fct&gt; | GamesPlayed &lt;int&gt; | TotalMinutesPlayed &lt;int&gt; | FieldGoalsMade &lt;int&gt; | FieldGoalsAttempted &lt;int&gt; | ThreesMade &lt;int&gt; | ThreesAttempted &lt;int&gt; | ⋯ ⋯ | Steals &lt;int&gt; | Turnovers &lt;int&gt; | Blocks &lt;int&gt; | PersonalFouls &lt;int&gt; | Disqualifications &lt;int&gt; | TotalPoints &lt;int&gt; | Technicals &lt;int&gt; | Ejections &lt;int&gt; | FlagrantFouls &lt;int&gt; | GamesStarted &lt;int&gt; |\n|---|---|---|---|---|---|---|---|---|---|---|---|---|---|---|---|---|---|---|---|---|\n| NBA | Jose Calderon   | NYK | PG | 72 | 2021 | 209 |  455 |  84 | 203 | ⋯ |  63 |  87 |  7 | 135 | 1 |  544 | 2 | 0 | 0 | 72 |\n| NBA | Isaiah Canaan   | PHI | PG | 77 | 1968 | 260 |  722 | 176 | 484 | ⋯ |  56 |  91 | 12 | 133 | 0 |  846 | 1 | 0 | 0 | 39 |\n| NBA | Carter-williams | MIL | PG | 54 | 1649 | 251 |  555 |  15 |  55 | ⋯ |  80 | 153 | 41 | 162 | 0 |  623 | 3 | 0 | 0 | 37 |\n| NBA | Mario Chalmers  | MEM | PG | 61 | 1378 | 182 |  444 |  46 | 149 | ⋯ |  88 | 111 | 13 | 181 | 0 |  628 | 5 | 0 | 0 |  7 |\n| NBA | Jordan Clarkson | LAL | PG | 79 | 2556 | 475 | 1099 | 111 | 318 | ⋯ |  88 | 135 |  7 | 168 | 1 | 1225 | 0 | 0 | 0 | 79 |\n| NBA | Norris Cole     | NOR | PG | 45 | 1199 | 196 |  485 |  33 | 103 | ⋯ |  37 |  75 |  5 | 102 | 0 |  477 | 0 | 0 | 0 | 23 |\n| NBA | Darren Collison | SAC | PG | 74 | 2216 | 377 |  776 |  87 | 217 | ⋯ |  76 | 129 |  4 | 142 | 0 | 1035 | 1 | 0 | 0 | 15 |\n| NBA | Mike Conley     | MEM | PG | 56 | 1754 | 294 |  696 |  78 | 215 | ⋯ |  67 |  84 | 16 | 100 | 0 |  857 | 0 | 0 | 0 | 56 |\n| NBA | Bryce Cotton    | MEM | PG |  8 |   41 |   4 |   10 |   0 |   3 | ⋯ |   3 |   5 |  0 |   2 | 0 |    8 | 0 | 0 | 0 |  0 |\n| NBA | Stephen Curry   | GSW | PG | 79 | 2705 | 805 | 1597 | 402 | 887 | ⋯ | 169 | 261 | 16 | 161 | 0 | 2375 | 1 | 0 | 0 | 79 |\n| NBA | Cory Joseph     | TOR | PG | 80 | 2053 | 257 |  585 |  30 | 110 | ⋯ |  63 | 102 | 20 | 131 | 0 |  677 | 1 | 0 | 0 |  4 |\n| NBA | Chris Paul      | LAC | PG | 74 | 2425 | 515 | 1114 | 122 | 329 | ⋯ | 151 | 193 | 13 | 185 | 0 | 1446 | 7 | 0 | 0 | 74 |\n| NBA | Cameron Payne   | OKL | PG | 57 |  703 | 114 |  278 |  36 | 111 | ⋯ |  36 |  44 |  6 |  80 | 0 |  283 | 0 | 0 | 0 |  1 |\n| NBA | C.j. Watson     | ORL | PG | 33 |  655 |  47 |  137 |  14 |  48 | ⋯ |  19 |  25 |  5 |  49 | 0 |  142 | 0 | 0 | 0 |  2 |\n\n",
            "text/html": [
              "<table>\n",
              "<caption>A data.table: 14 × 25</caption>\n",
              "<thead>\n",
              "\t<tr><th scope=col>League</th><th scope=col>Name</th><th scope=col>Team</th><th scope=col>Position</th><th scope=col>GamesPlayed</th><th scope=col>TotalMinutesPlayed</th><th scope=col>FieldGoalsMade</th><th scope=col>FieldGoalsAttempted</th><th scope=col>ThreesMade</th><th scope=col>ThreesAttempted</th><th scope=col>⋯</th><th scope=col>Steals</th><th scope=col>Turnovers</th><th scope=col>Blocks</th><th scope=col>PersonalFouls</th><th scope=col>Disqualifications</th><th scope=col>TotalPoints</th><th scope=col>Technicals</th><th scope=col>Ejections</th><th scope=col>FlagrantFouls</th><th scope=col>GamesStarted</th></tr>\n",
              "\t<tr><th scope=col>&lt;fct&gt;</th><th scope=col>&lt;chr&gt;</th><th scope=col>&lt;fct&gt;</th><th scope=col>&lt;fct&gt;</th><th scope=col>&lt;int&gt;</th><th scope=col>&lt;int&gt;</th><th scope=col>&lt;int&gt;</th><th scope=col>&lt;int&gt;</th><th scope=col>&lt;int&gt;</th><th scope=col>&lt;int&gt;</th><th scope=col>⋯</th><th scope=col>&lt;int&gt;</th><th scope=col>&lt;int&gt;</th><th scope=col>&lt;int&gt;</th><th scope=col>&lt;int&gt;</th><th scope=col>&lt;int&gt;</th><th scope=col>&lt;int&gt;</th><th scope=col>&lt;int&gt;</th><th scope=col>&lt;int&gt;</th><th scope=col>&lt;int&gt;</th><th scope=col>&lt;int&gt;</th></tr>\n",
              "</thead>\n",
              "<tbody>\n",
              "\t<tr><td>NBA</td><td>Jose Calderon  </td><td>NYK</td><td>PG</td><td>72</td><td>2021</td><td>209</td><td> 455</td><td> 84</td><td>203</td><td>⋯</td><td> 63</td><td> 87</td><td> 7</td><td>135</td><td>1</td><td> 544</td><td>2</td><td>0</td><td>0</td><td>72</td></tr>\n",
              "\t<tr><td>NBA</td><td>Isaiah Canaan  </td><td>PHI</td><td>PG</td><td>77</td><td>1968</td><td>260</td><td> 722</td><td>176</td><td>484</td><td>⋯</td><td> 56</td><td> 91</td><td>12</td><td>133</td><td>0</td><td> 846</td><td>1</td><td>0</td><td>0</td><td>39</td></tr>\n",
              "\t<tr><td>NBA</td><td>Carter-williams</td><td>MIL</td><td>PG</td><td>54</td><td>1649</td><td>251</td><td> 555</td><td> 15</td><td> 55</td><td>⋯</td><td> 80</td><td>153</td><td>41</td><td>162</td><td>0</td><td> 623</td><td>3</td><td>0</td><td>0</td><td>37</td></tr>\n",
              "\t<tr><td>NBA</td><td>Mario Chalmers </td><td>MEM</td><td>PG</td><td>61</td><td>1378</td><td>182</td><td> 444</td><td> 46</td><td>149</td><td>⋯</td><td> 88</td><td>111</td><td>13</td><td>181</td><td>0</td><td> 628</td><td>5</td><td>0</td><td>0</td><td> 7</td></tr>\n",
              "\t<tr><td>NBA</td><td>Jordan Clarkson</td><td>LAL</td><td>PG</td><td>79</td><td>2556</td><td>475</td><td>1099</td><td>111</td><td>318</td><td>⋯</td><td> 88</td><td>135</td><td> 7</td><td>168</td><td>1</td><td>1225</td><td>0</td><td>0</td><td>0</td><td>79</td></tr>\n",
              "\t<tr><td>NBA</td><td>Norris Cole    </td><td>NOR</td><td>PG</td><td>45</td><td>1199</td><td>196</td><td> 485</td><td> 33</td><td>103</td><td>⋯</td><td> 37</td><td> 75</td><td> 5</td><td>102</td><td>0</td><td> 477</td><td>0</td><td>0</td><td>0</td><td>23</td></tr>\n",
              "\t<tr><td>NBA</td><td>Darren Collison</td><td>SAC</td><td>PG</td><td>74</td><td>2216</td><td>377</td><td> 776</td><td> 87</td><td>217</td><td>⋯</td><td> 76</td><td>129</td><td> 4</td><td>142</td><td>0</td><td>1035</td><td>1</td><td>0</td><td>0</td><td>15</td></tr>\n",
              "\t<tr><td>NBA</td><td>Mike Conley    </td><td>MEM</td><td>PG</td><td>56</td><td>1754</td><td>294</td><td> 696</td><td> 78</td><td>215</td><td>⋯</td><td> 67</td><td> 84</td><td>16</td><td>100</td><td>0</td><td> 857</td><td>0</td><td>0</td><td>0</td><td>56</td></tr>\n",
              "\t<tr><td>NBA</td><td>Bryce Cotton   </td><td>MEM</td><td>PG</td><td> 8</td><td>  41</td><td>  4</td><td>  10</td><td>  0</td><td>  3</td><td>⋯</td><td>  3</td><td>  5</td><td> 0</td><td>  2</td><td>0</td><td>   8</td><td>0</td><td>0</td><td>0</td><td> 0</td></tr>\n",
              "\t<tr><td>NBA</td><td>Stephen Curry  </td><td>GSW</td><td>PG</td><td>79</td><td>2705</td><td>805</td><td>1597</td><td>402</td><td>887</td><td>⋯</td><td>169</td><td>261</td><td>16</td><td>161</td><td>0</td><td>2375</td><td>1</td><td>0</td><td>0</td><td>79</td></tr>\n",
              "\t<tr><td>NBA</td><td>Cory Joseph    </td><td>TOR</td><td>PG</td><td>80</td><td>2053</td><td>257</td><td> 585</td><td> 30</td><td>110</td><td>⋯</td><td> 63</td><td>102</td><td>20</td><td>131</td><td>0</td><td> 677</td><td>1</td><td>0</td><td>0</td><td> 4</td></tr>\n",
              "\t<tr><td>NBA</td><td>Chris Paul     </td><td>LAC</td><td>PG</td><td>74</td><td>2425</td><td>515</td><td>1114</td><td>122</td><td>329</td><td>⋯</td><td>151</td><td>193</td><td>13</td><td>185</td><td>0</td><td>1446</td><td>7</td><td>0</td><td>0</td><td>74</td></tr>\n",
              "\t<tr><td>NBA</td><td>Cameron Payne  </td><td>OKL</td><td>PG</td><td>57</td><td> 703</td><td>114</td><td> 278</td><td> 36</td><td>111</td><td>⋯</td><td> 36</td><td> 44</td><td> 6</td><td> 80</td><td>0</td><td> 283</td><td>0</td><td>0</td><td>0</td><td> 1</td></tr>\n",
              "\t<tr><td>NBA</td><td>C.j. Watson    </td><td>ORL</td><td>PG</td><td>33</td><td> 655</td><td> 47</td><td> 137</td><td> 14</td><td> 48</td><td>⋯</td><td> 19</td><td> 25</td><td> 5</td><td> 49</td><td>0</td><td> 142</td><td>0</td><td>0</td><td>0</td><td> 2</td></tr>\n",
              "</tbody>\n",
              "</table>\n"
            ]
          },
          "metadata": {
            "tags": []
          }
        }
      ]
    },
    {
      "cell_type": "code",
      "metadata": {
        "id": "PWZON86Mnb4F",
        "outputId": "54bedd98-a998-4722-9124-54f9015bf8ab",
        "colab": {
          "base_uri": "https://localhost:8080/",
          "height": 1000
        }
      },
      "source": [
        "NBA1516DT[grepl(\"Kevin\",Name)]\n",
        "NBA1516DT[GamesPlayed>75]\n",
        "NBA1516DT[grepl(\"L\",Name)&Position==\"SG\"]"
      ],
      "execution_count": 60,
      "outputs": [
        {
          "output_type": "display_data",
          "data": {
            "text/plain": [
              "  League Name           Team Position GamesPlayed TotalMinutesPlayed\n",
              "1 NBA    Kevin Durant   OKL  SF       72          2577              \n",
              "2 NBA    Kevin Garnett  MIN  PF       39           559              \n",
              "3 NBA    Kevin Love     CLE  PF       77          2424              \n",
              "4 NBA    Kevin Martin   SAN  SG       55          1093              \n",
              "5 NBA    Kevin Seraphin NYK  PF       48           530              \n",
              "  FieldGoalsMade FieldGoalsAttempted ThreesMade ThreesAttempted ⋯ Steals\n",
              "1 698            1381                186        480             ⋯ 68    \n",
              "2  54             115                  0          1             ⋯ 28    \n",
              "3 409             978                158        439             ⋯ 58    \n",
              "4 156             419                 49        135             ⋯ 26    \n",
              "5  84             205                  0          2             ⋯  8    \n",
              "  Turnovers Blocks PersonalFouls Disqualifications TotalPoints Technicals\n",
              "1 250       85     137           1                 2029        6         \n",
              "2  16       10      70           0                  122        6         \n",
              "3 142       41     159           0                 1234        0         \n",
              "4  54        3      83           0                  514        0         \n",
              "5  43       36      67           0                  187        0         \n",
              "  Ejections FlagrantFouls GamesStarted\n",
              "1 0         0             72          \n",
              "2 0         0             38          \n",
              "3 0         0             77          \n",
              "4 0         0             13          \n",
              "5 0         0              0          "
            ],
            "text/latex": "A data.table: 5 × 25\n\\begin{tabular}{lllllllllllllllllllll}\n League & Name & Team & Position & GamesPlayed & TotalMinutesPlayed & FieldGoalsMade & FieldGoalsAttempted & ThreesMade & ThreesAttempted & ⋯ & Steals & Turnovers & Blocks & PersonalFouls & Disqualifications & TotalPoints & Technicals & Ejections & FlagrantFouls & GamesStarted\\\\\n <fct> & <chr> & <fct> & <fct> & <int> & <int> & <int> & <int> & <int> & <int> & ⋯ & <int> & <int> & <int> & <int> & <int> & <int> & <int> & <int> & <int> & <int>\\\\\n\\hline\n\t NBA & Kevin Durant   & OKL & SF & 72 & 2577 & 698 & 1381 & 186 & 480 & ⋯ & 68 & 250 & 85 & 137 & 1 & 2029 & 6 & 0 & 0 & 72\\\\\n\t NBA & Kevin Garnett  & MIN & PF & 39 &  559 &  54 &  115 &   0 &   1 & ⋯ & 28 &  16 & 10 &  70 & 0 &  122 & 6 & 0 & 0 & 38\\\\\n\t NBA & Kevin Love     & CLE & PF & 77 & 2424 & 409 &  978 & 158 & 439 & ⋯ & 58 & 142 & 41 & 159 & 0 & 1234 & 0 & 0 & 0 & 77\\\\\n\t NBA & Kevin Martin   & SAN & SG & 55 & 1093 & 156 &  419 &  49 & 135 & ⋯ & 26 &  54 &  3 &  83 & 0 &  514 & 0 & 0 & 0 & 13\\\\\n\t NBA & Kevin Seraphin & NYK & PF & 48 &  530 &  84 &  205 &   0 &   2 & ⋯ &  8 &  43 & 36 &  67 & 0 &  187 & 0 & 0 & 0 &  0\\\\\n\\end{tabular}\n",
            "text/markdown": "\nA data.table: 5 × 25\n\n| League &lt;fct&gt; | Name &lt;chr&gt; | Team &lt;fct&gt; | Position &lt;fct&gt; | GamesPlayed &lt;int&gt; | TotalMinutesPlayed &lt;int&gt; | FieldGoalsMade &lt;int&gt; | FieldGoalsAttempted &lt;int&gt; | ThreesMade &lt;int&gt; | ThreesAttempted &lt;int&gt; | ⋯ ⋯ | Steals &lt;int&gt; | Turnovers &lt;int&gt; | Blocks &lt;int&gt; | PersonalFouls &lt;int&gt; | Disqualifications &lt;int&gt; | TotalPoints &lt;int&gt; | Technicals &lt;int&gt; | Ejections &lt;int&gt; | FlagrantFouls &lt;int&gt; | GamesStarted &lt;int&gt; |\n|---|---|---|---|---|---|---|---|---|---|---|---|---|---|---|---|---|---|---|---|---|\n| NBA | Kevin Durant   | OKL | SF | 72 | 2577 | 698 | 1381 | 186 | 480 | ⋯ | 68 | 250 | 85 | 137 | 1 | 2029 | 6 | 0 | 0 | 72 |\n| NBA | Kevin Garnett  | MIN | PF | 39 |  559 |  54 |  115 |   0 |   1 | ⋯ | 28 |  16 | 10 |  70 | 0 |  122 | 6 | 0 | 0 | 38 |\n| NBA | Kevin Love     | CLE | PF | 77 | 2424 | 409 |  978 | 158 | 439 | ⋯ | 58 | 142 | 41 | 159 | 0 | 1234 | 0 | 0 | 0 | 77 |\n| NBA | Kevin Martin   | SAN | SG | 55 | 1093 | 156 |  419 |  49 | 135 | ⋯ | 26 |  54 |  3 |  83 | 0 |  514 | 0 | 0 | 0 | 13 |\n| NBA | Kevin Seraphin | NYK | PF | 48 |  530 |  84 |  205 |   0 |   2 | ⋯ |  8 |  43 | 36 |  67 | 0 |  187 | 0 | 0 | 0 |  0 |\n\n",
            "text/html": [
              "<table>\n",
              "<caption>A data.table: 5 × 25</caption>\n",
              "<thead>\n",
              "\t<tr><th scope=col>League</th><th scope=col>Name</th><th scope=col>Team</th><th scope=col>Position</th><th scope=col>GamesPlayed</th><th scope=col>TotalMinutesPlayed</th><th scope=col>FieldGoalsMade</th><th scope=col>FieldGoalsAttempted</th><th scope=col>ThreesMade</th><th scope=col>ThreesAttempted</th><th scope=col>⋯</th><th scope=col>Steals</th><th scope=col>Turnovers</th><th scope=col>Blocks</th><th scope=col>PersonalFouls</th><th scope=col>Disqualifications</th><th scope=col>TotalPoints</th><th scope=col>Technicals</th><th scope=col>Ejections</th><th scope=col>FlagrantFouls</th><th scope=col>GamesStarted</th></tr>\n",
              "\t<tr><th scope=col>&lt;fct&gt;</th><th scope=col>&lt;chr&gt;</th><th scope=col>&lt;fct&gt;</th><th scope=col>&lt;fct&gt;</th><th scope=col>&lt;int&gt;</th><th scope=col>&lt;int&gt;</th><th scope=col>&lt;int&gt;</th><th scope=col>&lt;int&gt;</th><th scope=col>&lt;int&gt;</th><th scope=col>&lt;int&gt;</th><th scope=col>⋯</th><th scope=col>&lt;int&gt;</th><th scope=col>&lt;int&gt;</th><th scope=col>&lt;int&gt;</th><th scope=col>&lt;int&gt;</th><th scope=col>&lt;int&gt;</th><th scope=col>&lt;int&gt;</th><th scope=col>&lt;int&gt;</th><th scope=col>&lt;int&gt;</th><th scope=col>&lt;int&gt;</th><th scope=col>&lt;int&gt;</th></tr>\n",
              "</thead>\n",
              "<tbody>\n",
              "\t<tr><td>NBA</td><td>Kevin Durant  </td><td>OKL</td><td>SF</td><td>72</td><td>2577</td><td>698</td><td>1381</td><td>186</td><td>480</td><td>⋯</td><td>68</td><td>250</td><td>85</td><td>137</td><td>1</td><td>2029</td><td>6</td><td>0</td><td>0</td><td>72</td></tr>\n",
              "\t<tr><td>NBA</td><td>Kevin Garnett </td><td>MIN</td><td>PF</td><td>39</td><td> 559</td><td> 54</td><td> 115</td><td>  0</td><td>  1</td><td>⋯</td><td>28</td><td> 16</td><td>10</td><td> 70</td><td>0</td><td> 122</td><td>6</td><td>0</td><td>0</td><td>38</td></tr>\n",
              "\t<tr><td>NBA</td><td>Kevin Love    </td><td>CLE</td><td>PF</td><td>77</td><td>2424</td><td>409</td><td> 978</td><td>158</td><td>439</td><td>⋯</td><td>58</td><td>142</td><td>41</td><td>159</td><td>0</td><td>1234</td><td>0</td><td>0</td><td>0</td><td>77</td></tr>\n",
              "\t<tr><td>NBA</td><td>Kevin Martin  </td><td>SAN</td><td>SG</td><td>55</td><td>1093</td><td>156</td><td> 419</td><td> 49</td><td>135</td><td>⋯</td><td>26</td><td> 54</td><td> 3</td><td> 83</td><td>0</td><td> 514</td><td>0</td><td>0</td><td>0</td><td>13</td></tr>\n",
              "\t<tr><td>NBA</td><td>Kevin Seraphin</td><td>NYK</td><td>PF</td><td>48</td><td> 530</td><td> 84</td><td> 205</td><td>  0</td><td>  2</td><td>⋯</td><td> 8</td><td> 43</td><td>36</td><td> 67</td><td>0</td><td> 187</td><td>0</td><td>0</td><td>0</td><td> 0</td></tr>\n",
              "</tbody>\n",
              "</table>\n"
            ]
          },
          "metadata": {
            "tags": []
          }
        },
        {
          "output_type": "display_data",
          "data": {
            "text/plain": [
              "    League Name             Team Position GamesPlayed TotalMinutesPlayed\n",
              "1   NBA    Steven Adams     OKL  C        80          2019              \n",
              "2   NBA    Lavoy Allen      IND  PF       79          1601              \n",
              "3   NBA    Al-farouq Aminu  POR  SF       82          2342              \n",
              "4   NBA    Kyle Anderson    SAN  SF       78          1247              \n",
              "5   NBA    Gi Antetokounmpo MIL  SF       80          2825              \n",
              "6   NBA    Trevor Ariza     HOU  SF       81          2860              \n",
              "7   NBA    Matt Barnes      MEM  SF       76          2190              \n",
              "8   NBA    Will Barton      DEN  SG       82          2355              \n",
              "9   NBA    Aron Baynes      DET  PF       81          1241              \n",
              "10  NBA    Bismack Biyombo  TOR  PF       82          1810              \n",
              "11  NBA    Bojan Bogdanovic BRO  SG       79          2114              \n",
              "12  NBA    Devin Booker     PHO  SG       76          2110              \n",
              "13  NBA    Trevor Booker    UTA  PF       79          1632              \n",
              "14  NBA    Avery Bradley    BOS  PG       76          2536              \n",
              "15  NBA    Corey Brewer     HOU  SG       82          1670              \n",
              "16  NBA    Ke Caldwell-pope DET  SG       76          2789              \n",
              "17  NBA    Isaiah Canaan    PHI  PG       77          1968              \n",
              "18  NBA    Clint Capela     HOU  C        77          1468              \n",
              "19  NBA    Jordan Clarkson  LAL  PG       79          2556              \n",
              "20  NBA    Allen Crabbe     POR  SF       81          2111              \n",
              "21  NBA    Jamal Crawford   LAC  SG       79          2126              \n",
              "22  NBA    Dante Cunningham NOR  PF       80          1973              \n",
              "23  NBA    Stephen Curry    GSW  PG       79          2705              \n",
              "24  NBA    Ed Davis         POR  PF       81          1684              \n",
              "25  NBA    Matt Dellavedova CLE  PG       76          1869              \n",
              "26  NBA    Demar Derozan    TOR  SG       78          2804              \n",
              "27  NBA    Boris Diaw       SAN  C        76          1383              \n",
              "28  NBA    Gorgui Dieng     MIN  C        82          2222              \n",
              "29  NBA    Andre Drummond   DET  C        81          2664              \n",
              "30  NBA    Jared Dudley     WAS  SG       81          2098              \n",
              "⋮   ⋮      ⋮                ⋮    ⋮        ⋮           ⋮                 \n",
              "96  NBA    Julius Randle    LAL  PF       81          2287              \n",
              "97  NBA    Ricky Rubio      MIN  PG       76          2322              \n",
              "98  NBA    D'angelo Russell LAL  PG       80          2257              \n",
              "99  NBA    Dennis Schroder  ATL  PG       80          1614              \n",
              "100 NBA    Luis Scola       TOR  PF       76          1635              \n",
              "101 NBA    Ramon Sessions   WAS  PG       82          1667              \n",
              "102 NBA    Ish Smith        PHI  PG       77          2240              \n",
              "103 NBA    J.r. Smith       CLE  SG       77          2367              \n",
              "104 NBA    Jason Smith      ORL  PF       76          1180              \n",
              "105 NBA    Jared Sullinger  BOS  PF       81          1917              \n",
              "106 NBA    Jeff Teague      ATL  PG       79          2248              \n",
              "107 NBA    Mirza Teletovic  PHO  PF       79          1683              \n",
              "108 NBA    Garrett Temple   WAS  SG       80          1951              \n",
              "109 NBA    Isaiah Thomas    BOS  PG       82          2647              \n",
              "110 NBA    Hollis Thompson  PHI  SG       77          2158              \n",
              "111 NBA    Klay Thompson    GSW  SG       80          2661              \n",
              "112 NBA    Tristan Thompson CLE  C        82          2269              \n",
              "113 NBA    Karl-antho Towns MIN  C        82          2621              \n",
              "114 NBA    P.j. Tucker      PHO  SF       82          2540              \n",
              "115 NBA    Evan Turner      BOS  SG       81          2270              \n",
              "116 NBA    Noah Vonleh      POR  PF       78          1173              \n",
              "117 NBA    Dion Waiters     OKL  SG       78          2157              \n",
              "118 NBA    Kemba Walker     CHA  PG       81          2885              \n",
              "119 NBA    John Wall        WAS  PG       77          2783              \n",
              "120 NBA    David West       SAN  PF       78          1408              \n",
              "121 NBA    Russel Westbrook OKL  PG       80          2749              \n",
              "122 NBA    Andrew Wiggins   MIN  SF       81          2844              \n",
              "123 NBA    Derrick Williams NYK  PF       80          1442              \n",
              "124 NBA    Marvin Williams  CHA  PF       81          2339              \n",
              "125 NBA    Justise Winslow  MIA  SF       78          2237              \n",
              "    FieldGoalsMade FieldGoalsAttempted ThreesMade ThreesAttempted ⋯ Steals\n",
              "1   261             426                  0          0             ⋯  42   \n",
              "2   191             370                  0          0             ⋯  26   \n",
              "3   299             719                126        349             ⋯  72   \n",
              "4   138             296                 12         37             ⋯  60   \n",
              "5   513            1012                 28        110             ⋯  94   \n",
              "6   357             858                185        497             ⋯ 161   \n",
              "7   264             693                119        370             ⋯  78   \n",
              "8   426             984                112        324             ⋯  71   \n",
              "9   194             384                  0          2             ⋯  21   \n",
              "10  156             288                  0          1             ⋯  19   \n",
              "11  324             749                129        337             ⋯  29   \n",
              "12  367             867                 99        289             ⋯  44   \n",
              "13  190             388                 12         41             ⋯  59   \n",
              "14  456            1018                147        406             ⋯ 117   \n",
              "15  212             552                 61        225             ⋯  84   \n",
              "16  403             960                114        368             ⋯ 110   \n",
              "17  260             722                176        484             ⋯  56   \n",
              "18  231             397                  0          1             ⋯  59   \n",
              "19  475            1099                111        318             ⋯  88   \n",
              "20  312             678                112        284             ⋯  63   \n",
              "21  379             940                117        345             ⋯  52   \n",
              "22  186             413                 55        174             ⋯  42   \n",
              "23  805            1597                402        887             ⋯ 169   \n",
              "24  206             337                  0          0             ⋯  57   \n",
              "25  207             511                 98        239             ⋯  44   \n",
              "26  614            1377                 47        139             ⋯  82   \n",
              "27  202             383                 25         69             ⋯  26   \n",
              "28  308             578                  6         20             ⋯  94   \n",
              "29  552            1061                  2          6             ⋯ 119   \n",
              "30  233             487                100        239             ⋯  75   \n",
              "⋮   ⋮              ⋮                   ⋮          ⋮               ⋱ ⋮     \n",
              "96  358             835                 10         36             ⋯  53   \n",
              "97  219             586                 62        190             ⋯ 162   \n",
              "98  392             955                130        367             ⋯  93   \n",
              "99  329             782                 77        239             ⋯  71   \n",
              "100 269             598                 65        161             ⋯  46   \n",
              "101 280             592                 36        111             ⋯  47   \n",
              "102 397             967                 56        170             ⋯  88   \n",
              "103 353             849                204        510             ⋯  81   \n",
              "104 244             503                  4         16             ⋯  33   \n",
              "105 351             807                 29        104             ⋯  75   \n",
              "106 434             986                110        274             ⋯  98   \n",
              "107 332             777                181        460             ⋯  32   \n",
              "108 201             505                 89        257             ⋯  69   \n",
              "109 591            1382                167        465             ⋯  91   \n",
              "110 270             681                149        393             ⋯  36   \n",
              "111 651            1386                276        648             ⋯  60   \n",
              "112 247             420                  0          0             ⋯  38   \n",
              "113 625            1152                 30         88             ⋯  58   \n",
              "114 239             582                 68        206             ⋯ 106   \n",
              "115 343             753                 20         83             ⋯  80   \n",
              "116 117             279                 11         47             ⋯  27   \n",
              "117 282             705                 86        241             ⋯  81   \n",
              "118 568            1332                182        490             ⋯ 127   \n",
              "119 572            1349                115        327             ⋯ 145   \n",
              "120 244             448                  3          7             ⋯  44   \n",
              "121 656            1444                101        341             ⋯ 163   \n",
              "122 594            1294                 57        190             ⋯  78   \n",
              "123 254             565                 44        150             ⋯  30   \n",
              "124 338             747                152        379             ⋯  58   \n",
              "125 196             463                 32        116             ⋯  68   \n",
              "    Turnovers Blocks PersonalFouls Disqualifications TotalPoints Technicals\n",
              "1    84        89    223           2                  636        2         \n",
              "2    69        42    147           1                  428        0         \n",
              "3   120        53    171           0                  839        3         \n",
              "4    59        29     97           0                  350        0         \n",
              "5   208       113    258           7                 1350        1         \n",
              "6   113        26    177           0                 1025        2         \n",
              "7   121        57    234           1                  758        4         \n",
              "8   139        39    147           0                 1180        2         \n",
              "9    67        52    151           0                  514        0         \n",
              "10   71       133    225           2                  454        3         \n",
              "11  115         5    119           0                  887        2         \n",
              "12  160        20    225           5                 1048        0         \n",
              "13   81        41    169           1                  463        1         \n",
              "14  109        19    164           2                 1155        0         \n",
              "15   78        19    168           1                  590        0         \n",
              "16  105        17    167           0                 1105        3         \n",
              "17   91        12    133           0                  846        1         \n",
              "18   60        92    190           3                  542        0         \n",
              "19  135         7    168           1                 1225        0         \n",
              "20   64        16    192           2                  834        0         \n",
              "21  113        12    122           0                 1120        3         \n",
              "22   41        33    173           1                  484        0         \n",
              "23  261        16    161           0                 2375        1         \n",
              "24   64        72    202           2                  526        2         \n",
              "25  117         9    177           0                  569        0         \n",
              "26  174        21    167           0                 1830        2         \n",
              "27   97        21    102           0                  485        0         \n",
              "28  140        96    219           0                  827        1         \n",
              "29  154       112    245           2                 1314        7         \n",
              "30   80        18    190           1                  638        1         \n",
              "⋮   ⋮         ⋮      ⋮             ⋮                 ⋮           ⋮         \n",
              "96  149        29    242           2                  919        0         \n",
              "97  194        10    201           1                  766        0         \n",
              "98  196        13    142           0                 1054        1         \n",
              "99  184         9    138           0                  879        0         \n",
              "100  68        27    178           0                  664        0         \n",
              "101 115         5    102           0                  810        0         \n",
              "102 175        24    133           0                  972        0         \n",
              "103  59        21    204           1                  955        3         \n",
              "104  57        65    163           1                  546        1         \n",
              "105 102        47    209           2                  834        2         \n",
              "106 218        24    167           2                 1239        0         \n",
              "107  84        21    159           1                  965        1         \n",
              "108  64        18    195           3                  582        0         \n",
              "109 220         9    167           1                 1823        9         \n",
              "110  76        24    187           2                  758        0         \n",
              "111 138        50    152           0                 1771        0         \n",
              "112  61        51    202           0                  643        1         \n",
              "113 183       138    245           1                 1503        2         \n",
              "114 111        20    202           3                  652        4         \n",
              "115 169        28    139           0                  854        2         \n",
              "116  50        26    152           1                  283        0         \n",
              "117 120        15    143           0                  762        4         \n",
              "118 171        39    111           0                 1689        5         \n",
              "119 318        59    159           0                 1531        7         \n",
              "120  67        55    142           1                  554        2         \n",
              "121 342        20    200           2                 1878        6         \n",
              "122 182        46    165           1                 1675        1         \n",
              "123  61         9     69           0                  746        0         \n",
              "124  62        77    133           1                  948        0         \n",
              "125  95        26    184           0                  504        0         \n",
              "    Ejections FlagrantFouls GamesStarted\n",
              "1   0         0             80          \n",
              "2   0         0             28          \n",
              "3   0         0             82          \n",
              "4   0         0             11          \n",
              "5   0         0             79          \n",
              "6   0         0             81          \n",
              "7   0         0             45          \n",
              "8   0         0              1          \n",
              "9   0         0              1          \n",
              "10  0         0             22          \n",
              "11  0         0             39          \n",
              "12  0         0             51          \n",
              "13  0         0              2          \n",
              "14  0         0             72          \n",
              "15  0         0             12          \n",
              "16  0         0             76          \n",
              "17  0         0             39          \n",
              "18  0         0             35          \n",
              "19  0         0             79          \n",
              "20  0         0              8          \n",
              "21  0         0              5          \n",
              "22  0         0             46          \n",
              "23  0         0             79          \n",
              "24  0         0              0          \n",
              "25  0         0             14          \n",
              "26  0         0             78          \n",
              "27  0         0              4          \n",
              "28  0         0             39          \n",
              "29  0         0             81          \n",
              "30  0         0             41          \n",
              "⋮   ⋮         ⋮             ⋮           \n",
              "96  0         0             60          \n",
              "97  0         0             76          \n",
              "98  0         0             48          \n",
              "99  0         0              6          \n",
              "100 0         0             76          \n",
              "101 0         0              5          \n",
              "102 0         0             53          \n",
              "103 0         0             77          \n",
              "104 0         0              2          \n",
              "105 0         0             73          \n",
              "106 0         0             78          \n",
              "107 0         0              1          \n",
              "108 0         0             43          \n",
              "109 0         0             79          \n",
              "110 0         0             17          \n",
              "111 0         0             80          \n",
              "112 0         0             34          \n",
              "113 0         0             82          \n",
              "114 0         0             80          \n",
              "115 0         0             12          \n",
              "116 0         0             56          \n",
              "117 0         0             15          \n",
              "118 0         0             81          \n",
              "119 0         0             77          \n",
              "120 0         0             19          \n",
              "121 0         0             80          \n",
              "122 0         0             81          \n",
              "123 0         0              9          \n",
              "124 0         0             81          \n",
              "125 0         0              8          "
            ],
            "text/latex": "A data.table: 125 × 25\n\\begin{tabular}{lllllllllllllllllllll}\n League & Name & Team & Position & GamesPlayed & TotalMinutesPlayed & FieldGoalsMade & FieldGoalsAttempted & ThreesMade & ThreesAttempted & ⋯ & Steals & Turnovers & Blocks & PersonalFouls & Disqualifications & TotalPoints & Technicals & Ejections & FlagrantFouls & GamesStarted\\\\\n <fct> & <chr> & <fct> & <fct> & <int> & <int> & <int> & <int> & <int> & <int> & ⋯ & <int> & <int> & <int> & <int> & <int> & <int> & <int> & <int> & <int> & <int>\\\\\n\\hline\n\t NBA & Steven Adams     & OKL & C  & 80 & 2019 & 261 &  426 &   0 &   0 & ⋯ &  42 &  84 &  89 & 223 & 2 &  636 & 2 & 0 & 0 & 80\\\\\n\t NBA & Lavoy Allen      & IND & PF & 79 & 1601 & 191 &  370 &   0 &   0 & ⋯ &  26 &  69 &  42 & 147 & 1 &  428 & 0 & 0 & 0 & 28\\\\\n\t NBA & Al-farouq Aminu  & POR & SF & 82 & 2342 & 299 &  719 & 126 & 349 & ⋯ &  72 & 120 &  53 & 171 & 0 &  839 & 3 & 0 & 0 & 82\\\\\n\t NBA & Kyle Anderson    & SAN & SF & 78 & 1247 & 138 &  296 &  12 &  37 & ⋯ &  60 &  59 &  29 &  97 & 0 &  350 & 0 & 0 & 0 & 11\\\\\n\t NBA & Gi Antetokounmpo & MIL & SF & 80 & 2825 & 513 & 1012 &  28 & 110 & ⋯ &  94 & 208 & 113 & 258 & 7 & 1350 & 1 & 0 & 0 & 79\\\\\n\t NBA & Trevor Ariza     & HOU & SF & 81 & 2860 & 357 &  858 & 185 & 497 & ⋯ & 161 & 113 &  26 & 177 & 0 & 1025 & 2 & 0 & 0 & 81\\\\\n\t NBA & Matt Barnes      & MEM & SF & 76 & 2190 & 264 &  693 & 119 & 370 & ⋯ &  78 & 121 &  57 & 234 & 1 &  758 & 4 & 0 & 0 & 45\\\\\n\t NBA & Will Barton      & DEN & SG & 82 & 2355 & 426 &  984 & 112 & 324 & ⋯ &  71 & 139 &  39 & 147 & 0 & 1180 & 2 & 0 & 0 &  1\\\\\n\t NBA & Aron Baynes      & DET & PF & 81 & 1241 & 194 &  384 &   0 &   2 & ⋯ &  21 &  67 &  52 & 151 & 0 &  514 & 0 & 0 & 0 &  1\\\\\n\t NBA & Bismack Biyombo  & TOR & PF & 82 & 1810 & 156 &  288 &   0 &   1 & ⋯ &  19 &  71 & 133 & 225 & 2 &  454 & 3 & 0 & 0 & 22\\\\\n\t NBA & Bojan Bogdanovic & BRO & SG & 79 & 2114 & 324 &  749 & 129 & 337 & ⋯ &  29 & 115 &   5 & 119 & 0 &  887 & 2 & 0 & 0 & 39\\\\\n\t NBA & Devin Booker     & PHO & SG & 76 & 2110 & 367 &  867 &  99 & 289 & ⋯ &  44 & 160 &  20 & 225 & 5 & 1048 & 0 & 0 & 0 & 51\\\\\n\t NBA & Trevor Booker    & UTA & PF & 79 & 1632 & 190 &  388 &  12 &  41 & ⋯ &  59 &  81 &  41 & 169 & 1 &  463 & 1 & 0 & 0 &  2\\\\\n\t NBA & Avery Bradley    & BOS & PG & 76 & 2536 & 456 & 1018 & 147 & 406 & ⋯ & 117 & 109 &  19 & 164 & 2 & 1155 & 0 & 0 & 0 & 72\\\\\n\t NBA & Corey Brewer     & HOU & SG & 82 & 1670 & 212 &  552 &  61 & 225 & ⋯ &  84 &  78 &  19 & 168 & 1 &  590 & 0 & 0 & 0 & 12\\\\\n\t NBA & Ke Caldwell-pope & DET & SG & 76 & 2789 & 403 &  960 & 114 & 368 & ⋯ & 110 & 105 &  17 & 167 & 0 & 1105 & 3 & 0 & 0 & 76\\\\\n\t NBA & Isaiah Canaan    & PHI & PG & 77 & 1968 & 260 &  722 & 176 & 484 & ⋯ &  56 &  91 &  12 & 133 & 0 &  846 & 1 & 0 & 0 & 39\\\\\n\t NBA & Clint Capela     & HOU & C  & 77 & 1468 & 231 &  397 &   0 &   1 & ⋯ &  59 &  60 &  92 & 190 & 3 &  542 & 0 & 0 & 0 & 35\\\\\n\t NBA & Jordan Clarkson  & LAL & PG & 79 & 2556 & 475 & 1099 & 111 & 318 & ⋯ &  88 & 135 &   7 & 168 & 1 & 1225 & 0 & 0 & 0 & 79\\\\\n\t NBA & Allen Crabbe     & POR & SF & 81 & 2111 & 312 &  678 & 112 & 284 & ⋯ &  63 &  64 &  16 & 192 & 2 &  834 & 0 & 0 & 0 &  8\\\\\n\t NBA & Jamal Crawford   & LAC & SG & 79 & 2126 & 379 &  940 & 117 & 345 & ⋯ &  52 & 113 &  12 & 122 & 0 & 1120 & 3 & 0 & 0 &  5\\\\\n\t NBA & Dante Cunningham & NOR & PF & 80 & 1973 & 186 &  413 &  55 & 174 & ⋯ &  42 &  41 &  33 & 173 & 1 &  484 & 0 & 0 & 0 & 46\\\\\n\t NBA & Stephen Curry    & GSW & PG & 79 & 2705 & 805 & 1597 & 402 & 887 & ⋯ & 169 & 261 &  16 & 161 & 0 & 2375 & 1 & 0 & 0 & 79\\\\\n\t NBA & Ed Davis         & POR & PF & 81 & 1684 & 206 &  337 &   0 &   0 & ⋯ &  57 &  64 &  72 & 202 & 2 &  526 & 2 & 0 & 0 &  0\\\\\n\t NBA & Matt Dellavedova & CLE & PG & 76 & 1869 & 207 &  511 &  98 & 239 & ⋯ &  44 & 117 &   9 & 177 & 0 &  569 & 0 & 0 & 0 & 14\\\\\n\t NBA & Demar Derozan    & TOR & SG & 78 & 2804 & 614 & 1377 &  47 & 139 & ⋯ &  82 & 174 &  21 & 167 & 0 & 1830 & 2 & 0 & 0 & 78\\\\\n\t NBA & Boris Diaw       & SAN & C  & 76 & 1383 & 202 &  383 &  25 &  69 & ⋯ &  26 &  97 &  21 & 102 & 0 &  485 & 0 & 0 & 0 &  4\\\\\n\t NBA & Gorgui Dieng     & MIN & C  & 82 & 2222 & 308 &  578 &   6 &  20 & ⋯ &  94 & 140 &  96 & 219 & 0 &  827 & 1 & 0 & 0 & 39\\\\\n\t NBA & Andre Drummond   & DET & C  & 81 & 2664 & 552 & 1061 &   2 &   6 & ⋯ & 119 & 154 & 112 & 245 & 2 & 1314 & 7 & 0 & 0 & 81\\\\\n\t NBA & Jared Dudley     & WAS & SG & 81 & 2098 & 233 &  487 & 100 & 239 & ⋯ &  75 &  80 &  18 & 190 & 1 &  638 & 1 & 0 & 0 & 41\\\\\n\t ⋮ & ⋮ & ⋮ & ⋮ & ⋮ & ⋮ & ⋮ & ⋮ & ⋮ & ⋮ & ⋱ & ⋮ & ⋮ & ⋮ & ⋮ & ⋮ & ⋮ & ⋮ & ⋮ & ⋮ & ⋮\\\\\n\t NBA & Julius Randle    & LAL & PF & 81 & 2287 & 358 &  835 &  10 &  36 & ⋯ &  53 & 149 &  29 & 242 & 2 &  919 & 0 & 0 & 0 & 60\\\\\n\t NBA & Ricky Rubio      & MIN & PG & 76 & 2322 & 219 &  586 &  62 & 190 & ⋯ & 162 & 194 &  10 & 201 & 1 &  766 & 0 & 0 & 0 & 76\\\\\n\t NBA & D'angelo Russell & LAL & PG & 80 & 2257 & 392 &  955 & 130 & 367 & ⋯ &  93 & 196 &  13 & 142 & 0 & 1054 & 1 & 0 & 0 & 48\\\\\n\t NBA & Dennis Schroder  & ATL & PG & 80 & 1614 & 329 &  782 &  77 & 239 & ⋯ &  71 & 184 &   9 & 138 & 0 &  879 & 0 & 0 & 0 &  6\\\\\n\t NBA & Luis Scola       & TOR & PF & 76 & 1635 & 269 &  598 &  65 & 161 & ⋯ &  46 &  68 &  27 & 178 & 0 &  664 & 0 & 0 & 0 & 76\\\\\n\t NBA & Ramon Sessions   & WAS & PG & 82 & 1667 & 280 &  592 &  36 & 111 & ⋯ &  47 & 115 &   5 & 102 & 0 &  810 & 0 & 0 & 0 &  5\\\\\n\t NBA & Ish Smith        & PHI & PG & 77 & 2240 & 397 &  967 &  56 & 170 & ⋯ &  88 & 175 &  24 & 133 & 0 &  972 & 0 & 0 & 0 & 53\\\\\n\t NBA & J.r. Smith       & CLE & SG & 77 & 2367 & 353 &  849 & 204 & 510 & ⋯ &  81 &  59 &  21 & 204 & 1 &  955 & 3 & 0 & 0 & 77\\\\\n\t NBA & Jason Smith      & ORL & PF & 76 & 1180 & 244 &  503 &   4 &  16 & ⋯ &  33 &  57 &  65 & 163 & 1 &  546 & 1 & 0 & 0 &  2\\\\\n\t NBA & Jared Sullinger  & BOS & PF & 81 & 1917 & 351 &  807 &  29 & 104 & ⋯ &  75 & 102 &  47 & 209 & 2 &  834 & 2 & 0 & 0 & 73\\\\\n\t NBA & Jeff Teague      & ATL & PG & 79 & 2248 & 434 &  986 & 110 & 274 & ⋯ &  98 & 218 &  24 & 167 & 2 & 1239 & 0 & 0 & 0 & 78\\\\\n\t NBA & Mirza Teletovic  & PHO & PF & 79 & 1683 & 332 &  777 & 181 & 460 & ⋯ &  32 &  84 &  21 & 159 & 1 &  965 & 1 & 0 & 0 &  1\\\\\n\t NBA & Garrett Temple   & WAS & SG & 80 & 1951 & 201 &  505 &  89 & 257 & ⋯ &  69 &  64 &  18 & 195 & 3 &  582 & 0 & 0 & 0 & 43\\\\\n\t NBA & Isaiah Thomas    & BOS & PG & 82 & 2647 & 591 & 1382 & 167 & 465 & ⋯ &  91 & 220 &   9 & 167 & 1 & 1823 & 9 & 0 & 0 & 79\\\\\n\t NBA & Hollis Thompson  & PHI & SG & 77 & 2158 & 270 &  681 & 149 & 393 & ⋯ &  36 &  76 &  24 & 187 & 2 &  758 & 0 & 0 & 0 & 17\\\\\n\t NBA & Klay Thompson    & GSW & SG & 80 & 2661 & 651 & 1386 & 276 & 648 & ⋯ &  60 & 138 &  50 & 152 & 0 & 1771 & 0 & 0 & 0 & 80\\\\\n\t NBA & Tristan Thompson & CLE & C  & 82 & 2269 & 247 &  420 &   0 &   0 & ⋯ &  38 &  61 &  51 & 202 & 0 &  643 & 1 & 0 & 0 & 34\\\\\n\t NBA & Karl-antho Towns & MIN & C  & 82 & 2621 & 625 & 1152 &  30 &  88 & ⋯ &  58 & 183 & 138 & 245 & 1 & 1503 & 2 & 0 & 0 & 82\\\\\n\t NBA & P.j. Tucker      & PHO & SF & 82 & 2540 & 239 &  582 &  68 & 206 & ⋯ & 106 & 111 &  20 & 202 & 3 &  652 & 4 & 0 & 0 & 80\\\\\n\t NBA & Evan Turner      & BOS & SG & 81 & 2270 & 343 &  753 &  20 &  83 & ⋯ &  80 & 169 &  28 & 139 & 0 &  854 & 2 & 0 & 0 & 12\\\\\n\t NBA & Noah Vonleh      & POR & PF & 78 & 1173 & 117 &  279 &  11 &  47 & ⋯ &  27 &  50 &  26 & 152 & 1 &  283 & 0 & 0 & 0 & 56\\\\\n\t NBA & Dion Waiters     & OKL & SG & 78 & 2157 & 282 &  705 &  86 & 241 & ⋯ &  81 & 120 &  15 & 143 & 0 &  762 & 4 & 0 & 0 & 15\\\\\n\t NBA & Kemba Walker     & CHA & PG & 81 & 2885 & 568 & 1332 & 182 & 490 & ⋯ & 127 & 171 &  39 & 111 & 0 & 1689 & 5 & 0 & 0 & 81\\\\\n\t NBA & John Wall        & WAS & PG & 77 & 2783 & 572 & 1349 & 115 & 327 & ⋯ & 145 & 318 &  59 & 159 & 0 & 1531 & 7 & 0 & 0 & 77\\\\\n\t NBA & David West       & SAN & PF & 78 & 1408 & 244 &  448 &   3 &   7 & ⋯ &  44 &  67 &  55 & 142 & 1 &  554 & 2 & 0 & 0 & 19\\\\\n\t NBA & Russel Westbrook & OKL & PG & 80 & 2749 & 656 & 1444 & 101 & 341 & ⋯ & 163 & 342 &  20 & 200 & 2 & 1878 & 6 & 0 & 0 & 80\\\\\n\t NBA & Andrew Wiggins   & MIN & SF & 81 & 2844 & 594 & 1294 &  57 & 190 & ⋯ &  78 & 182 &  46 & 165 & 1 & 1675 & 1 & 0 & 0 & 81\\\\\n\t NBA & Derrick Williams & NYK & PF & 80 & 1442 & 254 &  565 &  44 & 150 & ⋯ &  30 &  61 &   9 &  69 & 0 &  746 & 0 & 0 & 0 &  9\\\\\n\t NBA & Marvin Williams  & CHA & PF & 81 & 2339 & 338 &  747 & 152 & 379 & ⋯ &  58 &  62 &  77 & 133 & 1 &  948 & 0 & 0 & 0 & 81\\\\\n\t NBA & Justise Winslow  & MIA & SF & 78 & 2237 & 196 &  463 &  32 & 116 & ⋯ &  68 &  95 &  26 & 184 & 0 &  504 & 0 & 0 & 0 &  8\\\\\n\\end{tabular}\n",
            "text/markdown": "\nA data.table: 125 × 25\n\n| League &lt;fct&gt; | Name &lt;chr&gt; | Team &lt;fct&gt; | Position &lt;fct&gt; | GamesPlayed &lt;int&gt; | TotalMinutesPlayed &lt;int&gt; | FieldGoalsMade &lt;int&gt; | FieldGoalsAttempted &lt;int&gt; | ThreesMade &lt;int&gt; | ThreesAttempted &lt;int&gt; | ⋯ ⋯ | Steals &lt;int&gt; | Turnovers &lt;int&gt; | Blocks &lt;int&gt; | PersonalFouls &lt;int&gt; | Disqualifications &lt;int&gt; | TotalPoints &lt;int&gt; | Technicals &lt;int&gt; | Ejections &lt;int&gt; | FlagrantFouls &lt;int&gt; | GamesStarted &lt;int&gt; |\n|---|---|---|---|---|---|---|---|---|---|---|---|---|---|---|---|---|---|---|---|---|\n| NBA | Steven Adams     | OKL | C  | 80 | 2019 | 261 |  426 |   0 |   0 | ⋯ |  42 |  84 |  89 | 223 | 2 |  636 | 2 | 0 | 0 | 80 |\n| NBA | Lavoy Allen      | IND | PF | 79 | 1601 | 191 |  370 |   0 |   0 | ⋯ |  26 |  69 |  42 | 147 | 1 |  428 | 0 | 0 | 0 | 28 |\n| NBA | Al-farouq Aminu  | POR | SF | 82 | 2342 | 299 |  719 | 126 | 349 | ⋯ |  72 | 120 |  53 | 171 | 0 |  839 | 3 | 0 | 0 | 82 |\n| NBA | Kyle Anderson    | SAN | SF | 78 | 1247 | 138 |  296 |  12 |  37 | ⋯ |  60 |  59 |  29 |  97 | 0 |  350 | 0 | 0 | 0 | 11 |\n| NBA | Gi Antetokounmpo | MIL | SF | 80 | 2825 | 513 | 1012 |  28 | 110 | ⋯ |  94 | 208 | 113 | 258 | 7 | 1350 | 1 | 0 | 0 | 79 |\n| NBA | Trevor Ariza     | HOU | SF | 81 | 2860 | 357 |  858 | 185 | 497 | ⋯ | 161 | 113 |  26 | 177 | 0 | 1025 | 2 | 0 | 0 | 81 |\n| NBA | Matt Barnes      | MEM | SF | 76 | 2190 | 264 |  693 | 119 | 370 | ⋯ |  78 | 121 |  57 | 234 | 1 |  758 | 4 | 0 | 0 | 45 |\n| NBA | Will Barton      | DEN | SG | 82 | 2355 | 426 |  984 | 112 | 324 | ⋯ |  71 | 139 |  39 | 147 | 0 | 1180 | 2 | 0 | 0 |  1 |\n| NBA | Aron Baynes      | DET | PF | 81 | 1241 | 194 |  384 |   0 |   2 | ⋯ |  21 |  67 |  52 | 151 | 0 |  514 | 0 | 0 | 0 |  1 |\n| NBA | Bismack Biyombo  | TOR | PF | 82 | 1810 | 156 |  288 |   0 |   1 | ⋯ |  19 |  71 | 133 | 225 | 2 |  454 | 3 | 0 | 0 | 22 |\n| NBA | Bojan Bogdanovic | BRO | SG | 79 | 2114 | 324 |  749 | 129 | 337 | ⋯ |  29 | 115 |   5 | 119 | 0 |  887 | 2 | 0 | 0 | 39 |\n| NBA | Devin Booker     | PHO | SG | 76 | 2110 | 367 |  867 |  99 | 289 | ⋯ |  44 | 160 |  20 | 225 | 5 | 1048 | 0 | 0 | 0 | 51 |\n| NBA | Trevor Booker    | UTA | PF | 79 | 1632 | 190 |  388 |  12 |  41 | ⋯ |  59 |  81 |  41 | 169 | 1 |  463 | 1 | 0 | 0 |  2 |\n| NBA | Avery Bradley    | BOS | PG | 76 | 2536 | 456 | 1018 | 147 | 406 | ⋯ | 117 | 109 |  19 | 164 | 2 | 1155 | 0 | 0 | 0 | 72 |\n| NBA | Corey Brewer     | HOU | SG | 82 | 1670 | 212 |  552 |  61 | 225 | ⋯ |  84 |  78 |  19 | 168 | 1 |  590 | 0 | 0 | 0 | 12 |\n| NBA | Ke Caldwell-pope | DET | SG | 76 | 2789 | 403 |  960 | 114 | 368 | ⋯ | 110 | 105 |  17 | 167 | 0 | 1105 | 3 | 0 | 0 | 76 |\n| NBA | Isaiah Canaan    | PHI | PG | 77 | 1968 | 260 |  722 | 176 | 484 | ⋯ |  56 |  91 |  12 | 133 | 0 |  846 | 1 | 0 | 0 | 39 |\n| NBA | Clint Capela     | HOU | C  | 77 | 1468 | 231 |  397 |   0 |   1 | ⋯ |  59 |  60 |  92 | 190 | 3 |  542 | 0 | 0 | 0 | 35 |\n| NBA | Jordan Clarkson  | LAL | PG | 79 | 2556 | 475 | 1099 | 111 | 318 | ⋯ |  88 | 135 |   7 | 168 | 1 | 1225 | 0 | 0 | 0 | 79 |\n| NBA | Allen Crabbe     | POR | SF | 81 | 2111 | 312 |  678 | 112 | 284 | ⋯ |  63 |  64 |  16 | 192 | 2 |  834 | 0 | 0 | 0 |  8 |\n| NBA | Jamal Crawford   | LAC | SG | 79 | 2126 | 379 |  940 | 117 | 345 | ⋯ |  52 | 113 |  12 | 122 | 0 | 1120 | 3 | 0 | 0 |  5 |\n| NBA | Dante Cunningham | NOR | PF | 80 | 1973 | 186 |  413 |  55 | 174 | ⋯ |  42 |  41 |  33 | 173 | 1 |  484 | 0 | 0 | 0 | 46 |\n| NBA | Stephen Curry    | GSW | PG | 79 | 2705 | 805 | 1597 | 402 | 887 | ⋯ | 169 | 261 |  16 | 161 | 0 | 2375 | 1 | 0 | 0 | 79 |\n| NBA | Ed Davis         | POR | PF | 81 | 1684 | 206 |  337 |   0 |   0 | ⋯ |  57 |  64 |  72 | 202 | 2 |  526 | 2 | 0 | 0 |  0 |\n| NBA | Matt Dellavedova | CLE | PG | 76 | 1869 | 207 |  511 |  98 | 239 | ⋯ |  44 | 117 |   9 | 177 | 0 |  569 | 0 | 0 | 0 | 14 |\n| NBA | Demar Derozan    | TOR | SG | 78 | 2804 | 614 | 1377 |  47 | 139 | ⋯ |  82 | 174 |  21 | 167 | 0 | 1830 | 2 | 0 | 0 | 78 |\n| NBA | Boris Diaw       | SAN | C  | 76 | 1383 | 202 |  383 |  25 |  69 | ⋯ |  26 |  97 |  21 | 102 | 0 |  485 | 0 | 0 | 0 |  4 |\n| NBA | Gorgui Dieng     | MIN | C  | 82 | 2222 | 308 |  578 |   6 |  20 | ⋯ |  94 | 140 |  96 | 219 | 0 |  827 | 1 | 0 | 0 | 39 |\n| NBA | Andre Drummond   | DET | C  | 81 | 2664 | 552 | 1061 |   2 |   6 | ⋯ | 119 | 154 | 112 | 245 | 2 | 1314 | 7 | 0 | 0 | 81 |\n| NBA | Jared Dudley     | WAS | SG | 81 | 2098 | 233 |  487 | 100 | 239 | ⋯ |  75 |  80 |  18 | 190 | 1 |  638 | 1 | 0 | 0 | 41 |\n| ⋮ | ⋮ | ⋮ | ⋮ | ⋮ | ⋮ | ⋮ | ⋮ | ⋮ | ⋮ | ⋱ | ⋮ | ⋮ | ⋮ | ⋮ | ⋮ | ⋮ | ⋮ | ⋮ | ⋮ | ⋮ |\n| NBA | Julius Randle    | LAL | PF | 81 | 2287 | 358 |  835 |  10 |  36 | ⋯ |  53 | 149 |  29 | 242 | 2 |  919 | 0 | 0 | 0 | 60 |\n| NBA | Ricky Rubio      | MIN | PG | 76 | 2322 | 219 |  586 |  62 | 190 | ⋯ | 162 | 194 |  10 | 201 | 1 |  766 | 0 | 0 | 0 | 76 |\n| NBA | D'angelo Russell | LAL | PG | 80 | 2257 | 392 |  955 | 130 | 367 | ⋯ |  93 | 196 |  13 | 142 | 0 | 1054 | 1 | 0 | 0 | 48 |\n| NBA | Dennis Schroder  | ATL | PG | 80 | 1614 | 329 |  782 |  77 | 239 | ⋯ |  71 | 184 |   9 | 138 | 0 |  879 | 0 | 0 | 0 |  6 |\n| NBA | Luis Scola       | TOR | PF | 76 | 1635 | 269 |  598 |  65 | 161 | ⋯ |  46 |  68 |  27 | 178 | 0 |  664 | 0 | 0 | 0 | 76 |\n| NBA | Ramon Sessions   | WAS | PG | 82 | 1667 | 280 |  592 |  36 | 111 | ⋯ |  47 | 115 |   5 | 102 | 0 |  810 | 0 | 0 | 0 |  5 |\n| NBA | Ish Smith        | PHI | PG | 77 | 2240 | 397 |  967 |  56 | 170 | ⋯ |  88 | 175 |  24 | 133 | 0 |  972 | 0 | 0 | 0 | 53 |\n| NBA | J.r. Smith       | CLE | SG | 77 | 2367 | 353 |  849 | 204 | 510 | ⋯ |  81 |  59 |  21 | 204 | 1 |  955 | 3 | 0 | 0 | 77 |\n| NBA | Jason Smith      | ORL | PF | 76 | 1180 | 244 |  503 |   4 |  16 | ⋯ |  33 |  57 |  65 | 163 | 1 |  546 | 1 | 0 | 0 |  2 |\n| NBA | Jared Sullinger  | BOS | PF | 81 | 1917 | 351 |  807 |  29 | 104 | ⋯ |  75 | 102 |  47 | 209 | 2 |  834 | 2 | 0 | 0 | 73 |\n| NBA | Jeff Teague      | ATL | PG | 79 | 2248 | 434 |  986 | 110 | 274 | ⋯ |  98 | 218 |  24 | 167 | 2 | 1239 | 0 | 0 | 0 | 78 |\n| NBA | Mirza Teletovic  | PHO | PF | 79 | 1683 | 332 |  777 | 181 | 460 | ⋯ |  32 |  84 |  21 | 159 | 1 |  965 | 1 | 0 | 0 |  1 |\n| NBA | Garrett Temple   | WAS | SG | 80 | 1951 | 201 |  505 |  89 | 257 | ⋯ |  69 |  64 |  18 | 195 | 3 |  582 | 0 | 0 | 0 | 43 |\n| NBA | Isaiah Thomas    | BOS | PG | 82 | 2647 | 591 | 1382 | 167 | 465 | ⋯ |  91 | 220 |   9 | 167 | 1 | 1823 | 9 | 0 | 0 | 79 |\n| NBA | Hollis Thompson  | PHI | SG | 77 | 2158 | 270 |  681 | 149 | 393 | ⋯ |  36 |  76 |  24 | 187 | 2 |  758 | 0 | 0 | 0 | 17 |\n| NBA | Klay Thompson    | GSW | SG | 80 | 2661 | 651 | 1386 | 276 | 648 | ⋯ |  60 | 138 |  50 | 152 | 0 | 1771 | 0 | 0 | 0 | 80 |\n| NBA | Tristan Thompson | CLE | C  | 82 | 2269 | 247 |  420 |   0 |   0 | ⋯ |  38 |  61 |  51 | 202 | 0 |  643 | 1 | 0 | 0 | 34 |\n| NBA | Karl-antho Towns | MIN | C  | 82 | 2621 | 625 | 1152 |  30 |  88 | ⋯ |  58 | 183 | 138 | 245 | 1 | 1503 | 2 | 0 | 0 | 82 |\n| NBA | P.j. Tucker      | PHO | SF | 82 | 2540 | 239 |  582 |  68 | 206 | ⋯ | 106 | 111 |  20 | 202 | 3 |  652 | 4 | 0 | 0 | 80 |\n| NBA | Evan Turner      | BOS | SG | 81 | 2270 | 343 |  753 |  20 |  83 | ⋯ |  80 | 169 |  28 | 139 | 0 |  854 | 2 | 0 | 0 | 12 |\n| NBA | Noah Vonleh      | POR | PF | 78 | 1173 | 117 |  279 |  11 |  47 | ⋯ |  27 |  50 |  26 | 152 | 1 |  283 | 0 | 0 | 0 | 56 |\n| NBA | Dion Waiters     | OKL | SG | 78 | 2157 | 282 |  705 |  86 | 241 | ⋯ |  81 | 120 |  15 | 143 | 0 |  762 | 4 | 0 | 0 | 15 |\n| NBA | Kemba Walker     | CHA | PG | 81 | 2885 | 568 | 1332 | 182 | 490 | ⋯ | 127 | 171 |  39 | 111 | 0 | 1689 | 5 | 0 | 0 | 81 |\n| NBA | John Wall        | WAS | PG | 77 | 2783 | 572 | 1349 | 115 | 327 | ⋯ | 145 | 318 |  59 | 159 | 0 | 1531 | 7 | 0 | 0 | 77 |\n| NBA | David West       | SAN | PF | 78 | 1408 | 244 |  448 |   3 |   7 | ⋯ |  44 |  67 |  55 | 142 | 1 |  554 | 2 | 0 | 0 | 19 |\n| NBA | Russel Westbrook | OKL | PG | 80 | 2749 | 656 | 1444 | 101 | 341 | ⋯ | 163 | 342 |  20 | 200 | 2 | 1878 | 6 | 0 | 0 | 80 |\n| NBA | Andrew Wiggins   | MIN | SF | 81 | 2844 | 594 | 1294 |  57 | 190 | ⋯ |  78 | 182 |  46 | 165 | 1 | 1675 | 1 | 0 | 0 | 81 |\n| NBA | Derrick Williams | NYK | PF | 80 | 1442 | 254 |  565 |  44 | 150 | ⋯ |  30 |  61 |   9 |  69 | 0 |  746 | 0 | 0 | 0 |  9 |\n| NBA | Marvin Williams  | CHA | PF | 81 | 2339 | 338 |  747 | 152 | 379 | ⋯ |  58 |  62 |  77 | 133 | 1 |  948 | 0 | 0 | 0 | 81 |\n| NBA | Justise Winslow  | MIA | SF | 78 | 2237 | 196 |  463 |  32 | 116 | ⋯ |  68 |  95 |  26 | 184 | 0 |  504 | 0 | 0 | 0 |  8 |\n\n",
            "text/html": [
              "<table>\n",
              "<caption>A data.table: 125 × 25</caption>\n",
              "<thead>\n",
              "\t<tr><th scope=col>League</th><th scope=col>Name</th><th scope=col>Team</th><th scope=col>Position</th><th scope=col>GamesPlayed</th><th scope=col>TotalMinutesPlayed</th><th scope=col>FieldGoalsMade</th><th scope=col>FieldGoalsAttempted</th><th scope=col>ThreesMade</th><th scope=col>ThreesAttempted</th><th scope=col>⋯</th><th scope=col>Steals</th><th scope=col>Turnovers</th><th scope=col>Blocks</th><th scope=col>PersonalFouls</th><th scope=col>Disqualifications</th><th scope=col>TotalPoints</th><th scope=col>Technicals</th><th scope=col>Ejections</th><th scope=col>FlagrantFouls</th><th scope=col>GamesStarted</th></tr>\n",
              "\t<tr><th scope=col>&lt;fct&gt;</th><th scope=col>&lt;chr&gt;</th><th scope=col>&lt;fct&gt;</th><th scope=col>&lt;fct&gt;</th><th scope=col>&lt;int&gt;</th><th scope=col>&lt;int&gt;</th><th scope=col>&lt;int&gt;</th><th scope=col>&lt;int&gt;</th><th scope=col>&lt;int&gt;</th><th scope=col>&lt;int&gt;</th><th scope=col>⋯</th><th scope=col>&lt;int&gt;</th><th scope=col>&lt;int&gt;</th><th scope=col>&lt;int&gt;</th><th scope=col>&lt;int&gt;</th><th scope=col>&lt;int&gt;</th><th scope=col>&lt;int&gt;</th><th scope=col>&lt;int&gt;</th><th scope=col>&lt;int&gt;</th><th scope=col>&lt;int&gt;</th><th scope=col>&lt;int&gt;</th></tr>\n",
              "</thead>\n",
              "<tbody>\n",
              "\t<tr><td>NBA</td><td>Steven Adams    </td><td>OKL</td><td>C </td><td>80</td><td>2019</td><td>261</td><td> 426</td><td>  0</td><td>  0</td><td>⋯</td><td> 42</td><td> 84</td><td> 89</td><td>223</td><td>2</td><td> 636</td><td>2</td><td>0</td><td>0</td><td>80</td></tr>\n",
              "\t<tr><td>NBA</td><td>Lavoy Allen     </td><td>IND</td><td>PF</td><td>79</td><td>1601</td><td>191</td><td> 370</td><td>  0</td><td>  0</td><td>⋯</td><td> 26</td><td> 69</td><td> 42</td><td>147</td><td>1</td><td> 428</td><td>0</td><td>0</td><td>0</td><td>28</td></tr>\n",
              "\t<tr><td>NBA</td><td>Al-farouq Aminu </td><td>POR</td><td>SF</td><td>82</td><td>2342</td><td>299</td><td> 719</td><td>126</td><td>349</td><td>⋯</td><td> 72</td><td>120</td><td> 53</td><td>171</td><td>0</td><td> 839</td><td>3</td><td>0</td><td>0</td><td>82</td></tr>\n",
              "\t<tr><td>NBA</td><td>Kyle Anderson   </td><td>SAN</td><td>SF</td><td>78</td><td>1247</td><td>138</td><td> 296</td><td> 12</td><td> 37</td><td>⋯</td><td> 60</td><td> 59</td><td> 29</td><td> 97</td><td>0</td><td> 350</td><td>0</td><td>0</td><td>0</td><td>11</td></tr>\n",
              "\t<tr><td>NBA</td><td>Gi Antetokounmpo</td><td>MIL</td><td>SF</td><td>80</td><td>2825</td><td>513</td><td>1012</td><td> 28</td><td>110</td><td>⋯</td><td> 94</td><td>208</td><td>113</td><td>258</td><td>7</td><td>1350</td><td>1</td><td>0</td><td>0</td><td>79</td></tr>\n",
              "\t<tr><td>NBA</td><td>Trevor Ariza    </td><td>HOU</td><td>SF</td><td>81</td><td>2860</td><td>357</td><td> 858</td><td>185</td><td>497</td><td>⋯</td><td>161</td><td>113</td><td> 26</td><td>177</td><td>0</td><td>1025</td><td>2</td><td>0</td><td>0</td><td>81</td></tr>\n",
              "\t<tr><td>NBA</td><td>Matt Barnes     </td><td>MEM</td><td>SF</td><td>76</td><td>2190</td><td>264</td><td> 693</td><td>119</td><td>370</td><td>⋯</td><td> 78</td><td>121</td><td> 57</td><td>234</td><td>1</td><td> 758</td><td>4</td><td>0</td><td>0</td><td>45</td></tr>\n",
              "\t<tr><td>NBA</td><td>Will Barton     </td><td>DEN</td><td>SG</td><td>82</td><td>2355</td><td>426</td><td> 984</td><td>112</td><td>324</td><td>⋯</td><td> 71</td><td>139</td><td> 39</td><td>147</td><td>0</td><td>1180</td><td>2</td><td>0</td><td>0</td><td> 1</td></tr>\n",
              "\t<tr><td>NBA</td><td>Aron Baynes     </td><td>DET</td><td>PF</td><td>81</td><td>1241</td><td>194</td><td> 384</td><td>  0</td><td>  2</td><td>⋯</td><td> 21</td><td> 67</td><td> 52</td><td>151</td><td>0</td><td> 514</td><td>0</td><td>0</td><td>0</td><td> 1</td></tr>\n",
              "\t<tr><td>NBA</td><td>Bismack Biyombo </td><td>TOR</td><td>PF</td><td>82</td><td>1810</td><td>156</td><td> 288</td><td>  0</td><td>  1</td><td>⋯</td><td> 19</td><td> 71</td><td>133</td><td>225</td><td>2</td><td> 454</td><td>3</td><td>0</td><td>0</td><td>22</td></tr>\n",
              "\t<tr><td>NBA</td><td>Bojan Bogdanovic</td><td>BRO</td><td>SG</td><td>79</td><td>2114</td><td>324</td><td> 749</td><td>129</td><td>337</td><td>⋯</td><td> 29</td><td>115</td><td>  5</td><td>119</td><td>0</td><td> 887</td><td>2</td><td>0</td><td>0</td><td>39</td></tr>\n",
              "\t<tr><td>NBA</td><td>Devin Booker    </td><td>PHO</td><td>SG</td><td>76</td><td>2110</td><td>367</td><td> 867</td><td> 99</td><td>289</td><td>⋯</td><td> 44</td><td>160</td><td> 20</td><td>225</td><td>5</td><td>1048</td><td>0</td><td>0</td><td>0</td><td>51</td></tr>\n",
              "\t<tr><td>NBA</td><td>Trevor Booker   </td><td>UTA</td><td>PF</td><td>79</td><td>1632</td><td>190</td><td> 388</td><td> 12</td><td> 41</td><td>⋯</td><td> 59</td><td> 81</td><td> 41</td><td>169</td><td>1</td><td> 463</td><td>1</td><td>0</td><td>0</td><td> 2</td></tr>\n",
              "\t<tr><td>NBA</td><td>Avery Bradley   </td><td>BOS</td><td>PG</td><td>76</td><td>2536</td><td>456</td><td>1018</td><td>147</td><td>406</td><td>⋯</td><td>117</td><td>109</td><td> 19</td><td>164</td><td>2</td><td>1155</td><td>0</td><td>0</td><td>0</td><td>72</td></tr>\n",
              "\t<tr><td>NBA</td><td>Corey Brewer    </td><td>HOU</td><td>SG</td><td>82</td><td>1670</td><td>212</td><td> 552</td><td> 61</td><td>225</td><td>⋯</td><td> 84</td><td> 78</td><td> 19</td><td>168</td><td>1</td><td> 590</td><td>0</td><td>0</td><td>0</td><td>12</td></tr>\n",
              "\t<tr><td>NBA</td><td>Ke Caldwell-pope</td><td>DET</td><td>SG</td><td>76</td><td>2789</td><td>403</td><td> 960</td><td>114</td><td>368</td><td>⋯</td><td>110</td><td>105</td><td> 17</td><td>167</td><td>0</td><td>1105</td><td>3</td><td>0</td><td>0</td><td>76</td></tr>\n",
              "\t<tr><td>NBA</td><td>Isaiah Canaan   </td><td>PHI</td><td>PG</td><td>77</td><td>1968</td><td>260</td><td> 722</td><td>176</td><td>484</td><td>⋯</td><td> 56</td><td> 91</td><td> 12</td><td>133</td><td>0</td><td> 846</td><td>1</td><td>0</td><td>0</td><td>39</td></tr>\n",
              "\t<tr><td>NBA</td><td>Clint Capela    </td><td>HOU</td><td>C </td><td>77</td><td>1468</td><td>231</td><td> 397</td><td>  0</td><td>  1</td><td>⋯</td><td> 59</td><td> 60</td><td> 92</td><td>190</td><td>3</td><td> 542</td><td>0</td><td>0</td><td>0</td><td>35</td></tr>\n",
              "\t<tr><td>NBA</td><td>Jordan Clarkson </td><td>LAL</td><td>PG</td><td>79</td><td>2556</td><td>475</td><td>1099</td><td>111</td><td>318</td><td>⋯</td><td> 88</td><td>135</td><td>  7</td><td>168</td><td>1</td><td>1225</td><td>0</td><td>0</td><td>0</td><td>79</td></tr>\n",
              "\t<tr><td>NBA</td><td>Allen Crabbe    </td><td>POR</td><td>SF</td><td>81</td><td>2111</td><td>312</td><td> 678</td><td>112</td><td>284</td><td>⋯</td><td> 63</td><td> 64</td><td> 16</td><td>192</td><td>2</td><td> 834</td><td>0</td><td>0</td><td>0</td><td> 8</td></tr>\n",
              "\t<tr><td>NBA</td><td>Jamal Crawford  </td><td>LAC</td><td>SG</td><td>79</td><td>2126</td><td>379</td><td> 940</td><td>117</td><td>345</td><td>⋯</td><td> 52</td><td>113</td><td> 12</td><td>122</td><td>0</td><td>1120</td><td>3</td><td>0</td><td>0</td><td> 5</td></tr>\n",
              "\t<tr><td>NBA</td><td>Dante Cunningham</td><td>NOR</td><td>PF</td><td>80</td><td>1973</td><td>186</td><td> 413</td><td> 55</td><td>174</td><td>⋯</td><td> 42</td><td> 41</td><td> 33</td><td>173</td><td>1</td><td> 484</td><td>0</td><td>0</td><td>0</td><td>46</td></tr>\n",
              "\t<tr><td>NBA</td><td>Stephen Curry   </td><td>GSW</td><td>PG</td><td>79</td><td>2705</td><td>805</td><td>1597</td><td>402</td><td>887</td><td>⋯</td><td>169</td><td>261</td><td> 16</td><td>161</td><td>0</td><td>2375</td><td>1</td><td>0</td><td>0</td><td>79</td></tr>\n",
              "\t<tr><td>NBA</td><td>Ed Davis        </td><td>POR</td><td>PF</td><td>81</td><td>1684</td><td>206</td><td> 337</td><td>  0</td><td>  0</td><td>⋯</td><td> 57</td><td> 64</td><td> 72</td><td>202</td><td>2</td><td> 526</td><td>2</td><td>0</td><td>0</td><td> 0</td></tr>\n",
              "\t<tr><td>NBA</td><td>Matt Dellavedova</td><td>CLE</td><td>PG</td><td>76</td><td>1869</td><td>207</td><td> 511</td><td> 98</td><td>239</td><td>⋯</td><td> 44</td><td>117</td><td>  9</td><td>177</td><td>0</td><td> 569</td><td>0</td><td>0</td><td>0</td><td>14</td></tr>\n",
              "\t<tr><td>NBA</td><td>Demar Derozan   </td><td>TOR</td><td>SG</td><td>78</td><td>2804</td><td>614</td><td>1377</td><td> 47</td><td>139</td><td>⋯</td><td> 82</td><td>174</td><td> 21</td><td>167</td><td>0</td><td>1830</td><td>2</td><td>0</td><td>0</td><td>78</td></tr>\n",
              "\t<tr><td>NBA</td><td>Boris Diaw      </td><td>SAN</td><td>C </td><td>76</td><td>1383</td><td>202</td><td> 383</td><td> 25</td><td> 69</td><td>⋯</td><td> 26</td><td> 97</td><td> 21</td><td>102</td><td>0</td><td> 485</td><td>0</td><td>0</td><td>0</td><td> 4</td></tr>\n",
              "\t<tr><td>NBA</td><td>Gorgui Dieng    </td><td>MIN</td><td>C </td><td>82</td><td>2222</td><td>308</td><td> 578</td><td>  6</td><td> 20</td><td>⋯</td><td> 94</td><td>140</td><td> 96</td><td>219</td><td>0</td><td> 827</td><td>1</td><td>0</td><td>0</td><td>39</td></tr>\n",
              "\t<tr><td>NBA</td><td>Andre Drummond  </td><td>DET</td><td>C </td><td>81</td><td>2664</td><td>552</td><td>1061</td><td>  2</td><td>  6</td><td>⋯</td><td>119</td><td>154</td><td>112</td><td>245</td><td>2</td><td>1314</td><td>7</td><td>0</td><td>0</td><td>81</td></tr>\n",
              "\t<tr><td>NBA</td><td>Jared Dudley    </td><td>WAS</td><td>SG</td><td>81</td><td>2098</td><td>233</td><td> 487</td><td>100</td><td>239</td><td>⋯</td><td> 75</td><td> 80</td><td> 18</td><td>190</td><td>1</td><td> 638</td><td>1</td><td>0</td><td>0</td><td>41</td></tr>\n",
              "\t<tr><td>⋮</td><td>⋮</td><td>⋮</td><td>⋮</td><td>⋮</td><td>⋮</td><td>⋮</td><td>⋮</td><td>⋮</td><td>⋮</td><td>⋱</td><td>⋮</td><td>⋮</td><td>⋮</td><td>⋮</td><td>⋮</td><td>⋮</td><td>⋮</td><td>⋮</td><td>⋮</td><td>⋮</td></tr>\n",
              "\t<tr><td>NBA</td><td>Julius Randle   </td><td>LAL</td><td>PF</td><td>81</td><td>2287</td><td>358</td><td> 835</td><td> 10</td><td> 36</td><td>⋯</td><td> 53</td><td>149</td><td> 29</td><td>242</td><td>2</td><td> 919</td><td>0</td><td>0</td><td>0</td><td>60</td></tr>\n",
              "\t<tr><td>NBA</td><td>Ricky Rubio     </td><td>MIN</td><td>PG</td><td>76</td><td>2322</td><td>219</td><td> 586</td><td> 62</td><td>190</td><td>⋯</td><td>162</td><td>194</td><td> 10</td><td>201</td><td>1</td><td> 766</td><td>0</td><td>0</td><td>0</td><td>76</td></tr>\n",
              "\t<tr><td>NBA</td><td>D'angelo Russell</td><td>LAL</td><td>PG</td><td>80</td><td>2257</td><td>392</td><td> 955</td><td>130</td><td>367</td><td>⋯</td><td> 93</td><td>196</td><td> 13</td><td>142</td><td>0</td><td>1054</td><td>1</td><td>0</td><td>0</td><td>48</td></tr>\n",
              "\t<tr><td>NBA</td><td>Dennis Schroder </td><td>ATL</td><td>PG</td><td>80</td><td>1614</td><td>329</td><td> 782</td><td> 77</td><td>239</td><td>⋯</td><td> 71</td><td>184</td><td>  9</td><td>138</td><td>0</td><td> 879</td><td>0</td><td>0</td><td>0</td><td> 6</td></tr>\n",
              "\t<tr><td>NBA</td><td>Luis Scola      </td><td>TOR</td><td>PF</td><td>76</td><td>1635</td><td>269</td><td> 598</td><td> 65</td><td>161</td><td>⋯</td><td> 46</td><td> 68</td><td> 27</td><td>178</td><td>0</td><td> 664</td><td>0</td><td>0</td><td>0</td><td>76</td></tr>\n",
              "\t<tr><td>NBA</td><td>Ramon Sessions  </td><td>WAS</td><td>PG</td><td>82</td><td>1667</td><td>280</td><td> 592</td><td> 36</td><td>111</td><td>⋯</td><td> 47</td><td>115</td><td>  5</td><td>102</td><td>0</td><td> 810</td><td>0</td><td>0</td><td>0</td><td> 5</td></tr>\n",
              "\t<tr><td>NBA</td><td>Ish Smith       </td><td>PHI</td><td>PG</td><td>77</td><td>2240</td><td>397</td><td> 967</td><td> 56</td><td>170</td><td>⋯</td><td> 88</td><td>175</td><td> 24</td><td>133</td><td>0</td><td> 972</td><td>0</td><td>0</td><td>0</td><td>53</td></tr>\n",
              "\t<tr><td>NBA</td><td>J.r. Smith      </td><td>CLE</td><td>SG</td><td>77</td><td>2367</td><td>353</td><td> 849</td><td>204</td><td>510</td><td>⋯</td><td> 81</td><td> 59</td><td> 21</td><td>204</td><td>1</td><td> 955</td><td>3</td><td>0</td><td>0</td><td>77</td></tr>\n",
              "\t<tr><td>NBA</td><td>Jason Smith     </td><td>ORL</td><td>PF</td><td>76</td><td>1180</td><td>244</td><td> 503</td><td>  4</td><td> 16</td><td>⋯</td><td> 33</td><td> 57</td><td> 65</td><td>163</td><td>1</td><td> 546</td><td>1</td><td>0</td><td>0</td><td> 2</td></tr>\n",
              "\t<tr><td>NBA</td><td>Jared Sullinger </td><td>BOS</td><td>PF</td><td>81</td><td>1917</td><td>351</td><td> 807</td><td> 29</td><td>104</td><td>⋯</td><td> 75</td><td>102</td><td> 47</td><td>209</td><td>2</td><td> 834</td><td>2</td><td>0</td><td>0</td><td>73</td></tr>\n",
              "\t<tr><td>NBA</td><td>Jeff Teague     </td><td>ATL</td><td>PG</td><td>79</td><td>2248</td><td>434</td><td> 986</td><td>110</td><td>274</td><td>⋯</td><td> 98</td><td>218</td><td> 24</td><td>167</td><td>2</td><td>1239</td><td>0</td><td>0</td><td>0</td><td>78</td></tr>\n",
              "\t<tr><td>NBA</td><td>Mirza Teletovic </td><td>PHO</td><td>PF</td><td>79</td><td>1683</td><td>332</td><td> 777</td><td>181</td><td>460</td><td>⋯</td><td> 32</td><td> 84</td><td> 21</td><td>159</td><td>1</td><td> 965</td><td>1</td><td>0</td><td>0</td><td> 1</td></tr>\n",
              "\t<tr><td>NBA</td><td>Garrett Temple  </td><td>WAS</td><td>SG</td><td>80</td><td>1951</td><td>201</td><td> 505</td><td> 89</td><td>257</td><td>⋯</td><td> 69</td><td> 64</td><td> 18</td><td>195</td><td>3</td><td> 582</td><td>0</td><td>0</td><td>0</td><td>43</td></tr>\n",
              "\t<tr><td>NBA</td><td>Isaiah Thomas   </td><td>BOS</td><td>PG</td><td>82</td><td>2647</td><td>591</td><td>1382</td><td>167</td><td>465</td><td>⋯</td><td> 91</td><td>220</td><td>  9</td><td>167</td><td>1</td><td>1823</td><td>9</td><td>0</td><td>0</td><td>79</td></tr>\n",
              "\t<tr><td>NBA</td><td>Hollis Thompson </td><td>PHI</td><td>SG</td><td>77</td><td>2158</td><td>270</td><td> 681</td><td>149</td><td>393</td><td>⋯</td><td> 36</td><td> 76</td><td> 24</td><td>187</td><td>2</td><td> 758</td><td>0</td><td>0</td><td>0</td><td>17</td></tr>\n",
              "\t<tr><td>NBA</td><td>Klay Thompson   </td><td>GSW</td><td>SG</td><td>80</td><td>2661</td><td>651</td><td>1386</td><td>276</td><td>648</td><td>⋯</td><td> 60</td><td>138</td><td> 50</td><td>152</td><td>0</td><td>1771</td><td>0</td><td>0</td><td>0</td><td>80</td></tr>\n",
              "\t<tr><td>NBA</td><td>Tristan Thompson</td><td>CLE</td><td>C </td><td>82</td><td>2269</td><td>247</td><td> 420</td><td>  0</td><td>  0</td><td>⋯</td><td> 38</td><td> 61</td><td> 51</td><td>202</td><td>0</td><td> 643</td><td>1</td><td>0</td><td>0</td><td>34</td></tr>\n",
              "\t<tr><td>NBA</td><td>Karl-antho Towns</td><td>MIN</td><td>C </td><td>82</td><td>2621</td><td>625</td><td>1152</td><td> 30</td><td> 88</td><td>⋯</td><td> 58</td><td>183</td><td>138</td><td>245</td><td>1</td><td>1503</td><td>2</td><td>0</td><td>0</td><td>82</td></tr>\n",
              "\t<tr><td>NBA</td><td>P.j. Tucker     </td><td>PHO</td><td>SF</td><td>82</td><td>2540</td><td>239</td><td> 582</td><td> 68</td><td>206</td><td>⋯</td><td>106</td><td>111</td><td> 20</td><td>202</td><td>3</td><td> 652</td><td>4</td><td>0</td><td>0</td><td>80</td></tr>\n",
              "\t<tr><td>NBA</td><td>Evan Turner     </td><td>BOS</td><td>SG</td><td>81</td><td>2270</td><td>343</td><td> 753</td><td> 20</td><td> 83</td><td>⋯</td><td> 80</td><td>169</td><td> 28</td><td>139</td><td>0</td><td> 854</td><td>2</td><td>0</td><td>0</td><td>12</td></tr>\n",
              "\t<tr><td>NBA</td><td>Noah Vonleh     </td><td>POR</td><td>PF</td><td>78</td><td>1173</td><td>117</td><td> 279</td><td> 11</td><td> 47</td><td>⋯</td><td> 27</td><td> 50</td><td> 26</td><td>152</td><td>1</td><td> 283</td><td>0</td><td>0</td><td>0</td><td>56</td></tr>\n",
              "\t<tr><td>NBA</td><td>Dion Waiters    </td><td>OKL</td><td>SG</td><td>78</td><td>2157</td><td>282</td><td> 705</td><td> 86</td><td>241</td><td>⋯</td><td> 81</td><td>120</td><td> 15</td><td>143</td><td>0</td><td> 762</td><td>4</td><td>0</td><td>0</td><td>15</td></tr>\n",
              "\t<tr><td>NBA</td><td>Kemba Walker    </td><td>CHA</td><td>PG</td><td>81</td><td>2885</td><td>568</td><td>1332</td><td>182</td><td>490</td><td>⋯</td><td>127</td><td>171</td><td> 39</td><td>111</td><td>0</td><td>1689</td><td>5</td><td>0</td><td>0</td><td>81</td></tr>\n",
              "\t<tr><td>NBA</td><td>John Wall       </td><td>WAS</td><td>PG</td><td>77</td><td>2783</td><td>572</td><td>1349</td><td>115</td><td>327</td><td>⋯</td><td>145</td><td>318</td><td> 59</td><td>159</td><td>0</td><td>1531</td><td>7</td><td>0</td><td>0</td><td>77</td></tr>\n",
              "\t<tr><td>NBA</td><td>David West      </td><td>SAN</td><td>PF</td><td>78</td><td>1408</td><td>244</td><td> 448</td><td>  3</td><td>  7</td><td>⋯</td><td> 44</td><td> 67</td><td> 55</td><td>142</td><td>1</td><td> 554</td><td>2</td><td>0</td><td>0</td><td>19</td></tr>\n",
              "\t<tr><td>NBA</td><td>Russel Westbrook</td><td>OKL</td><td>PG</td><td>80</td><td>2749</td><td>656</td><td>1444</td><td>101</td><td>341</td><td>⋯</td><td>163</td><td>342</td><td> 20</td><td>200</td><td>2</td><td>1878</td><td>6</td><td>0</td><td>0</td><td>80</td></tr>\n",
              "\t<tr><td>NBA</td><td>Andrew Wiggins  </td><td>MIN</td><td>SF</td><td>81</td><td>2844</td><td>594</td><td>1294</td><td> 57</td><td>190</td><td>⋯</td><td> 78</td><td>182</td><td> 46</td><td>165</td><td>1</td><td>1675</td><td>1</td><td>0</td><td>0</td><td>81</td></tr>\n",
              "\t<tr><td>NBA</td><td>Derrick Williams</td><td>NYK</td><td>PF</td><td>80</td><td>1442</td><td>254</td><td> 565</td><td> 44</td><td>150</td><td>⋯</td><td> 30</td><td> 61</td><td>  9</td><td> 69</td><td>0</td><td> 746</td><td>0</td><td>0</td><td>0</td><td> 9</td></tr>\n",
              "\t<tr><td>NBA</td><td>Marvin Williams </td><td>CHA</td><td>PF</td><td>81</td><td>2339</td><td>338</td><td> 747</td><td>152</td><td>379</td><td>⋯</td><td> 58</td><td> 62</td><td> 77</td><td>133</td><td>1</td><td> 948</td><td>0</td><td>0</td><td>0</td><td>81</td></tr>\n",
              "\t<tr><td>NBA</td><td>Justise Winslow </td><td>MIA</td><td>SF</td><td>78</td><td>2237</td><td>196</td><td> 463</td><td> 32</td><td>116</td><td>⋯</td><td> 68</td><td> 95</td><td> 26</td><td>184</td><td>0</td><td> 504</td><td>0</td><td>0</td><td>0</td><td> 8</td></tr>\n",
              "</tbody>\n",
              "</table>\n"
            ]
          },
          "metadata": {
            "tags": []
          }
        },
        {
          "output_type": "display_data",
          "data": {
            "text/plain": [
              "  League Name            Team Position GamesPlayed TotalMinutesPlayed\n",
              "1 NBA    Leandro Barbosa GSW  SG       68          1079              \n",
              "2 NBA    Jeremy Lamb     CHA  SG       66          1226              \n",
              "3 NBA    Courtney Lee    NOR  SG       79          2339              \n",
              "4 NBA    Luis Montero    POR  SG       12            43              \n",
              "5 NBA    Lamar Patterson ATL  SG       35           400              \n",
              "6 NBA    Louis Williams  LAL  SG       67          1911              \n",
              "  FieldGoalsMade FieldGoalsAttempted ThreesMade ThreesAttempted ⋯ Steals\n",
              "1 171            370                  39        111             ⋯ 44    \n",
              "2 230            510                  56        181             ⋯ 42    \n",
              "3 290            639                  82        217             ⋯ 86    \n",
              "4   5             19                   1          9             ⋯  0    \n",
              "5  28             80                  12         49             ⋯  9    \n",
              "6 283            695                 110        321             ⋯ 62    \n",
              "  Turnovers Blocks PersonalFouls Disqualifications TotalPoints Technicals\n",
              "1  53       10     107           0                  433        1         \n",
              "2  50       30     105           1                  580        0         \n",
              "3  72       28     134           0                  761        1         \n",
              "4   4        0       1           0                   14        0         \n",
              "5  23        2      45           0                   84        0         \n",
              "6 107       19     107           1                 1028        1         \n",
              "  Ejections FlagrantFouls GamesStarted\n",
              "1 0         0              0          \n",
              "2 0         0              0          \n",
              "3 0         0             65          \n",
              "4 0         0              0          \n",
              "5 0         0              0          \n",
              "6 0         0             35          "
            ],
            "text/latex": "A data.table: 6 × 25\n\\begin{tabular}{lllllllllllllllllllll}\n League & Name & Team & Position & GamesPlayed & TotalMinutesPlayed & FieldGoalsMade & FieldGoalsAttempted & ThreesMade & ThreesAttempted & ⋯ & Steals & Turnovers & Blocks & PersonalFouls & Disqualifications & TotalPoints & Technicals & Ejections & FlagrantFouls & GamesStarted\\\\\n <fct> & <chr> & <fct> & <fct> & <int> & <int> & <int> & <int> & <int> & <int> & ⋯ & <int> & <int> & <int> & <int> & <int> & <int> & <int> & <int> & <int> & <int>\\\\\n\\hline\n\t NBA & Leandro Barbosa & GSW & SG & 68 & 1079 & 171 & 370 &  39 & 111 & ⋯ & 44 &  53 & 10 & 107 & 0 &  433 & 1 & 0 & 0 &  0\\\\\n\t NBA & Jeremy Lamb     & CHA & SG & 66 & 1226 & 230 & 510 &  56 & 181 & ⋯ & 42 &  50 & 30 & 105 & 1 &  580 & 0 & 0 & 0 &  0\\\\\n\t NBA & Courtney Lee    & NOR & SG & 79 & 2339 & 290 & 639 &  82 & 217 & ⋯ & 86 &  72 & 28 & 134 & 0 &  761 & 1 & 0 & 0 & 65\\\\\n\t NBA & Luis Montero    & POR & SG & 12 &   43 &   5 &  19 &   1 &   9 & ⋯ &  0 &   4 &  0 &   1 & 0 &   14 & 0 & 0 & 0 &  0\\\\\n\t NBA & Lamar Patterson & ATL & SG & 35 &  400 &  28 &  80 &  12 &  49 & ⋯ &  9 &  23 &  2 &  45 & 0 &   84 & 0 & 0 & 0 &  0\\\\\n\t NBA & Louis Williams  & LAL & SG & 67 & 1911 & 283 & 695 & 110 & 321 & ⋯ & 62 & 107 & 19 & 107 & 1 & 1028 & 1 & 0 & 0 & 35\\\\\n\\end{tabular}\n",
            "text/markdown": "\nA data.table: 6 × 25\n\n| League &lt;fct&gt; | Name &lt;chr&gt; | Team &lt;fct&gt; | Position &lt;fct&gt; | GamesPlayed &lt;int&gt; | TotalMinutesPlayed &lt;int&gt; | FieldGoalsMade &lt;int&gt; | FieldGoalsAttempted &lt;int&gt; | ThreesMade &lt;int&gt; | ThreesAttempted &lt;int&gt; | ⋯ ⋯ | Steals &lt;int&gt; | Turnovers &lt;int&gt; | Blocks &lt;int&gt; | PersonalFouls &lt;int&gt; | Disqualifications &lt;int&gt; | TotalPoints &lt;int&gt; | Technicals &lt;int&gt; | Ejections &lt;int&gt; | FlagrantFouls &lt;int&gt; | GamesStarted &lt;int&gt; |\n|---|---|---|---|---|---|---|---|---|---|---|---|---|---|---|---|---|---|---|---|---|\n| NBA | Leandro Barbosa | GSW | SG | 68 | 1079 | 171 | 370 |  39 | 111 | ⋯ | 44 |  53 | 10 | 107 | 0 |  433 | 1 | 0 | 0 |  0 |\n| NBA | Jeremy Lamb     | CHA | SG | 66 | 1226 | 230 | 510 |  56 | 181 | ⋯ | 42 |  50 | 30 | 105 | 1 |  580 | 0 | 0 | 0 |  0 |\n| NBA | Courtney Lee    | NOR | SG | 79 | 2339 | 290 | 639 |  82 | 217 | ⋯ | 86 |  72 | 28 | 134 | 0 |  761 | 1 | 0 | 0 | 65 |\n| NBA | Luis Montero    | POR | SG | 12 |   43 |   5 |  19 |   1 |   9 | ⋯ |  0 |   4 |  0 |   1 | 0 |   14 | 0 | 0 | 0 |  0 |\n| NBA | Lamar Patterson | ATL | SG | 35 |  400 |  28 |  80 |  12 |  49 | ⋯ |  9 |  23 |  2 |  45 | 0 |   84 | 0 | 0 | 0 |  0 |\n| NBA | Louis Williams  | LAL | SG | 67 | 1911 | 283 | 695 | 110 | 321 | ⋯ | 62 | 107 | 19 | 107 | 1 | 1028 | 1 | 0 | 0 | 35 |\n\n",
            "text/html": [
              "<table>\n",
              "<caption>A data.table: 6 × 25</caption>\n",
              "<thead>\n",
              "\t<tr><th scope=col>League</th><th scope=col>Name</th><th scope=col>Team</th><th scope=col>Position</th><th scope=col>GamesPlayed</th><th scope=col>TotalMinutesPlayed</th><th scope=col>FieldGoalsMade</th><th scope=col>FieldGoalsAttempted</th><th scope=col>ThreesMade</th><th scope=col>ThreesAttempted</th><th scope=col>⋯</th><th scope=col>Steals</th><th scope=col>Turnovers</th><th scope=col>Blocks</th><th scope=col>PersonalFouls</th><th scope=col>Disqualifications</th><th scope=col>TotalPoints</th><th scope=col>Technicals</th><th scope=col>Ejections</th><th scope=col>FlagrantFouls</th><th scope=col>GamesStarted</th></tr>\n",
              "\t<tr><th scope=col>&lt;fct&gt;</th><th scope=col>&lt;chr&gt;</th><th scope=col>&lt;fct&gt;</th><th scope=col>&lt;fct&gt;</th><th scope=col>&lt;int&gt;</th><th scope=col>&lt;int&gt;</th><th scope=col>&lt;int&gt;</th><th scope=col>&lt;int&gt;</th><th scope=col>&lt;int&gt;</th><th scope=col>&lt;int&gt;</th><th scope=col>⋯</th><th scope=col>&lt;int&gt;</th><th scope=col>&lt;int&gt;</th><th scope=col>&lt;int&gt;</th><th scope=col>&lt;int&gt;</th><th scope=col>&lt;int&gt;</th><th scope=col>&lt;int&gt;</th><th scope=col>&lt;int&gt;</th><th scope=col>&lt;int&gt;</th><th scope=col>&lt;int&gt;</th><th scope=col>&lt;int&gt;</th></tr>\n",
              "</thead>\n",
              "<tbody>\n",
              "\t<tr><td>NBA</td><td>Leandro Barbosa</td><td>GSW</td><td>SG</td><td>68</td><td>1079</td><td>171</td><td>370</td><td> 39</td><td>111</td><td>⋯</td><td>44</td><td> 53</td><td>10</td><td>107</td><td>0</td><td> 433</td><td>1</td><td>0</td><td>0</td><td> 0</td></tr>\n",
              "\t<tr><td>NBA</td><td>Jeremy Lamb    </td><td>CHA</td><td>SG</td><td>66</td><td>1226</td><td>230</td><td>510</td><td> 56</td><td>181</td><td>⋯</td><td>42</td><td> 50</td><td>30</td><td>105</td><td>1</td><td> 580</td><td>0</td><td>0</td><td>0</td><td> 0</td></tr>\n",
              "\t<tr><td>NBA</td><td>Courtney Lee   </td><td>NOR</td><td>SG</td><td>79</td><td>2339</td><td>290</td><td>639</td><td> 82</td><td>217</td><td>⋯</td><td>86</td><td> 72</td><td>28</td><td>134</td><td>0</td><td> 761</td><td>1</td><td>0</td><td>0</td><td>65</td></tr>\n",
              "\t<tr><td>NBA</td><td>Luis Montero   </td><td>POR</td><td>SG</td><td>12</td><td>  43</td><td>  5</td><td> 19</td><td>  1</td><td>  9</td><td>⋯</td><td> 0</td><td>  4</td><td> 0</td><td>  1</td><td>0</td><td>  14</td><td>0</td><td>0</td><td>0</td><td> 0</td></tr>\n",
              "\t<tr><td>NBA</td><td>Lamar Patterson</td><td>ATL</td><td>SG</td><td>35</td><td> 400</td><td> 28</td><td> 80</td><td> 12</td><td> 49</td><td>⋯</td><td> 9</td><td> 23</td><td> 2</td><td> 45</td><td>0</td><td>  84</td><td>0</td><td>0</td><td>0</td><td> 0</td></tr>\n",
              "\t<tr><td>NBA</td><td>Louis Williams </td><td>LAL</td><td>SG</td><td>67</td><td>1911</td><td>283</td><td>695</td><td>110</td><td>321</td><td>⋯</td><td>62</td><td>107</td><td>19</td><td>107</td><td>1</td><td>1028</td><td>1</td><td>0</td><td>0</td><td>35</td></tr>\n",
              "</tbody>\n",
              "</table>\n"
            ]
          },
          "metadata": {
            "tags": []
          }
        }
      ]
    }
  ]
}